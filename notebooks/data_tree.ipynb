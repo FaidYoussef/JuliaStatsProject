{
 "cells": [
  {
   "cell_type": "markdown",
   "metadata": {},
   "source": [
    "### Chargement des données\n",
    "Dans cette section, nous allons charger les données à partir d'un fichier Excel. Nous utiliserons la bibliothèque `ExcelReaders` pour lire le fichier et la bibliothèque `DataFrames` pour manipuler les données.\n"
   ]
  },
  {
   "cell_type": "code",
   "execution_count": 1,
   "metadata": {},
   "outputs": [],
   "source": [
    "using DataFrames\n",
    "using ExcelReaders\n",
    "using Plots\n",
    "using DataValues\n",
    "using XLSX\n",
    "using Statistics\n",
    "using Tables\n",
    "import Plots: plot!, vline!\n"
   ]
  },
  {
   "cell_type": "code",
   "execution_count": 2,
   "metadata": {},
   "outputs": [],
   "source": [
    "mutable struct GV\n",
    "    numero::Float64\n",
    "    palier::String\n",
    "    unite::String\n",
    "    sous_unite::String\n",
    "    circuit::String\n",
    "    ref::String\n",
    "    reg_ref::Vector{String}\n",
    "    avant_RGV::Bool\n",
    "    numero_suc_ou_pred::Union{Float64, Missing}\n",
    "    maintenances::DataFrame\n",
    "    IND_COL_1::DataFrame\n",
    "    PE_max_IND_COL_1::String\n",
    "    IND_COL_2::DataFrame\n",
    "    IND_COL_3::DataFrame\n",
    "    IND_ENC::DataFrame\n",
    "    date_max::Int\n",
    "\n",
    "    function GV(numero::Float64, palier::String, unite::String, sous_unite::String, circuit::String, \n",
    "                ref::String, reg_ref::Vector{String}, avant_RGV::Bool, \n",
    "                numero_suc_ou_pred::Union{Float64, Missing}, maintenances::DataFrame, \n",
    "                IND_COL_1::DataFrame, PE_max_IND_COL_1::String, IND_COL_2::DataFrame, \n",
    "                IND_COL_3::DataFrame, IND_ENC::DataFrame, date_max::Int)\n",
    "        new(numero, palier, unite, sous_unite, circuit, ref, reg_ref, avant_RGV, numero_suc_ou_pred, \n",
    "        maintenances, IND_COL_1, PE_max_IND_COL_1, IND_COL_2, IND_COL_3, IND_ENC, date_max)\n",
    "    end\n",
    "end\n"
   ]
  },
  {
   "cell_type": "code",
   "execution_count": 3,
   "metadata": {},
   "outputs": [
    {
     "data": {
      "text/plain": [
       "GV(0.0, \"\", \"\", \"\", \"\", \"\", [\"\"], false, missing, \u001b[1m0×0 DataFrame\u001b[0m, \u001b[1m0×0 DataFrame\u001b[0m, \"\", \u001b[1m0×0 DataFrame\u001b[0m, \u001b[1m0×0 DataFrame\u001b[0m, \u001b[1m0×0 DataFrame\u001b[0m, 0)"
      ]
     },
     "metadata": {},
     "output_type": "display_data"
    }
   ],
   "source": [
    "GV(0.0, \"\", \"\", \"\", \"\", \"\", Vector([\"\"]), false, missing, DataFrame(), DataFrame(), \"\", DataFrame(), DataFrame(), DataFrame(), 0)"
   ]
  },
  {
   "cell_type": "code",
   "execution_count": 4,
   "metadata": {},
   "outputs": [],
   "source": [
    "mutable struct NAryTreeNode\n",
    "    parent::Union{NAryTreeNode, Missing}\n",
    "    value::Union{String, GV, Missing}\n",
    "    children::Vector{NAryTreeNode}\n",
    "\n",
    "    function NAryTreeNode(parent::Union{NAryTreeNode, Missing}, value::Union{String, GV, Missing}, children::Vector{NAryTreeNode})\n",
    "        new(parent, value, children)\n",
    "    end\n",
    "end"
   ]
  },
  {
   "cell_type": "markdown",
   "metadata": {},
   "source": [
    "### Avant de commencer à éxécuter les cellules du code\n",
    "- Copier dans la variable `chemin_données`, le chemin d'accès vers le dossier `Données_EDF_240611`\n",
    "- Copier dans la variable `chemin_projet`, le chemin d'accès vers le dossier `JuliaStatsProject`"
   ]
  },
  {
   "cell_type": "code",
   "execution_count": 5,
   "metadata": {},
   "outputs": [
    {
     "data": {
      "text/plain": [
       "\"/home/AD/faidy/JuliaStatsProject/\""
      ]
     },
     "metadata": {},
     "output_type": "display_data"
    }
   ],
   "source": [
    "chemin_données = \"/home/AD/faidy/JuliaStatsProject/data/real_data/\"\n",
    "chemin_projet = \"/home/AD/faidy/JuliaStatsProject/\""
   ]
  },
  {
   "cell_type": "markdown",
   "metadata": {},
   "source": [
    "Dans cette section, nous chargeons les données à partir des fichier Excel `IND-COL-1.xls` et `IND-COL-2.xls` situé dans le répertoire spécifié."
   ]
  },
  {
   "cell_type": "code",
   "execution_count": 6,
   "metadata": {},
   "outputs": [
    {
     "data": {
      "text/plain": [
       "1083×17 Matrix{Any}:\n",
       " \"UNITE\"  \"SOUS_UNITE\"  \"CIRCUIT\"   \"NUMERO\"  …  \"TUBISTE\"  \"CONSTITUTION\"\n",
       " \"U4\"     \"S1\"          \"C3\"       1.27          \"S\"        \"CONST2\"\n",
       " \"U4\"     \"S1\"          \"C3\"       1.27          \"S\"        \"CONST2\"\n",
       " \"U4\"     \"S1\"          \"C3\"       1.27          \"S\"        \"CONST2\"\n",
       " \"U4\"     \"S1\"          \"C3\"       1.27          \"S\"        \"CONST2\"\n",
       " \"U4\"     \"S1\"          \"C3\"       1.27       …  \"S\"        \"CONST2\"\n",
       " \"U4\"     \"S1\"          \"C3\"       1.27          \"S\"        \"CONST2\"\n",
       " \"U4\"     \"S1\"          \"C3\"       1.27          \"S\"        \"CONST2\"\n",
       " \"U4\"     \"S2\"          \"C1\"       1.43          \"V\"        \"CONST2\"\n",
       " \"U4\"     \"S2\"          \"C1\"       1.43          \"V\"        \"CONST2\"\n",
       " ⋮                                            ⋱  ⋮          \n",
       " \"U19\"    \"S3\"          \"C2\"       2.56          \"V\"        \"CONST3\"\n",
       " \"U19\"    \"S3\"          \"C2\"       2.56       …  \"V\"        \"CONST3\"\n",
       " \"U19\"    \"S3\"          \"C2\"       2.56          \"V\"        \"CONST3\"\n",
       " \"U19\"    \"S4\"          \"C2\"       2.81          \"V\"        \"CONST3\"\n",
       " \"U19\"    \"S4\"          \"C2\"       2.81          \"V\"        \"CONST3\"\n",
       " \"U19\"    \"S4\"          \"C2\"       2.81          \"V\"        \"CONST3\"\n",
       " \"U19\"    \"S4\"          \"C2\"       2.81       …  \"V\"        \"CONST3\"\n",
       " \"U19\"    \"S4\"          \"C2\"       2.81          \"V\"        \"CONST3\"\n",
       " \"U19\"    \"S4\"          \"C2\"       2.81          \"V\"        \"CONST3\""
      ]
     },
     "metadata": {},
     "output_type": "display_data"
    }
   ],
   "source": [
    "# Transformer le contenu de la feuille de IND-COL-1.xls en une matrice\n",
    "data_matrix_ind_col1 = readxlsheet(string(chemin_données, \"Données_EDF_240611/Colmatage/IND-COL-1.xls\"), \"IND-COL-1\")"
   ]
  },
  {
   "cell_type": "code",
   "execution_count": 7,
   "metadata": {},
   "outputs": [
    {
     "data": {
      "text/plain": [
       "18722×17 Matrix{Any}:\n",
       " \"UNITE\"  \"SOUS_UNITE\"  \"CIRCUIT\"   \"NUMERO\"  …  \"TUBISTE\"  \"CONSTITUTION\"\n",
       " \"U1\"     \"S1\"          \"C1\"       1.4           \"W\"        \"CONST2\"\n",
       " \"U1\"     \"S1\"          \"C1\"       1.4           \"W\"        \"CONST2\"\n",
       " \"U1\"     \"S1\"          \"C1\"       1.4           \"W\"        \"CONST2\"\n",
       " \"U1\"     \"S1\"          \"C1\"       1.4           \"W\"        \"CONST2\"\n",
       " \"U1\"     \"S1\"          \"C1\"       1.4        …  \"W\"        \"CONST2\"\n",
       " \"U1\"     \"S1\"          \"C1\"       1.4           \"W\"        \"CONST2\"\n",
       " \"U1\"     \"S1\"          \"C1\"       1.4           \"W\"        \"CONST2\"\n",
       " \"U1\"     \"S1\"          \"C1\"       1.4           \"W\"        \"CONST2\"\n",
       " \"U1\"     \"S1\"          \"C1\"       1.4           \"W\"        \"CONST2\"\n",
       " ⋮                                            ⋱  ⋮          \n",
       " \"U19\"    \"S4\"          \"C3\"       2.8           \"V\"        \"CONST3\"\n",
       " \"U19\"    \"S4\"          \"C3\"       2.8           \"V\"        \"CONST3\"\n",
       " \"U19\"    \"S4\"          \"C3\"       2.8        …  \"V\"        \"CONST3\"\n",
       " \"U19\"    \"S4\"          \"C3\"       2.8           \"V\"        \"CONST3\"\n",
       " \"U19\"    \"S4\"          \"C3\"       2.8           \"V\"        \"CONST3\"\n",
       " \"U19\"    \"S4\"          \"C3\"       2.8           \"V\"        \"CONST3\"\n",
       " \"U19\"    \"S4\"          \"C3\"       2.8           \"V\"        \"CONST3\"\n",
       " \"U19\"    \"S4\"          \"C3\"       2.8        …  \"V\"        \"CONST3\"\n",
       " \"U19\"    \"S4\"          \"C3\"       2.8           \"V\"        \"CONST3\""
      ]
     },
     "metadata": {},
     "output_type": "display_data"
    }
   ],
   "source": [
    "# Transformer le contenu de la feuille de IND-COL-2.xls en une matrice\n",
    "data_matrix_ind_col2 = readxlsheet(string(chemin_données, \"Données_EDF_240611/Colmatage/IND-COL-2.xls\"), \"IND-COL-2\")"
   ]
  },
  {
   "cell_type": "code",
   "execution_count": 8,
   "metadata": {},
   "outputs": [
    {
     "data": {
      "text/plain": [
       "18722×17 Matrix{Any}:\n",
       " \"UNITE\"  \"SOUS_UNITE\"  \"CIRCUIT\"   \"NUMERO\"  …  \"TUBISTE\"  \"CONSTITUTION\"\n",
       " \"U1\"     \"S1\"          \"C1\"       1.4           \"W\"        \"CONST2\"\n",
       " \"U1\"     \"S1\"          \"C1\"       1.4           \"W\"        \"CONST2\"\n",
       " \"U1\"     \"S1\"          \"C1\"       1.4           \"W\"        \"CONST2\"\n",
       " \"U1\"     \"S1\"          \"C1\"       1.4           \"W\"        \"CONST2\"\n",
       " \"U1\"     \"S1\"          \"C1\"       1.4        …  \"W\"        \"CONST2\"\n",
       " \"U1\"     \"S1\"          \"C1\"       1.4           \"W\"        \"CONST2\"\n",
       " \"U1\"     \"S1\"          \"C1\"       1.4           \"W\"        \"CONST2\"\n",
       " \"U1\"     \"S1\"          \"C1\"       1.4           \"W\"        \"CONST2\"\n",
       " \"U1\"     \"S1\"          \"C1\"       1.4           \"W\"        \"CONST2\"\n",
       " ⋮                                            ⋱  ⋮          \n",
       " \"U19\"    \"S4\"          \"C3\"       2.8           \"V\"        \"CONST3\"\n",
       " \"U19\"    \"S4\"          \"C3\"       2.8           \"V\"        \"CONST3\"\n",
       " \"U19\"    \"S4\"          \"C3\"       2.8        …  \"V\"        \"CONST3\"\n",
       " \"U19\"    \"S4\"          \"C3\"       2.8           \"V\"        \"CONST3\"\n",
       " \"U19\"    \"S4\"          \"C3\"       2.8           \"V\"        \"CONST3\"\n",
       " \"U19\"    \"S4\"          \"C3\"       2.8           \"V\"        \"CONST3\"\n",
       " \"U19\"    \"S4\"          \"C3\"       2.8           \"V\"        \"CONST3\"\n",
       " \"U19\"    \"S4\"          \"C3\"       2.8        …  \"V\"        \"CONST3\"\n",
       " \"U19\"    \"S4\"          \"C3\"       2.8           \"V\"        \"CONST3\""
      ]
     },
     "metadata": {},
     "output_type": "display_data"
    }
   ],
   "source": [
    "# Les cases vides de la colonne VALEUR des fichiers IND-COL-1.xls et IND-COL-2.xls ont été remplis par un objet DataValue{Union{}} \n",
    "# qu'on le remplace par l'objet missing qui représente une donnée manquante en Julia\n",
    "isNA(x) = typeof(x) == DataValue{Union{}}\n",
    "valeurs = replace( x -> isNA(x) ? missing : x, data_matrix_ind_col1)\n",
    "\n",
    "data_matrix_ind_col1 = replace( x -> isNA(x) ? missing : x, data_matrix_ind_col1)\n",
    "data_matrix_ind_col2 = replace( x -> isNA(x) ? missing : x, data_matrix_ind_col2)"
   ]
  },
  {
   "cell_type": "markdown",
   "metadata": {},
   "source": [
    "### Conversion de Matrice en DataFrame\n",
    "\n",
    "La fonction `MatrixToDataFrame(mat)` prend en entrée une matrice `mat` et retourne un DataFrame `DF_mat` en excluant la première ligne de `mat` comme les noms de colonnes.\n",
    "\n",
    "#### Paramètres :\n",
    "\n",
    "- `mat` : Une matrice représentant les données à convertir en DataFrame.\n",
    "\n",
    "#### Sortie :\n",
    "\n",
    "Un objet DataFrame `DF_mat` où les données de la première ligne de `mat` sont utilisées comme noms de colonnes.\n",
    "\n",
    "Cette fonction est utile pour convertir des données structurées sous forme de matrice en un format plus facile à manipuler et à analyser à l'aide de la bibliothèque `DataFrames` en Julia.\n"
   ]
  },
  {
   "cell_type": "code",
   "execution_count": 9,
   "metadata": {},
   "outputs": [
    {
     "data": {
      "text/plain": [
       "MatrixToDataFrame (generic function with 1 method)"
      ]
     },
     "metadata": {},
     "output_type": "display_data"
    }
   ],
   "source": [
    "function MatrixToDataFrame(mat)\n",
    "    DF_mat = DataFrame(\n",
    "        mat[2:end, 1:end],\n",
    "        string.(mat[1, 1:end])\n",
    "    )\n",
    "    return DF_mat\n",
    "end"
   ]
  },
  {
   "cell_type": "code",
   "execution_count": 10,
   "metadata": {},
   "outputs": [
    {
     "data": {
      "text/html": [
       "<div><div style = \"float: left;\"><span>1082×17 DataFrame</span></div><div style = \"float: right;\"><span style = \"font-style: italic;\">1057 rows omitted</span></div><div style = \"clear: both;\"></div></div><div class = \"data-frame\" style = \"overflow-x: scroll;\"><table class = \"data-frame\" style = \"margin-bottom: 6px;\"><thead><tr class = \"header\"><th class = \"rowNumber\" style = \"font-weight: bold; text-align: right;\">Row</th><th style = \"text-align: left;\">UNITE</th><th style = \"text-align: left;\">SOUS_UNITE</th><th style = \"text-align: left;\">CIRCUIT</th><th style = \"text-align: left;\">NUMERO</th><th style = \"text-align: left;\">BR</th><th style = \"text-align: left;\">HEURES_MAT</th><th style = \"text-align: left;\">PE</th><th style = \"text-align: left;\">AVANT_NET</th><th style = \"text-align: left;\">APRES_NET</th><th style = \"text-align: left;\">INFER</th><th style = \"text-align: left;\">VALEUR</th><th style = \"text-align: left;\">INCERTITUDE</th><th style = \"text-align: left;\">TAUX_H</th><th style = \"text-align: left;\">REFERENCE</th><th style = \"text-align: left;\">ACIERISTE</th><th style = \"text-align: left;\">TUBISTE</th><th style = \"text-align: left;\">CONSTITUTION</th></tr><tr class = \"subheader headerLastRow\"><th class = \"rowNumber\" style = \"font-weight: bold; text-align: right;\"></th><th title = \"Any\" style = \"text-align: left;\">Any</th><th title = \"Any\" style = \"text-align: left;\">Any</th><th title = \"Any\" style = \"text-align: left;\">Any</th><th title = \"Any\" style = \"text-align: left;\">Any</th><th title = \"Any\" style = \"text-align: left;\">Any</th><th title = \"Any\" style = \"text-align: left;\">Any</th><th title = \"Any\" style = \"text-align: left;\">Any</th><th title = \"Any\" style = \"text-align: left;\">Any</th><th title = \"Any\" style = \"text-align: left;\">Any</th><th title = \"Any\" style = \"text-align: left;\">Any</th><th title = \"Any\" style = \"text-align: left;\">Any</th><th title = \"Any\" style = \"text-align: left;\">Any</th><th title = \"Any\" style = \"text-align: left;\">Any</th><th title = \"Any\" style = \"text-align: left;\">Any</th><th title = \"Any\" style = \"text-align: left;\">Any</th><th title = \"Any\" style = \"text-align: left;\">Any</th><th title = \"Any\" style = \"text-align: left;\">Any</th></tr></thead><tbody><tr><td class = \"rowNumber\" style = \"font-weight: bold; text-align: right;\">1</td><td style = \"text-align: left;\">U4</td><td style = \"text-align: left;\">S1</td><td style = \"text-align: left;\">C3</td><td style = \"text-align: left;\">1.27</td><td style = \"text-align: left;\">F</td><td style = \"text-align: left;\">215612.0</td><td style = \"text-align: left;\">E9</td><td style = \"text-align: left;\">false</td><td style = \"text-align: left;\">false</td><td style = \"text-align: left;\">false</td><td style = \"text-align: left;\">28.0</td><td style = \"text-align: left;\">5.0</td><td style = \"text-align: left;\">6.0</td><td style = \"text-align: left;\">R12</td><td style = \"text-align: left;\">S</td><td style = \"text-align: left;\">S</td><td style = \"text-align: left;\">CONST2</td></tr><tr><td class = \"rowNumber\" style = \"font-weight: bold; text-align: right;\">2</td><td style = \"text-align: left;\">U4</td><td style = \"text-align: left;\">S1</td><td style = \"text-align: left;\">C3</td><td style = \"text-align: left;\">1.27</td><td style = \"text-align: left;\">F</td><td style = \"text-align: left;\">224510.0</td><td style = \"text-align: left;\">E9</td><td style = \"text-align: left;\">true</td><td style = \"text-align: left;\">false</td><td style = \"text-align: left;\">false</td><td style = \"text-align: left;\">30.0</td><td style = \"text-align: left;\">5.0</td><td style = \"font-style: italic; text-align: left;\">missing</td><td style = \"text-align: left;\">R12</td><td style = \"text-align: left;\">S</td><td style = \"text-align: left;\">S</td><td style = \"text-align: left;\">CONST2</td></tr><tr><td class = \"rowNumber\" style = \"font-weight: bold; text-align: right;\">3</td><td style = \"text-align: left;\">U4</td><td style = \"text-align: left;\">S1</td><td style = \"text-align: left;\">C3</td><td style = \"text-align: left;\">1.27</td><td style = \"text-align: left;\">F</td><td style = \"text-align: left;\">237085.0</td><td style = \"text-align: left;\">E9</td><td style = \"text-align: left;\">false</td><td style = \"text-align: left;\">false</td><td style = \"text-align: left;\">true</td><td style = \"text-align: left;\">15.0</td><td style = \"font-style: italic; text-align: left;\">missing</td><td style = \"font-style: italic; text-align: left;\">missing</td><td style = \"text-align: left;\">R12</td><td style = \"text-align: left;\">S</td><td style = \"text-align: left;\">S</td><td style = \"text-align: left;\">CONST2</td></tr><tr><td class = \"rowNumber\" style = \"font-weight: bold; text-align: right;\">4</td><td style = \"text-align: left;\">U4</td><td style = \"text-align: left;\">S1</td><td style = \"text-align: left;\">C3</td><td style = \"text-align: left;\">1.27</td><td style = \"text-align: left;\">F</td><td style = \"text-align: left;\">245389.0</td><td style = \"text-align: left;\">E5</td><td style = \"text-align: left;\">false</td><td style = \"text-align: left;\">false</td><td style = \"text-align: left;\">true</td><td style = \"text-align: left;\">10.0</td><td style = \"font-style: italic; text-align: left;\">missing</td><td style = \"font-style: italic; text-align: left;\">missing</td><td style = \"text-align: left;\">R12</td><td style = \"text-align: left;\">S</td><td style = \"text-align: left;\">S</td><td style = \"text-align: left;\">CONST2</td></tr><tr><td class = \"rowNumber\" style = \"font-weight: bold; text-align: right;\">5</td><td style = \"text-align: left;\">U4</td><td style = \"text-align: left;\">S1</td><td style = \"text-align: left;\">C3</td><td style = \"text-align: left;\">1.27</td><td style = \"text-align: left;\">F</td><td style = \"text-align: left;\">245389.0</td><td style = \"text-align: left;\">E6</td><td style = \"text-align: left;\">false</td><td style = \"text-align: left;\">false</td><td style = \"text-align: left;\">false</td><td style = \"font-style: italic; text-align: left;\">missing</td><td style = \"font-style: italic; text-align: left;\">missing</td><td style = \"font-style: italic; text-align: left;\">missing</td><td style = \"text-align: left;\">R12</td><td style = \"text-align: left;\">S</td><td style = \"text-align: left;\">S</td><td style = \"text-align: left;\">CONST2</td></tr><tr><td class = \"rowNumber\" style = \"font-weight: bold; text-align: right;\">6</td><td style = \"text-align: left;\">U4</td><td style = \"text-align: left;\">S1</td><td style = \"text-align: left;\">C3</td><td style = \"text-align: left;\">1.27</td><td style = \"text-align: left;\">F</td><td style = \"text-align: left;\">245389.0</td><td style = \"text-align: left;\">E1</td><td style = \"text-align: left;\">false</td><td style = \"text-align: left;\">false</td><td style = \"text-align: left;\">false</td><td style = \"font-style: italic; text-align: left;\">missing</td><td style = \"font-style: italic; text-align: left;\">missing</td><td style = \"font-style: italic; text-align: left;\">missing</td><td style = \"text-align: left;\">R12</td><td style = \"text-align: left;\">S</td><td style = \"text-align: left;\">S</td><td style = \"text-align: left;\">CONST2</td></tr><tr><td class = \"rowNumber\" style = \"font-weight: bold; text-align: right;\">7</td><td style = \"text-align: left;\">U4</td><td style = \"text-align: left;\">S1</td><td style = \"text-align: left;\">C3</td><td style = \"text-align: left;\">1.27</td><td style = \"text-align: left;\">F</td><td style = \"text-align: left;\">245389.0</td><td style = \"text-align: left;\">E9</td><td style = \"text-align: left;\">false</td><td style = \"text-align: left;\">false</td><td style = \"text-align: left;\">true</td><td style = \"text-align: left;\">15.0</td><td style = \"font-style: italic; text-align: left;\">missing</td><td style = \"font-style: italic; text-align: left;\">missing</td><td style = \"text-align: left;\">R12</td><td style = \"text-align: left;\">S</td><td style = \"text-align: left;\">S</td><td style = \"text-align: left;\">CONST2</td></tr><tr><td class = \"rowNumber\" style = \"font-weight: bold; text-align: right;\">8</td><td style = \"text-align: left;\">U4</td><td style = \"text-align: left;\">S2</td><td style = \"text-align: left;\">C1</td><td style = \"text-align: left;\">1.43</td><td style = \"text-align: left;\">F</td><td style = \"text-align: left;\">148255.0</td><td style = \"text-align: left;\">E9</td><td style = \"text-align: left;\">false</td><td style = \"text-align: left;\">false</td><td style = \"text-align: left;\">true</td><td style = \"text-align: left;\">10.0</td><td style = \"font-style: italic; text-align: left;\">missing</td><td style = \"font-style: italic; text-align: left;\">missing</td><td style = \"text-align: left;\">R12</td><td style = \"text-align: left;\">HI</td><td style = \"text-align: left;\">V</td><td style = \"text-align: left;\">CONST2</td></tr><tr><td class = \"rowNumber\" style = \"font-weight: bold; text-align: right;\">9</td><td style = \"text-align: left;\">U4</td><td style = \"text-align: left;\">S2</td><td style = \"text-align: left;\">C1</td><td style = \"text-align: left;\">1.43</td><td style = \"text-align: left;\">F</td><td style = \"text-align: left;\">148255.0</td><td style = \"text-align: left;\">E5</td><td style = \"text-align: left;\">false</td><td style = \"text-align: left;\">false</td><td style = \"text-align: left;\">false</td><td style = \"font-style: italic; text-align: left;\">missing</td><td style = \"font-style: italic; text-align: left;\">missing</td><td style = \"font-style: italic; text-align: left;\">missing</td><td style = \"text-align: left;\">R12</td><td style = \"text-align: left;\">HI</td><td style = \"text-align: left;\">V</td><td style = \"text-align: left;\">CONST2</td></tr><tr><td class = \"rowNumber\" style = \"font-weight: bold; text-align: right;\">10</td><td style = \"text-align: left;\">U4</td><td style = \"text-align: left;\">S2</td><td style = \"text-align: left;\">C1</td><td style = \"text-align: left;\">1.43</td><td style = \"text-align: left;\">F</td><td style = \"text-align: left;\">148255.0</td><td style = \"text-align: left;\">E4</td><td style = \"text-align: left;\">false</td><td style = \"text-align: left;\">false</td><td style = \"text-align: left;\">false</td><td style = \"font-style: italic; text-align: left;\">missing</td><td style = \"font-style: italic; text-align: left;\">missing</td><td style = \"font-style: italic; text-align: left;\">missing</td><td style = \"text-align: left;\">R12</td><td style = \"text-align: left;\">HI</td><td style = \"text-align: left;\">V</td><td style = \"text-align: left;\">CONST2</td></tr><tr><td class = \"rowNumber\" style = \"font-weight: bold; text-align: right;\">11</td><td style = \"text-align: left;\">U4</td><td style = \"text-align: left;\">S2</td><td style = \"text-align: left;\">C1</td><td style = \"text-align: left;\">1.43</td><td style = \"text-align: left;\">F</td><td style = \"text-align: left;\">148255.0</td><td style = \"text-align: left;\">E3</td><td style = \"text-align: left;\">false</td><td style = \"text-align: left;\">false</td><td style = \"text-align: left;\">false</td><td style = \"font-style: italic; text-align: left;\">missing</td><td style = \"font-style: italic; text-align: left;\">missing</td><td style = \"font-style: italic; text-align: left;\">missing</td><td style = \"text-align: left;\">R12</td><td style = \"text-align: left;\">HI</td><td style = \"text-align: left;\">V</td><td style = \"text-align: left;\">CONST2</td></tr><tr><td class = \"rowNumber\" style = \"font-weight: bold; text-align: right;\">12</td><td style = \"text-align: left;\">U4</td><td style = \"text-align: left;\">S2</td><td style = \"text-align: left;\">C1</td><td style = \"text-align: left;\">1.43</td><td style = \"text-align: left;\">F</td><td style = \"text-align: left;\">148255.0</td><td style = \"text-align: left;\">E1</td><td style = \"text-align: left;\">false</td><td style = \"text-align: left;\">false</td><td style = \"text-align: left;\">false</td><td style = \"font-style: italic; text-align: left;\">missing</td><td style = \"font-style: italic; text-align: left;\">missing</td><td style = \"font-style: italic; text-align: left;\">missing</td><td style = \"text-align: left;\">R12</td><td style = \"text-align: left;\">HI</td><td style = \"text-align: left;\">V</td><td style = \"text-align: left;\">CONST2</td></tr><tr><td class = \"rowNumber\" style = \"font-weight: bold; text-align: right;\">13</td><td style = \"text-align: left;\">U4</td><td style = \"text-align: left;\">S2</td><td style = \"text-align: left;\">C1</td><td style = \"text-align: left;\">1.43</td><td style = \"text-align: left;\">F</td><td style = \"text-align: left;\">148255.0</td><td style = \"text-align: left;\">E6</td><td style = \"text-align: left;\">false</td><td style = \"text-align: left;\">false</td><td style = \"text-align: left;\">false</td><td style = \"font-style: italic; text-align: left;\">missing</td><td style = \"font-style: italic; text-align: left;\">missing</td><td style = \"font-style: italic; text-align: left;\">missing</td><td style = \"text-align: left;\">R12</td><td style = \"text-align: left;\">HI</td><td style = \"text-align: left;\">V</td><td style = \"text-align: left;\">CONST2</td></tr><tr><td style = \"text-align: right;\">&vellip;</td><td style = \"text-align: right;\">&vellip;</td><td style = \"text-align: right;\">&vellip;</td><td style = \"text-align: right;\">&vellip;</td><td style = \"text-align: right;\">&vellip;</td><td style = \"text-align: right;\">&vellip;</td><td style = \"text-align: right;\">&vellip;</td><td style = \"text-align: right;\">&vellip;</td><td style = \"text-align: right;\">&vellip;</td><td style = \"text-align: right;\">&vellip;</td><td style = \"text-align: right;\">&vellip;</td><td style = \"text-align: right;\">&vellip;</td><td style = \"text-align: right;\">&vellip;</td><td style = \"text-align: right;\">&vellip;</td><td style = \"text-align: right;\">&vellip;</td><td style = \"text-align: right;\">&vellip;</td><td style = \"text-align: right;\">&vellip;</td><td style = \"text-align: right;\">&vellip;</td></tr><tr><td class = \"rowNumber\" style = \"font-weight: bold; text-align: right;\">1071</td><td style = \"text-align: left;\">U19</td><td style = \"text-align: left;\">S2</td><td style = \"text-align: left;\">C2</td><td style = \"text-align: left;\">2.43</td><td style = \"text-align: left;\">F</td><td style = \"text-align: left;\">150693.0</td><td style = \"text-align: left;\">E8</td><td style = \"text-align: left;\">false</td><td style = \"text-align: left;\">false</td><td style = \"text-align: left;\">false</td><td style = \"text-align: left;\">20.0</td><td style = \"text-align: left;\">5.0</td><td style = \"font-style: italic; text-align: left;\">missing</td><td style = \"text-align: left;\">R1</td><td style = \"text-align: left;\">T</td><td style = \"text-align: left;\">V</td><td style = \"text-align: left;\">CONST3</td></tr><tr><td class = \"rowNumber\" style = \"font-weight: bold; text-align: right;\">1072</td><td style = \"text-align: left;\">U19</td><td style = \"text-align: left;\">S2</td><td style = \"text-align: left;\">C2</td><td style = \"text-align: left;\">2.43</td><td style = \"text-align: left;\">F</td><td style = \"text-align: left;\">164491.0</td><td style = \"text-align: left;\">E1</td><td style = \"text-align: left;\">false</td><td style = \"text-align: left;\">false</td><td style = \"text-align: left;\">false</td><td style = \"font-style: italic; text-align: left;\">missing</td><td style = \"font-style: italic; text-align: left;\">missing</td><td style = \"font-style: italic; text-align: left;\">missing</td><td style = \"text-align: left;\">R1</td><td style = \"text-align: left;\">T</td><td style = \"text-align: left;\">V</td><td style = \"text-align: left;\">CONST3</td></tr><tr><td class = \"rowNumber\" style = \"font-weight: bold; text-align: right;\">1073</td><td style = \"text-align: left;\">U19</td><td style = \"text-align: left;\">S2</td><td style = \"text-align: left;\">C2</td><td style = \"text-align: left;\">2.43</td><td style = \"text-align: left;\">F</td><td style = \"text-align: left;\">164491.0</td><td style = \"text-align: left;\">E8</td><td style = \"text-align: left;\">false</td><td style = \"text-align: left;\">false</td><td style = \"text-align: left;\">false</td><td style = \"text-align: left;\">21.0</td><td style = \"text-align: left;\">5.0</td><td style = \"text-align: left;\">3.0</td><td style = \"text-align: left;\">R1</td><td style = \"text-align: left;\">T</td><td style = \"text-align: left;\">V</td><td style = \"text-align: left;\">CONST3</td></tr><tr><td class = \"rowNumber\" style = \"font-weight: bold; text-align: right;\">1074</td><td style = \"text-align: left;\">U19</td><td style = \"text-align: left;\">S3</td><td style = \"text-align: left;\">C2</td><td style = \"text-align: left;\">2.56</td><td style = \"text-align: left;\">F</td><td style = \"text-align: left;\">90677.0</td><td style = \"text-align: left;\">E1</td><td style = \"text-align: left;\">false</td><td style = \"text-align: left;\">false</td><td style = \"text-align: left;\">false</td><td style = \"font-style: italic; text-align: left;\">missing</td><td style = \"font-style: italic; text-align: left;\">missing</td><td style = \"font-style: italic; text-align: left;\">missing</td><td style = \"text-align: left;\">R1</td><td style = \"text-align: left;\">TA</td><td style = \"text-align: left;\">V</td><td style = \"text-align: left;\">CONST3</td></tr><tr><td class = \"rowNumber\" style = \"font-weight: bold; text-align: right;\">1075</td><td style = \"text-align: left;\">U19</td><td style = \"text-align: left;\">S3</td><td style = \"text-align: left;\">C2</td><td style = \"text-align: left;\">2.56</td><td style = \"text-align: left;\">F</td><td style = \"text-align: left;\">90677.0</td><td style = \"text-align: left;\">E8</td><td style = \"text-align: left;\">false</td><td style = \"text-align: left;\">false</td><td style = \"text-align: left;\">true</td><td style = \"text-align: left;\">15.0</td><td style = \"font-style: italic; text-align: left;\">missing</td><td style = \"font-style: italic; text-align: left;\">missing</td><td style = \"text-align: left;\">R1</td><td style = \"text-align: left;\">TA</td><td style = \"text-align: left;\">V</td><td style = \"text-align: left;\">CONST3</td></tr><tr><td class = \"rowNumber\" style = \"font-weight: bold; text-align: right;\">1076</td><td style = \"text-align: left;\">U19</td><td style = \"text-align: left;\">S3</td><td style = \"text-align: left;\">C2</td><td style = \"text-align: left;\">2.56</td><td style = \"text-align: left;\">F</td><td style = \"text-align: left;\">128277.0</td><td style = \"text-align: left;\">E8</td><td style = \"text-align: left;\">false</td><td style = \"text-align: left;\">false</td><td style = \"text-align: left;\">true</td><td style = \"text-align: left;\">15.0</td><td style = \"font-style: italic; text-align: left;\">missing</td><td style = \"font-style: italic; text-align: left;\">missing</td><td style = \"text-align: left;\">R1</td><td style = \"text-align: left;\">TA</td><td style = \"text-align: left;\">V</td><td style = \"text-align: left;\">CONST3</td></tr><tr><td class = \"rowNumber\" style = \"font-weight: bold; text-align: right;\">1077</td><td style = \"text-align: left;\">U19</td><td style = \"text-align: left;\">S4</td><td style = \"text-align: left;\">C2</td><td style = \"text-align: left;\">2.81</td><td style = \"text-align: left;\">F</td><td style = \"text-align: left;\">76742.0</td><td style = \"text-align: left;\">E9</td><td style = \"text-align: left;\">false</td><td style = \"text-align: left;\">false</td><td style = \"text-align: left;\">true</td><td style = \"text-align: left;\">10.0</td><td style = \"font-style: italic; text-align: left;\">missing</td><td style = \"font-style: italic; text-align: left;\">missing</td><td style = \"text-align: left;\">R9</td><td style = \"text-align: left;\">T</td><td style = \"text-align: left;\">V</td><td style = \"text-align: left;\">CONST3</td></tr><tr><td class = \"rowNumber\" style = \"font-weight: bold; text-align: right;\">1078</td><td style = \"text-align: left;\">U19</td><td style = \"text-align: left;\">S4</td><td style = \"text-align: left;\">C2</td><td style = \"text-align: left;\">2.81</td><td style = \"text-align: left;\">F</td><td style = \"text-align: left;\">116446.0</td><td style = \"text-align: left;\">E9</td><td style = \"text-align: left;\">false</td><td style = \"text-align: left;\">false</td><td style = \"text-align: left;\">false</td><td style = \"text-align: left;\">14.0</td><td style = \"text-align: left;\">6.0</td><td style = \"text-align: left;\">4.0</td><td style = \"text-align: left;\">R9</td><td style = \"text-align: left;\">T</td><td style = \"text-align: left;\">V</td><td style = \"text-align: left;\">CONST3</td></tr><tr><td class = \"rowNumber\" style = \"font-weight: bold; text-align: right;\">1079</td><td style = \"text-align: left;\">U19</td><td style = \"text-align: left;\">S4</td><td style = \"text-align: left;\">C2</td><td style = \"text-align: left;\">2.81</td><td style = \"text-align: left;\">F</td><td style = \"text-align: left;\">131990.0</td><td style = \"text-align: left;\">E6</td><td style = \"text-align: left;\">false</td><td style = \"text-align: left;\">false</td><td style = \"text-align: left;\">false</td><td style = \"font-style: italic; text-align: left;\">missing</td><td style = \"font-style: italic; text-align: left;\">missing</td><td style = \"font-style: italic; text-align: left;\">missing</td><td style = \"text-align: left;\">R9</td><td style = \"text-align: left;\">T</td><td style = \"text-align: left;\">V</td><td style = \"text-align: left;\">CONST3</td></tr><tr><td class = \"rowNumber\" style = \"font-weight: bold; text-align: right;\">1080</td><td style = \"text-align: left;\">U19</td><td style = \"text-align: left;\">S4</td><td style = \"text-align: left;\">C2</td><td style = \"text-align: left;\">2.81</td><td style = \"text-align: left;\">F</td><td style = \"text-align: left;\">131990.0</td><td style = \"text-align: left;\">E1</td><td style = \"text-align: left;\">false</td><td style = \"text-align: left;\">false</td><td style = \"text-align: left;\">false</td><td style = \"font-style: italic; text-align: left;\">missing</td><td style = \"font-style: italic; text-align: left;\">missing</td><td style = \"font-style: italic; text-align: left;\">missing</td><td style = \"text-align: left;\">R9</td><td style = \"text-align: left;\">T</td><td style = \"text-align: left;\">V</td><td style = \"text-align: left;\">CONST3</td></tr><tr><td class = \"rowNumber\" style = \"font-weight: bold; text-align: right;\">1081</td><td style = \"text-align: left;\">U19</td><td style = \"text-align: left;\">S4</td><td style = \"text-align: left;\">C2</td><td style = \"text-align: left;\">2.81</td><td style = \"text-align: left;\">F</td><td style = \"text-align: left;\">131990.0</td><td style = \"text-align: left;\">E5</td><td style = \"text-align: left;\">false</td><td style = \"text-align: left;\">false</td><td style = \"text-align: left;\">true</td><td style = \"text-align: left;\">15.0</td><td style = \"font-style: italic; text-align: left;\">missing</td><td style = \"font-style: italic; text-align: left;\">missing</td><td style = \"text-align: left;\">R9</td><td style = \"text-align: left;\">T</td><td style = \"text-align: left;\">V</td><td style = \"text-align: left;\">CONST3</td></tr><tr><td class = \"rowNumber\" style = \"font-weight: bold; text-align: right;\">1082</td><td style = \"text-align: left;\">U19</td><td style = \"text-align: left;\">S4</td><td style = \"text-align: left;\">C2</td><td style = \"text-align: left;\">2.81</td><td style = \"text-align: left;\">F</td><td style = \"text-align: left;\">131990.0</td><td style = \"text-align: left;\">E9</td><td style = \"text-align: left;\">false</td><td style = \"text-align: left;\">false</td><td style = \"text-align: left;\">false</td><td style = \"text-align: left;\">25.0</td><td style = \"text-align: left;\">5.0</td><td style = \"text-align: left;\">6.0</td><td style = \"text-align: left;\">R9</td><td style = \"text-align: left;\">T</td><td style = \"text-align: left;\">V</td><td style = \"text-align: left;\">CONST3</td></tr></tbody></table></div>"
      ],
      "text/latex": [
       "\\begin{tabular}{r|cccccccccc}\n",
       "\t& UNITE & SOUS\\_UNITE & CIRCUIT & NUMERO & BR & HEURES\\_MAT & PE & AVANT\\_NET & APRES\\_NET & \\\\\n",
       "\t\\hline\n",
       "\t& Any & Any & Any & Any & Any & Any & Any & Any & Any & \\\\\n",
       "\t\\hline\n",
       "\t1 & U4 & S1 & C3 & 1.27 & F & 215612.0 & E9 & 0 & 0 & $\\dots$ \\\\\n",
       "\t2 & U4 & S1 & C3 & 1.27 & F & 224510.0 & E9 & 1 & 0 & $\\dots$ \\\\\n",
       "\t3 & U4 & S1 & C3 & 1.27 & F & 237085.0 & E9 & 0 & 0 & $\\dots$ \\\\\n",
       "\t4 & U4 & S1 & C3 & 1.27 & F & 245389.0 & E5 & 0 & 0 & $\\dots$ \\\\\n",
       "\t5 & U4 & S1 & C3 & 1.27 & F & 245389.0 & E6 & 0 & 0 & $\\dots$ \\\\\n",
       "\t6 & U4 & S1 & C3 & 1.27 & F & 245389.0 & E1 & 0 & 0 & $\\dots$ \\\\\n",
       "\t7 & U4 & S1 & C3 & 1.27 & F & 245389.0 & E9 & 0 & 0 & $\\dots$ \\\\\n",
       "\t8 & U4 & S2 & C1 & 1.43 & F & 148255.0 & E9 & 0 & 0 & $\\dots$ \\\\\n",
       "\t9 & U4 & S2 & C1 & 1.43 & F & 148255.0 & E5 & 0 & 0 & $\\dots$ \\\\\n",
       "\t10 & U4 & S2 & C1 & 1.43 & F & 148255.0 & E4 & 0 & 0 & $\\dots$ \\\\\n",
       "\t11 & U4 & S2 & C1 & 1.43 & F & 148255.0 & E3 & 0 & 0 & $\\dots$ \\\\\n",
       "\t12 & U4 & S2 & C1 & 1.43 & F & 148255.0 & E1 & 0 & 0 & $\\dots$ \\\\\n",
       "\t13 & U4 & S2 & C1 & 1.43 & F & 148255.0 & E6 & 0 & 0 & $\\dots$ \\\\\n",
       "\t14 & U4 & S2 & C1 & 1.43 & F & 158664.0 & E6 & 0 & 0 & $\\dots$ \\\\\n",
       "\t15 & U4 & S2 & C1 & 1.43 & F & 158664.0 & E1 & 0 & 0 & $\\dots$ \\\\\n",
       "\t16 & U4 & S2 & C1 & 1.43 & F & 158664.0 & E9 & 0 & 0 & $\\dots$ \\\\\n",
       "\t17 & U4 & S2 & C1 & 1.43 & F & 179900.0 & E1 & 0 & 0 & $\\dots$ \\\\\n",
       "\t18 & U4 & S2 & C1 & 1.43 & F & 179900.0 & E5 & 0 & 0 & $\\dots$ \\\\\n",
       "\t19 & U4 & S2 & C1 & 1.43 & F & 179900.0 & E9 & 0 & 0 & $\\dots$ \\\\\n",
       "\t20 & U4 & S2 & C1 & 1.43 & F & 179900.0 & E6 & 0 & 0 & $\\dots$ \\\\\n",
       "\t21 & U4 & S2 & C1 & 1.43 & F & 190151.0 & E9 & 0 & 0 & $\\dots$ \\\\\n",
       "\t22 & U4 & S2 & C1 & 1.43 & F & 190151.0 & E6 & 0 & 0 & $\\dots$ \\\\\n",
       "\t23 & U4 & S2 & C1 & 1.43 & F & 190151.0 & E5 & 0 & 0 & $\\dots$ \\\\\n",
       "\t24 & U4 & S2 & C1 & 1.43 & F & 190151.0 & E1 & 0 & 0 & $\\dots$ \\\\\n",
       "\t$\\dots$ & $\\dots$ & $\\dots$ & $\\dots$ & $\\dots$ & $\\dots$ & $\\dots$ & $\\dots$ & $\\dots$ & $\\dots$ &  \\\\\n",
       "\\end{tabular}\n"
      ],
      "text/plain": [
       "\u001b[1m1082×17 DataFrame\u001b[0m\n",
       "\u001b[1m  Row \u001b[0m│\u001b[1m UNITE \u001b[0m\u001b[1m SOUS_UNITE \u001b[0m\u001b[1m CIRCUIT \u001b[0m\u001b[1m NUMERO \u001b[0m\u001b[1m BR  \u001b[0m\u001b[1m HEURES_MAT \u001b[0m\u001b[1m PE  \u001b[0m\u001b[1m AVANT_NET \u001b[0m\u001b[1m A\u001b[0m ⋯\n",
       "      │\u001b[90m Any   \u001b[0m\u001b[90m Any        \u001b[0m\u001b[90m Any     \u001b[0m\u001b[90m Any    \u001b[0m\u001b[90m Any \u001b[0m\u001b[90m Any        \u001b[0m\u001b[90m Any \u001b[0m\u001b[90m Any       \u001b[0m\u001b[90m A\u001b[0m ⋯\n",
       "──────┼─────────────────────────────────────────────────────────────────────────\n",
       "    1 │ U4     S1          C3       1.27    F    215612.0    E9   false      f ⋯\n",
       "    2 │ U4     S1          C3       1.27    F    224510.0    E9   true       f\n",
       "    3 │ U4     S1          C3       1.27    F    237085.0    E9   false      f\n",
       "    4 │ U4     S1          C3       1.27    F    245389.0    E5   false      f\n",
       "    5 │ U4     S1          C3       1.27    F    245389.0    E6   false      f ⋯\n",
       "    6 │ U4     S1          C3       1.27    F    245389.0    E1   false      f\n",
       "    7 │ U4     S1          C3       1.27    F    245389.0    E9   false      f\n",
       "    8 │ U4     S2          C1       1.43    F    148255.0    E9   false      f\n",
       "  ⋮   │   ⋮        ⋮          ⋮       ⋮      ⋮       ⋮        ⋮       ⋮        ⋱\n",
       " 1076 │ U19    S3          C2       2.56    F    128277.0    E8   false      f ⋯\n",
       " 1077 │ U19    S4          C2       2.81    F    76742.0     E9   false      f\n",
       " 1078 │ U19    S4          C2       2.81    F    116446.0    E9   false      f\n",
       " 1079 │ U19    S4          C2       2.81    F    131990.0    E6   false      f\n",
       " 1080 │ U19    S4          C2       2.81    F    131990.0    E1   false      f ⋯\n",
       " 1081 │ U19    S4          C2       2.81    F    131990.0    E5   false      f\n",
       " 1082 │ U19    S4          C2       2.81    F    131990.0    E9   false      f\n",
       "\u001b[36m                                                 9 columns and 1067 rows omitted\u001b[0m"
      ]
     },
     "metadata": {},
     "output_type": "display_data"
    }
   ],
   "source": [
    "df1 = MatrixToDataFrame(data_matrix_ind_col1)"
   ]
  },
  {
   "cell_type": "code",
   "execution_count": 11,
   "metadata": {},
   "outputs": [
    {
     "data": {
      "text/html": [
       "<div><div style = \"float: left;\"><span>18721×17 DataFrame</span></div><div style = \"float: right;\"><span style = \"font-style: italic;\">18696 rows omitted</span></div><div style = \"clear: both;\"></div></div><div class = \"data-frame\" style = \"overflow-x: scroll;\"><table class = \"data-frame\" style = \"margin-bottom: 6px;\"><thead><tr class = \"header\"><th class = \"rowNumber\" style = \"font-weight: bold; text-align: right;\">Row</th><th style = \"text-align: left;\">UNITE</th><th style = \"text-align: left;\">SOUS_UNITE</th><th style = \"text-align: left;\">CIRCUIT</th><th style = \"text-align: left;\">NUMERO</th><th style = \"text-align: left;\">BR</th><th style = \"text-align: left;\">HEURES_MAT</th><th style = \"text-align: left;\">PE</th><th style = \"text-align: left;\">AVANT_NET</th><th style = \"text-align: left;\">APRES_NET</th><th style = \"text-align: left;\">SONDE</th><th style = \"text-align: left;\">INFER</th><th style = \"text-align: left;\">VALEUR</th><th style = \"text-align: left;\">INCERTITUDE</th><th style = \"text-align: left;\">REFERENCE</th><th style = \"text-align: left;\">ACIERISTE</th><th style = \"text-align: left;\">TUBISTE</th><th style = \"text-align: left;\">CONSTITUTION</th></tr><tr class = \"subheader headerLastRow\"><th class = \"rowNumber\" style = \"font-weight: bold; text-align: right;\"></th><th title = \"Any\" style = \"text-align: left;\">Any</th><th title = \"Any\" style = \"text-align: left;\">Any</th><th title = \"Any\" style = \"text-align: left;\">Any</th><th title = \"Any\" style = \"text-align: left;\">Any</th><th title = \"Any\" style = \"text-align: left;\">Any</th><th title = \"Any\" style = \"text-align: left;\">Any</th><th title = \"Any\" style = \"text-align: left;\">Any</th><th title = \"Any\" style = \"text-align: left;\">Any</th><th title = \"Any\" style = \"text-align: left;\">Any</th><th title = \"Any\" style = \"text-align: left;\">Any</th><th title = \"Any\" style = \"text-align: left;\">Any</th><th title = \"Any\" style = \"text-align: left;\">Any</th><th title = \"Any\" style = \"text-align: left;\">Any</th><th title = \"Any\" style = \"text-align: left;\">Any</th><th title = \"Any\" style = \"text-align: left;\">Any</th><th title = \"Any\" style = \"text-align: left;\">Any</th><th title = \"Any\" style = \"text-align: left;\">Any</th></tr></thead><tbody><tr><td class = \"rowNumber\" style = \"font-weight: bold; text-align: right;\">1</td><td style = \"text-align: left;\">U1</td><td style = \"text-align: left;\">S1</td><td style = \"text-align: left;\">C1</td><td style = \"text-align: left;\">1.4</td><td style = \"text-align: left;\">C</td><td style = \"text-align: left;\">128388.0</td><td style = \"text-align: left;\">E2</td><td style = \"text-align: left;\">false</td><td style = \"text-align: left;\">false</td><td style = \"text-align: left;\">IND-COL-2</td><td style = \"text-align: left;\">false</td><td style = \"text-align: left;\">25.9</td><td style = \"font-style: italic; text-align: left;\">missing</td><td style = \"text-align: left;\">R12</td><td style = \"text-align: left;\">H</td><td style = \"text-align: left;\">W</td><td style = \"text-align: left;\">CONST2</td></tr><tr><td class = \"rowNumber\" style = \"font-weight: bold; text-align: right;\">2</td><td style = \"text-align: left;\">U1</td><td style = \"text-align: left;\">S1</td><td style = \"text-align: left;\">C1</td><td style = \"text-align: left;\">1.4</td><td style = \"text-align: left;\">C</td><td style = \"text-align: left;\">128388.0</td><td style = \"text-align: left;\">E5</td><td style = \"text-align: left;\">false</td><td style = \"text-align: left;\">false</td><td style = \"text-align: left;\">IND-COL-2</td><td style = \"text-align: left;\">false</td><td style = \"text-align: left;\">25.7</td><td style = \"font-style: italic; text-align: left;\">missing</td><td style = \"text-align: left;\">R12</td><td style = \"text-align: left;\">H</td><td style = \"text-align: left;\">W</td><td style = \"text-align: left;\">CONST2</td></tr><tr><td class = \"rowNumber\" style = \"font-weight: bold; text-align: right;\">3</td><td style = \"text-align: left;\">U1</td><td style = \"text-align: left;\">S1</td><td style = \"text-align: left;\">C1</td><td style = \"text-align: left;\">1.4</td><td style = \"text-align: left;\">C</td><td style = \"text-align: left;\">128388.0</td><td style = \"text-align: left;\">E7</td><td style = \"text-align: left;\">false</td><td style = \"text-align: left;\">false</td><td style = \"text-align: left;\">IND-COL-2</td><td style = \"text-align: left;\">false</td><td style = \"text-align: left;\">25.8</td><td style = \"font-style: italic; text-align: left;\">missing</td><td style = \"text-align: left;\">R12</td><td style = \"text-align: left;\">H</td><td style = \"text-align: left;\">W</td><td style = \"text-align: left;\">CONST2</td></tr><tr><td class = \"rowNumber\" style = \"font-weight: bold; text-align: right;\">4</td><td style = \"text-align: left;\">U1</td><td style = \"text-align: left;\">S1</td><td style = \"text-align: left;\">C1</td><td style = \"text-align: left;\">1.4</td><td style = \"text-align: left;\">C</td><td style = \"text-align: left;\">128388.0</td><td style = \"text-align: left;\">E1</td><td style = \"text-align: left;\">false</td><td style = \"text-align: left;\">false</td><td style = \"text-align: left;\">IND-COL-2</td><td style = \"text-align: left;\">false</td><td style = \"text-align: left;\">23.7</td><td style = \"font-style: italic; text-align: left;\">missing</td><td style = \"text-align: left;\">R12</td><td style = \"text-align: left;\">H</td><td style = \"text-align: left;\">W</td><td style = \"text-align: left;\">CONST2</td></tr><tr><td class = \"rowNumber\" style = \"font-weight: bold; text-align: right;\">5</td><td style = \"text-align: left;\">U1</td><td style = \"text-align: left;\">S1</td><td style = \"text-align: left;\">C1</td><td style = \"text-align: left;\">1.4</td><td style = \"text-align: left;\">C</td><td style = \"text-align: left;\">128388.0</td><td style = \"text-align: left;\">E9</td><td style = \"text-align: left;\">false</td><td style = \"text-align: left;\">false</td><td style = \"text-align: left;\">IND-COL-2</td><td style = \"text-align: left;\">false</td><td style = \"text-align: left;\">20.7</td><td style = \"font-style: italic; text-align: left;\">missing</td><td style = \"text-align: left;\">R12</td><td style = \"text-align: left;\">H</td><td style = \"text-align: left;\">W</td><td style = \"text-align: left;\">CONST2</td></tr><tr><td class = \"rowNumber\" style = \"font-weight: bold; text-align: right;\">6</td><td style = \"text-align: left;\">U1</td><td style = \"text-align: left;\">S1</td><td style = \"text-align: left;\">C1</td><td style = \"text-align: left;\">1.4</td><td style = \"text-align: left;\">C</td><td style = \"text-align: left;\">128388.0</td><td style = \"text-align: left;\">E3</td><td style = \"text-align: left;\">false</td><td style = \"text-align: left;\">false</td><td style = \"text-align: left;\">IND-COL-2</td><td style = \"text-align: left;\">false</td><td style = \"text-align: left;\">27.8</td><td style = \"font-style: italic; text-align: left;\">missing</td><td style = \"text-align: left;\">R12</td><td style = \"text-align: left;\">H</td><td style = \"text-align: left;\">W</td><td style = \"text-align: left;\">CONST2</td></tr><tr><td class = \"rowNumber\" style = \"font-weight: bold; text-align: right;\">7</td><td style = \"text-align: left;\">U1</td><td style = \"text-align: left;\">S1</td><td style = \"text-align: left;\">C1</td><td style = \"text-align: left;\">1.4</td><td style = \"text-align: left;\">C</td><td style = \"text-align: left;\">128388.0</td><td style = \"text-align: left;\">E4</td><td style = \"text-align: left;\">false</td><td style = \"text-align: left;\">false</td><td style = \"text-align: left;\">IND-COL-2</td><td style = \"text-align: left;\">false</td><td style = \"text-align: left;\">26.6</td><td style = \"font-style: italic; text-align: left;\">missing</td><td style = \"text-align: left;\">R12</td><td style = \"text-align: left;\">H</td><td style = \"text-align: left;\">W</td><td style = \"text-align: left;\">CONST2</td></tr><tr><td class = \"rowNumber\" style = \"font-weight: bold; text-align: right;\">8</td><td style = \"text-align: left;\">U1</td><td style = \"text-align: left;\">S1</td><td style = \"text-align: left;\">C1</td><td style = \"text-align: left;\">1.4</td><td style = \"text-align: left;\">C</td><td style = \"text-align: left;\">128388.0</td><td style = \"text-align: left;\">E6</td><td style = \"text-align: left;\">false</td><td style = \"text-align: left;\">false</td><td style = \"text-align: left;\">IND-COL-2</td><td style = \"text-align: left;\">false</td><td style = \"text-align: left;\">25.9</td><td style = \"font-style: italic; text-align: left;\">missing</td><td style = \"text-align: left;\">R12</td><td style = \"text-align: left;\">H</td><td style = \"text-align: left;\">W</td><td style = \"text-align: left;\">CONST2</td></tr><tr><td class = \"rowNumber\" style = \"font-weight: bold; text-align: right;\">9</td><td style = \"text-align: left;\">U1</td><td style = \"text-align: left;\">S1</td><td style = \"text-align: left;\">C1</td><td style = \"text-align: left;\">1.4</td><td style = \"text-align: left;\">C</td><td style = \"text-align: left;\">128388.0</td><td style = \"text-align: left;\">E8</td><td style = \"text-align: left;\">false</td><td style = \"text-align: left;\">false</td><td style = \"text-align: left;\">IND-COL-2</td><td style = \"text-align: left;\">false</td><td style = \"text-align: left;\">19.5</td><td style = \"font-style: italic; text-align: left;\">missing</td><td style = \"text-align: left;\">R12</td><td style = \"text-align: left;\">H</td><td style = \"text-align: left;\">W</td><td style = \"text-align: left;\">CONST2</td></tr><tr><td class = \"rowNumber\" style = \"font-weight: bold; text-align: right;\">10</td><td style = \"text-align: left;\">U1</td><td style = \"text-align: left;\">S1</td><td style = \"text-align: left;\">C1</td><td style = \"text-align: left;\">1.4</td><td style = \"text-align: left;\">C</td><td style = \"text-align: left;\">189934.0</td><td style = \"text-align: left;\">E9</td><td style = \"text-align: left;\">false</td><td style = \"text-align: left;\">false</td><td style = \"text-align: left;\">IND-COL-2</td><td style = \"text-align: left;\">false</td><td style = \"text-align: left;\">31.2</td><td style = \"font-style: italic; text-align: left;\">missing</td><td style = \"text-align: left;\">R12</td><td style = \"text-align: left;\">H</td><td style = \"text-align: left;\">W</td><td style = \"text-align: left;\">CONST2</td></tr><tr><td class = \"rowNumber\" style = \"font-weight: bold; text-align: right;\">11</td><td style = \"text-align: left;\">U1</td><td style = \"text-align: left;\">S1</td><td style = \"text-align: left;\">C1</td><td style = \"text-align: left;\">1.4</td><td style = \"text-align: left;\">C</td><td style = \"text-align: left;\">189934.0</td><td style = \"text-align: left;\">E2</td><td style = \"text-align: left;\">false</td><td style = \"text-align: left;\">false</td><td style = \"text-align: left;\">IND-COL-2</td><td style = \"text-align: left;\">false</td><td style = \"text-align: left;\">8.2</td><td style = \"font-style: italic; text-align: left;\">missing</td><td style = \"text-align: left;\">R12</td><td style = \"text-align: left;\">H</td><td style = \"text-align: left;\">W</td><td style = \"text-align: left;\">CONST2</td></tr><tr><td class = \"rowNumber\" style = \"font-weight: bold; text-align: right;\">12</td><td style = \"text-align: left;\">U1</td><td style = \"text-align: left;\">S1</td><td style = \"text-align: left;\">C1</td><td style = \"text-align: left;\">1.4</td><td style = \"text-align: left;\">C</td><td style = \"text-align: left;\">189934.0</td><td style = \"text-align: left;\">E1</td><td style = \"text-align: left;\">false</td><td style = \"text-align: left;\">false</td><td style = \"text-align: left;\">IND-COL-2</td><td style = \"text-align: left;\">false</td><td style = \"text-align: left;\">21.3</td><td style = \"font-style: italic; text-align: left;\">missing</td><td style = \"text-align: left;\">R12</td><td style = \"text-align: left;\">H</td><td style = \"text-align: left;\">W</td><td style = \"text-align: left;\">CONST2</td></tr><tr><td class = \"rowNumber\" style = \"font-weight: bold; text-align: right;\">13</td><td style = \"text-align: left;\">U1</td><td style = \"text-align: left;\">S1</td><td style = \"text-align: left;\">C1</td><td style = \"text-align: left;\">1.4</td><td style = \"text-align: left;\">C</td><td style = \"text-align: left;\">189934.0</td><td style = \"text-align: left;\">E3</td><td style = \"text-align: left;\">false</td><td style = \"text-align: left;\">false</td><td style = \"text-align: left;\">IND-COL-2</td><td style = \"text-align: left;\">false</td><td style = \"text-align: left;\">5.5</td><td style = \"font-style: italic; text-align: left;\">missing</td><td style = \"text-align: left;\">R12</td><td style = \"text-align: left;\">H</td><td style = \"text-align: left;\">W</td><td style = \"text-align: left;\">CONST2</td></tr><tr><td style = \"text-align: right;\">&vellip;</td><td style = \"text-align: right;\">&vellip;</td><td style = \"text-align: right;\">&vellip;</td><td style = \"text-align: right;\">&vellip;</td><td style = \"text-align: right;\">&vellip;</td><td style = \"text-align: right;\">&vellip;</td><td style = \"text-align: right;\">&vellip;</td><td style = \"text-align: right;\">&vellip;</td><td style = \"text-align: right;\">&vellip;</td><td style = \"text-align: right;\">&vellip;</td><td style = \"text-align: right;\">&vellip;</td><td style = \"text-align: right;\">&vellip;</td><td style = \"text-align: right;\">&vellip;</td><td style = \"text-align: right;\">&vellip;</td><td style = \"text-align: right;\">&vellip;</td><td style = \"text-align: right;\">&vellip;</td><td style = \"text-align: right;\">&vellip;</td><td style = \"text-align: right;\">&vellip;</td></tr><tr><td class = \"rowNumber\" style = \"font-weight: bold; text-align: right;\">18710</td><td style = \"text-align: left;\">U19</td><td style = \"text-align: left;\">S4</td><td style = \"text-align: left;\">C3</td><td style = \"text-align: left;\">2.8</td><td style = \"text-align: left;\">F</td><td style = \"text-align: left;\">116446.0</td><td style = \"text-align: left;\">E6</td><td style = \"text-align: left;\">false</td><td style = \"text-align: left;\">false</td><td style = \"text-align: left;\">IND-COL-2</td><td style = \"text-align: left;\">false</td><td style = \"text-align: left;\">1.3</td><td style = \"font-style: italic; text-align: left;\">missing</td><td style = \"text-align: left;\">R9</td><td style = \"text-align: left;\">T</td><td style = \"text-align: left;\">V</td><td style = \"text-align: left;\">CONST3</td></tr><tr><td class = \"rowNumber\" style = \"font-weight: bold; text-align: right;\">18711</td><td style = \"text-align: left;\">U19</td><td style = \"text-align: left;\">S4</td><td style = \"text-align: left;\">C3</td><td style = \"text-align: left;\">2.8</td><td style = \"text-align: left;\">F</td><td style = \"text-align: left;\">116446.0</td><td style = \"text-align: left;\">E5</td><td style = \"text-align: left;\">false</td><td style = \"text-align: left;\">false</td><td style = \"text-align: left;\">IND-COL-2</td><td style = \"text-align: left;\">false</td><td style = \"text-align: left;\">1.4</td><td style = \"font-style: italic; text-align: left;\">missing</td><td style = \"text-align: left;\">R9</td><td style = \"text-align: left;\">T</td><td style = \"text-align: left;\">V</td><td style = \"text-align: left;\">CONST3</td></tr><tr><td class = \"rowNumber\" style = \"font-weight: bold; text-align: right;\">18712</td><td style = \"text-align: left;\">U19</td><td style = \"text-align: left;\">S4</td><td style = \"text-align: left;\">C3</td><td style = \"text-align: left;\">2.8</td><td style = \"text-align: left;\">F</td><td style = \"text-align: left;\">116446.0</td><td style = \"text-align: left;\">E1</td><td style = \"text-align: left;\">false</td><td style = \"text-align: left;\">false</td><td style = \"text-align: left;\">IND-COL-2</td><td style = \"text-align: left;\">false</td><td style = \"text-align: left;\">12.2</td><td style = \"font-style: italic; text-align: left;\">missing</td><td style = \"text-align: left;\">R9</td><td style = \"text-align: left;\">T</td><td style = \"text-align: left;\">V</td><td style = \"text-align: left;\">CONST3</td></tr><tr><td class = \"rowNumber\" style = \"font-weight: bold; text-align: right;\">18713</td><td style = \"text-align: left;\">U19</td><td style = \"text-align: left;\">S4</td><td style = \"text-align: left;\">C3</td><td style = \"text-align: left;\">2.8</td><td style = \"text-align: left;\">F</td><td style = \"text-align: left;\">131990.0</td><td style = \"text-align: left;\">E1</td><td style = \"text-align: left;\">false</td><td style = \"text-align: left;\">false</td><td style = \"text-align: left;\">IND-COL-2</td><td style = \"text-align: left;\">false</td><td style = \"text-align: left;\">5.5</td><td style = \"font-style: italic; text-align: left;\">missing</td><td style = \"text-align: left;\">R9</td><td style = \"text-align: left;\">T</td><td style = \"text-align: left;\">V</td><td style = \"text-align: left;\">CONST3</td></tr><tr><td class = \"rowNumber\" style = \"font-weight: bold; text-align: right;\">18714</td><td style = \"text-align: left;\">U19</td><td style = \"text-align: left;\">S4</td><td style = \"text-align: left;\">C3</td><td style = \"text-align: left;\">2.8</td><td style = \"text-align: left;\">F</td><td style = \"text-align: left;\">131990.0</td><td style = \"text-align: left;\">E8</td><td style = \"text-align: left;\">false</td><td style = \"text-align: left;\">false</td><td style = \"text-align: left;\">IND-COL-2</td><td style = \"text-align: left;\">false</td><td style = \"text-align: left;\">3.1</td><td style = \"font-style: italic; text-align: left;\">missing</td><td style = \"text-align: left;\">R9</td><td style = \"text-align: left;\">T</td><td style = \"text-align: left;\">V</td><td style = \"text-align: left;\">CONST3</td></tr><tr><td class = \"rowNumber\" style = \"font-weight: bold; text-align: right;\">18715</td><td style = \"text-align: left;\">U19</td><td style = \"text-align: left;\">S4</td><td style = \"text-align: left;\">C3</td><td style = \"text-align: left;\">2.8</td><td style = \"text-align: left;\">F</td><td style = \"text-align: left;\">131990.0</td><td style = \"text-align: left;\">E2</td><td style = \"text-align: left;\">false</td><td style = \"text-align: left;\">false</td><td style = \"text-align: left;\">IND-COL-2</td><td style = \"text-align: left;\">false</td><td style = \"text-align: left;\">8.5</td><td style = \"font-style: italic; text-align: left;\">missing</td><td style = \"text-align: left;\">R9</td><td style = \"text-align: left;\">T</td><td style = \"text-align: left;\">V</td><td style = \"text-align: left;\">CONST3</td></tr><tr><td class = \"rowNumber\" style = \"font-weight: bold; text-align: right;\">18716</td><td style = \"text-align: left;\">U19</td><td style = \"text-align: left;\">S4</td><td style = \"text-align: left;\">C3</td><td style = \"text-align: left;\">2.8</td><td style = \"text-align: left;\">F</td><td style = \"text-align: left;\">131990.0</td><td style = \"text-align: left;\">E3</td><td style = \"text-align: left;\">false</td><td style = \"text-align: left;\">false</td><td style = \"text-align: left;\">IND-COL-2</td><td style = \"text-align: left;\">false</td><td style = \"text-align: left;\">2.3</td><td style = \"font-style: italic; text-align: left;\">missing</td><td style = \"text-align: left;\">R9</td><td style = \"text-align: left;\">T</td><td style = \"text-align: left;\">V</td><td style = \"text-align: left;\">CONST3</td></tr><tr><td class = \"rowNumber\" style = \"font-weight: bold; text-align: right;\">18717</td><td style = \"text-align: left;\">U19</td><td style = \"text-align: left;\">S4</td><td style = \"text-align: left;\">C3</td><td style = \"text-align: left;\">2.8</td><td style = \"text-align: left;\">F</td><td style = \"text-align: left;\">131990.0</td><td style = \"text-align: left;\">E4</td><td style = \"text-align: left;\">false</td><td style = \"text-align: left;\">false</td><td style = \"text-align: left;\">IND-COL-2</td><td style = \"text-align: left;\">false</td><td style = \"text-align: left;\">3.0</td><td style = \"font-style: italic; text-align: left;\">missing</td><td style = \"text-align: left;\">R9</td><td style = \"text-align: left;\">T</td><td style = \"text-align: left;\">V</td><td style = \"text-align: left;\">CONST3</td></tr><tr><td class = \"rowNumber\" style = \"font-weight: bold; text-align: right;\">18718</td><td style = \"text-align: left;\">U19</td><td style = \"text-align: left;\">S4</td><td style = \"text-align: left;\">C3</td><td style = \"text-align: left;\">2.8</td><td style = \"text-align: left;\">F</td><td style = \"text-align: left;\">131990.0</td><td style = \"text-align: left;\">E5</td><td style = \"text-align: left;\">false</td><td style = \"text-align: left;\">false</td><td style = \"text-align: left;\">IND-COL-2</td><td style = \"text-align: left;\">false</td><td style = \"text-align: left;\">2.0</td><td style = \"font-style: italic; text-align: left;\">missing</td><td style = \"text-align: left;\">R9</td><td style = \"text-align: left;\">T</td><td style = \"text-align: left;\">V</td><td style = \"text-align: left;\">CONST3</td></tr><tr><td class = \"rowNumber\" style = \"font-weight: bold; text-align: right;\">18719</td><td style = \"text-align: left;\">U19</td><td style = \"text-align: left;\">S4</td><td style = \"text-align: left;\">C3</td><td style = \"text-align: left;\">2.8</td><td style = \"text-align: left;\">F</td><td style = \"text-align: left;\">131990.0</td><td style = \"text-align: left;\">E6</td><td style = \"text-align: left;\">false</td><td style = \"text-align: left;\">false</td><td style = \"text-align: left;\">IND-COL-2</td><td style = \"text-align: left;\">false</td><td style = \"text-align: left;\">1.9</td><td style = \"font-style: italic; text-align: left;\">missing</td><td style = \"text-align: left;\">R9</td><td style = \"text-align: left;\">T</td><td style = \"text-align: left;\">V</td><td style = \"text-align: left;\">CONST3</td></tr><tr><td class = \"rowNumber\" style = \"font-weight: bold; text-align: right;\">18720</td><td style = \"text-align: left;\">U19</td><td style = \"text-align: left;\">S4</td><td style = \"text-align: left;\">C3</td><td style = \"text-align: left;\">2.8</td><td style = \"text-align: left;\">F</td><td style = \"text-align: left;\">131990.0</td><td style = \"text-align: left;\">E7</td><td style = \"text-align: left;\">false</td><td style = \"text-align: left;\">false</td><td style = \"text-align: left;\">IND-COL-2</td><td style = \"text-align: left;\">false</td><td style = \"text-align: left;\">2.1</td><td style = \"font-style: italic; text-align: left;\">missing</td><td style = \"text-align: left;\">R9</td><td style = \"text-align: left;\">T</td><td style = \"text-align: left;\">V</td><td style = \"text-align: left;\">CONST3</td></tr><tr><td class = \"rowNumber\" style = \"font-weight: bold; text-align: right;\">18721</td><td style = \"text-align: left;\">U19</td><td style = \"text-align: left;\">S4</td><td style = \"text-align: left;\">C3</td><td style = \"text-align: left;\">2.8</td><td style = \"text-align: left;\">F</td><td style = \"text-align: left;\">131990.0</td><td style = \"text-align: left;\">E9</td><td style = \"text-align: left;\">false</td><td style = \"text-align: left;\">false</td><td style = \"text-align: left;\">IND-COL-2</td><td style = \"text-align: left;\">false</td><td style = \"text-align: left;\">7.1</td><td style = \"font-style: italic; text-align: left;\">missing</td><td style = \"text-align: left;\">R9</td><td style = \"text-align: left;\">T</td><td style = \"text-align: left;\">V</td><td style = \"text-align: left;\">CONST3</td></tr></tbody></table></div>"
      ],
      "text/latex": [
       "\\begin{tabular}{r|cccccccccc}\n",
       "\t& UNITE & SOUS\\_UNITE & CIRCUIT & NUMERO & BR & HEURES\\_MAT & PE & AVANT\\_NET & APRES\\_NET & \\\\\n",
       "\t\\hline\n",
       "\t& Any & Any & Any & Any & Any & Any & Any & Any & Any & \\\\\n",
       "\t\\hline\n",
       "\t1 & U1 & S1 & C1 & 1.4 & C & 128388.0 & E2 & 0 & 0 & $\\dots$ \\\\\n",
       "\t2 & U1 & S1 & C1 & 1.4 & C & 128388.0 & E5 & 0 & 0 & $\\dots$ \\\\\n",
       "\t3 & U1 & S1 & C1 & 1.4 & C & 128388.0 & E7 & 0 & 0 & $\\dots$ \\\\\n",
       "\t4 & U1 & S1 & C1 & 1.4 & C & 128388.0 & E1 & 0 & 0 & $\\dots$ \\\\\n",
       "\t5 & U1 & S1 & C1 & 1.4 & C & 128388.0 & E9 & 0 & 0 & $\\dots$ \\\\\n",
       "\t6 & U1 & S1 & C1 & 1.4 & C & 128388.0 & E3 & 0 & 0 & $\\dots$ \\\\\n",
       "\t7 & U1 & S1 & C1 & 1.4 & C & 128388.0 & E4 & 0 & 0 & $\\dots$ \\\\\n",
       "\t8 & U1 & S1 & C1 & 1.4 & C & 128388.0 & E6 & 0 & 0 & $\\dots$ \\\\\n",
       "\t9 & U1 & S1 & C1 & 1.4 & C & 128388.0 & E8 & 0 & 0 & $\\dots$ \\\\\n",
       "\t10 & U1 & S1 & C1 & 1.4 & C & 189934.0 & E9 & 0 & 0 & $\\dots$ \\\\\n",
       "\t11 & U1 & S1 & C1 & 1.4 & C & 189934.0 & E2 & 0 & 0 & $\\dots$ \\\\\n",
       "\t12 & U1 & S1 & C1 & 1.4 & C & 189934.0 & E1 & 0 & 0 & $\\dots$ \\\\\n",
       "\t13 & U1 & S1 & C1 & 1.4 & C & 189934.0 & E3 & 0 & 0 & $\\dots$ \\\\\n",
       "\t14 & U1 & S1 & C1 & 1.4 & C & 189934.0 & E4 & 0 & 0 & $\\dots$ \\\\\n",
       "\t15 & U1 & S1 & C1 & 1.4 & C & 189934.0 & E5 & 0 & 0 & $\\dots$ \\\\\n",
       "\t16 & U1 & S1 & C1 & 1.4 & C & 189934.0 & E6 & 0 & 0 & $\\dots$ \\\\\n",
       "\t17 & U1 & S1 & C1 & 1.4 & C & 189934.0 & E7 & 0 & 0 & $\\dots$ \\\\\n",
       "\t18 & U1 & S1 & C1 & 1.4 & C & 189934.0 & E8 & 0 & 0 & $\\dots$ \\\\\n",
       "\t19 & U1 & S1 & C1 & 1.4 & C & 210989.0 & E9 & 0 & 0 & $\\dots$ \\\\\n",
       "\t20 & U1 & S1 & C1 & 1.4 & C & 210989.0 & E7 & 0 & 0 & $\\dots$ \\\\\n",
       "\t21 & U1 & S1 & C1 & 1.4 & C & 210989.0 & E6 & 0 & 0 & $\\dots$ \\\\\n",
       "\t22 & U1 & S1 & C1 & 1.4 & C & 210989.0 & E4 & 0 & 0 & $\\dots$ \\\\\n",
       "\t23 & U1 & S1 & C1 & 1.4 & C & 210989.0 & E5 & 0 & 0 & $\\dots$ \\\\\n",
       "\t24 & U1 & S1 & C1 & 1.4 & C & 210989.0 & E2 & 0 & 0 & $\\dots$ \\\\\n",
       "\t$\\dots$ & $\\dots$ & $\\dots$ & $\\dots$ & $\\dots$ & $\\dots$ & $\\dots$ & $\\dots$ & $\\dots$ & $\\dots$ &  \\\\\n",
       "\\end{tabular}\n"
      ],
      "text/plain": [
       "\u001b[1m18721×17 DataFrame\u001b[0m\n",
       "\u001b[1m   Row \u001b[0m│\u001b[1m UNITE \u001b[0m\u001b[1m SOUS_UNITE \u001b[0m\u001b[1m CIRCUIT \u001b[0m\u001b[1m NUMERO \u001b[0m\u001b[1m BR  \u001b[0m\u001b[1m HEURES_MAT \u001b[0m\u001b[1m PE  \u001b[0m\u001b[1m AVANT_NET \u001b[0m\u001b[1m \u001b[0m ⋯\n",
       "       │\u001b[90m Any   \u001b[0m\u001b[90m Any        \u001b[0m\u001b[90m Any     \u001b[0m\u001b[90m Any    \u001b[0m\u001b[90m Any \u001b[0m\u001b[90m Any        \u001b[0m\u001b[90m Any \u001b[0m\u001b[90m Any       \u001b[0m\u001b[90m \u001b[0m ⋯\n",
       "───────┼────────────────────────────────────────────────────────────────────────\n",
       "     1 │ U1     S1          C1       1.4     C    128388.0    E2   false       ⋯\n",
       "     2 │ U1     S1          C1       1.4     C    128388.0    E5   false\n",
       "     3 │ U1     S1          C1       1.4     C    128388.0    E7   false\n",
       "     4 │ U1     S1          C1       1.4     C    128388.0    E1   false\n",
       "     5 │ U1     S1          C1       1.4     C    128388.0    E9   false       ⋯\n",
       "     6 │ U1     S1          C1       1.4     C    128388.0    E3   false\n",
       "     7 │ U1     S1          C1       1.4     C    128388.0    E4   false\n",
       "     8 │ U1     S1          C1       1.4     C    128388.0    E6   false\n",
       "   ⋮   │   ⋮        ⋮          ⋮       ⋮      ⋮       ⋮        ⋮       ⋮       ⋱\n",
       " 18715 │ U19    S4          C3       2.8     F    131990.0    E2   false       ⋯\n",
       " 18716 │ U19    S4          C3       2.8     F    131990.0    E3   false\n",
       " 18717 │ U19    S4          C3       2.8     F    131990.0    E4   false\n",
       " 18718 │ U19    S4          C3       2.8     F    131990.0    E5   false\n",
       " 18719 │ U19    S4          C3       2.8     F    131990.0    E6   false       ⋯\n",
       " 18720 │ U19    S4          C3       2.8     F    131990.0    E7   false\n",
       " 18721 │ U19    S4          C3       2.8     F    131990.0    E9   false\n",
       "\u001b[36m                                                9 columns and 18706 rows omitted\u001b[0m"
      ]
     },
     "metadata": {},
     "output_type": "display_data"
    }
   ],
   "source": [
    "df2 = MatrixToDataFrame(data_matrix_ind_col2)"
   ]
  },
  {
   "cell_type": "markdown",
   "metadata": {},
   "source": [
    "### Suppression des valeurs manquantes\n",
    "\n",
    "Les lignes suivantes suppriment les lignes de `df1` et `df2` où la colonne `:VALEUR` contient des valeurs manquantes.\n"
   ]
  },
  {
   "cell_type": "code",
   "execution_count": 12,
   "metadata": {},
   "outputs": [
    {
     "data": {
      "text/html": [
       "<div><div style = \"float: left;\"><span>716×17 DataFrame</span></div><div style = \"float: right;\"><span style = \"font-style: italic;\">691 rows omitted</span></div><div style = \"clear: both;\"></div></div><div class = \"data-frame\" style = \"overflow-x: scroll;\"><table class = \"data-frame\" style = \"margin-bottom: 6px;\"><thead><tr class = \"header\"><th class = \"rowNumber\" style = \"font-weight: bold; text-align: right;\">Row</th><th style = \"text-align: left;\">UNITE</th><th style = \"text-align: left;\">SOUS_UNITE</th><th style = \"text-align: left;\">CIRCUIT</th><th style = \"text-align: left;\">NUMERO</th><th style = \"text-align: left;\">BR</th><th style = \"text-align: left;\">HEURES_MAT</th><th style = \"text-align: left;\">PE</th><th style = \"text-align: left;\">AVANT_NET</th><th style = \"text-align: left;\">APRES_NET</th><th style = \"text-align: left;\">INFER</th><th style = \"text-align: left;\">VALEUR</th><th style = \"text-align: left;\">INCERTITUDE</th><th style = \"text-align: left;\">TAUX_H</th><th style = \"text-align: left;\">REFERENCE</th><th style = \"text-align: left;\">ACIERISTE</th><th style = \"text-align: left;\">TUBISTE</th><th style = \"text-align: left;\">CONSTITUTION</th></tr><tr class = \"subheader headerLastRow\"><th class = \"rowNumber\" style = \"font-weight: bold; text-align: right;\"></th><th title = \"Any\" style = \"text-align: left;\">Any</th><th title = \"Any\" style = \"text-align: left;\">Any</th><th title = \"Any\" style = \"text-align: left;\">Any</th><th title = \"Any\" style = \"text-align: left;\">Any</th><th title = \"Any\" style = \"text-align: left;\">Any</th><th title = \"Any\" style = \"text-align: left;\">Any</th><th title = \"Any\" style = \"text-align: left;\">Any</th><th title = \"Any\" style = \"text-align: left;\">Any</th><th title = \"Any\" style = \"text-align: left;\">Any</th><th title = \"Any\" style = \"text-align: left;\">Any</th><th title = \"Any\" style = \"text-align: left;\">Any</th><th title = \"Any\" style = \"text-align: left;\">Any</th><th title = \"Any\" style = \"text-align: left;\">Any</th><th title = \"Any\" style = \"text-align: left;\">Any</th><th title = \"Any\" style = \"text-align: left;\">Any</th><th title = \"Any\" style = \"text-align: left;\">Any</th><th title = \"Any\" style = \"text-align: left;\">Any</th></tr></thead><tbody><tr><td class = \"rowNumber\" style = \"font-weight: bold; text-align: right;\">1</td><td style = \"text-align: left;\">U4</td><td style = \"text-align: left;\">S1</td><td style = \"text-align: left;\">C3</td><td style = \"text-align: left;\">1.27</td><td style = \"text-align: left;\">F</td><td style = \"text-align: left;\">215612.0</td><td style = \"text-align: left;\">E9</td><td style = \"text-align: left;\">false</td><td style = \"text-align: left;\">false</td><td style = \"text-align: left;\">false</td><td style = \"text-align: left;\">28.0</td><td style = \"text-align: left;\">5.0</td><td style = \"text-align: left;\">6.0</td><td style = \"text-align: left;\">R12</td><td style = \"text-align: left;\">S</td><td style = \"text-align: left;\">S</td><td style = \"text-align: left;\">CONST2</td></tr><tr><td class = \"rowNumber\" style = \"font-weight: bold; text-align: right;\">2</td><td style = \"text-align: left;\">U4</td><td style = \"text-align: left;\">S1</td><td style = \"text-align: left;\">C3</td><td style = \"text-align: left;\">1.27</td><td style = \"text-align: left;\">F</td><td style = \"text-align: left;\">224510.0</td><td style = \"text-align: left;\">E9</td><td style = \"text-align: left;\">true</td><td style = \"text-align: left;\">false</td><td style = \"text-align: left;\">false</td><td style = \"text-align: left;\">30.0</td><td style = \"text-align: left;\">5.0</td><td style = \"font-style: italic; text-align: left;\">missing</td><td style = \"text-align: left;\">R12</td><td style = \"text-align: left;\">S</td><td style = \"text-align: left;\">S</td><td style = \"text-align: left;\">CONST2</td></tr><tr><td class = \"rowNumber\" style = \"font-weight: bold; text-align: right;\">3</td><td style = \"text-align: left;\">U4</td><td style = \"text-align: left;\">S1</td><td style = \"text-align: left;\">C3</td><td style = \"text-align: left;\">1.27</td><td style = \"text-align: left;\">F</td><td style = \"text-align: left;\">237085.0</td><td style = \"text-align: left;\">E9</td><td style = \"text-align: left;\">false</td><td style = \"text-align: left;\">false</td><td style = \"text-align: left;\">true</td><td style = \"text-align: left;\">15.0</td><td style = \"font-style: italic; text-align: left;\">missing</td><td style = \"font-style: italic; text-align: left;\">missing</td><td style = \"text-align: left;\">R12</td><td style = \"text-align: left;\">S</td><td style = \"text-align: left;\">S</td><td style = \"text-align: left;\">CONST2</td></tr><tr><td class = \"rowNumber\" style = \"font-weight: bold; text-align: right;\">4</td><td style = \"text-align: left;\">U4</td><td style = \"text-align: left;\">S1</td><td style = \"text-align: left;\">C3</td><td style = \"text-align: left;\">1.27</td><td style = \"text-align: left;\">F</td><td style = \"text-align: left;\">245389.0</td><td style = \"text-align: left;\">E5</td><td style = \"text-align: left;\">false</td><td style = \"text-align: left;\">false</td><td style = \"text-align: left;\">true</td><td style = \"text-align: left;\">10.0</td><td style = \"font-style: italic; text-align: left;\">missing</td><td style = \"font-style: italic; text-align: left;\">missing</td><td style = \"text-align: left;\">R12</td><td style = \"text-align: left;\">S</td><td style = \"text-align: left;\">S</td><td style = \"text-align: left;\">CONST2</td></tr><tr><td class = \"rowNumber\" style = \"font-weight: bold; text-align: right;\">5</td><td style = \"text-align: left;\">U4</td><td style = \"text-align: left;\">S1</td><td style = \"text-align: left;\">C3</td><td style = \"text-align: left;\">1.27</td><td style = \"text-align: left;\">F</td><td style = \"text-align: left;\">245389.0</td><td style = \"text-align: left;\">E9</td><td style = \"text-align: left;\">false</td><td style = \"text-align: left;\">false</td><td style = \"text-align: left;\">true</td><td style = \"text-align: left;\">15.0</td><td style = \"font-style: italic; text-align: left;\">missing</td><td style = \"font-style: italic; text-align: left;\">missing</td><td style = \"text-align: left;\">R12</td><td style = \"text-align: left;\">S</td><td style = \"text-align: left;\">S</td><td style = \"text-align: left;\">CONST2</td></tr><tr><td class = \"rowNumber\" style = \"font-weight: bold; text-align: right;\">6</td><td style = \"text-align: left;\">U4</td><td style = \"text-align: left;\">S2</td><td style = \"text-align: left;\">C1</td><td style = \"text-align: left;\">1.43</td><td style = \"text-align: left;\">F</td><td style = \"text-align: left;\">148255.0</td><td style = \"text-align: left;\">E9</td><td style = \"text-align: left;\">false</td><td style = \"text-align: left;\">false</td><td style = \"text-align: left;\">true</td><td style = \"text-align: left;\">10.0</td><td style = \"font-style: italic; text-align: left;\">missing</td><td style = \"font-style: italic; text-align: left;\">missing</td><td style = \"text-align: left;\">R12</td><td style = \"text-align: left;\">HI</td><td style = \"text-align: left;\">V</td><td style = \"text-align: left;\">CONST2</td></tr><tr><td class = \"rowNumber\" style = \"font-weight: bold; text-align: right;\">7</td><td style = \"text-align: left;\">U4</td><td style = \"text-align: left;\">S2</td><td style = \"text-align: left;\">C1</td><td style = \"text-align: left;\">1.43</td><td style = \"text-align: left;\">F</td><td style = \"text-align: left;\">158664.0</td><td style = \"text-align: left;\">E1</td><td style = \"text-align: left;\">false</td><td style = \"text-align: left;\">false</td><td style = \"text-align: left;\">true</td><td style = \"text-align: left;\">10.0</td><td style = \"font-style: italic; text-align: left;\">missing</td><td style = \"font-style: italic; text-align: left;\">missing</td><td style = \"text-align: left;\">R12</td><td style = \"text-align: left;\">HI</td><td style = \"text-align: left;\">V</td><td style = \"text-align: left;\">CONST2</td></tr><tr><td class = \"rowNumber\" style = \"font-weight: bold; text-align: right;\">8</td><td style = \"text-align: left;\">U4</td><td style = \"text-align: left;\">S2</td><td style = \"text-align: left;\">C1</td><td style = \"text-align: left;\">1.43</td><td style = \"text-align: left;\">F</td><td style = \"text-align: left;\">158664.0</td><td style = \"text-align: left;\">E9</td><td style = \"text-align: left;\">false</td><td style = \"text-align: left;\">false</td><td style = \"text-align: left;\">true</td><td style = \"text-align: left;\">10.0</td><td style = \"font-style: italic; text-align: left;\">missing</td><td style = \"font-style: italic; text-align: left;\">missing</td><td style = \"text-align: left;\">R12</td><td style = \"text-align: left;\">HI</td><td style = \"text-align: left;\">V</td><td style = \"text-align: left;\">CONST2</td></tr><tr><td class = \"rowNumber\" style = \"font-weight: bold; text-align: right;\">9</td><td style = \"text-align: left;\">U4</td><td style = \"text-align: left;\">S2</td><td style = \"text-align: left;\">C1</td><td style = \"text-align: left;\">1.43</td><td style = \"text-align: left;\">F</td><td style = \"text-align: left;\">179900.0</td><td style = \"text-align: left;\">E1</td><td style = \"text-align: left;\">false</td><td style = \"text-align: left;\">false</td><td style = \"text-align: left;\">true</td><td style = \"text-align: left;\">10.0</td><td style = \"font-style: italic; text-align: left;\">missing</td><td style = \"font-style: italic; text-align: left;\">missing</td><td style = \"text-align: left;\">R12</td><td style = \"text-align: left;\">HI</td><td style = \"text-align: left;\">V</td><td style = \"text-align: left;\">CONST2</td></tr><tr><td class = \"rowNumber\" style = \"font-weight: bold; text-align: right;\">10</td><td style = \"text-align: left;\">U4</td><td style = \"text-align: left;\">S2</td><td style = \"text-align: left;\">C1</td><td style = \"text-align: left;\">1.43</td><td style = \"text-align: left;\">F</td><td style = \"text-align: left;\">179900.0</td><td style = \"text-align: left;\">E5</td><td style = \"text-align: left;\">false</td><td style = \"text-align: left;\">false</td><td style = \"text-align: left;\">true</td><td style = \"text-align: left;\">10.0</td><td style = \"font-style: italic; text-align: left;\">missing</td><td style = \"font-style: italic; text-align: left;\">missing</td><td style = \"text-align: left;\">R12</td><td style = \"text-align: left;\">HI</td><td style = \"text-align: left;\">V</td><td style = \"text-align: left;\">CONST2</td></tr><tr><td class = \"rowNumber\" style = \"font-weight: bold; text-align: right;\">11</td><td style = \"text-align: left;\">U4</td><td style = \"text-align: left;\">S2</td><td style = \"text-align: left;\">C1</td><td style = \"text-align: left;\">1.43</td><td style = \"text-align: left;\">F</td><td style = \"text-align: left;\">179900.0</td><td style = \"text-align: left;\">E9</td><td style = \"text-align: left;\">false</td><td style = \"text-align: left;\">false</td><td style = \"text-align: left;\">true</td><td style = \"text-align: left;\">15.0</td><td style = \"font-style: italic; text-align: left;\">missing</td><td style = \"font-style: italic; text-align: left;\">missing</td><td style = \"text-align: left;\">R12</td><td style = \"text-align: left;\">HI</td><td style = \"text-align: left;\">V</td><td style = \"text-align: left;\">CONST2</td></tr><tr><td class = \"rowNumber\" style = \"font-weight: bold; text-align: right;\">12</td><td style = \"text-align: left;\">U4</td><td style = \"text-align: left;\">S2</td><td style = \"text-align: left;\">C1</td><td style = \"text-align: left;\">1.43</td><td style = \"text-align: left;\">F</td><td style = \"text-align: left;\">179900.0</td><td style = \"text-align: left;\">E6</td><td style = \"text-align: left;\">false</td><td style = \"text-align: left;\">false</td><td style = \"text-align: left;\">true</td><td style = \"text-align: left;\">10.0</td><td style = \"font-style: italic; text-align: left;\">missing</td><td style = \"font-style: italic; text-align: left;\">missing</td><td style = \"text-align: left;\">R12</td><td style = \"text-align: left;\">HI</td><td style = \"text-align: left;\">V</td><td style = \"text-align: left;\">CONST2</td></tr><tr><td class = \"rowNumber\" style = \"font-weight: bold; text-align: right;\">13</td><td style = \"text-align: left;\">U4</td><td style = \"text-align: left;\">S2</td><td style = \"text-align: left;\">C1</td><td style = \"text-align: left;\">1.43</td><td style = \"text-align: left;\">F</td><td style = \"text-align: left;\">190151.0</td><td style = \"text-align: left;\">E9</td><td style = \"text-align: left;\">false</td><td style = \"text-align: left;\">false</td><td style = \"text-align: left;\">true</td><td style = \"text-align: left;\">20.0</td><td style = \"font-style: italic; text-align: left;\">missing</td><td style = \"font-style: italic; text-align: left;\">missing</td><td style = \"text-align: left;\">R12</td><td style = \"text-align: left;\">HI</td><td style = \"text-align: left;\">V</td><td style = \"text-align: left;\">CONST2</td></tr><tr><td style = \"text-align: right;\">&vellip;</td><td style = \"text-align: right;\">&vellip;</td><td style = \"text-align: right;\">&vellip;</td><td style = \"text-align: right;\">&vellip;</td><td style = \"text-align: right;\">&vellip;</td><td style = \"text-align: right;\">&vellip;</td><td style = \"text-align: right;\">&vellip;</td><td style = \"text-align: right;\">&vellip;</td><td style = \"text-align: right;\">&vellip;</td><td style = \"text-align: right;\">&vellip;</td><td style = \"text-align: right;\">&vellip;</td><td style = \"text-align: right;\">&vellip;</td><td style = \"text-align: right;\">&vellip;</td><td style = \"text-align: right;\">&vellip;</td><td style = \"text-align: right;\">&vellip;</td><td style = \"text-align: right;\">&vellip;</td><td style = \"text-align: right;\">&vellip;</td><td style = \"text-align: right;\">&vellip;</td></tr><tr><td class = \"rowNumber\" style = \"font-weight: bold; text-align: right;\">705</td><td style = \"text-align: left;\">U19</td><td style = \"text-align: left;\">S1</td><td style = \"text-align: left;\">C2</td><td style = \"text-align: left;\">2.5</td><td style = \"text-align: left;\">F</td><td style = \"text-align: left;\">144218.0</td><td style = \"text-align: left;\">E8</td><td style = \"text-align: left;\">false</td><td style = \"text-align: left;\">false</td><td style = \"text-align: left;\">true</td><td style = \"text-align: left;\">20.0</td><td style = \"font-style: italic; text-align: left;\">missing</td><td style = \"font-style: italic; text-align: left;\">missing</td><td style = \"text-align: left;\">R1</td><td style = \"text-align: left;\">S</td><td style = \"text-align: left;\">S</td><td style = \"text-align: left;\">CONST3</td></tr><tr><td class = \"rowNumber\" style = \"font-weight: bold; text-align: right;\">706</td><td style = \"text-align: left;\">U19</td><td style = \"text-align: left;\">S2</td><td style = \"text-align: left;\">C2</td><td style = \"text-align: left;\">2.43</td><td style = \"text-align: left;\">F</td><td style = \"text-align: left;\">98063.0</td><td style = \"text-align: left;\">E8</td><td style = \"text-align: left;\">false</td><td style = \"text-align: left;\">false</td><td style = \"text-align: left;\">true</td><td style = \"text-align: left;\">10.0</td><td style = \"font-style: italic; text-align: left;\">missing</td><td style = \"font-style: italic; text-align: left;\">missing</td><td style = \"text-align: left;\">R1</td><td style = \"text-align: left;\">T</td><td style = \"text-align: left;\">V</td><td style = \"text-align: left;\">CONST3</td></tr><tr><td class = \"rowNumber\" style = \"font-weight: bold; text-align: right;\">707</td><td style = \"text-align: left;\">U19</td><td style = \"text-align: left;\">S2</td><td style = \"text-align: left;\">C2</td><td style = \"text-align: left;\">2.43</td><td style = \"text-align: left;\">F</td><td style = \"text-align: left;\">113101.0</td><td style = \"text-align: left;\">E8</td><td style = \"text-align: left;\">false</td><td style = \"text-align: left;\">false</td><td style = \"text-align: left;\">false</td><td style = \"text-align: left;\">16.0</td><td style = \"text-align: left;\">5.0</td><td style = \"font-style: italic; text-align: left;\">missing</td><td style = \"text-align: left;\">R1</td><td style = \"text-align: left;\">T</td><td style = \"text-align: left;\">V</td><td style = \"text-align: left;\">CONST3</td></tr><tr><td class = \"rowNumber\" style = \"font-weight: bold; text-align: right;\">708</td><td style = \"text-align: left;\">U19</td><td style = \"text-align: left;\">S2</td><td style = \"text-align: left;\">C2</td><td style = \"text-align: left;\">2.43</td><td style = \"text-align: left;\">F</td><td style = \"text-align: left;\">127544.0</td><td style = \"text-align: left;\">E8</td><td style = \"text-align: left;\">false</td><td style = \"text-align: left;\">false</td><td style = \"text-align: left;\">false</td><td style = \"text-align: left;\">16.0</td><td style = \"text-align: left;\">6.0</td><td style = \"font-style: italic; text-align: left;\">missing</td><td style = \"text-align: left;\">R1</td><td style = \"text-align: left;\">T</td><td style = \"text-align: left;\">V</td><td style = \"text-align: left;\">CONST3</td></tr><tr><td class = \"rowNumber\" style = \"font-weight: bold; text-align: right;\">709</td><td style = \"text-align: left;\">U19</td><td style = \"text-align: left;\">S2</td><td style = \"text-align: left;\">C2</td><td style = \"text-align: left;\">2.43</td><td style = \"text-align: left;\">F</td><td style = \"text-align: left;\">150693.0</td><td style = \"text-align: left;\">E8</td><td style = \"text-align: left;\">false</td><td style = \"text-align: left;\">false</td><td style = \"text-align: left;\">false</td><td style = \"text-align: left;\">20.0</td><td style = \"text-align: left;\">5.0</td><td style = \"font-style: italic; text-align: left;\">missing</td><td style = \"text-align: left;\">R1</td><td style = \"text-align: left;\">T</td><td style = \"text-align: left;\">V</td><td style = \"text-align: left;\">CONST3</td></tr><tr><td class = \"rowNumber\" style = \"font-weight: bold; text-align: right;\">710</td><td style = \"text-align: left;\">U19</td><td style = \"text-align: left;\">S2</td><td style = \"text-align: left;\">C2</td><td style = \"text-align: left;\">2.43</td><td style = \"text-align: left;\">F</td><td style = \"text-align: left;\">164491.0</td><td style = \"text-align: left;\">E8</td><td style = \"text-align: left;\">false</td><td style = \"text-align: left;\">false</td><td style = \"text-align: left;\">false</td><td style = \"text-align: left;\">21.0</td><td style = \"text-align: left;\">5.0</td><td style = \"text-align: left;\">3.0</td><td style = \"text-align: left;\">R1</td><td style = \"text-align: left;\">T</td><td style = \"text-align: left;\">V</td><td style = \"text-align: left;\">CONST3</td></tr><tr><td class = \"rowNumber\" style = \"font-weight: bold; text-align: right;\">711</td><td style = \"text-align: left;\">U19</td><td style = \"text-align: left;\">S3</td><td style = \"text-align: left;\">C2</td><td style = \"text-align: left;\">2.56</td><td style = \"text-align: left;\">F</td><td style = \"text-align: left;\">90677.0</td><td style = \"text-align: left;\">E8</td><td style = \"text-align: left;\">false</td><td style = \"text-align: left;\">false</td><td style = \"text-align: left;\">true</td><td style = \"text-align: left;\">15.0</td><td style = \"font-style: italic; text-align: left;\">missing</td><td style = \"font-style: italic; text-align: left;\">missing</td><td style = \"text-align: left;\">R1</td><td style = \"text-align: left;\">TA</td><td style = \"text-align: left;\">V</td><td style = \"text-align: left;\">CONST3</td></tr><tr><td class = \"rowNumber\" style = \"font-weight: bold; text-align: right;\">712</td><td style = \"text-align: left;\">U19</td><td style = \"text-align: left;\">S3</td><td style = \"text-align: left;\">C2</td><td style = \"text-align: left;\">2.56</td><td style = \"text-align: left;\">F</td><td style = \"text-align: left;\">128277.0</td><td style = \"text-align: left;\">E8</td><td style = \"text-align: left;\">false</td><td style = \"text-align: left;\">false</td><td style = \"text-align: left;\">true</td><td style = \"text-align: left;\">15.0</td><td style = \"font-style: italic; text-align: left;\">missing</td><td style = \"font-style: italic; text-align: left;\">missing</td><td style = \"text-align: left;\">R1</td><td style = \"text-align: left;\">TA</td><td style = \"text-align: left;\">V</td><td style = \"text-align: left;\">CONST3</td></tr><tr><td class = \"rowNumber\" style = \"font-weight: bold; text-align: right;\">713</td><td style = \"text-align: left;\">U19</td><td style = \"text-align: left;\">S4</td><td style = \"text-align: left;\">C2</td><td style = \"text-align: left;\">2.81</td><td style = \"text-align: left;\">F</td><td style = \"text-align: left;\">76742.0</td><td style = \"text-align: left;\">E9</td><td style = \"text-align: left;\">false</td><td style = \"text-align: left;\">false</td><td style = \"text-align: left;\">true</td><td style = \"text-align: left;\">10.0</td><td style = \"font-style: italic; text-align: left;\">missing</td><td style = \"font-style: italic; text-align: left;\">missing</td><td style = \"text-align: left;\">R9</td><td style = \"text-align: left;\">T</td><td style = \"text-align: left;\">V</td><td style = \"text-align: left;\">CONST3</td></tr><tr><td class = \"rowNumber\" style = \"font-weight: bold; text-align: right;\">714</td><td style = \"text-align: left;\">U19</td><td style = \"text-align: left;\">S4</td><td style = \"text-align: left;\">C2</td><td style = \"text-align: left;\">2.81</td><td style = \"text-align: left;\">F</td><td style = \"text-align: left;\">116446.0</td><td style = \"text-align: left;\">E9</td><td style = \"text-align: left;\">false</td><td style = \"text-align: left;\">false</td><td style = \"text-align: left;\">false</td><td style = \"text-align: left;\">14.0</td><td style = \"text-align: left;\">6.0</td><td style = \"text-align: left;\">4.0</td><td style = \"text-align: left;\">R9</td><td style = \"text-align: left;\">T</td><td style = \"text-align: left;\">V</td><td style = \"text-align: left;\">CONST3</td></tr><tr><td class = \"rowNumber\" style = \"font-weight: bold; text-align: right;\">715</td><td style = \"text-align: left;\">U19</td><td style = \"text-align: left;\">S4</td><td style = \"text-align: left;\">C2</td><td style = \"text-align: left;\">2.81</td><td style = \"text-align: left;\">F</td><td style = \"text-align: left;\">131990.0</td><td style = \"text-align: left;\">E5</td><td style = \"text-align: left;\">false</td><td style = \"text-align: left;\">false</td><td style = \"text-align: left;\">true</td><td style = \"text-align: left;\">15.0</td><td style = \"font-style: italic; text-align: left;\">missing</td><td style = \"font-style: italic; text-align: left;\">missing</td><td style = \"text-align: left;\">R9</td><td style = \"text-align: left;\">T</td><td style = \"text-align: left;\">V</td><td style = \"text-align: left;\">CONST3</td></tr><tr><td class = \"rowNumber\" style = \"font-weight: bold; text-align: right;\">716</td><td style = \"text-align: left;\">U19</td><td style = \"text-align: left;\">S4</td><td style = \"text-align: left;\">C2</td><td style = \"text-align: left;\">2.81</td><td style = \"text-align: left;\">F</td><td style = \"text-align: left;\">131990.0</td><td style = \"text-align: left;\">E9</td><td style = \"text-align: left;\">false</td><td style = \"text-align: left;\">false</td><td style = \"text-align: left;\">false</td><td style = \"text-align: left;\">25.0</td><td style = \"text-align: left;\">5.0</td><td style = \"text-align: left;\">6.0</td><td style = \"text-align: left;\">R9</td><td style = \"text-align: left;\">T</td><td style = \"text-align: left;\">V</td><td style = \"text-align: left;\">CONST3</td></tr></tbody></table></div>"
      ],
      "text/latex": [
       "\\begin{tabular}{r|cccccccccc}\n",
       "\t& UNITE & SOUS\\_UNITE & CIRCUIT & NUMERO & BR & HEURES\\_MAT & PE & AVANT\\_NET & APRES\\_NET & \\\\\n",
       "\t\\hline\n",
       "\t& Any & Any & Any & Any & Any & Any & Any & Any & Any & \\\\\n",
       "\t\\hline\n",
       "\t1 & U4 & S1 & C3 & 1.27 & F & 215612.0 & E9 & 0 & 0 & $\\dots$ \\\\\n",
       "\t2 & U4 & S1 & C3 & 1.27 & F & 224510.0 & E9 & 1 & 0 & $\\dots$ \\\\\n",
       "\t3 & U4 & S1 & C3 & 1.27 & F & 237085.0 & E9 & 0 & 0 & $\\dots$ \\\\\n",
       "\t4 & U4 & S1 & C3 & 1.27 & F & 245389.0 & E5 & 0 & 0 & $\\dots$ \\\\\n",
       "\t5 & U4 & S1 & C3 & 1.27 & F & 245389.0 & E9 & 0 & 0 & $\\dots$ \\\\\n",
       "\t6 & U4 & S2 & C1 & 1.43 & F & 148255.0 & E9 & 0 & 0 & $\\dots$ \\\\\n",
       "\t7 & U4 & S2 & C1 & 1.43 & F & 158664.0 & E1 & 0 & 0 & $\\dots$ \\\\\n",
       "\t8 & U4 & S2 & C1 & 1.43 & F & 158664.0 & E9 & 0 & 0 & $\\dots$ \\\\\n",
       "\t9 & U4 & S2 & C1 & 1.43 & F & 179900.0 & E1 & 0 & 0 & $\\dots$ \\\\\n",
       "\t10 & U4 & S2 & C1 & 1.43 & F & 179900.0 & E5 & 0 & 0 & $\\dots$ \\\\\n",
       "\t11 & U4 & S2 & C1 & 1.43 & F & 179900.0 & E9 & 0 & 0 & $\\dots$ \\\\\n",
       "\t12 & U4 & S2 & C1 & 1.43 & F & 179900.0 & E6 & 0 & 0 & $\\dots$ \\\\\n",
       "\t13 & U4 & S2 & C1 & 1.43 & F & 190151.0 & E9 & 0 & 0 & $\\dots$ \\\\\n",
       "\t14 & U4 & S2 & C1 & 1.43 & F & 190151.0 & E5 & 0 & 0 & $\\dots$ \\\\\n",
       "\t15 & U4 & S2 & C1 & 1.43 & F & 212455.0 & E9 & 1 & 0 & $\\dots$ \\\\\n",
       "\t16 & U4 & S2 & C1 & 1.43 & F & 212455.0 & E5 & 1 & 0 & $\\dots$ \\\\\n",
       "\t17 & U4 & S2 & C1 & 1.43 & F & 220618.0 & E9 & 0 & 0 & $\\dots$ \\\\\n",
       "\t18 & U4 & S2 & C1 & 1.43 & F & 220618.0 & E5 & 0 & 0 & $\\dots$ \\\\\n",
       "\t19 & U4 & S2 & C1 & 1.43 & F & 233179.0 & E9 & 0 & 0 & $\\dots$ \\\\\n",
       "\t20 & U1 & S1 & C1 & 1.4 & C & 147771.0 & E9 & 1 & 0 & $\\dots$ \\\\\n",
       "\t21 & U1 & S1 & C2 & 1.45 & C & 158703.0 & E9 & 0 & 0 & $\\dots$ \\\\\n",
       "\t22 & U1 & S1 & C2 & 1.45 & C & 168593.0 & E9 & 0 & 0 & $\\dots$ \\\\\n",
       "\t23 & U1 & S1 & C2 & 1.45 & C & 189934.0 & E9 & 0 & 0 & $\\dots$ \\\\\n",
       "\t24 & U1 & S1 & C2 & 1.45 & C & 210989.0 & E9 & 0 & 0 & $\\dots$ \\\\\n",
       "\t$\\dots$ & $\\dots$ & $\\dots$ & $\\dots$ & $\\dots$ & $\\dots$ & $\\dots$ & $\\dots$ & $\\dots$ & $\\dots$ &  \\\\\n",
       "\\end{tabular}\n"
      ],
      "text/plain": [
       "\u001b[1m716×17 DataFrame\u001b[0m\n",
       "\u001b[1m Row \u001b[0m│\u001b[1m UNITE \u001b[0m\u001b[1m SOUS_UNITE \u001b[0m\u001b[1m CIRCUIT \u001b[0m\u001b[1m NUMERO \u001b[0m\u001b[1m BR  \u001b[0m\u001b[1m HEURES_MAT \u001b[0m\u001b[1m PE  \u001b[0m\u001b[1m AVANT_NET \u001b[0m\u001b[1m AP\u001b[0m ⋯\n",
       "     │\u001b[90m Any   \u001b[0m\u001b[90m Any        \u001b[0m\u001b[90m Any     \u001b[0m\u001b[90m Any    \u001b[0m\u001b[90m Any \u001b[0m\u001b[90m Any        \u001b[0m\u001b[90m Any \u001b[0m\u001b[90m Any       \u001b[0m\u001b[90m An\u001b[0m ⋯\n",
       "─────┼──────────────────────────────────────────────────────────────────────────\n",
       "   1 │ U4     S1          C3       1.27    F    215612.0    E9   false      fa ⋯\n",
       "   2 │ U4     S1          C3       1.27    F    224510.0    E9   true       fa\n",
       "   3 │ U4     S1          C3       1.27    F    237085.0    E9   false      fa\n",
       "   4 │ U4     S1          C3       1.27    F    245389.0    E5   false      fa\n",
       "   5 │ U4     S1          C3       1.27    F    245389.0    E9   false      fa ⋯\n",
       "   6 │ U4     S2          C1       1.43    F    148255.0    E9   false      fa\n",
       "   7 │ U4     S2          C1       1.43    F    158664.0    E1   false      fa\n",
       "   8 │ U4     S2          C1       1.43    F    158664.0    E9   false      fa\n",
       "  ⋮  │   ⋮        ⋮          ⋮       ⋮      ⋮       ⋮        ⋮       ⋮         ⋱\n",
       " 710 │ U19    S2          C2       2.43    F    164491.0    E8   false      fa ⋯\n",
       " 711 │ U19    S3          C2       2.56    F    90677.0     E8   false      fa\n",
       " 712 │ U19    S3          C2       2.56    F    128277.0    E8   false      fa\n",
       " 713 │ U19    S4          C2       2.81    F    76742.0     E9   false      fa\n",
       " 714 │ U19    S4          C2       2.81    F    116446.0    E9   false      fa ⋯\n",
       " 715 │ U19    S4          C2       2.81    F    131990.0    E5   false      fa\n",
       " 716 │ U19    S4          C2       2.81    F    131990.0    E9   false      fa\n",
       "\u001b[36m                                                  9 columns and 701 rows omitted\u001b[0m"
      ]
     },
     "metadata": {},
     "output_type": "display_data"
    }
   ],
   "source": [
    "df1 = dropmissing(df1, :VALEUR)"
   ]
  },
  {
   "cell_type": "code",
   "execution_count": 13,
   "metadata": {},
   "outputs": [
    {
     "data": {
      "text/html": [
       "<div><div style = \"float: left;\"><span>18636×17 DataFrame</span></div><div style = \"float: right;\"><span style = \"font-style: italic;\">18611 rows omitted</span></div><div style = \"clear: both;\"></div></div><div class = \"data-frame\" style = \"overflow-x: scroll;\"><table class = \"data-frame\" style = \"margin-bottom: 6px;\"><thead><tr class = \"header\"><th class = \"rowNumber\" style = \"font-weight: bold; text-align: right;\">Row</th><th style = \"text-align: left;\">UNITE</th><th style = \"text-align: left;\">SOUS_UNITE</th><th style = \"text-align: left;\">CIRCUIT</th><th style = \"text-align: left;\">NUMERO</th><th style = \"text-align: left;\">BR</th><th style = \"text-align: left;\">HEURES_MAT</th><th style = \"text-align: left;\">PE</th><th style = \"text-align: left;\">AVANT_NET</th><th style = \"text-align: left;\">APRES_NET</th><th style = \"text-align: left;\">SONDE</th><th style = \"text-align: left;\">INFER</th><th style = \"text-align: left;\">VALEUR</th><th style = \"text-align: left;\">INCERTITUDE</th><th style = \"text-align: left;\">REFERENCE</th><th style = \"text-align: left;\">ACIERISTE</th><th style = \"text-align: left;\">TUBISTE</th><th style = \"text-align: left;\">CONSTITUTION</th></tr><tr class = \"subheader headerLastRow\"><th class = \"rowNumber\" style = \"font-weight: bold; text-align: right;\"></th><th title = \"Any\" style = \"text-align: left;\">Any</th><th title = \"Any\" style = \"text-align: left;\">Any</th><th title = \"Any\" style = \"text-align: left;\">Any</th><th title = \"Any\" style = \"text-align: left;\">Any</th><th title = \"Any\" style = \"text-align: left;\">Any</th><th title = \"Any\" style = \"text-align: left;\">Any</th><th title = \"Any\" style = \"text-align: left;\">Any</th><th title = \"Any\" style = \"text-align: left;\">Any</th><th title = \"Any\" style = \"text-align: left;\">Any</th><th title = \"Any\" style = \"text-align: left;\">Any</th><th title = \"Any\" style = \"text-align: left;\">Any</th><th title = \"Any\" style = \"text-align: left;\">Any</th><th title = \"Any\" style = \"text-align: left;\">Any</th><th title = \"Any\" style = \"text-align: left;\">Any</th><th title = \"Any\" style = \"text-align: left;\">Any</th><th title = \"Any\" style = \"text-align: left;\">Any</th><th title = \"Any\" style = \"text-align: left;\">Any</th></tr></thead><tbody><tr><td class = \"rowNumber\" style = \"font-weight: bold; text-align: right;\">1</td><td style = \"text-align: left;\">U1</td><td style = \"text-align: left;\">S1</td><td style = \"text-align: left;\">C1</td><td style = \"text-align: left;\">1.4</td><td style = \"text-align: left;\">C</td><td style = \"text-align: left;\">128388.0</td><td style = \"text-align: left;\">E2</td><td style = \"text-align: left;\">false</td><td style = \"text-align: left;\">false</td><td style = \"text-align: left;\">IND-COL-2</td><td style = \"text-align: left;\">false</td><td style = \"text-align: left;\">25.9</td><td style = \"font-style: italic; text-align: left;\">missing</td><td style = \"text-align: left;\">R12</td><td style = \"text-align: left;\">H</td><td style = \"text-align: left;\">W</td><td style = \"text-align: left;\">CONST2</td></tr><tr><td class = \"rowNumber\" style = \"font-weight: bold; text-align: right;\">2</td><td style = \"text-align: left;\">U1</td><td style = \"text-align: left;\">S1</td><td style = \"text-align: left;\">C1</td><td style = \"text-align: left;\">1.4</td><td style = \"text-align: left;\">C</td><td style = \"text-align: left;\">128388.0</td><td style = \"text-align: left;\">E5</td><td style = \"text-align: left;\">false</td><td style = \"text-align: left;\">false</td><td style = \"text-align: left;\">IND-COL-2</td><td style = \"text-align: left;\">false</td><td style = \"text-align: left;\">25.7</td><td style = \"font-style: italic; text-align: left;\">missing</td><td style = \"text-align: left;\">R12</td><td style = \"text-align: left;\">H</td><td style = \"text-align: left;\">W</td><td style = \"text-align: left;\">CONST2</td></tr><tr><td class = \"rowNumber\" style = \"font-weight: bold; text-align: right;\">3</td><td style = \"text-align: left;\">U1</td><td style = \"text-align: left;\">S1</td><td style = \"text-align: left;\">C1</td><td style = \"text-align: left;\">1.4</td><td style = \"text-align: left;\">C</td><td style = \"text-align: left;\">128388.0</td><td style = \"text-align: left;\">E7</td><td style = \"text-align: left;\">false</td><td style = \"text-align: left;\">false</td><td style = \"text-align: left;\">IND-COL-2</td><td style = \"text-align: left;\">false</td><td style = \"text-align: left;\">25.8</td><td style = \"font-style: italic; text-align: left;\">missing</td><td style = \"text-align: left;\">R12</td><td style = \"text-align: left;\">H</td><td style = \"text-align: left;\">W</td><td style = \"text-align: left;\">CONST2</td></tr><tr><td class = \"rowNumber\" style = \"font-weight: bold; text-align: right;\">4</td><td style = \"text-align: left;\">U1</td><td style = \"text-align: left;\">S1</td><td style = \"text-align: left;\">C1</td><td style = \"text-align: left;\">1.4</td><td style = \"text-align: left;\">C</td><td style = \"text-align: left;\">128388.0</td><td style = \"text-align: left;\">E1</td><td style = \"text-align: left;\">false</td><td style = \"text-align: left;\">false</td><td style = \"text-align: left;\">IND-COL-2</td><td style = \"text-align: left;\">false</td><td style = \"text-align: left;\">23.7</td><td style = \"font-style: italic; text-align: left;\">missing</td><td style = \"text-align: left;\">R12</td><td style = \"text-align: left;\">H</td><td style = \"text-align: left;\">W</td><td style = \"text-align: left;\">CONST2</td></tr><tr><td class = \"rowNumber\" style = \"font-weight: bold; text-align: right;\">5</td><td style = \"text-align: left;\">U1</td><td style = \"text-align: left;\">S1</td><td style = \"text-align: left;\">C1</td><td style = \"text-align: left;\">1.4</td><td style = \"text-align: left;\">C</td><td style = \"text-align: left;\">128388.0</td><td style = \"text-align: left;\">E9</td><td style = \"text-align: left;\">false</td><td style = \"text-align: left;\">false</td><td style = \"text-align: left;\">IND-COL-2</td><td style = \"text-align: left;\">false</td><td style = \"text-align: left;\">20.7</td><td style = \"font-style: italic; text-align: left;\">missing</td><td style = \"text-align: left;\">R12</td><td style = \"text-align: left;\">H</td><td style = \"text-align: left;\">W</td><td style = \"text-align: left;\">CONST2</td></tr><tr><td class = \"rowNumber\" style = \"font-weight: bold; text-align: right;\">6</td><td style = \"text-align: left;\">U1</td><td style = \"text-align: left;\">S1</td><td style = \"text-align: left;\">C1</td><td style = \"text-align: left;\">1.4</td><td style = \"text-align: left;\">C</td><td style = \"text-align: left;\">128388.0</td><td style = \"text-align: left;\">E3</td><td style = \"text-align: left;\">false</td><td style = \"text-align: left;\">false</td><td style = \"text-align: left;\">IND-COL-2</td><td style = \"text-align: left;\">false</td><td style = \"text-align: left;\">27.8</td><td style = \"font-style: italic; text-align: left;\">missing</td><td style = \"text-align: left;\">R12</td><td style = \"text-align: left;\">H</td><td style = \"text-align: left;\">W</td><td style = \"text-align: left;\">CONST2</td></tr><tr><td class = \"rowNumber\" style = \"font-weight: bold; text-align: right;\">7</td><td style = \"text-align: left;\">U1</td><td style = \"text-align: left;\">S1</td><td style = \"text-align: left;\">C1</td><td style = \"text-align: left;\">1.4</td><td style = \"text-align: left;\">C</td><td style = \"text-align: left;\">128388.0</td><td style = \"text-align: left;\">E4</td><td style = \"text-align: left;\">false</td><td style = \"text-align: left;\">false</td><td style = \"text-align: left;\">IND-COL-2</td><td style = \"text-align: left;\">false</td><td style = \"text-align: left;\">26.6</td><td style = \"font-style: italic; text-align: left;\">missing</td><td style = \"text-align: left;\">R12</td><td style = \"text-align: left;\">H</td><td style = \"text-align: left;\">W</td><td style = \"text-align: left;\">CONST2</td></tr><tr><td class = \"rowNumber\" style = \"font-weight: bold; text-align: right;\">8</td><td style = \"text-align: left;\">U1</td><td style = \"text-align: left;\">S1</td><td style = \"text-align: left;\">C1</td><td style = \"text-align: left;\">1.4</td><td style = \"text-align: left;\">C</td><td style = \"text-align: left;\">128388.0</td><td style = \"text-align: left;\">E6</td><td style = \"text-align: left;\">false</td><td style = \"text-align: left;\">false</td><td style = \"text-align: left;\">IND-COL-2</td><td style = \"text-align: left;\">false</td><td style = \"text-align: left;\">25.9</td><td style = \"font-style: italic; text-align: left;\">missing</td><td style = \"text-align: left;\">R12</td><td style = \"text-align: left;\">H</td><td style = \"text-align: left;\">W</td><td style = \"text-align: left;\">CONST2</td></tr><tr><td class = \"rowNumber\" style = \"font-weight: bold; text-align: right;\">9</td><td style = \"text-align: left;\">U1</td><td style = \"text-align: left;\">S1</td><td style = \"text-align: left;\">C1</td><td style = \"text-align: left;\">1.4</td><td style = \"text-align: left;\">C</td><td style = \"text-align: left;\">128388.0</td><td style = \"text-align: left;\">E8</td><td style = \"text-align: left;\">false</td><td style = \"text-align: left;\">false</td><td style = \"text-align: left;\">IND-COL-2</td><td style = \"text-align: left;\">false</td><td style = \"text-align: left;\">19.5</td><td style = \"font-style: italic; text-align: left;\">missing</td><td style = \"text-align: left;\">R12</td><td style = \"text-align: left;\">H</td><td style = \"text-align: left;\">W</td><td style = \"text-align: left;\">CONST2</td></tr><tr><td class = \"rowNumber\" style = \"font-weight: bold; text-align: right;\">10</td><td style = \"text-align: left;\">U1</td><td style = \"text-align: left;\">S1</td><td style = \"text-align: left;\">C1</td><td style = \"text-align: left;\">1.4</td><td style = \"text-align: left;\">C</td><td style = \"text-align: left;\">189934.0</td><td style = \"text-align: left;\">E9</td><td style = \"text-align: left;\">false</td><td style = \"text-align: left;\">false</td><td style = \"text-align: left;\">IND-COL-2</td><td style = \"text-align: left;\">false</td><td style = \"text-align: left;\">31.2</td><td style = \"font-style: italic; text-align: left;\">missing</td><td style = \"text-align: left;\">R12</td><td style = \"text-align: left;\">H</td><td style = \"text-align: left;\">W</td><td style = \"text-align: left;\">CONST2</td></tr><tr><td class = \"rowNumber\" style = \"font-weight: bold; text-align: right;\">11</td><td style = \"text-align: left;\">U1</td><td style = \"text-align: left;\">S1</td><td style = \"text-align: left;\">C1</td><td style = \"text-align: left;\">1.4</td><td style = \"text-align: left;\">C</td><td style = \"text-align: left;\">189934.0</td><td style = \"text-align: left;\">E2</td><td style = \"text-align: left;\">false</td><td style = \"text-align: left;\">false</td><td style = \"text-align: left;\">IND-COL-2</td><td style = \"text-align: left;\">false</td><td style = \"text-align: left;\">8.2</td><td style = \"font-style: italic; text-align: left;\">missing</td><td style = \"text-align: left;\">R12</td><td style = \"text-align: left;\">H</td><td style = \"text-align: left;\">W</td><td style = \"text-align: left;\">CONST2</td></tr><tr><td class = \"rowNumber\" style = \"font-weight: bold; text-align: right;\">12</td><td style = \"text-align: left;\">U1</td><td style = \"text-align: left;\">S1</td><td style = \"text-align: left;\">C1</td><td style = \"text-align: left;\">1.4</td><td style = \"text-align: left;\">C</td><td style = \"text-align: left;\">189934.0</td><td style = \"text-align: left;\">E1</td><td style = \"text-align: left;\">false</td><td style = \"text-align: left;\">false</td><td style = \"text-align: left;\">IND-COL-2</td><td style = \"text-align: left;\">false</td><td style = \"text-align: left;\">21.3</td><td style = \"font-style: italic; text-align: left;\">missing</td><td style = \"text-align: left;\">R12</td><td style = \"text-align: left;\">H</td><td style = \"text-align: left;\">W</td><td style = \"text-align: left;\">CONST2</td></tr><tr><td class = \"rowNumber\" style = \"font-weight: bold; text-align: right;\">13</td><td style = \"text-align: left;\">U1</td><td style = \"text-align: left;\">S1</td><td style = \"text-align: left;\">C1</td><td style = \"text-align: left;\">1.4</td><td style = \"text-align: left;\">C</td><td style = \"text-align: left;\">189934.0</td><td style = \"text-align: left;\">E3</td><td style = \"text-align: left;\">false</td><td style = \"text-align: left;\">false</td><td style = \"text-align: left;\">IND-COL-2</td><td style = \"text-align: left;\">false</td><td style = \"text-align: left;\">5.5</td><td style = \"font-style: italic; text-align: left;\">missing</td><td style = \"text-align: left;\">R12</td><td style = \"text-align: left;\">H</td><td style = \"text-align: left;\">W</td><td style = \"text-align: left;\">CONST2</td></tr><tr><td style = \"text-align: right;\">&vellip;</td><td style = \"text-align: right;\">&vellip;</td><td style = \"text-align: right;\">&vellip;</td><td style = \"text-align: right;\">&vellip;</td><td style = \"text-align: right;\">&vellip;</td><td style = \"text-align: right;\">&vellip;</td><td style = \"text-align: right;\">&vellip;</td><td style = \"text-align: right;\">&vellip;</td><td style = \"text-align: right;\">&vellip;</td><td style = \"text-align: right;\">&vellip;</td><td style = \"text-align: right;\">&vellip;</td><td style = \"text-align: right;\">&vellip;</td><td style = \"text-align: right;\">&vellip;</td><td style = \"text-align: right;\">&vellip;</td><td style = \"text-align: right;\">&vellip;</td><td style = \"text-align: right;\">&vellip;</td><td style = \"text-align: right;\">&vellip;</td><td style = \"text-align: right;\">&vellip;</td></tr><tr><td class = \"rowNumber\" style = \"font-weight: bold; text-align: right;\">18625</td><td style = \"text-align: left;\">U19</td><td style = \"text-align: left;\">S4</td><td style = \"text-align: left;\">C3</td><td style = \"text-align: left;\">2.8</td><td style = \"text-align: left;\">F</td><td style = \"text-align: left;\">116446.0</td><td style = \"text-align: left;\">E6</td><td style = \"text-align: left;\">false</td><td style = \"text-align: left;\">false</td><td style = \"text-align: left;\">IND-COL-2</td><td style = \"text-align: left;\">false</td><td style = \"text-align: left;\">1.3</td><td style = \"font-style: italic; text-align: left;\">missing</td><td style = \"text-align: left;\">R9</td><td style = \"text-align: left;\">T</td><td style = \"text-align: left;\">V</td><td style = \"text-align: left;\">CONST3</td></tr><tr><td class = \"rowNumber\" style = \"font-weight: bold; text-align: right;\">18626</td><td style = \"text-align: left;\">U19</td><td style = \"text-align: left;\">S4</td><td style = \"text-align: left;\">C3</td><td style = \"text-align: left;\">2.8</td><td style = \"text-align: left;\">F</td><td style = \"text-align: left;\">116446.0</td><td style = \"text-align: left;\">E5</td><td style = \"text-align: left;\">false</td><td style = \"text-align: left;\">false</td><td style = \"text-align: left;\">IND-COL-2</td><td style = \"text-align: left;\">false</td><td style = \"text-align: left;\">1.4</td><td style = \"font-style: italic; text-align: left;\">missing</td><td style = \"text-align: left;\">R9</td><td style = \"text-align: left;\">T</td><td style = \"text-align: left;\">V</td><td style = \"text-align: left;\">CONST3</td></tr><tr><td class = \"rowNumber\" style = \"font-weight: bold; text-align: right;\">18627</td><td style = \"text-align: left;\">U19</td><td style = \"text-align: left;\">S4</td><td style = \"text-align: left;\">C3</td><td style = \"text-align: left;\">2.8</td><td style = \"text-align: left;\">F</td><td style = \"text-align: left;\">116446.0</td><td style = \"text-align: left;\">E1</td><td style = \"text-align: left;\">false</td><td style = \"text-align: left;\">false</td><td style = \"text-align: left;\">IND-COL-2</td><td style = \"text-align: left;\">false</td><td style = \"text-align: left;\">12.2</td><td style = \"font-style: italic; text-align: left;\">missing</td><td style = \"text-align: left;\">R9</td><td style = \"text-align: left;\">T</td><td style = \"text-align: left;\">V</td><td style = \"text-align: left;\">CONST3</td></tr><tr><td class = \"rowNumber\" style = \"font-weight: bold; text-align: right;\">18628</td><td style = \"text-align: left;\">U19</td><td style = \"text-align: left;\">S4</td><td style = \"text-align: left;\">C3</td><td style = \"text-align: left;\">2.8</td><td style = \"text-align: left;\">F</td><td style = \"text-align: left;\">131990.0</td><td style = \"text-align: left;\">E1</td><td style = \"text-align: left;\">false</td><td style = \"text-align: left;\">false</td><td style = \"text-align: left;\">IND-COL-2</td><td style = \"text-align: left;\">false</td><td style = \"text-align: left;\">5.5</td><td style = \"font-style: italic; text-align: left;\">missing</td><td style = \"text-align: left;\">R9</td><td style = \"text-align: left;\">T</td><td style = \"text-align: left;\">V</td><td style = \"text-align: left;\">CONST3</td></tr><tr><td class = \"rowNumber\" style = \"font-weight: bold; text-align: right;\">18629</td><td style = \"text-align: left;\">U19</td><td style = \"text-align: left;\">S4</td><td style = \"text-align: left;\">C3</td><td style = \"text-align: left;\">2.8</td><td style = \"text-align: left;\">F</td><td style = \"text-align: left;\">131990.0</td><td style = \"text-align: left;\">E8</td><td style = \"text-align: left;\">false</td><td style = \"text-align: left;\">false</td><td style = \"text-align: left;\">IND-COL-2</td><td style = \"text-align: left;\">false</td><td style = \"text-align: left;\">3.1</td><td style = \"font-style: italic; text-align: left;\">missing</td><td style = \"text-align: left;\">R9</td><td style = \"text-align: left;\">T</td><td style = \"text-align: left;\">V</td><td style = \"text-align: left;\">CONST3</td></tr><tr><td class = \"rowNumber\" style = \"font-weight: bold; text-align: right;\">18630</td><td style = \"text-align: left;\">U19</td><td style = \"text-align: left;\">S4</td><td style = \"text-align: left;\">C3</td><td style = \"text-align: left;\">2.8</td><td style = \"text-align: left;\">F</td><td style = \"text-align: left;\">131990.0</td><td style = \"text-align: left;\">E2</td><td style = \"text-align: left;\">false</td><td style = \"text-align: left;\">false</td><td style = \"text-align: left;\">IND-COL-2</td><td style = \"text-align: left;\">false</td><td style = \"text-align: left;\">8.5</td><td style = \"font-style: italic; text-align: left;\">missing</td><td style = \"text-align: left;\">R9</td><td style = \"text-align: left;\">T</td><td style = \"text-align: left;\">V</td><td style = \"text-align: left;\">CONST3</td></tr><tr><td class = \"rowNumber\" style = \"font-weight: bold; text-align: right;\">18631</td><td style = \"text-align: left;\">U19</td><td style = \"text-align: left;\">S4</td><td style = \"text-align: left;\">C3</td><td style = \"text-align: left;\">2.8</td><td style = \"text-align: left;\">F</td><td style = \"text-align: left;\">131990.0</td><td style = \"text-align: left;\">E3</td><td style = \"text-align: left;\">false</td><td style = \"text-align: left;\">false</td><td style = \"text-align: left;\">IND-COL-2</td><td style = \"text-align: left;\">false</td><td style = \"text-align: left;\">2.3</td><td style = \"font-style: italic; text-align: left;\">missing</td><td style = \"text-align: left;\">R9</td><td style = \"text-align: left;\">T</td><td style = \"text-align: left;\">V</td><td style = \"text-align: left;\">CONST3</td></tr><tr><td class = \"rowNumber\" style = \"font-weight: bold; text-align: right;\">18632</td><td style = \"text-align: left;\">U19</td><td style = \"text-align: left;\">S4</td><td style = \"text-align: left;\">C3</td><td style = \"text-align: left;\">2.8</td><td style = \"text-align: left;\">F</td><td style = \"text-align: left;\">131990.0</td><td style = \"text-align: left;\">E4</td><td style = \"text-align: left;\">false</td><td style = \"text-align: left;\">false</td><td style = \"text-align: left;\">IND-COL-2</td><td style = \"text-align: left;\">false</td><td style = \"text-align: left;\">3.0</td><td style = \"font-style: italic; text-align: left;\">missing</td><td style = \"text-align: left;\">R9</td><td style = \"text-align: left;\">T</td><td style = \"text-align: left;\">V</td><td style = \"text-align: left;\">CONST3</td></tr><tr><td class = \"rowNumber\" style = \"font-weight: bold; text-align: right;\">18633</td><td style = \"text-align: left;\">U19</td><td style = \"text-align: left;\">S4</td><td style = \"text-align: left;\">C3</td><td style = \"text-align: left;\">2.8</td><td style = \"text-align: left;\">F</td><td style = \"text-align: left;\">131990.0</td><td style = \"text-align: left;\">E5</td><td style = \"text-align: left;\">false</td><td style = \"text-align: left;\">false</td><td style = \"text-align: left;\">IND-COL-2</td><td style = \"text-align: left;\">false</td><td style = \"text-align: left;\">2.0</td><td style = \"font-style: italic; text-align: left;\">missing</td><td style = \"text-align: left;\">R9</td><td style = \"text-align: left;\">T</td><td style = \"text-align: left;\">V</td><td style = \"text-align: left;\">CONST3</td></tr><tr><td class = \"rowNumber\" style = \"font-weight: bold; text-align: right;\">18634</td><td style = \"text-align: left;\">U19</td><td style = \"text-align: left;\">S4</td><td style = \"text-align: left;\">C3</td><td style = \"text-align: left;\">2.8</td><td style = \"text-align: left;\">F</td><td style = \"text-align: left;\">131990.0</td><td style = \"text-align: left;\">E6</td><td style = \"text-align: left;\">false</td><td style = \"text-align: left;\">false</td><td style = \"text-align: left;\">IND-COL-2</td><td style = \"text-align: left;\">false</td><td style = \"text-align: left;\">1.9</td><td style = \"font-style: italic; text-align: left;\">missing</td><td style = \"text-align: left;\">R9</td><td style = \"text-align: left;\">T</td><td style = \"text-align: left;\">V</td><td style = \"text-align: left;\">CONST3</td></tr><tr><td class = \"rowNumber\" style = \"font-weight: bold; text-align: right;\">18635</td><td style = \"text-align: left;\">U19</td><td style = \"text-align: left;\">S4</td><td style = \"text-align: left;\">C3</td><td style = \"text-align: left;\">2.8</td><td style = \"text-align: left;\">F</td><td style = \"text-align: left;\">131990.0</td><td style = \"text-align: left;\">E7</td><td style = \"text-align: left;\">false</td><td style = \"text-align: left;\">false</td><td style = \"text-align: left;\">IND-COL-2</td><td style = \"text-align: left;\">false</td><td style = \"text-align: left;\">2.1</td><td style = \"font-style: italic; text-align: left;\">missing</td><td style = \"text-align: left;\">R9</td><td style = \"text-align: left;\">T</td><td style = \"text-align: left;\">V</td><td style = \"text-align: left;\">CONST3</td></tr><tr><td class = \"rowNumber\" style = \"font-weight: bold; text-align: right;\">18636</td><td style = \"text-align: left;\">U19</td><td style = \"text-align: left;\">S4</td><td style = \"text-align: left;\">C3</td><td style = \"text-align: left;\">2.8</td><td style = \"text-align: left;\">F</td><td style = \"text-align: left;\">131990.0</td><td style = \"text-align: left;\">E9</td><td style = \"text-align: left;\">false</td><td style = \"text-align: left;\">false</td><td style = \"text-align: left;\">IND-COL-2</td><td style = \"text-align: left;\">false</td><td style = \"text-align: left;\">7.1</td><td style = \"font-style: italic; text-align: left;\">missing</td><td style = \"text-align: left;\">R9</td><td style = \"text-align: left;\">T</td><td style = \"text-align: left;\">V</td><td style = \"text-align: left;\">CONST3</td></tr></tbody></table></div>"
      ],
      "text/latex": [
       "\\begin{tabular}{r|cccccccccc}\n",
       "\t& UNITE & SOUS\\_UNITE & CIRCUIT & NUMERO & BR & HEURES\\_MAT & PE & AVANT\\_NET & APRES\\_NET & \\\\\n",
       "\t\\hline\n",
       "\t& Any & Any & Any & Any & Any & Any & Any & Any & Any & \\\\\n",
       "\t\\hline\n",
       "\t1 & U1 & S1 & C1 & 1.4 & C & 128388.0 & E2 & 0 & 0 & $\\dots$ \\\\\n",
       "\t2 & U1 & S1 & C1 & 1.4 & C & 128388.0 & E5 & 0 & 0 & $\\dots$ \\\\\n",
       "\t3 & U1 & S1 & C1 & 1.4 & C & 128388.0 & E7 & 0 & 0 & $\\dots$ \\\\\n",
       "\t4 & U1 & S1 & C1 & 1.4 & C & 128388.0 & E1 & 0 & 0 & $\\dots$ \\\\\n",
       "\t5 & U1 & S1 & C1 & 1.4 & C & 128388.0 & E9 & 0 & 0 & $\\dots$ \\\\\n",
       "\t6 & U1 & S1 & C1 & 1.4 & C & 128388.0 & E3 & 0 & 0 & $\\dots$ \\\\\n",
       "\t7 & U1 & S1 & C1 & 1.4 & C & 128388.0 & E4 & 0 & 0 & $\\dots$ \\\\\n",
       "\t8 & U1 & S1 & C1 & 1.4 & C & 128388.0 & E6 & 0 & 0 & $\\dots$ \\\\\n",
       "\t9 & U1 & S1 & C1 & 1.4 & C & 128388.0 & E8 & 0 & 0 & $\\dots$ \\\\\n",
       "\t10 & U1 & S1 & C1 & 1.4 & C & 189934.0 & E9 & 0 & 0 & $\\dots$ \\\\\n",
       "\t11 & U1 & S1 & C1 & 1.4 & C & 189934.0 & E2 & 0 & 0 & $\\dots$ \\\\\n",
       "\t12 & U1 & S1 & C1 & 1.4 & C & 189934.0 & E1 & 0 & 0 & $\\dots$ \\\\\n",
       "\t13 & U1 & S1 & C1 & 1.4 & C & 189934.0 & E3 & 0 & 0 & $\\dots$ \\\\\n",
       "\t14 & U1 & S1 & C1 & 1.4 & C & 189934.0 & E4 & 0 & 0 & $\\dots$ \\\\\n",
       "\t15 & U1 & S1 & C1 & 1.4 & C & 189934.0 & E5 & 0 & 0 & $\\dots$ \\\\\n",
       "\t16 & U1 & S1 & C1 & 1.4 & C & 189934.0 & E6 & 0 & 0 & $\\dots$ \\\\\n",
       "\t17 & U1 & S1 & C1 & 1.4 & C & 189934.0 & E7 & 0 & 0 & $\\dots$ \\\\\n",
       "\t18 & U1 & S1 & C1 & 1.4 & C & 189934.0 & E8 & 0 & 0 & $\\dots$ \\\\\n",
       "\t19 & U1 & S1 & C1 & 1.4 & C & 210989.0 & E9 & 0 & 0 & $\\dots$ \\\\\n",
       "\t20 & U1 & S1 & C1 & 1.4 & C & 210989.0 & E7 & 0 & 0 & $\\dots$ \\\\\n",
       "\t21 & U1 & S1 & C1 & 1.4 & C & 210989.0 & E6 & 0 & 0 & $\\dots$ \\\\\n",
       "\t22 & U1 & S1 & C1 & 1.4 & C & 210989.0 & E4 & 0 & 0 & $\\dots$ \\\\\n",
       "\t23 & U1 & S1 & C1 & 1.4 & C & 210989.0 & E5 & 0 & 0 & $\\dots$ \\\\\n",
       "\t24 & U1 & S1 & C1 & 1.4 & C & 210989.0 & E2 & 0 & 0 & $\\dots$ \\\\\n",
       "\t$\\dots$ & $\\dots$ & $\\dots$ & $\\dots$ & $\\dots$ & $\\dots$ & $\\dots$ & $\\dots$ & $\\dots$ & $\\dots$ &  \\\\\n",
       "\\end{tabular}\n"
      ],
      "text/plain": [
       "\u001b[1m18636×17 DataFrame\u001b[0m\n",
       "\u001b[1m   Row \u001b[0m│\u001b[1m UNITE \u001b[0m\u001b[1m SOUS_UNITE \u001b[0m\u001b[1m CIRCUIT \u001b[0m\u001b[1m NUMERO \u001b[0m\u001b[1m BR  \u001b[0m\u001b[1m HEURES_MAT \u001b[0m\u001b[1m PE  \u001b[0m\u001b[1m AVANT_NET \u001b[0m\u001b[1m \u001b[0m ⋯\n",
       "       │\u001b[90m Any   \u001b[0m\u001b[90m Any        \u001b[0m\u001b[90m Any     \u001b[0m\u001b[90m Any    \u001b[0m\u001b[90m Any \u001b[0m\u001b[90m Any        \u001b[0m\u001b[90m Any \u001b[0m\u001b[90m Any       \u001b[0m\u001b[90m \u001b[0m ⋯\n",
       "───────┼────────────────────────────────────────────────────────────────────────\n",
       "     1 │ U1     S1          C1       1.4     C    128388.0    E2   false       ⋯\n",
       "     2 │ U1     S1          C1       1.4     C    128388.0    E5   false\n",
       "     3 │ U1     S1          C1       1.4     C    128388.0    E7   false\n",
       "     4 │ U1     S1          C1       1.4     C    128388.0    E1   false\n",
       "     5 │ U1     S1          C1       1.4     C    128388.0    E9   false       ⋯\n",
       "     6 │ U1     S1          C1       1.4     C    128388.0    E3   false\n",
       "     7 │ U1     S1          C1       1.4     C    128388.0    E4   false\n",
       "     8 │ U1     S1          C1       1.4     C    128388.0    E6   false\n",
       "   ⋮   │   ⋮        ⋮          ⋮       ⋮      ⋮       ⋮        ⋮       ⋮       ⋱\n",
       " 18630 │ U19    S4          C3       2.8     F    131990.0    E2   false       ⋯\n",
       " 18631 │ U19    S4          C3       2.8     F    131990.0    E3   false\n",
       " 18632 │ U19    S4          C3       2.8     F    131990.0    E4   false\n",
       " 18633 │ U19    S4          C3       2.8     F    131990.0    E5   false\n",
       " 18634 │ U19    S4          C3       2.8     F    131990.0    E6   false       ⋯\n",
       " 18635 │ U19    S4          C3       2.8     F    131990.0    E7   false\n",
       " 18636 │ U19    S4          C3       2.8     F    131990.0    E9   false\n",
       "\u001b[36m                                                9 columns and 18621 rows omitted\u001b[0m"
      ]
     },
     "metadata": {},
     "output_type": "display_data"
    }
   ],
   "source": [
    "df2 = dropmissing(df2, :VALEUR)"
   ]
  },
  {
   "cell_type": "code",
   "execution_count": 14,
   "metadata": {},
   "outputs": [
    {
     "data": {
      "text/html": [
       "<div><div style = \"float: left;\"><span>187×22 DataFrame</span></div><div style = \"float: right;\"><span style = \"font-style: italic;\">162 rows omitted</span></div><div style = \"clear: both;\"></div></div><div class = \"data-frame\" style = \"overflow-x: scroll;\"><table class = \"data-frame\" style = \"margin-bottom: 6px;\"><thead><tr class = \"header\"><th class = \"rowNumber\" style = \"font-weight: bold; text-align: right;\">Row</th><th style = \"text-align: left;\">UNITE</th><th style = \"text-align: left;\">SOUS_UNITE</th><th style = \"text-align: left;\">CIRCUIT</th><th style = \"text-align: left;\">REFERENCE</th><th style = \"text-align: left;\">NUMERO</th><th style = \"text-align: left;\">HEURES_MAT</th><th style = \"text-align: left;\">Plaque à tube - curatif </th><th style = \"text-align: left;\">Plaque à tube - préventif</th><th style = \"text-align: left;\">PE_CURATIF</th><th style = \"text-align: left;\">PE_PREVENTIF</th><th style = \"text-align: left;\">INTERVENANT</th><th style = \"text-align: left;\">ZONE</th><th style = \"text-align: left;\">PROCEDE</th><th style = \"text-align: left;\">BOUE_KG</th><th style = \"text-align: left;\">CUIVRE_KG</th><th style = \"text-align: left;\">EFFICACITE_DECOLMATAGE_ESTIMEE_MIN</th><th style = \"text-align: left;\">EFFICACITE_DECOLMATAGE_ESTIMEE_MAX</th><th style = \"text-align: left;\">ACIERISTE</th><th style = \"text-align: left;\">TUBISTE</th><th style = \"text-align: left;\">CONSTITUTION</th><th style = \"text-align: left;\">INTERET ANALYSE</th><th style = \"text-align: left;\">FAMILLE PROCEDE</th></tr><tr class = \"subheader headerLastRow\"><th class = \"rowNumber\" style = \"font-weight: bold; text-align: right;\"></th><th title = \"Any\" style = \"text-align: left;\">Any</th><th title = \"Any\" style = \"text-align: left;\">Any</th><th title = \"Any\" style = \"text-align: left;\">Any</th><th title = \"Any\" style = \"text-align: left;\">Any</th><th title = \"Any\" style = \"text-align: left;\">Any</th><th title = \"Any\" style = \"text-align: left;\">Any</th><th title = \"Any\" style = \"text-align: left;\">Any</th><th title = \"Any\" style = \"text-align: left;\">Any</th><th title = \"Any\" style = \"text-align: left;\">Any</th><th title = \"Any\" style = \"text-align: left;\">Any</th><th title = \"Any\" style = \"text-align: left;\">Any</th><th title = \"Any\" style = \"text-align: left;\">Any</th><th title = \"Any\" style = \"text-align: left;\">Any</th><th title = \"Any\" style = \"text-align: left;\">Any</th><th title = \"Any\" style = \"text-align: left;\">Any</th><th title = \"Any\" style = \"text-align: left;\">Any</th><th title = \"Any\" style = \"text-align: left;\">Any</th><th title = \"Any\" style = \"text-align: left;\">Any</th><th title = \"Any\" style = \"text-align: left;\">Any</th><th title = \"Any\" style = \"text-align: left;\">Any</th><th title = \"Any\" style = \"text-align: left;\">Any</th><th title = \"Any\" style = \"text-align: left;\">Any</th></tr></thead><tbody><tr><td class = \"rowNumber\" style = \"font-weight: bold; text-align: right;\">1</td><td style = \"text-align: left;\">U14</td><td style = \"text-align: left;\">S1</td><td style = \"text-align: left;\">C1</td><td style = \"text-align: left;\">R12</td><td style = \"text-align: left;\">1.5</td><td style = \"text-align: left;\">12110.0</td><td style = \"text-align: left;\">true</td><td style = \"text-align: left;\">false</td><td style = \"text-align: left;\">true</td><td style = \"text-align: left;\">false</td><td style = \"text-align: left;\">I3</td><td style = \"text-align: left;\">GV Entier</td><td style = \"text-align: left;\">PROC5</td><td style = \"text-align: left;\">1827.0</td><td style = \"text-align: left;\">3.0</td><td style = \"text-align: left;\">#NA</td><td style = \"text-align: left;\">#NA</td><td style = \"text-align: left;\">I</td><td style = \"text-align: left;\">V</td><td style = \"text-align: left;\">CONST2</td><td style = \"text-align: left;\">HORS SCOPE</td><td style = \"text-align: left;\">#NA</td></tr><tr><td class = \"rowNumber\" style = \"font-weight: bold; text-align: right;\">2</td><td style = \"text-align: left;\">U14</td><td style = \"text-align: left;\">S1</td><td style = \"text-align: left;\">C2</td><td style = \"text-align: left;\">R12</td><td style = \"text-align: left;\">1.48</td><td style = \"text-align: left;\">12110.0</td><td style = \"text-align: left;\">true</td><td style = \"text-align: left;\">false</td><td style = \"text-align: left;\">true</td><td style = \"text-align: left;\">false</td><td style = \"text-align: left;\">I3</td><td style = \"text-align: left;\">GV Entier</td><td style = \"text-align: left;\">PROC5</td><td style = \"text-align: left;\">1565.0</td><td style = \"text-align: left;\">6.0</td><td style = \"text-align: left;\">#NA</td><td style = \"text-align: left;\">#NA</td><td style = \"text-align: left;\">H</td><td style = \"text-align: left;\">W</td><td style = \"text-align: left;\">CONST2</td><td style = \"text-align: left;\">HORS SCOPE</td><td style = \"text-align: left;\">#NA</td></tr><tr><td class = \"rowNumber\" style = \"font-weight: bold; text-align: right;\">3</td><td style = \"text-align: left;\">U14</td><td style = \"text-align: left;\">S1</td><td style = \"text-align: left;\">C3</td><td style = \"text-align: left;\">R12</td><td style = \"text-align: left;\">1.47</td><td style = \"text-align: left;\">12110.0</td><td style = \"text-align: left;\">true</td><td style = \"text-align: left;\">false</td><td style = \"text-align: left;\">true</td><td style = \"text-align: left;\">false</td><td style = \"text-align: left;\">I3</td><td style = \"text-align: left;\">GV Entier</td><td style = \"text-align: left;\">PROC5</td><td style = \"text-align: left;\">1882.0</td><td style = \"text-align: left;\">6.0</td><td style = \"text-align: left;\">#NA</td><td style = \"text-align: left;\">#NA</td><td style = \"text-align: left;\">I</td><td style = \"text-align: left;\">V</td><td style = \"text-align: left;\">CONST2</td><td style = \"text-align: left;\">HORS SCOPE</td><td style = \"text-align: left;\">#NA</td></tr><tr><td class = \"rowNumber\" style = \"font-weight: bold; text-align: right;\">4</td><td style = \"text-align: left;\">U14</td><td style = \"text-align: left;\">S1</td><td style = \"text-align: left;\">C4</td><td style = \"text-align: left;\">R12</td><td style = \"text-align: left;\">1.52</td><td style = \"text-align: left;\">12110.0</td><td style = \"text-align: left;\">true</td><td style = \"text-align: left;\">false</td><td style = \"text-align: left;\">true</td><td style = \"text-align: left;\">false</td><td style = \"text-align: left;\">I3</td><td style = \"text-align: left;\">GV Entier</td><td style = \"text-align: left;\">PROC5</td><td style = \"text-align: left;\">1788.0</td><td style = \"text-align: left;\">1.0</td><td style = \"text-align: left;\">#NA</td><td style = \"text-align: left;\">#NA</td><td style = \"text-align: left;\">I</td><td style = \"text-align: left;\">V</td><td style = \"text-align: left;\">CONST2</td><td style = \"text-align: left;\">HORS SCOPE</td><td style = \"text-align: left;\">#NA</td></tr><tr><td class = \"rowNumber\" style = \"font-weight: bold; text-align: right;\">5</td><td style = \"text-align: left;\">U17</td><td style = \"text-align: left;\">S2</td><td style = \"text-align: left;\">C1</td><td style = \"text-align: left;\">R12</td><td style = \"text-align: left;\">1.35</td><td style = \"text-align: left;\">23613.0</td><td style = \"text-align: left;\">true</td><td style = \"text-align: left;\">false</td><td style = \"text-align: left;\">false</td><td style = \"text-align: left;\">false</td><td style = \"text-align: left;\">I3</td><td style = \"text-align: left;\">GV Partiel</td><td style = \"text-align: left;\">PROC5</td><td style = \"text-align: left;\">348.0</td><td style = \"text-align: left;\">1.0</td><td style = \"text-align: left;\">#NA</td><td style = \"text-align: left;\">#NA</td><td style = \"text-align: left;\">I</td><td style = \"text-align: left;\">V</td><td style = \"text-align: left;\">CONST2</td><td style = \"text-align: left;\">HORS SCOPE</td><td style = \"text-align: left;\">#NA</td></tr><tr><td class = \"rowNumber\" style = \"font-weight: bold; text-align: right;\">6</td><td style = \"text-align: left;\">U17</td><td style = \"text-align: left;\">S2</td><td style = \"text-align: left;\">C2</td><td style = \"text-align: left;\">R12</td><td style = \"text-align: left;\">1.34</td><td style = \"text-align: left;\">23613.0</td><td style = \"text-align: left;\">true</td><td style = \"text-align: left;\">false</td><td style = \"text-align: left;\">false</td><td style = \"text-align: left;\">false</td><td style = \"text-align: left;\">I3</td><td style = \"text-align: left;\">GV Partiel</td><td style = \"text-align: left;\">PROC5</td><td style = \"text-align: left;\">334.0</td><td style = \"text-align: left;\">2.0</td><td style = \"text-align: left;\">#NA</td><td style = \"text-align: left;\">#NA</td><td style = \"text-align: left;\">I</td><td style = \"text-align: left;\">V</td><td style = \"text-align: left;\">CONST2</td><td style = \"text-align: left;\">HORS SCOPE</td><td style = \"text-align: left;\">#NA</td></tr><tr><td class = \"rowNumber\" style = \"font-weight: bold; text-align: right;\">7</td><td style = \"text-align: left;\">U17</td><td style = \"text-align: left;\">S2</td><td style = \"text-align: left;\">C3</td><td style = \"text-align: left;\">R12</td><td style = \"text-align: left;\">1.32</td><td style = \"text-align: left;\">23613.0</td><td style = \"text-align: left;\">true</td><td style = \"text-align: left;\">false</td><td style = \"text-align: left;\">false</td><td style = \"text-align: left;\">false</td><td style = \"text-align: left;\">I3</td><td style = \"text-align: left;\">GV Partiel</td><td style = \"text-align: left;\">PROC5</td><td style = \"text-align: left;\">285.0</td><td style = \"text-align: left;\">3.0</td><td style = \"text-align: left;\">#NA</td><td style = \"text-align: left;\">#NA</td><td style = \"text-align: left;\">H</td><td style = \"text-align: left;\">W</td><td style = \"text-align: left;\">CONST2</td><td style = \"text-align: left;\">HORS SCOPE</td><td style = \"text-align: left;\">#NA</td></tr><tr><td class = \"rowNumber\" style = \"font-weight: bold; text-align: right;\">8</td><td style = \"text-align: left;\">U17</td><td style = \"text-align: left;\">S2</td><td style = \"text-align: left;\">C4</td><td style = \"text-align: left;\">R12</td><td style = \"text-align: left;\">1.33</td><td style = \"text-align: left;\">23613.0</td><td style = \"text-align: left;\">true</td><td style = \"text-align: left;\">false</td><td style = \"text-align: left;\">false</td><td style = \"text-align: left;\">false</td><td style = \"text-align: left;\">I3</td><td style = \"text-align: left;\">GV Partiel</td><td style = \"text-align: left;\">PROC5</td><td style = \"text-align: left;\">259.0</td><td style = \"text-align: left;\">2.0</td><td style = \"text-align: left;\">#NA</td><td style = \"text-align: left;\">#NA</td><td style = \"text-align: left;\">S</td><td style = \"text-align: left;\">S</td><td style = \"text-align: left;\">CONST2</td><td style = \"text-align: left;\">HORS SCOPE</td><td style = \"text-align: left;\">#NA</td></tr><tr><td class = \"rowNumber\" style = \"font-weight: bold; text-align: right;\">9</td><td style = \"text-align: left;\">U10</td><td style = \"text-align: left;\">S2</td><td style = \"text-align: left;\">C1</td><td style = \"text-align: left;\">R3</td><td style = \"text-align: left;\">0.04</td><td style = \"text-align: left;\">101049.0</td><td style = \"text-align: left;\">true</td><td style = \"text-align: left;\">false</td><td style = \"text-align: left;\">true</td><td style = \"text-align: left;\">false</td><td style = \"text-align: left;\">I3</td><td style = \"text-align: left;\">GV Entier</td><td style = \"text-align: left;\">PROC5</td><td style = \"text-align: left;\">3028.0</td><td style = \"text-align: left;\">155.0</td><td style = \"text-align: left;\">#NA</td><td style = \"text-align: left;\">#NA</td><td style = \"text-align: left;\">S</td><td style = \"text-align: left;\">S</td><td style = \"text-align: left;\">CONST1</td><td style = \"text-align: left;\">HORS SCOPE</td><td style = \"text-align: left;\">#NA</td></tr><tr><td class = \"rowNumber\" style = \"font-weight: bold; text-align: right;\">10</td><td style = \"text-align: left;\">U10</td><td style = \"text-align: left;\">S2</td><td style = \"text-align: left;\">C2</td><td style = \"text-align: left;\">R3</td><td style = \"text-align: left;\">0.05</td><td style = \"text-align: left;\">101049.0</td><td style = \"text-align: left;\">true</td><td style = \"text-align: left;\">false</td><td style = \"text-align: left;\">true</td><td style = \"text-align: left;\">false</td><td style = \"text-align: left;\">I3</td><td style = \"text-align: left;\">GV Entier</td><td style = \"text-align: left;\">PROC5</td><td style = \"text-align: left;\">3183.0</td><td style = \"text-align: left;\">190.0</td><td style = \"text-align: left;\">#NA</td><td style = \"text-align: left;\">#NA</td><td style = \"text-align: left;\">S</td><td style = \"text-align: left;\">S</td><td style = \"text-align: left;\">CONST1</td><td style = \"text-align: left;\">HORS SCOPE</td><td style = \"text-align: left;\">#NA</td></tr><tr><td class = \"rowNumber\" style = \"font-weight: bold; text-align: right;\">11</td><td style = \"text-align: left;\">U10</td><td style = \"text-align: left;\">S2</td><td style = \"text-align: left;\">C3</td><td style = \"text-align: left;\">R3</td><td style = \"text-align: left;\">0.06</td><td style = \"text-align: left;\">101049.0</td><td style = \"text-align: left;\">true</td><td style = \"text-align: left;\">false</td><td style = \"text-align: left;\">true</td><td style = \"text-align: left;\">false</td><td style = \"text-align: left;\">I3</td><td style = \"text-align: left;\">GV Entier</td><td style = \"text-align: left;\">PROC5</td><td style = \"text-align: left;\">3617.0</td><td style = \"text-align: left;\">135.0</td><td style = \"text-align: left;\">#NA</td><td style = \"text-align: left;\">#NA</td><td style = \"text-align: left;\">S</td><td style = \"text-align: left;\">S</td><td style = \"text-align: left;\">CONST1</td><td style = \"text-align: left;\">HORS SCOPE</td><td style = \"text-align: left;\">#NA</td></tr><tr><td class = \"rowNumber\" style = \"font-weight: bold; text-align: right;\">12</td><td style = \"text-align: left;\">U5</td><td style = \"text-align: left;\">S1</td><td style = \"text-align: left;\">C1</td><td style = \"text-align: left;\">R5</td><td style = \"text-align: left;\">0.67</td><td style = \"text-align: left;\">146920.0</td><td style = \"text-align: left;\">true</td><td style = \"text-align: left;\">false</td><td style = \"text-align: left;\">true</td><td style = \"text-align: left;\">false</td><td style = \"text-align: left;\">I5</td><td style = \"text-align: left;\">GV Entier</td><td style = \"text-align: left;\">PROC7</td><td style = \"text-align: left;\">2294.0</td><td style = \"text-align: left;\">180.0</td><td style = \"text-align: left;\">#NA</td><td style = \"text-align: left;\">#NA</td><td style = \"text-align: left;\">I</td><td style = \"text-align: left;\">V</td><td style = \"text-align: left;\">CONST1</td><td style = \"text-align: left;\">HORS SCOPE</td><td style = \"text-align: left;\">#NA</td></tr><tr><td class = \"rowNumber\" style = \"font-weight: bold; text-align: right;\">13</td><td style = \"text-align: left;\">U5</td><td style = \"text-align: left;\">S1</td><td style = \"text-align: left;\">C2</td><td style = \"text-align: left;\">R5</td><td style = \"text-align: left;\">0.63</td><td style = \"text-align: left;\">146920.0</td><td style = \"text-align: left;\">true</td><td style = \"text-align: left;\">false</td><td style = \"text-align: left;\">true</td><td style = \"text-align: left;\">false</td><td style = \"text-align: left;\">I5</td><td style = \"text-align: left;\">GV Entier</td><td style = \"text-align: left;\">PROC7</td><td style = \"text-align: left;\">2446.0</td><td style = \"text-align: left;\">185.0</td><td style = \"text-align: left;\">#NA</td><td style = \"text-align: left;\">#NA</td><td style = \"text-align: left;\">S</td><td style = \"text-align: left;\">S</td><td style = \"text-align: left;\">CONST1</td><td style = \"text-align: left;\">HORS SCOPE</td><td style = \"text-align: left;\">#NA</td></tr><tr><td style = \"text-align: right;\">&vellip;</td><td style = \"text-align: right;\">&vellip;</td><td style = \"text-align: right;\">&vellip;</td><td style = \"text-align: right;\">&vellip;</td><td style = \"text-align: right;\">&vellip;</td><td style = \"text-align: right;\">&vellip;</td><td style = \"text-align: right;\">&vellip;</td><td style = \"text-align: right;\">&vellip;</td><td style = \"text-align: right;\">&vellip;</td><td style = \"text-align: right;\">&vellip;</td><td style = \"text-align: right;\">&vellip;</td><td style = \"text-align: right;\">&vellip;</td><td style = \"text-align: right;\">&vellip;</td><td style = \"text-align: right;\">&vellip;</td><td style = \"text-align: right;\">&vellip;</td><td style = \"text-align: right;\">&vellip;</td><td style = \"text-align: right;\">&vellip;</td><td style = \"text-align: right;\">&vellip;</td><td style = \"text-align: right;\">&vellip;</td><td style = \"text-align: right;\">&vellip;</td><td style = \"text-align: right;\">&vellip;</td><td style = \"text-align: right;\">&vellip;</td><td style = \"text-align: right;\">&vellip;</td></tr><tr><td class = \"rowNumber\" style = \"font-weight: bold; text-align: right;\">176</td><td style = \"text-align: left;\">U9</td><td style = \"text-align: left;\">S2</td><td style = \"text-align: left;\">C3</td><td style = \"text-align: left;\">R9</td><td style = \"text-align: left;\">2.84</td><td style = \"text-align: left;\">119225.0</td><td style = \"text-align: left;\">false</td><td style = \"text-align: left;\">true</td><td style = \"text-align: left;\">false</td><td style = \"text-align: left;\">true</td><td style = \"text-align: left;\">I6</td><td style = \"text-align: left;\">GV Entier</td><td style = \"text-align: left;\">PROC8</td><td style = \"text-align: left;\">737.0</td><td style = \"text-align: left;\">12.0</td><td style = \"text-align: left;\">#NA</td><td style = \"text-align: left;\">#NA</td><td style = \"text-align: left;\">T</td><td style = \"text-align: left;\">V</td><td style = \"text-align: left;\">CONST3</td><td style = \"text-align: left;\">OK NPGV</td><td style = \"text-align: left;\">FAM1</td></tr><tr><td class = \"rowNumber\" style = \"font-weight: bold; text-align: right;\">177</td><td style = \"text-align: left;\">U4</td><td style = \"text-align: left;\">S4</td><td style = \"text-align: left;\">C1</td><td style = \"text-align: left;\">R12</td><td style = \"text-align: left;\">1.85</td><td style = \"text-align: left;\">229089.0</td><td style = \"text-align: left;\">false</td><td style = \"text-align: left;\">true</td><td style = \"text-align: left;\">false</td><td style = \"text-align: left;\">true</td><td style = \"text-align: left;\">I4</td><td style = \"text-align: left;\">GV Entier</td><td style = \"text-align: left;\">PROC3</td><td style = \"text-align: left;\">315.0</td><td style = \"text-align: left;\">3.0</td><td style = \"text-align: left;\">#NA</td><td style = \"text-align: left;\">#NA</td><td style = \"text-align: left;\">I</td><td style = \"text-align: left;\">V</td><td style = \"text-align: left;\">CONST2</td><td style = \"text-align: left;\">OK NPGV</td><td style = \"text-align: left;\">FAM2</td></tr><tr><td class = \"rowNumber\" style = \"font-weight: bold; text-align: right;\">178</td><td style = \"text-align: left;\">U4</td><td style = \"text-align: left;\">S4</td><td style = \"text-align: left;\">C2</td><td style = \"text-align: left;\">R12</td><td style = \"text-align: left;\">1.84</td><td style = \"text-align: left;\">229089.0</td><td style = \"text-align: left;\">false</td><td style = \"text-align: left;\">true</td><td style = \"text-align: left;\">false</td><td style = \"text-align: left;\">true</td><td style = \"text-align: left;\">I4</td><td style = \"text-align: left;\">GV Entier</td><td style = \"text-align: left;\">PROC3</td><td style = \"text-align: left;\">421.0</td><td style = \"text-align: left;\">5.0</td><td style = \"text-align: left;\">#NA</td><td style = \"text-align: left;\">#NA</td><td style = \"text-align: left;\">I</td><td style = \"text-align: left;\">V</td><td style = \"text-align: left;\">CONST2</td><td style = \"text-align: left;\">OK NPGV</td><td style = \"text-align: left;\">FAM2</td></tr><tr><td class = \"rowNumber\" style = \"font-weight: bold; text-align: right;\">179</td><td style = \"text-align: left;\">U4</td><td style = \"text-align: left;\">S4</td><td style = \"text-align: left;\">C3</td><td style = \"text-align: left;\">R12</td><td style = \"text-align: left;\">1.86</td><td style = \"text-align: left;\">229089.0</td><td style = \"text-align: left;\">false</td><td style = \"text-align: left;\">true</td><td style = \"text-align: left;\">false</td><td style = \"text-align: left;\">true</td><td style = \"text-align: left;\">I4</td><td style = \"text-align: left;\">GV Entier</td><td style = \"text-align: left;\">PROC3</td><td style = \"text-align: left;\">330.0</td><td style = \"text-align: left;\">4.0</td><td style = \"text-align: left;\">#NA</td><td style = \"text-align: left;\">#NA</td><td style = \"text-align: left;\">I</td><td style = \"text-align: left;\">V</td><td style = \"text-align: left;\">CONST2</td><td style = \"text-align: left;\">OK NPGV</td><td style = \"text-align: left;\">FAM2</td></tr><tr><td class = \"rowNumber\" style = \"font-weight: bold; text-align: right;\">180</td><td style = \"text-align: left;\">U4</td><td style = \"text-align: left;\">S4</td><td style = \"text-align: left;\">C4</td><td style = \"text-align: left;\">R12</td><td style = \"text-align: left;\">1.83</td><td style = \"text-align: left;\">229089.0</td><td style = \"text-align: left;\">false</td><td style = \"text-align: left;\">true</td><td style = \"text-align: left;\">false</td><td style = \"text-align: left;\">true</td><td style = \"text-align: left;\">I4</td><td style = \"text-align: left;\">GV Entier</td><td style = \"text-align: left;\">PROC3</td><td style = \"text-align: left;\">321.0</td><td style = \"text-align: left;\">3.0</td><td style = \"text-align: left;\">#NA</td><td style = \"text-align: left;\">#NA</td><td style = \"text-align: left;\">I</td><td style = \"text-align: left;\">V</td><td style = \"text-align: left;\">CONST2</td><td style = \"text-align: left;\">OK NPGV</td><td style = \"text-align: left;\">FAM2</td></tr><tr><td class = \"rowNumber\" style = \"font-weight: bold; text-align: right;\">181</td><td style = \"text-align: left;\">U14</td><td style = \"text-align: left;\">S1</td><td style = \"text-align: left;\">C1</td><td style = \"text-align: left;\">R12</td><td style = \"text-align: left;\">1.5</td><td style = \"text-align: left;\">248176.0</td><td style = \"text-align: left;\">false</td><td style = \"text-align: left;\">true</td><td style = \"text-align: left;\">false</td><td style = \"text-align: left;\">true</td><td style = \"text-align: left;\">I4</td><td style = \"text-align: left;\">GV Entier</td><td style = \"text-align: left;\">PROC3</td><td style = \"text-align: left;\">873.0</td><td style = \"text-align: left;\">6.0</td><td style = \"text-align: left;\">#NA</td><td style = \"text-align: left;\">#NA</td><td style = \"text-align: left;\">I</td><td style = \"text-align: left;\">V</td><td style = \"text-align: left;\">CONST2</td><td style = \"text-align: left;\">OK NPGV</td><td style = \"text-align: left;\">FAM2</td></tr><tr><td class = \"rowNumber\" style = \"font-weight: bold; text-align: right;\">182</td><td style = \"text-align: left;\">U14</td><td style = \"text-align: left;\">S1</td><td style = \"text-align: left;\">C2</td><td style = \"text-align: left;\">R12</td><td style = \"text-align: left;\">1.48</td><td style = \"text-align: left;\">248176.0</td><td style = \"text-align: left;\">false</td><td style = \"text-align: left;\">true</td><td style = \"text-align: left;\">false</td><td style = \"text-align: left;\">true</td><td style = \"text-align: left;\">I4</td><td style = \"text-align: left;\">GV Entier</td><td style = \"text-align: left;\">PROC3</td><td style = \"text-align: left;\">883.0</td><td style = \"text-align: left;\">5.0</td><td style = \"text-align: left;\">#NA</td><td style = \"text-align: left;\">#NA</td><td style = \"text-align: left;\">H</td><td style = \"text-align: left;\">W</td><td style = \"text-align: left;\">CONST2</td><td style = \"text-align: left;\">OK NPGV</td><td style = \"text-align: left;\">FAM2</td></tr><tr><td class = \"rowNumber\" style = \"font-weight: bold; text-align: right;\">183</td><td style = \"text-align: left;\">U14</td><td style = \"text-align: left;\">S1</td><td style = \"text-align: left;\">C3</td><td style = \"text-align: left;\">R12</td><td style = \"text-align: left;\">1.47</td><td style = \"text-align: left;\">248176.0</td><td style = \"text-align: left;\">false</td><td style = \"text-align: left;\">true</td><td style = \"text-align: left;\">false</td><td style = \"text-align: left;\">true</td><td style = \"text-align: left;\">I4</td><td style = \"text-align: left;\">GV Entier</td><td style = \"text-align: left;\">PROC3</td><td style = \"text-align: left;\">880.0</td><td style = \"text-align: left;\">4.0</td><td style = \"text-align: left;\">#NA</td><td style = \"text-align: left;\">#NA</td><td style = \"text-align: left;\">I</td><td style = \"text-align: left;\">V</td><td style = \"text-align: left;\">CONST2</td><td style = \"text-align: left;\">OK NPGV</td><td style = \"text-align: left;\">FAM2</td></tr><tr><td class = \"rowNumber\" style = \"font-weight: bold; text-align: right;\">184</td><td style = \"text-align: left;\">U14</td><td style = \"text-align: left;\">S1</td><td style = \"text-align: left;\">C4</td><td style = \"text-align: left;\">R12</td><td style = \"text-align: left;\">1.52</td><td style = \"text-align: left;\">248176.0</td><td style = \"text-align: left;\">false</td><td style = \"text-align: left;\">true</td><td style = \"text-align: left;\">false</td><td style = \"text-align: left;\">true</td><td style = \"text-align: left;\">I4</td><td style = \"text-align: left;\">GV Entier</td><td style = \"text-align: left;\">PROC3</td><td style = \"text-align: left;\">786.0</td><td style = \"text-align: left;\">4.0</td><td style = \"text-align: left;\">#NA</td><td style = \"text-align: left;\">#NA</td><td style = \"text-align: left;\">I</td><td style = \"text-align: left;\">V</td><td style = \"text-align: left;\">CONST2</td><td style = \"text-align: left;\">OK NPGV</td><td style = \"text-align: left;\">FAM2</td></tr><tr><td class = \"rowNumber\" style = \"font-weight: bold; text-align: right;\">185</td><td style = \"text-align: left;\">U3</td><td style = \"text-align: left;\">S3</td><td style = \"text-align: left;\">C1</td><td style = \"text-align: left;\">R2</td><td style = \"text-align: left;\">3.31</td><td style = \"text-align: left;\">79362.0</td><td style = \"text-align: left;\">false</td><td style = \"text-align: left;\">true</td><td style = \"text-align: left;\">false</td><td style = \"text-align: left;\">true</td><td style = \"text-align: left;\">I6</td><td style = \"text-align: left;\">GV Entier</td><td style = \"text-align: left;\">PROC8</td><td style = \"text-align: left;\">580.0</td><td style = \"text-align: left;\">4.0</td><td style = \"text-align: left;\">#NA</td><td style = \"text-align: left;\">#NA</td><td style = \"text-align: left;\">T</td><td style = \"text-align: left;\">V</td><td style = \"text-align: left;\">CONST3</td><td style = \"text-align: left;\">OK NPGV</td><td style = \"text-align: left;\">FAM1</td></tr><tr><td class = \"rowNumber\" style = \"font-weight: bold; text-align: right;\">186</td><td style = \"text-align: left;\">U3</td><td style = \"text-align: left;\">S3</td><td style = \"text-align: left;\">C2</td><td style = \"text-align: left;\">R2</td><td style = \"text-align: left;\">3.3</td><td style = \"text-align: left;\">79362.0</td><td style = \"text-align: left;\">false</td><td style = \"text-align: left;\">true</td><td style = \"text-align: left;\">false</td><td style = \"text-align: left;\">true</td><td style = \"text-align: left;\">I6</td><td style = \"text-align: left;\">GV Entier</td><td style = \"text-align: left;\">PROC8</td><td style = \"text-align: left;\">544.0</td><td style = \"text-align: left;\">4.0</td><td style = \"text-align: left;\">#NA</td><td style = \"text-align: left;\">#NA</td><td style = \"text-align: left;\">T</td><td style = \"text-align: left;\">V</td><td style = \"text-align: left;\">CONST3</td><td style = \"text-align: left;\">OK NPGV</td><td style = \"text-align: left;\">FAM1</td></tr><tr><td class = \"rowNumber\" style = \"font-weight: bold; text-align: right;\">187</td><td style = \"text-align: left;\">U3</td><td style = \"text-align: left;\">S3</td><td style = \"text-align: left;\">C3</td><td style = \"text-align: left;\">R2</td><td style = \"text-align: left;\">3.32</td><td style = \"text-align: left;\">79362.0</td><td style = \"text-align: left;\">false</td><td style = \"text-align: left;\">true</td><td style = \"text-align: left;\">false</td><td style = \"text-align: left;\">true</td><td style = \"text-align: left;\">I6</td><td style = \"text-align: left;\">GV Entier</td><td style = \"text-align: left;\">PROC8</td><td style = \"text-align: left;\">509.0</td><td style = \"text-align: left;\">4.0</td><td style = \"text-align: left;\">#NA</td><td style = \"text-align: left;\">#NA</td><td style = \"text-align: left;\">T</td><td style = \"text-align: left;\">V</td><td style = \"text-align: left;\">CONST3</td><td style = \"text-align: left;\">OK NPGV</td><td style = \"text-align: left;\">FAM1</td></tr></tbody></table></div>"
      ],
      "text/latex": [
       "\\begin{tabular}{r|cccccccc}\n",
       "\t& UNITE & SOUS\\_UNITE & CIRCUIT & REFERENCE & NUMERO & HEURES\\_MAT & Plaque à tube - curatif  & \\\\\n",
       "\t\\hline\n",
       "\t& Any & Any & Any & Any & Any & Any & Any & \\\\\n",
       "\t\\hline\n",
       "\t1 & U14 & S1 & C1 & R12 & 1.5 & 12110.0 & 1 & $\\dots$ \\\\\n",
       "\t2 & U14 & S1 & C2 & R12 & 1.48 & 12110.0 & 1 & $\\dots$ \\\\\n",
       "\t3 & U14 & S1 & C3 & R12 & 1.47 & 12110.0 & 1 & $\\dots$ \\\\\n",
       "\t4 & U14 & S1 & C4 & R12 & 1.52 & 12110.0 & 1 & $\\dots$ \\\\\n",
       "\t5 & U17 & S2 & C1 & R12 & 1.35 & 23613.0 & 1 & $\\dots$ \\\\\n",
       "\t6 & U17 & S2 & C2 & R12 & 1.34 & 23613.0 & 1 & $\\dots$ \\\\\n",
       "\t7 & U17 & S2 & C3 & R12 & 1.32 & 23613.0 & 1 & $\\dots$ \\\\\n",
       "\t8 & U17 & S2 & C4 & R12 & 1.33 & 23613.0 & 1 & $\\dots$ \\\\\n",
       "\t9 & U10 & S2 & C1 & R3 & 0.04 & 101049.0 & 1 & $\\dots$ \\\\\n",
       "\t10 & U10 & S2 & C2 & R3 & 0.05 & 101049.0 & 1 & $\\dots$ \\\\\n",
       "\t11 & U10 & S2 & C3 & R3 & 0.06 & 101049.0 & 1 & $\\dots$ \\\\\n",
       "\t12 & U5 & S1 & C1 & R5 & 0.67 & 146920.0 & 1 & $\\dots$ \\\\\n",
       "\t13 & U5 & S1 & C2 & R5 & 0.63 & 146920.0 & 1 & $\\dots$ \\\\\n",
       "\t14 & U5 & S1 & C3 & R5 & 0.72 & 146920.0 & 1 & $\\dots$ \\\\\n",
       "\t15 & U17 & S1 & C1 & R12 & 1.23 & 148791.0 & 1 & $\\dots$ \\\\\n",
       "\t16 & U17 & S1 & C2 & R12 & 1.19 & 148791.0 & 1 & $\\dots$ \\\\\n",
       "\t17 & U17 & S1 & C3 & R12 & 0.94 & 148791.0 & 1 & $\\dots$ \\\\\n",
       "\t18 & U17 & S1 & C4 & R12 & 0.93 & 148791.0 & 1 & $\\dots$ \\\\\n",
       "\t19 & U5 & S2 & C1 & R4 & 0.74 & 172662.0 & 1 & $\\dots$ \\\\\n",
       "\t20 & U5 & S2 & C2 & R4 & 0.73 & 172662.0 & 1 & $\\dots$ \\\\\n",
       "\t21 & U5 & S2 & C3 & R4 & 0.76 & 172662.0 & 1 & $\\dots$ \\\\\n",
       "\t22 & U8 & S1 & C1 & R4 & 1.02 & 173736.0 & 1 & $\\dots$ \\\\\n",
       "\t23 & U8 & S1 & C2 & R4 & 1.01 & 173736.0 & 1 & $\\dots$ \\\\\n",
       "\t24 & U8 & S1 & C3 & R4 & 1.03 & 173736.0 & 1 & $\\dots$ \\\\\n",
       "\t$\\dots$ & $\\dots$ & $\\dots$ & $\\dots$ & $\\dots$ & $\\dots$ & $\\dots$ & $\\dots$ &  \\\\\n",
       "\\end{tabular}\n"
      ],
      "text/plain": [
       "\u001b[1m187×22 DataFrame\u001b[0m\n",
       "\u001b[1m Row \u001b[0m│\u001b[1m UNITE \u001b[0m\u001b[1m SOUS_UNITE \u001b[0m\u001b[1m CIRCUIT \u001b[0m\u001b[1m REFERENCE \u001b[0m\u001b[1m NUMERO \u001b[0m\u001b[1m HEURES_MAT \u001b[0m\u001b[1m Plaque à tub\u001b[0m ⋯\n",
       "     │\u001b[90m Any   \u001b[0m\u001b[90m Any        \u001b[0m\u001b[90m Any     \u001b[0m\u001b[90m Any       \u001b[0m\u001b[90m Any    \u001b[0m\u001b[90m Any        \u001b[0m\u001b[90m Any         \u001b[0m ⋯\n",
       "─────┼──────────────────────────────────────────────────────────────────────────\n",
       "   1 │ U14    S1          C1       R12        1.5     12110.0     true         ⋯\n",
       "   2 │ U14    S1          C2       R12        1.48    12110.0     true\n",
       "   3 │ U14    S1          C3       R12        1.47    12110.0     true\n",
       "   4 │ U14    S1          C4       R12        1.52    12110.0     true\n",
       "   5 │ U17    S2          C1       R12        1.35    23613.0     true         ⋯\n",
       "   6 │ U17    S2          C2       R12        1.34    23613.0     true\n",
       "   7 │ U17    S2          C3       R12        1.32    23613.0     true\n",
       "   8 │ U17    S2          C4       R12        1.33    23613.0     true\n",
       "  ⋮  │   ⋮        ⋮          ⋮         ⋮        ⋮         ⋮                  ⋮ ⋱\n",
       " 181 │ U14    S1          C1       R12        1.5     248176.0    false        ⋯\n",
       " 182 │ U14    S1          C2       R12        1.48    248176.0    false\n",
       " 183 │ U14    S1          C3       R12        1.47    248176.0    false\n",
       " 184 │ U14    S1          C4       R12        1.52    248176.0    false\n",
       " 185 │ U3     S3          C1       R2         3.31    79362.0     false        ⋯\n",
       " 186 │ U3     S3          C2       R2         3.3     79362.0     false\n",
       " 187 │ U3     S3          C3       R2         3.32    79362.0     false\n",
       "\u001b[36m                                                 16 columns and 172 rows omitted\u001b[0m"
      ]
     },
     "metadata": {},
     "output_type": "display_data"
    }
   ],
   "source": [
    "nettoyages = readxlsheet(string(chemin_données, \"Données_EDF_240611/Nettoyages/NETTOYAGES.xls\"), \"NETTOYAGES\")\n",
    "df_nettoyages = MatrixToDataFrame(nettoyages)"
   ]
  },
  {
   "cell_type": "code",
   "execution_count": 15,
   "metadata": {},
   "outputs": [
    {
     "data": {
      "text/html": [
       "<div><div style = \"float: left;\"><span>6339×10 DataFrame</span></div><div style = \"float: right;\"><span style = \"font-style: italic;\">6314 rows omitted</span></div><div style = \"clear: both;\"></div></div><div class = \"data-frame\" style = \"overflow-x: scroll;\"><table class = \"data-frame\" style = \"margin-bottom: 6px;\"><thead><tr class = \"header\"><th class = \"rowNumber\" style = \"font-weight: bold; text-align: right;\">Row</th><th style = \"text-align: left;\">UNITE</th><th style = \"text-align: left;\">SOUS_UNITE</th><th style = \"text-align: left;\">CIRCUIT</th><th style = \"text-align: left;\">NUMERO</th><th style = \"text-align: left;\">REFERENCE</th><th style = \"text-align: left;\">ACIERISTE</th><th style = \"text-align: left;\">TUBISTE</th><th style = \"text-align: left;\">CONSTITUTION</th><th style = \"text-align: left;\">HEURES_MAT</th><th style = \"text-align: left;\">D&apos;ORIGINE ou REMPLACEMENT ?</th></tr><tr class = \"subheader headerLastRow\"><th class = \"rowNumber\" style = \"font-weight: bold; text-align: right;\"></th><th title = \"Any\" style = \"text-align: left;\">Any</th><th title = \"Any\" style = \"text-align: left;\">Any</th><th title = \"Any\" style = \"text-align: left;\">Any</th><th title = \"Any\" style = \"text-align: left;\">Any</th><th title = \"Any\" style = \"text-align: left;\">Any</th><th title = \"Any\" style = \"text-align: left;\">Any</th><th title = \"Any\" style = \"text-align: left;\">Any</th><th title = \"Any\" style = \"text-align: left;\">Any</th><th title = \"Any\" style = \"text-align: left;\">Any</th><th title = \"Any\" style = \"text-align: left;\">Any</th></tr></thead><tbody><tr><td class = \"rowNumber\" style = \"font-weight: bold; text-align: right;\">1</td><td style = \"text-align: left;\">U1</td><td style = \"text-align: left;\">S1</td><td style = \"text-align: left;\">C1</td><td style = \"text-align: left;\">1.4</td><td style = \"text-align: left;\">R12</td><td style = \"text-align: left;\">H</td><td style = \"text-align: left;\">W</td><td style = \"text-align: left;\">CONST2</td><td style = \"text-align: left;\">0.0</td><td style = \"text-align: left;\">ORIGINE</td></tr><tr><td class = \"rowNumber\" style = \"font-weight: bold; text-align: right;\">2</td><td style = \"text-align: left;\">U1</td><td style = \"text-align: left;\">S1</td><td style = \"text-align: left;\">C1</td><td style = \"text-align: left;\">1.4</td><td style = \"text-align: left;\">R12</td><td style = \"text-align: left;\">H</td><td style = \"text-align: left;\">W</td><td style = \"text-align: left;\">CONST2</td><td style = \"text-align: left;\">12224.0</td><td style = \"text-align: left;\">ORIGINE</td></tr><tr><td class = \"rowNumber\" style = \"font-weight: bold; text-align: right;\">3</td><td style = \"text-align: left;\">U1</td><td style = \"text-align: left;\">S1</td><td style = \"text-align: left;\">C1</td><td style = \"text-align: left;\">1.4</td><td style = \"text-align: left;\">R12</td><td style = \"text-align: left;\">H</td><td style = \"text-align: left;\">W</td><td style = \"text-align: left;\">CONST2</td><td style = \"text-align: left;\">19844.0</td><td style = \"text-align: left;\">ORIGINE</td></tr><tr><td class = \"rowNumber\" style = \"font-weight: bold; text-align: right;\">4</td><td style = \"text-align: left;\">U1</td><td style = \"text-align: left;\">S1</td><td style = \"text-align: left;\">C1</td><td style = \"text-align: left;\">1.4</td><td style = \"text-align: left;\">R12</td><td style = \"text-align: left;\">H</td><td style = \"text-align: left;\">W</td><td style = \"text-align: left;\">CONST2</td><td style = \"text-align: left;\">27585.0</td><td style = \"text-align: left;\">ORIGINE</td></tr><tr><td class = \"rowNumber\" style = \"font-weight: bold; text-align: right;\">5</td><td style = \"text-align: left;\">U1</td><td style = \"text-align: left;\">S1</td><td style = \"text-align: left;\">C1</td><td style = \"text-align: left;\">1.4</td><td style = \"text-align: left;\">R12</td><td style = \"text-align: left;\">H</td><td style = \"text-align: left;\">W</td><td style = \"text-align: left;\">CONST2</td><td style = \"text-align: left;\">37660.0</td><td style = \"text-align: left;\">ORIGINE</td></tr><tr><td class = \"rowNumber\" style = \"font-weight: bold; text-align: right;\">6</td><td style = \"text-align: left;\">U1</td><td style = \"text-align: left;\">S1</td><td style = \"text-align: left;\">C1</td><td style = \"text-align: left;\">1.4</td><td style = \"text-align: left;\">R12</td><td style = \"text-align: left;\">H</td><td style = \"text-align: left;\">W</td><td style = \"text-align: left;\">CONST2</td><td style = \"text-align: left;\">45787.0</td><td style = \"text-align: left;\">ORIGINE</td></tr><tr><td class = \"rowNumber\" style = \"font-weight: bold; text-align: right;\">7</td><td style = \"text-align: left;\">U1</td><td style = \"text-align: left;\">S1</td><td style = \"text-align: left;\">C1</td><td style = \"text-align: left;\">1.4</td><td style = \"text-align: left;\">R12</td><td style = \"text-align: left;\">H</td><td style = \"text-align: left;\">W</td><td style = \"text-align: left;\">CONST2</td><td style = \"text-align: left;\">54790.0</td><td style = \"text-align: left;\">ORIGINE</td></tr><tr><td class = \"rowNumber\" style = \"font-weight: bold; text-align: right;\">8</td><td style = \"text-align: left;\">U1</td><td style = \"text-align: left;\">S1</td><td style = \"text-align: left;\">C1</td><td style = \"text-align: left;\">1.4</td><td style = \"text-align: left;\">R12</td><td style = \"text-align: left;\">H</td><td style = \"text-align: left;\">W</td><td style = \"text-align: left;\">CONST2</td><td style = \"text-align: left;\">62897.0</td><td style = \"text-align: left;\">ORIGINE</td></tr><tr><td class = \"rowNumber\" style = \"font-weight: bold; text-align: right;\">9</td><td style = \"text-align: left;\">U1</td><td style = \"text-align: left;\">S1</td><td style = \"text-align: left;\">C1</td><td style = \"text-align: left;\">1.4</td><td style = \"text-align: left;\">R12</td><td style = \"text-align: left;\">H</td><td style = \"text-align: left;\">W</td><td style = \"text-align: left;\">CONST2</td><td style = \"text-align: left;\">74223.0</td><td style = \"text-align: left;\">ORIGINE</td></tr><tr><td class = \"rowNumber\" style = \"font-weight: bold; text-align: right;\">10</td><td style = \"text-align: left;\">U1</td><td style = \"text-align: left;\">S1</td><td style = \"text-align: left;\">C1</td><td style = \"text-align: left;\">1.4</td><td style = \"text-align: left;\">R12</td><td style = \"text-align: left;\">H</td><td style = \"text-align: left;\">W</td><td style = \"text-align: left;\">CONST2</td><td style = \"text-align: left;\">84306.0</td><td style = \"text-align: left;\">ORIGINE</td></tr><tr><td class = \"rowNumber\" style = \"font-weight: bold; text-align: right;\">11</td><td style = \"text-align: left;\">U1</td><td style = \"text-align: left;\">S1</td><td style = \"text-align: left;\">C1</td><td style = \"text-align: left;\">1.4</td><td style = \"text-align: left;\">R12</td><td style = \"text-align: left;\">H</td><td style = \"text-align: left;\">W</td><td style = \"text-align: left;\">CONST2</td><td style = \"text-align: left;\">94542.0</td><td style = \"text-align: left;\">ORIGINE</td></tr><tr><td class = \"rowNumber\" style = \"font-weight: bold; text-align: right;\">12</td><td style = \"text-align: left;\">U1</td><td style = \"text-align: left;\">S1</td><td style = \"text-align: left;\">C1</td><td style = \"text-align: left;\">1.4</td><td style = \"text-align: left;\">R12</td><td style = \"text-align: left;\">H</td><td style = \"text-align: left;\">W</td><td style = \"text-align: left;\">CONST2</td><td style = \"text-align: left;\">106694.0</td><td style = \"text-align: left;\">ORIGINE</td></tr><tr><td class = \"rowNumber\" style = \"font-weight: bold; text-align: right;\">13</td><td style = \"text-align: left;\">U1</td><td style = \"text-align: left;\">S1</td><td style = \"text-align: left;\">C1</td><td style = \"text-align: left;\">1.4</td><td style = \"text-align: left;\">R12</td><td style = \"text-align: left;\">H</td><td style = \"text-align: left;\">W</td><td style = \"text-align: left;\">CONST2</td><td style = \"text-align: left;\">116359.0</td><td style = \"text-align: left;\">ORIGINE</td></tr><tr><td style = \"text-align: right;\">&vellip;</td><td style = \"text-align: right;\">&vellip;</td><td style = \"text-align: right;\">&vellip;</td><td style = \"text-align: right;\">&vellip;</td><td style = \"text-align: right;\">&vellip;</td><td style = \"text-align: right;\">&vellip;</td><td style = \"text-align: right;\">&vellip;</td><td style = \"text-align: right;\">&vellip;</td><td style = \"text-align: right;\">&vellip;</td><td style = \"text-align: right;\">&vellip;</td><td style = \"text-align: right;\">&vellip;</td></tr><tr><td class = \"rowNumber\" style = \"font-weight: bold; text-align: right;\">6328</td><td style = \"text-align: left;\">U19</td><td style = \"text-align: left;\">S4</td><td style = \"text-align: left;\">C3</td><td style = \"text-align: left;\">2.8</td><td style = \"text-align: left;\">R9</td><td style = \"text-align: left;\">T</td><td style = \"text-align: left;\">V</td><td style = \"text-align: left;\">CONST3</td><td style = \"text-align: left;\">46377.0</td><td style = \"text-align: left;\">Remplacement</td></tr><tr><td class = \"rowNumber\" style = \"font-weight: bold; text-align: right;\">6329</td><td style = \"text-align: left;\">U19</td><td style = \"text-align: left;\">S4</td><td style = \"text-align: left;\">C3</td><td style = \"text-align: left;\">2.8</td><td style = \"text-align: left;\">R9</td><td style = \"text-align: left;\">T</td><td style = \"text-align: left;\">V</td><td style = \"text-align: left;\">CONST3</td><td style = \"text-align: left;\">54106.0</td><td style = \"text-align: left;\">Remplacement</td></tr><tr><td class = \"rowNumber\" style = \"font-weight: bold; text-align: right;\">6330</td><td style = \"text-align: left;\">U19</td><td style = \"text-align: left;\">S4</td><td style = \"text-align: left;\">C3</td><td style = \"text-align: left;\">2.8</td><td style = \"text-align: left;\">R9</td><td style = \"text-align: left;\">T</td><td style = \"text-align: left;\">V</td><td style = \"text-align: left;\">CONST3</td><td style = \"text-align: left;\">62332.0</td><td style = \"text-align: left;\">Remplacement</td></tr><tr><td class = \"rowNumber\" style = \"font-weight: bold; text-align: right;\">6331</td><td style = \"text-align: left;\">U19</td><td style = \"text-align: left;\">S4</td><td style = \"text-align: left;\">C3</td><td style = \"text-align: left;\">2.8</td><td style = \"text-align: left;\">R9</td><td style = \"text-align: left;\">T</td><td style = \"text-align: left;\">V</td><td style = \"text-align: left;\">CONST3</td><td style = \"text-align: left;\">70021.0</td><td style = \"text-align: left;\">Remplacement</td></tr><tr><td class = \"rowNumber\" style = \"font-weight: bold; text-align: right;\">6332</td><td style = \"text-align: left;\">U19</td><td style = \"text-align: left;\">S4</td><td style = \"text-align: left;\">C3</td><td style = \"text-align: left;\">2.8</td><td style = \"text-align: left;\">R9</td><td style = \"text-align: left;\">T</td><td style = \"text-align: left;\">V</td><td style = \"text-align: left;\">CONST3</td><td style = \"text-align: left;\">76742.0</td><td style = \"text-align: left;\">Remplacement</td></tr><tr><td class = \"rowNumber\" style = \"font-weight: bold; text-align: right;\">6333</td><td style = \"text-align: left;\">U19</td><td style = \"text-align: left;\">S4</td><td style = \"text-align: left;\">C3</td><td style = \"text-align: left;\">2.8</td><td style = \"text-align: left;\">R9</td><td style = \"text-align: left;\">T</td><td style = \"text-align: left;\">V</td><td style = \"text-align: left;\">CONST3</td><td style = \"text-align: left;\">83331.0</td><td style = \"text-align: left;\">Remplacement</td></tr><tr><td class = \"rowNumber\" style = \"font-weight: bold; text-align: right;\">6334</td><td style = \"text-align: left;\">U19</td><td style = \"text-align: left;\">S4</td><td style = \"text-align: left;\">C3</td><td style = \"text-align: left;\">2.8</td><td style = \"text-align: left;\">R9</td><td style = \"text-align: left;\">T</td><td style = \"text-align: left;\">V</td><td style = \"text-align: left;\">CONST3</td><td style = \"text-align: left;\">91171.0</td><td style = \"text-align: left;\">Remplacement</td></tr><tr><td class = \"rowNumber\" style = \"font-weight: bold; text-align: right;\">6335</td><td style = \"text-align: left;\">U19</td><td style = \"text-align: left;\">S4</td><td style = \"text-align: left;\">C3</td><td style = \"text-align: left;\">2.8</td><td style = \"text-align: left;\">R9</td><td style = \"text-align: left;\">T</td><td style = \"text-align: left;\">V</td><td style = \"text-align: left;\">CONST3</td><td style = \"text-align: left;\">99312.0</td><td style = \"text-align: left;\">Remplacement</td></tr><tr><td class = \"rowNumber\" style = \"font-weight: bold; text-align: right;\">6336</td><td style = \"text-align: left;\">U19</td><td style = \"text-align: left;\">S4</td><td style = \"text-align: left;\">C3</td><td style = \"text-align: left;\">2.8</td><td style = \"text-align: left;\">R9</td><td style = \"text-align: left;\">T</td><td style = \"text-align: left;\">V</td><td style = \"text-align: left;\">CONST3</td><td style = \"text-align: left;\">107059.0</td><td style = \"text-align: left;\">Remplacement</td></tr><tr><td class = \"rowNumber\" style = \"font-weight: bold; text-align: right;\">6337</td><td style = \"text-align: left;\">U19</td><td style = \"text-align: left;\">S4</td><td style = \"text-align: left;\">C3</td><td style = \"text-align: left;\">2.8</td><td style = \"text-align: left;\">R9</td><td style = \"text-align: left;\">T</td><td style = \"text-align: left;\">V</td><td style = \"text-align: left;\">CONST3</td><td style = \"text-align: left;\">116446.0</td><td style = \"text-align: left;\">Remplacement</td></tr><tr><td class = \"rowNumber\" style = \"font-weight: bold; text-align: right;\">6338</td><td style = \"text-align: left;\">U19</td><td style = \"text-align: left;\">S4</td><td style = \"text-align: left;\">C3</td><td style = \"text-align: left;\">2.8</td><td style = \"text-align: left;\">R9</td><td style = \"text-align: left;\">T</td><td style = \"text-align: left;\">V</td><td style = \"text-align: left;\">CONST3</td><td style = \"text-align: left;\">123290.0</td><td style = \"text-align: left;\">Remplacement</td></tr><tr><td class = \"rowNumber\" style = \"font-weight: bold; text-align: right;\">6339</td><td style = \"text-align: left;\">U19</td><td style = \"text-align: left;\">S4</td><td style = \"text-align: left;\">C3</td><td style = \"text-align: left;\">2.8</td><td style = \"text-align: left;\">R9</td><td style = \"text-align: left;\">T</td><td style = \"text-align: left;\">V</td><td style = \"text-align: left;\">CONST3</td><td style = \"text-align: left;\">131990.0</td><td style = \"text-align: left;\">Remplacement</td></tr></tbody></table></div>"
      ],
      "text/latex": [
       "\\begin{tabular}{r|ccccccccc}\n",
       "\t& UNITE & SOUS\\_UNITE & CIRCUIT & NUMERO & REFERENCE & ACIERISTE & TUBISTE & CONSTITUTION & \\\\\n",
       "\t\\hline\n",
       "\t& Any & Any & Any & Any & Any & Any & Any & Any & \\\\\n",
       "\t\\hline\n",
       "\t1 & U1 & S1 & C1 & 1.4 & R12 & H & W & CONST2 & $\\dots$ \\\\\n",
       "\t2 & U1 & S1 & C1 & 1.4 & R12 & H & W & CONST2 & $\\dots$ \\\\\n",
       "\t3 & U1 & S1 & C1 & 1.4 & R12 & H & W & CONST2 & $\\dots$ \\\\\n",
       "\t4 & U1 & S1 & C1 & 1.4 & R12 & H & W & CONST2 & $\\dots$ \\\\\n",
       "\t5 & U1 & S1 & C1 & 1.4 & R12 & H & W & CONST2 & $\\dots$ \\\\\n",
       "\t6 & U1 & S1 & C1 & 1.4 & R12 & H & W & CONST2 & $\\dots$ \\\\\n",
       "\t7 & U1 & S1 & C1 & 1.4 & R12 & H & W & CONST2 & $\\dots$ \\\\\n",
       "\t8 & U1 & S1 & C1 & 1.4 & R12 & H & W & CONST2 & $\\dots$ \\\\\n",
       "\t9 & U1 & S1 & C1 & 1.4 & R12 & H & W & CONST2 & $\\dots$ \\\\\n",
       "\t10 & U1 & S1 & C1 & 1.4 & R12 & H & W & CONST2 & $\\dots$ \\\\\n",
       "\t11 & U1 & S1 & C1 & 1.4 & R12 & H & W & CONST2 & $\\dots$ \\\\\n",
       "\t12 & U1 & S1 & C1 & 1.4 & R12 & H & W & CONST2 & $\\dots$ \\\\\n",
       "\t13 & U1 & S1 & C1 & 1.4 & R12 & H & W & CONST2 & $\\dots$ \\\\\n",
       "\t14 & U1 & S1 & C1 & 1.4 & R12 & H & W & CONST2 & $\\dots$ \\\\\n",
       "\t15 & U1 & S1 & C1 & 1.4 & R12 & H & W & CONST2 & $\\dots$ \\\\\n",
       "\t16 & U1 & S1 & C1 & 1.4 & R12 & H & W & CONST2 & $\\dots$ \\\\\n",
       "\t17 & U1 & S1 & C1 & 1.4 & R12 & H & W & CONST2 & $\\dots$ \\\\\n",
       "\t18 & U1 & S1 & C1 & 1.4 & R12 & H & W & CONST2 & $\\dots$ \\\\\n",
       "\t19 & U1 & S1 & C1 & 1.4 & R12 & H & W & CONST2 & $\\dots$ \\\\\n",
       "\t20 & U1 & S1 & C1 & 1.4 & R12 & H & W & CONST2 & $\\dots$ \\\\\n",
       "\t21 & U1 & S1 & C1 & 1.4 & R12 & H & W & CONST2 & $\\dots$ \\\\\n",
       "\t22 & U1 & S1 & C1 & 1.4 & R12 & H & W & CONST2 & $\\dots$ \\\\\n",
       "\t23 & U1 & S1 & C1 & 1.4 & R12 & H & W & CONST2 & $\\dots$ \\\\\n",
       "\t24 & U1 & S1 & C1 & 1.4 & R12 & H & W & CONST2 & $\\dots$ \\\\\n",
       "\t$\\dots$ & $\\dots$ & $\\dots$ & $\\dots$ & $\\dots$ & $\\dots$ & $\\dots$ & $\\dots$ & $\\dots$ &  \\\\\n",
       "\\end{tabular}\n"
      ],
      "text/plain": [
       "\u001b[1m6339×10 DataFrame\u001b[0m\n",
       "\u001b[1m  Row \u001b[0m│\u001b[1m UNITE \u001b[0m\u001b[1m SOUS_UNITE \u001b[0m\u001b[1m CIRCUIT \u001b[0m\u001b[1m NUMERO \u001b[0m\u001b[1m REFERENCE \u001b[0m\u001b[1m ACIERISTE \u001b[0m\u001b[1m TUBISTE \u001b[0m\u001b[1m CON\u001b[0m ⋯\n",
       "      │\u001b[90m Any   \u001b[0m\u001b[90m Any        \u001b[0m\u001b[90m Any     \u001b[0m\u001b[90m Any    \u001b[0m\u001b[90m Any       \u001b[0m\u001b[90m Any       \u001b[0m\u001b[90m Any     \u001b[0m\u001b[90m Any\u001b[0m ⋯\n",
       "──────┼─────────────────────────────────────────────────────────────────────────\n",
       "    1 │ U1     S1          C1       1.4     R12        H          W        CON ⋯\n",
       "    2 │ U1     S1          C1       1.4     R12        H          W        CON\n",
       "    3 │ U1     S1          C1       1.4     R12        H          W        CON\n",
       "    4 │ U1     S1          C1       1.4     R12        H          W        CON\n",
       "    5 │ U1     S1          C1       1.4     R12        H          W        CON ⋯\n",
       "    6 │ U1     S1          C1       1.4     R12        H          W        CON\n",
       "    7 │ U1     S1          C1       1.4     R12        H          W        CON\n",
       "    8 │ U1     S1          C1       1.4     R12        H          W        CON\n",
       "  ⋮   │   ⋮        ⋮          ⋮       ⋮         ⋮          ⋮         ⋮         ⋱\n",
       " 6333 │ U19    S4          C3       2.8     R9         T          V        CON ⋯\n",
       " 6334 │ U19    S4          C3       2.8     R9         T          V        CON\n",
       " 6335 │ U19    S4          C3       2.8     R9         T          V        CON\n",
       " 6336 │ U19    S4          C3       2.8     R9         T          V        CON\n",
       " 6337 │ U19    S4          C3       2.8     R9         T          V        CON ⋯\n",
       " 6338 │ U19    S4          C3       2.8     R9         T          V        CON\n",
       " 6339 │ U19    S4          C3       2.8     R9         T          V        CON\n",
       "\u001b[36m                                                 3 columns and 6324 rows omitted\u001b[0m"
      ]
     },
     "metadata": {},
     "output_type": "display_data"
    }
   ],
   "source": [
    "df_Infos_gen = readxlsheet(string(chemin_données, \"Données_EDF_240611/Informations générales 9-7/HEURES.xls\"), \"HEURES\")\n",
    "df_Infos_gen = MatrixToDataFrame(df_Infos_gen)"
   ]
  },
  {
   "cell_type": "code",
   "execution_count": 16,
   "metadata": {},
   "outputs": [
    {
     "data": {
      "text/plain": [
       "IND_COL_3_and_EncMatToDataFrame (generic function with 1 method)"
      ]
     },
     "metadata": {},
     "output_type": "display_data"
    }
   ],
   "source": [
    "function IND_COL_3_and_EncMatToDataFrame(mat, circuit::String)\n",
    "    # Extraire les noms des colonnes\n",
    "    column_names = [mat[1,1],\"$(mat[2,3])_ENC\", \"$(mat[2,4])_ENC\", \"$(mat[2,5])_ENC\", \"$(mat[2,6])_ENC\", \"$(mat[2,15])_IND_COL_3\", \"$(mat[2,16])_IND_COL_3\", \"$(mat[2,17])_IND_COL_3\", \"$(mat[2,18])_IND_COL_3\"]\n",
    "\n",
    "    # Créer un DataFrame à partir des données extraites\n",
    "    df_enc = DataFrame()\n",
    "    df_ind_col_3 = DataFrame()\n",
    "\n",
    "    # Ajouter les données au DataFrame\n",
    "    df_enc[!, column_names[1]] = mat[3:end,1]\n",
    "\n",
    "    if circuit == \"C1\"\n",
    "        df_enc[!, column_names[2]] = mat[3:end,3]\n",
    "    elseif circuit == \"C2\"\n",
    "        df_enc[!, column_names[3]] = mat[3:end,4]\n",
    "    elseif circuit == \"C3\"\n",
    "        df_enc[!, column_names[4]] = mat[3:end,5]\n",
    "    else\n",
    "        df_enc[!, column_names[5]] = mat[3:end,6]\n",
    "    end\n",
    "    \n",
    "    df_ind_col_3[!, column_names[1]] = mat[3:end,1]\n",
    "    if circuit == \"C1\"\n",
    "        df_ind_col_3[!, column_names[6]] = mat[3:end,15]\n",
    "    elseif circuit == \"C2\"\n",
    "        df_ind_col_3[!, column_names[7]] = mat[3:end,16]\n",
    "    elseif circuit == \"C3\"\n",
    "        df_ind_col_3[!, column_names[8]] = mat[3:end,17]\n",
    "    else\n",
    "        df_ind_col_3[!, column_names[9]] = mat[3:end,18]\n",
    "    end\n",
    "\n",
    "    return df_enc, df_ind_col_3\n",
    "end\n"
   ]
  },
  {
   "cell_type": "code",
   "execution_count": 17,
   "metadata": {},
   "outputs": [],
   "source": [
    "# Création des enfants\n",
    "U2 = NAryTreeNode(missing, \"U2\", Vector{NAryTreeNode}())\n",
    "U3 = NAryTreeNode(missing, \"U3\", Vector{NAryTreeNode}())\n",
    "U5 = NAryTreeNode(missing, \"U5\", Vector{NAryTreeNode}())\n",
    "U9 = NAryTreeNode(missing, \"U9\", Vector{NAryTreeNode}())\n",
    "U10 = NAryTreeNode(missing, \"U10\", Vector{NAryTreeNode}())\n",
    "U18 = NAryTreeNode(missing, \"U18\", Vector{NAryTreeNode}())\n",
    "U19 = NAryTreeNode(missing, \"U19\", Vector{NAryTreeNode}())\n",
    "U8 = NAryTreeNode(missing, \"U8\", Vector{NAryTreeNode}())\n",
    "U13 = NAryTreeNode(missing, \"U13\", Vector{NAryTreeNode}())\n",
    "\n",
    "# Création du parent avec les enfants\n",
    "P1 = NAryTreeNode(missing, \"P1\", Vector([U2, U3, U5, U9, U10, U18, U19, U8, U13]))\n",
    "\n",
    "# Mettre à jour les parents des enfants\n",
    "for child in P1.children\n",
    "    child.parent = P1\n",
    "end\n"
   ]
  },
  {
   "cell_type": "code",
   "execution_count": 18,
   "metadata": {},
   "outputs": [],
   "source": [
    "# Création des enfants\n",
    "U1 = NAryTreeNode(missing, \"U1\", Vector{NAryTreeNode}())\n",
    "U4 = NAryTreeNode(missing, \"U4\", Vector{NAryTreeNode}())\n",
    "U11 = NAryTreeNode(missing, \"U11\", Vector{NAryTreeNode}())\n",
    "U12 = NAryTreeNode(missing, \"U12\", Vector{NAryTreeNode}())\n",
    "U14 = NAryTreeNode(missing, \"U14\", Vector{NAryTreeNode}())\n",
    "U15 = NAryTreeNode(missing, \"U15\", Vector{NAryTreeNode}())\n",
    "U16 = NAryTreeNode(missing, \"U16\", Vector{NAryTreeNode}())\n",
    "U17 = NAryTreeNode(missing, \"U17\", Vector{NAryTreeNode}())\n",
    "\n",
    "# Création du parent avec les enfants\n",
    "P2 = NAryTreeNode(missing, \"P2\", Vector([U1, U4, U11, U12, U14, U15, U16, U17]))\n",
    "\n",
    "# Mettre à jour les parents des enfants\n",
    "for child in P2.children\n",
    "    child.parent = P2\n",
    "end"
   ]
  },
  {
   "cell_type": "code",
   "execution_count": 19,
   "metadata": {},
   "outputs": [],
   "source": [
    "# Création des enfants\n",
    "U6 = NAryTreeNode(missing, \"U6\", Vector{NAryTreeNode}())\n",
    "U7 = NAryTreeNode(missing, \"U7\", Vector{NAryTreeNode}())\n",
    "\n",
    "# Création du parent avec les enfants\n",
    "P3 = NAryTreeNode(missing, \"P3\", Vector([U6, U7]))\n",
    "\n",
    "# Mettre à jour les parents des enfants\n",
    "for child in P3.children\n",
    "    child.parent = P3\n",
    "end"
   ]
  },
  {
   "cell_type": "code",
   "execution_count": 20,
   "metadata": {},
   "outputs": [],
   "source": [
    "paliers = [P1, P2, P3]\n",
    "\n",
    "for palier in paliers\n",
    "    unites = palier.children\n",
    "    for unite in unites\n",
    "        sous_unites = Vector(unique(df_Infos_gen[df_Infos_gen.UNITE .== unite.value, :].SOUS_UNITE))\n",
    "        for sous_unite in sous_unites\n",
    "            push!(unite.children, NAryTreeNode(unite, sous_unite, Vector{NAryTreeNode}()))\n",
    "        end\n",
    "    end\n",
    "end"
   ]
  },
  {
   "cell_type": "code",
   "execution_count": 21,
   "metadata": {},
   "outputs": [
    {
     "data": {
      "text/plain": [
       "print_tree_from_paliers (generic function with 1 method)"
      ]
     },
     "metadata": {},
     "output_type": "display_data"
    }
   ],
   "source": [
    "\n",
    "# Fonction récursive pour afficher l'arbre à partir des paliers dans un fichier texte\n",
    "function print_tree_from_paliers(paliers::Vector{NAryTreeNode}, filename::String)\n",
    "    open(filename, \"w\") do file\n",
    "        for palier in paliers\n",
    "            write(file, \"Palier: \", string(palier.value), \"\\n\")\n",
    "            for unite in palier.children\n",
    "                write(file, \"   |- Unité: \", string(unite.value), \"\\n\")\n",
    "                for sous_unite in unite.children\n",
    "                    write(file, \"       |- Sous-unité: \", string(sous_unite.value), \"\\n\")\n",
    "                    for etat in sous_unite.children\n",
    "                        write(file, \"           |- \", string(etat.value), \"\\n\")\n",
    "                        for circuit in etat.children\n",
    "                            write(file, \"               |- \", string(circuit.value), \"\\n\")\n",
    "                            for gv in circuit.children\n",
    "                                if !ismissing(gv.value)\n",
    "                                    write(file, \"                 |- \", string(gv.value.numero), \"\\n\")\n",
    "                                end\n",
    "                            end\n",
    "                        end\n",
    "                    end\n",
    "                end\n",
    "            end\n",
    "        end\n",
    "    end\n",
    "end\n",
    "\n"
   ]
  },
  {
   "cell_type": "code",
   "execution_count": 22,
   "metadata": {},
   "outputs": [],
   "source": [
    "for palier in paliers\n",
    "    unites = palier.children\n",
    "    for unite in unites\n",
    "        sous_unites = unite.children\n",
    "        for sous_unite in sous_unites\n",
    "            push!(sous_unite.children, NAryTreeNode(sous_unite, \"avant_RGV\", Vector{NAryTreeNode}()))\n",
    "            push!(sous_unite.children, NAryTreeNode(sous_unite, \"apres_RGV\", Vector{NAryTreeNode}()))\n",
    "        end\n",
    "    end\n",
    "end"
   ]
  },
  {
   "cell_type": "code",
   "execution_count": 23,
   "metadata": {},
   "outputs": [],
   "source": [
    "for palier in paliers\n",
    "    unites = palier.children\n",
    "    for unite in unites\n",
    "        sous_unites = unite.children\n",
    "        for sous_unite in sous_unites\n",
    "            data_sous_unite_avant = filter(row -> row.UNITE .== unite.value \n",
    "                                    && row.SOUS_UNITE .== sous_unite.value\n",
    "                                    && row[10] .== \"ORIGINE\",\n",
    "                                 df_Infos_gen)\n",
    "            data_sous_unite_apres = filter(row -> row.UNITE .== unite.value \n",
    "                                    && row.SOUS_UNITE .== sous_unite.value\n",
    "                                    && row[10] .== \"Remplacement\",\n",
    "                                    df_Infos_gen)\n",
    "            circuits_avant = unique(data_sous_unite_avant.CIRCUIT)\n",
    "            circuits_apres = unique(data_sous_unite_apres.CIRCUIT)\n",
    "            for etat in sous_unite.children\n",
    "                if etat.value == \"avant_RGV\"\n",
    "                    for circuit in circuits_avant\n",
    "                        push!(etat.children, NAryTreeNode(etat, circuit, Vector{NAryTreeNode}()))\n",
    "                    end\n",
    "                else\n",
    "                    for circuit in circuits_apres\n",
    "                        push!(etat.children, NAryTreeNode(etat, circuit, Vector{NAryTreeNode}()))\n",
    "                    end\n",
    "                end\n",
    "            end\n",
    "        end\n",
    "    end\n",
    "end"
   ]
  },
  {
   "cell_type": "code",
   "execution_count": 24,
   "metadata": {},
   "outputs": [
    {
     "data": {
      "text/plain": [
       "max_string (generic function with 1 method)"
      ]
     },
     "metadata": {},
     "output_type": "display_data"
    }
   ],
   "source": [
    "function max_string(v::Vector{Any})\n",
    "    # Extract numbers from the strings and find the maximum\n",
    "    max_str = \"\"\n",
    "    max_num = -Inf\n",
    "    for s in v\n",
    "        # Use a regular expression to extract the number\n",
    "        m = match(r\"E(\\d+)\", s)\n",
    "        if m !== nothing\n",
    "            num = parse(Int, m.captures[1])\n",
    "            if num > max_num\n",
    "                max_num = num\n",
    "                max_str = s\n",
    "            end\n",
    "        end\n",
    "    end\n",
    "    return max_str\n",
    "end\n"
   ]
  },
  {
   "cell_type": "code",
   "execution_count": 25,
   "metadata": {},
   "outputs": [
    {
     "data": {
      "text/plain": [
       "56-element Vector{String}:\n",
       " \"IND-ENC_U11S1_1,24 puis 4-1,22 puis 3,98-0,84 puis 3,95-1,21 puis 3,94.xlsx\"\n",
       " \"IND-ENC_U11S2_1,37-1,39-1,3-1,38.xlsx\"\n",
       " \"IND-ENC_U12S1_1,82-1,81-1,79-1,8.xlsx\"\n",
       " \"IND-ENC_U12S2_2,02-2-2,14-2,01.xlsx\"\n",
       " \"IND-ENC_U13S1_2,22-2,23-2,21.xlsx\"\n",
       " \"IND-ENC_U13S2_2,4-2,41-2,42.xlsx\"\n",
       " \"IND-ENC_U13S3_9,13-9,12-9,11.xlsx\"\n",
       " \"IND-ENC_U13S4_2,48-2,46-2,47.xlsx\"\n",
       " \"IND-ENC_U13S5_3,86-3,84-3,92.xlsx\"\n",
       " \"IND-ENC_U13S6_3,91-3,9-3,85.xlsx\"\n",
       " ⋮\n",
       " \"IND-ENC_U7S2_2,33-2,35-2,34-2,36.xlsx\"\n",
       " \"IND-ENC_U8S1_9,43-9,42-9,41.xlsx\"\n",
       " \"IND-ENC_U8S2_1,04-1,05-1,07.xlsx\"\n",
       " \"IND-ENC_U8S3_1,09-1,08-1,06.xlsx\"\n",
       " \"IND-ENC_U8S4_9,32-9,23-9,33.xlsx\"\n",
       " \"IND-ENC_U9S1_1,9-2,08-1,91.xlsx\"\n",
       " \"IND-ENC_U9S2_2,82-2,83-2,84.xlsx\"\n",
       " \"IND-ENC_U9S3_2,38-2,37-2,39.xlsx\"\n",
       " \"IND-ENC_U9S4_2,87-2,89-2,9.xlsx\""
      ]
     },
     "metadata": {},
     "output_type": "display_data"
    }
   ],
   "source": [
    "\n",
    "# Spécifiez le chemin complet de votre répertoire\n",
    "directory = string(chemin_données, \"Données_EDF_240611/Encrassement/\")\n",
    "\n",
    "# Utilisez readdir() pour obtenir les noms des fichiers et des sous-répertoires\n",
    "files = readdir(directory)\n",
    "\n",
    "# Filtrer les fichiers pour ne garder que ceux qui ont l'extension .xlsx\n",
    "xlsx_files = filter(file -> endswith(file, \".xlsx\"), files)\n",
    "xlsx_files = [file for file in xlsx_files if file != \"~\\$PERFOS_U2S4_3,48-3,47-3,49.xlsx\" && file != \"~\\$PERFOS_U19S2_2,45-2,43-2,44.xlsx\"]"
   ]
  },
  {
   "cell_type": "code",
   "execution_count": 26,
   "metadata": {},
   "outputs": [
    {
     "name": "stdout",
     "output_type": "stream",
     "text": [
      "Indices found: String"
     ]
    },
    {
     "name": "stdout",
     "output_type": "stream",
     "text": [
      "[]\n"
     ]
    }
   ],
   "source": [
    "using Printf\n",
    "\n",
    "function find_in_vector(substring::String, vec::Vector{String})\n",
    "    # Chercher l'occurrence dans le vecteur de strings\n",
    "    indices = findall(x -> occursin(substring, x), vec)    \n",
    "    \n",
    "    return vec[indices]\n",
    "end\n",
    "\n",
    "# Fonction pour convertir un float en string avec une virgule, formaté avec une précision de 2 décimales\n",
    "function float_to_comma_string(num::Float64)::String\n",
    "    # Formattage avec 2 décimales et remplacement du point par une virgule\n",
    "    return replace(@sprintf(\"%.2f\", num), \".\" => \",\")\n",
    "end\n",
    "\n",
    "\n",
    "# Trouver les indices où la chaîne apparaît dans le vecteur\n",
    "substring = float_to_comma_string(0.7)\n",
    "indices = find_in_vector(substring, xlsx_files)\n",
    "println(\"Indices found: \", indices)\n"
   ]
  },
  {
   "cell_type": "code",
   "execution_count": 27,
   "metadata": {},
   "outputs": [
    {
     "name": "stdout",
     "output_type": "stream",
     "text": [
      "\u001b[1m3×2 DataFrame\u001b[0m\n",
      "\u001b[1m Row \u001b[0m│\u001b[1m HEURES_MAT \u001b[0m\u001b[1m NETTOYAGES_PRECEDENTS \u001b[0m\n",
      "     │\u001b[90m Int64      \u001b[0m\u001b[90m Int64                 \u001b[0m\n",
      "─────┼───────────────────────────────────\n",
      "   1 │          8                      0\n",
      "   2 │         12                      0\n",
      "   3 │         16                      0\n"
     ]
    }
   ],
   "source": [
    "# Exemple de DataFrames avec heures exprimées en entiers\n",
    "A = DataFrame(HEURES_MAT = [8, 12, 16])\n",
    "B = DataFrame(HEURES_MAT = [])\n",
    "\n",
    "# Fonction pour calculer le nombre de nettoyages précédents pour chaque ligne de ind_col_1\n",
    "function count_previous_cleanings(ind_col_1::DataFrame, nettoyages::DataFrame)::Vector{Int}\n",
    "    if isempty(nettoyages)\n",
    "        return zeros(Int8, nrow(ind_col_1))\n",
    "    end\n",
    "    counts = Vector{Int}(undef, nrow(ind_col_1))\n",
    "    for i in 1:nrow(ind_col_1)\n",
    "        counts[i] = sum(nettoyages.HEURES_MAT .< ind_col_1.HEURES_MAT[i]) + (ind_col_1.APRES_NET[i] ? 1 : 0)\n",
    "    end\n",
    "    return counts\n",
    "end\n",
    "\n",
    "# Ajouter la nouvelle colonne au DataFrame ind_col_1\n",
    "A.NETTOYAGES_PRECEDENTS = count_previous_cleanings(A, B)\n",
    "\n",
    "# Afficher le DataFrame mis à jour\n",
    "println(A)\n"
   ]
  },
  {
   "cell_type": "code",
   "execution_count": 28,
   "metadata": {},
   "outputs": [],
   "source": [
    "for palier in paliers\n",
    "    unites = palier.children\n",
    "    for unite in unites\n",
    "        sous_unites = unite.children\n",
    "        for sous_unite in sous_unites\n",
    "            data_sous_unite = filter(row -> row.UNITE .== unite.value && row.SOUS_UNITE .== sous_unite.value,\n",
    "                                 df_Infos_gen)\n",
    "            dict = Dict{String, DataFrame}()\n",
    "            dict[\"avant_RGV\"] = data_sous_unite[data_sous_unite[:, 10] .== \"ORIGINE\", :]\n",
    "            dict[\"apres_RGV\"] = data_sous_unite[data_sous_unite[:, 10] .== \"Remplacement\", :]\n",
    "            for etat in sous_unite.children\n",
    "                PE_max = max_string(filter(row -> row.UNITE .== unite.value && row.SOUS_UNITE .== sous_unite.value, df1).PE)\n",
    "                for circuit in etat.children\n",
    "                    num = unique(dict[etat.value][dict[etat.value].CIRCUIT .== circuit.value, :].NUMERO)\n",
    "                    if length(num) == 1\n",
    "                        num = num[1]\n",
    "\n",
    "                        ref = unique(dict[etat.value][dict[etat.value].CIRCUIT .== circuit.value, :].REFERENCE)[1]\n",
    "\n",
    "                        reg_ref = Vector([\"\"])\n",
    "\n",
    "                        numero_suc_ou_pred = missing\n",
    "                        if etat.value==\"avant_RGV\" && !isempty(dict[\"apres_RGV\"])\n",
    "                            numero_suc_ou_pred = unique(dict[\"apres_RGV\"][dict[\"apres_RGV\"].CIRCUIT .== circuit.value, :].NUMERO)[1]\n",
    "                        end\n",
    "                        if etat.value==\"apres_RGV\" && !isempty(dict[\"avant_RGV\"])\n",
    "                            numero_suc_ou_pred = unique(dict[\"avant_RGV\"][dict[\"avant_RGV\"].CIRCUIT .== circuit.value, :].NUMERO)[1]\n",
    "                        end\n",
    "\n",
    "                        nettoyages = DataFrame()\n",
    "                        ind_col_1 = DataFrame()\n",
    "                        ind_col_2 = DataFrame()\n",
    "                        df_enc, df_ind_col_3 = DataFrame(), DataFrame()\n",
    "                        date_max = 0\n",
    "                        if !ismissing(num)\n",
    "                            nettoyages = df_nettoyages[df_nettoyages.NUMERO .== num, :]\n",
    "                            nettoyages = nettoyages[:, [6, 7]] # 7 pour curatif\n",
    "                            \n",
    "                            ind_col_1 = df1[df1.NUMERO .== num, :]\n",
    "                            ind_col_1 = ind_col_1[ind_col_1.PE .== PE_max, :]\n",
    "                            select!(ind_col_1, Not([:ACIERISTE, :TUBISTE, :CONSTITUTION]))\n",
    "                            ind_col_1_C = ind_col_1[ind_col_1.BR .== \"C\", :]\n",
    "                            ind_col_1_F = ind_col_1[ind_col_1.BR .== \"F\", :]\n",
    "                            if !isempty(ind_col_1_C) && !isempty(ind_col_1_F)\n",
    "                                date_max = maximum(ind_col_1.HEURES_MAT)\n",
    "\n",
    "                                # Supprimer la colonne 'B'\n",
    "                                select!(ind_col_1_C, Not(:BR))\n",
    "                                select!(ind_col_1_F, Not(:BR))\n",
    "\n",
    "                                rename!(ind_col_1_C, :VALEUR => :VALEUR_CHAUD)\n",
    "                                rename!(ind_col_1_F, :VALEUR => :VALEUR_FROID)\n",
    "\n",
    "                                ind_col_1_C.nb_nettoyages_precedents = count_previous_cleanings(ind_col_1_C, nettoyages)\n",
    "                                ind_col_1_F.nb_nettoyages_precedents = count_previous_cleanings(ind_col_1_F, nettoyages)\n",
    "\n",
    "                                \n",
    "                                ind_col_1 = innerjoin(ind_col_1_C, ind_col_1_F, \n",
    "                                on = [:UNITE, :SOUS_UNITE, :CIRCUIT, :NUMERO, :HEURES_MAT, :PE, :REFERENCE,\n",
    "                                :nb_nettoyages_precedents], \n",
    "                                makeunique = true)\n",
    "                            end\n",
    "                            \n",
    "                            ind_col_2 = df2[df2.NUMERO .== num, :]\n",
    "                            ind_col_2 = ind_col_2[ind_col_2.PE .== PE_max, :]\n",
    "                            select!(ind_col_2, Not([:ACIERISTE, :TUBISTE, :CONSTITUTION]))\n",
    "                            ind_col_2_C = ind_col_2[ind_col_2.BR .== \"C\", :]\n",
    "                            ind_col_2_F = ind_col_2[ind_col_2.BR .== \"F\", :]\n",
    "                            if !isempty(ind_col_2)\n",
    "                                date_max = max(date_max, maximum(ind_col_2.HEURES_MAT))\n",
    "\n",
    "                                # Supprimer la colonne 'B'\n",
    "                                select!(ind_col_2_C, Not(:BR))\n",
    "                                select!(ind_col_2_F, Not(:BR))\n",
    "\n",
    "                                rename!(ind_col_2_C, :VALEUR => :VALEUR_CHAUD)\n",
    "                                rename!(ind_col_2_F, :VALEUR => :VALEUR_FROID)\n",
    "\n",
    "                                ind_col_2_C.nb_nettoyages_precedents = count_previous_cleanings(ind_col_2_C, nettoyages)\n",
    "                                ind_col_2_F.nb_nettoyages_precedents = count_previous_cleanings(ind_col_2_F, nettoyages)\n",
    "\n",
    "                                \n",
    "                                ind_col_2 = innerjoin(ind_col_2_C, ind_col_2_F, \n",
    "                                            on = [:UNITE, :SOUS_UNITE, :CIRCUIT, :NUMERO, :HEURES_MAT, :PE, :REFERENCE,\n",
    "                                            :nb_nettoyages_precedents], \n",
    "                                            makeunique = true)\n",
    "                            end\n",
    "\n",
    "                            enc_files = find_in_vector(float_to_comma_string(num), xlsx_files)\n",
    "                            if !isempty(enc_files)\n",
    "                                enc_file = enc_files[1]\n",
    "                                df_enc, df_ind_col_3 = IND_COL_3_and_EncMatToDataFrame(XLSX.readdata(string(directory, \"$enc_file\"), \n",
    "                                \"Feuil1\", \"A1:V1000\"), circuit.value)\n",
    "                                \n",
    "                                df_enc, df_ind_col_3 = dropmissing(df_enc, :HEURES_MAT), dropmissing(df_ind_col_3, :HEURES_MAT)\n",
    "                                date_max = max(date_max, maximum(df_enc.HEURES_MAT))\n",
    "                            end\n",
    "\n",
    "                        end\n",
    "                        \n",
    "                        date_max = Int(floor(date_max))\n",
    "                        gv = GV(num, palier.value, unite.value, sous_unite.value, circuit.value, ref, reg_ref, \n",
    "                        etat.value==\"avant_RGV\", numero_suc_ou_pred, nettoyages, ind_col_1, PE_max, \n",
    "                        ind_col_2, df_ind_col_3, df_enc, date_max)\n",
    "                        push!(circuit.children, NAryTreeNode(circuit, gv, Vector{NAryTreeNode}()))\n",
    "                    else\n",
    "                        num = missing\n",
    "                        push!(circuit.children, NAryTreeNode(circuit, num, Vector{NAryTreeNode}()))\n",
    "                    end\n",
    "                    \n",
    "                end\n",
    "            end\n",
    "        end\n",
    "    end\n",
    "end\n"
   ]
  },
  {
   "cell_type": "code",
   "execution_count": 29,
   "metadata": {},
   "outputs": [],
   "source": [
    "# Afficher l'arbre à partir des paliers\n",
    "print_tree_from_paliers(paliers, \"arbre.txt\")"
   ]
  },
  {
   "cell_type": "code",
   "execution_count": 30,
   "metadata": {},
   "outputs": [
    {
     "data": {
      "text/plain": [
       ":magenta"
      ]
     },
     "metadata": {},
     "output_type": "display_data"
    }
   ],
   "source": [
    "circuit_shapes = Dict{String, Symbol}()\n",
    "# coder le numéro de circuit en forme géométrique\n",
    "circuit_shapes[\"C1\"]= :circle\n",
    "circuit_shapes[\"C2\"]= :diamond\n",
    "circuit_shapes[\"C3\"]= :star5\n",
    "circuit_shapes[\"C4\"]= :rect\n",
    "\n",
    "circuit_enc_colors = Dict{String, Symbol}()\n",
    "\n",
    "circuit_enc_colors[\"C1\"]= :pink\n",
    "circuit_enc_colors[\"C2\"]= :purple\n",
    "circuit_enc_colors[\"C3\"]= :grey\n",
    "circuit_enc_colors[\"C4\"]= :magenta\n"
   ]
  },
  {
   "cell_type": "code",
   "execution_count": 31,
   "metadata": {},
   "outputs": [
    {
     "data": {
      "text/plain": [
       "plot_with_condition (generic function with 1 method)"
      ]
     },
     "metadata": {},
     "output_type": "display_data"
    }
   ],
   "source": [
    "function plot_with_condition(p, x, y, z, color)\n",
    "    for i in 1:length(x) - 1\n",
    "        if z[i] == z[i + 1] \n",
    "            plot!(p, x[i:i + 1], y[i:i + 1], linestyle=:dash,\n",
    "            color=color, legend = false)\n",
    "        end\n",
    "    end\n",
    "end"
   ]
  },
  {
   "cell_type": "code",
   "execution_count": 32,
   "metadata": {},
   "outputs": [
    {
     "data": {
      "text/plain": [
       "plot! (generic function with 5 methods)"
      ]
     },
     "metadata": {},
     "output_type": "display_data"
    }
   ],
   "source": [
    "function plot!(gv::GV, p_1_2::Plots.Plot{Plots.GRBackend}, p_3::Plots.Plot{Plots.GRBackend}, p_enc::Plots.Plot{Plots.GRBackend})\n",
    "    \n",
    "    if !isempty(gv.IND_COL_1)\n",
    "        # plot!(p_1_2, gv.IND_COL_1.HEURES_MAT, gv.IND_COL_1.VALEUR_CHAUD, linestyle=:dash,\n",
    "        # color=:yellow, legend = false)\n",
    "        plot_with_condition(p_1_2, gv.IND_COL_1.HEURES_MAT, gv.IND_COL_1.VALEUR_CHAUD, \n",
    "        gv.IND_COL_1.nb_nettoyages_precedents, :yellow)\n",
    "        scatter!(p_1_2, gv.IND_COL_1.HEURES_MAT, gv.IND_COL_1.VALEUR_CHAUD, alpha=.75, \n",
    "        label = false, markershape=circuit_shapes[gv.circuit], markercolor=:yellow, \n",
    "        legend = false, markerstrokewidth = 0.5)\n",
    "        \n",
    "        # plot!(p_1_2, gv.IND_COL_1.HEURES_MAT, gv.IND_COL_1.VALEUR_FROID, linestyle=:dash,\n",
    "        # color=:green, legend = false)\n",
    "        plot_with_condition(p_1_2, gv.IND_COL_1.HEURES_MAT, gv.IND_COL_1.VALEUR_FROID, \n",
    "        gv.IND_COL_1.nb_nettoyages_precedents, :green)\n",
    "        scatter!(p_1_2, gv.IND_COL_1.HEURES_MAT, gv.IND_COL_1.VALEUR_FROID, alpha=.75, \n",
    "        label = false, markershape=circuit_shapes[gv.circuit], markercolor=:green, \n",
    "        legend = false, markerstrokewidth = 0.5)\n",
    "    end\n",
    "    \n",
    "    if !isempty(gv.IND_COL_2)\n",
    "        # plot!(p_1_2, gv.IND_COL_2.HEURES_MAT, gv.IND_COL_2.VALEUR_CHAUD, linestyle=:dash,\n",
    "        # color=:red, legend = false)\n",
    "        plot_with_condition(p_1_2, gv.IND_COL_2.HEURES_MAT, gv.IND_COL_2.VALEUR_CHAUD, \n",
    "        gv.IND_COL_2.nb_nettoyages_precedents, :red)\n",
    "        scatter!(p_1_2, gv.IND_COL_2.HEURES_MAT, gv.IND_COL_2.VALEUR_CHAUD, \n",
    "        alpha=.75, label = false, markershape=circuit_shapes[gv.circuit], markercolor=:red, \n",
    "        legend = false, markerstrokewidth = 0.5)\n",
    "\n",
    "        # plot!(p_1_2, gv.IND_COL_2.HEURES_MAT, gv.IND_COL_2.VALEUR_FROID, linestyle=:dash,\n",
    "        # color=:blue)\n",
    "        plot_with_condition(p_1_2, gv.IND_COL_2.HEURES_MAT, gv.IND_COL_2.VALEUR_FROID, \n",
    "        gv.IND_COL_2.nb_nettoyages_precedents, :blue)\n",
    "        scatter!(p_1_2, gv.IND_COL_2.HEURES_MAT, gv.IND_COL_2.VALEUR_FROID, alpha=.75, \n",
    "        label = false, markershape=circuit_shapes[gv.circuit], markercolor=:blue, \n",
    "        legend = false, markerstrokewidth = 0.5)\n",
    "    end\n",
    "\n",
    "    if !isempty(gv.IND_COL_3)\n",
    "        plot!(p_3, gv.IND_COL_3.HEURES_MAT, gv.IND_COL_3[:, 2],\n",
    "        color= circuit_enc_colors[gv.circuit], label = false, linestyle=:dash)\n",
    "        scatter!(p_3, gv.IND_COL_3.HEURES_MAT, gv.IND_COL_3[:, 2], \n",
    "        alpha=.75, label = gv.circuit, markershape=circuit_shapes[gv.circuit],\n",
    "        markercolor=circuit_enc_colors[gv.circuit], markerstrokewidth = 0.5)\n",
    "    end\n",
    "\n",
    "    if !isempty(gv.IND_ENC)\n",
    "        plot!(p_enc, gv.IND_ENC.HEURES_MAT, gv.IND_ENC[:, 2],\n",
    "        color= circuit_enc_colors[gv.circuit], label = false, linestyle=:dash)\n",
    "        scatter!(p_enc, gv.IND_ENC.HEURES_MAT, gv.IND_ENC[:, 2], \n",
    "        alpha=.75, label = gv.circuit, markershape=circuit_shapes[gv.circuit], \n",
    "        markercolor=circuit_enc_colors[gv.circuit], markerstrokewidth = 0.5)\n",
    "    end\n",
    "    \n",
    "    if !isempty(gv.maintenances)\n",
    "        for i in 1:length(gv.maintenances.HEURES_MAT)\n",
    "            linestyle = gv.maintenances[i, 2] == 1 ? :solid : :dash\n",
    "            vline!(p_1_2, [gv.maintenances[i, 1]], color=:black, linestyle=linestyle, label=false)\n",
    "            vline!(p_3, [gv.maintenances[i, 1]], color=:black, linestyle=linestyle, label=false)\n",
    "            vline!(p_enc, [gv.maintenances[i, 1]], color=:black, linestyle=linestyle, label=false)\n",
    "        end\n",
    "    end\n",
    "\n",
    "    xlims!(p_1_2, 0, gv.date_max*11/10)\n",
    "    xlims!(p_3, 0, gv.date_max*11/10)\n",
    "    xlims!(p_enc, 0, gv.date_max*11/10)\n",
    "end"
   ]
  },
  {
   "cell_type": "code",
   "execution_count": 33,
   "metadata": {},
   "outputs": [
    {
     "data": {
      "text/plain": [
       "plot! (generic function with 6 methods)"
      ]
     },
     "metadata": {},
     "output_type": "display_data"
    }
   ],
   "source": [
    "function plot!(sous_unite::NAryTreeNode)\n",
    "    p_1_2_avant = plot(\n",
    "        ylabel=\"IND-COL\",  \n",
    "        titlefont=10\n",
    "        )\n",
    "    p_3_avant = plot(\n",
    "        ylabel=\"IND-COL-3\",  \n",
    "        titlefont=10\n",
    "        )\n",
    "    p_enc_avant = plot(\n",
    "        xlabel=\"HEURES_MAT\", \n",
    "        ylabel=\"IND-ENC\",  \n",
    "        titlefont=10\n",
    "        )\n",
    "    p_1_2_apres = plot(\n",
    "        ylabel=\"IND-COL\",  \n",
    "        titlefont=10\n",
    "        )\n",
    "    p_3_apres = plot(\n",
    "        ylabel=\"IND-COL-3\",  \n",
    "        titlefont=10\n",
    "        )\n",
    "    p_enc_apres = plot(\n",
    "        xlabel=\"HEURES_MAT\", \n",
    "        ylabel=\"IND-ENC\",  \n",
    "        titlefont=10,\n",
    "        )\n",
    "    titre_avant = \"\"\n",
    "    titre_apres = \"\"\n",
    "    for etat in sous_unite.children\n",
    "        for circuit in etat.children\n",
    "            if !isempty(circuit.children)\n",
    "                gv = first(circuit.children).value\n",
    "                numero = gv.numero\n",
    "                circuit = gv.circuit\n",
    "                PE = gv.PE_max_IND_COL_1\n",
    "                etat.value==\"avant_RGV\" ? plot!(gv, p_1_2_avant, p_3_avant, p_enc_avant) : plot!(gv, p_1_2_apres, p_3_apres, p_enc_apres)\n",
    "                etat.value==\"avant_RGV\" ? titre_avant = string(titre_avant, \"$circuit-$numero-$PE \") : titre_apres = string(titre_apres, \"$circuit-$numero-$PE \")\n",
    "            end\n",
    "        end\n",
    "    end\n",
    "    unite = sous_unite.parent.value\n",
    "    sous_unite = sous_unite.value\n",
    "    titre_avant = string(\"$unite-$sous_unite \", titre_avant)\n",
    "    titre_apres = string(\"$unite-$sous_unite \", titre_apres)\n",
    "\n",
    "    title!(p_1_2_avant, titre_avant)\n",
    "    title!(p_1_2_apres, titre_apres)\n",
    "    title!(p_3_avant, titre_avant)\n",
    "    title!(p_enc_avant, titre_avant)\n",
    "    title!(p_3_apres, titre_apres)\n",
    "    title!(p_enc_apres, titre_apres)\n",
    "\n",
    "    p = plot(p_1_2_avant, p_1_2_apres, p_3_avant, p_3_apres, p_enc_avant, p_enc_apres, layout=(3, 2), size=(1800, 1200))\n",
    "\n",
    "    savefig(p, \"combined_plot.png\")\n",
    "end"
   ]
  },
  {
   "cell_type": "code",
   "execution_count": 34,
   "metadata": {},
   "outputs": [
    {
     "data": {
      "text/plain": [
       "\"U3\""
      ]
     },
     "metadata": {},
     "output_type": "display_data"
    },
    {
     "data": {
      "text/plain": [
       "\"S5\""
      ]
     },
     "metadata": {},
     "output_type": "display_data"
    }
   ],
   "source": [
    "for palier in paliers\n",
    "    for unite in palier.children\n",
    "        if unite.value == \"U3\"\n",
    "            for sous_unite in unite.children\n",
    "                if sous_unite.value == \"S5\"\n",
    "                    display(unite.value)\n",
    "                    display(sous_unite.value)\n",
    "                    plot!(sous_unite)\n",
    "                end\n",
    "            end\n",
    "        end\n",
    "\n",
    "    end\n",
    "end"
   ]
  }
 ],
 "metadata": {
  "kernelspec": {
   "display_name": "Julia 1.10.4",
   "language": "julia",
   "name": "julia-1.10"
  },
  "language_info": {
   "file_extension": ".jl",
   "mimetype": "application/julia",
   "name": "julia",
   "version": "1.10.4"
  },
  "orig_nbformat": 4
 },
 "nbformat": 4,
 "nbformat_minor": 2
}
