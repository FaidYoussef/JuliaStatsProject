{
 "cells": [
  {
   "cell_type": "code",
   "execution_count": null,
   "metadata": {},
   "outputs": [],
   "source": [
    "using DataFrames\n",
    "using ExcelReaders\n",
    "using Plots\n",
    "using DataValues\n",
    "using XLSX\n"
   ]
  },
  {
   "cell_type": "code",
   "execution_count": null,
   "metadata": {},
   "outputs": [],
   "source": [
    "data_matrix_ind_col1 = readxlsheet(\"/home/AD/faidy/JuliaStatsProject/data/raw/real_data/Données_EDF_240611/Colmatage/IND-COL-1.xls\", \"IND-COL-1\")"
   ]
  },
  {
   "cell_type": "code",
   "execution_count": null,
   "metadata": {},
   "outputs": [],
   "source": [
    "data_matrix_ind_col2 = readxlsheet(\"/home/AD/faidy/JuliaStatsProject/data/raw/real_data/Données_EDF_240611/Colmatage/IND-COL-2.xls\", \"IND-COL-2\")"
   ]
  },
  {
   "cell_type": "code",
   "execution_count": null,
   "metadata": {},
   "outputs": [],
   "source": [
    "typeof(data_matrix_ind_col1)"
   ]
  },
  {
   "cell_type": "code",
   "execution_count": null,
   "metadata": {},
   "outputs": [],
   "source": [
    "isNA(x) = typeof(x) == DataValue{Union{}}\n",
    "valeurs = replace( x -> isNA(x) ? missing : x, data_matrix_ind_col1)\n",
    "\n",
    "data_matrix_ind_col1 = replace( x -> isNA(x) ? missing : x, data_matrix_ind_col1)\n",
    "data_matrix_ind_col2 = replace( x -> isNA(x) ? missing : x, data_matrix_ind_col2)"
   ]
  },
  {
   "cell_type": "code",
   "execution_count": null,
   "metadata": {},
   "outputs": [],
   "source": [
    "function MatrixToDataFrame(mat)\n",
    "    DF_mat = DataFrame(\n",
    "        mat[2:end, 1:end],\n",
    "        string.(mat[1, 1:end])\n",
    "    )\n",
    "    return DF_mat\n",
    "end"
   ]
  },
  {
   "cell_type": "code",
   "execution_count": null,
   "metadata": {},
   "outputs": [],
   "source": [
    "df1 = MatrixToDataFrame(data_matrix_ind_col1)\n",
    "df2 = MatrixToDataFrame(data_matrix_ind_col2)"
   ]
  },
  {
   "cell_type": "code",
   "execution_count": null,
   "metadata": {},
   "outputs": [],
   "source": [
    "typeof(df1)"
   ]
  },
  {
   "cell_type": "code",
   "execution_count": null,
   "metadata": {},
   "outputs": [],
   "source": [
    "df1.VALEUR"
   ]
  },
  {
   "cell_type": "code",
   "execution_count": null,
   "metadata": {},
   "outputs": [],
   "source": [
    "df1 = dropmissing(df1, :VALEUR)\n",
    "df2 = dropmissing(df2, :VALEUR)"
   ]
  },
  {
   "cell_type": "code",
   "execution_count": null,
   "metadata": {},
   "outputs": [],
   "source": [
    "unites = unique(df1.UNITE)\n",
    "sizes = []\n",
    "for unite in unites\n",
    "    unite_data = df1[df1.UNITE .== unite,:]\n",
    "    sous_unites = unique(unite_data.SOUS_UNITE)\n",
    "    for sous_unite in sous_unites\n",
    "        sous_unite_data = unite_data[unite_data.SOUS_UNITE .== sous_unite,:]\n",
    "        circuits = unique(sous_unite_data.CIRCUIT)\n",
    "        for circuit in circuits\n",
    "            circuit_data = filter(row -> row.PE .== \"E9\" && row.BR .== \"C\", sous_unite_data[sous_unite_data.CIRCUIT .== circuit,:])\n",
    "            p = plot(circuit_data[circuit_data.PE .== \"E9\",:].HEURES_MAT, circuit_data[circuit_data.PE .== \"E9\",:].VALEUR, seriestype=:scatter, xlabel=\"HEURES_MAT\", ylabel=\"VALEUR\", label=\"IND-COL-1\", legend=:topright)\n",
    "            println(circuit_data)\n",
    "\n",
    "            # Chemin du répertoire où vous souhaitez enregistrer le fichier (relatif au répertoire de travail actuel)\n",
    "            directory = \"/home/AD/faidy/JuliaStatsProject/plots\"\n",
    "\n",
    "            # Combiner le chemin de répertoire et le nom du fichier\n",
    "            filename = joinpath(directory, \"IND-COL1 $unite $sous_unite $circuit.png\")\n",
    "\n",
    "            # Sauvegarder le graphique dans le fichier spécifié\n",
    "            savefig(p, filename)\n",
    "            append!(sizes, size(circuit_data.HEURES_MAT)[1])\n",
    "        end\n",
    "    end\n",
    "end\n",
    "\n",
    "display(sizes)\n"
   ]
  },
  {
   "cell_type": "code",
   "execution_count": null,
   "metadata": {},
   "outputs": [],
   "source": [
    "\n",
    "# Créer l'histogramme\n",
    "histogram(sizes, bins=10, title=\"Histogramme de Sizes\", xlabel=\"Taille\", ylabel=\"Fréquence\", label=\"Fréquence\")\n",
    "\n",
    "# Chemin du répertoire où vous souhaitez enregistrer le fichier (relatif au répertoire de travail actuel)\n",
    "# directory = \"/home/AD/faidy/JuliaStatsProject/plots\"\n",
    "\n",
    "# # Combiner le chemin de répertoire et le nom du fichier\n",
    "# filename = joinpath(directory, \"histogramme_sizes.png\")\n",
    "\n",
    "# Sauvegarder l'histogramme dans le fichier spécifié\n",
    "# savefig(filename)\n",
    "\n",
    "# println(\"Histogramme enregistré dans le fichier $filename\")\n"
   ]
  },
  {
   "cell_type": "code",
   "execution_count": null,
   "metadata": {},
   "outputs": [],
   "source": [
    "unites = unique(df2.UNITE)\n",
    "sizes2 = []\n",
    "for unite in unites\n",
    "    unite_data = df2[df2.UNITE .== unite,:]\n",
    "    sous_unites = unique(unite_data.SOUS_UNITE)\n",
    "    for sous_unite in sous_unites\n",
    "        sous_unite_data = unite_data[unite_data.SOUS_UNITE .== sous_unite,:]\n",
    "        circuits = unique(sous_unite_data.CIRCUIT)\n",
    "        for circuit in circuits\n",
    "            circuit_data = filter(row -> row.PE .== \"E9\" && row.BR .== \"C\", sous_unite_data[sous_unite_data.CIRCUIT .== circuit,:])\n",
    "            p = plot(circuit_data[circuit_data.PE .== \"E9\",:].HEURES_MAT, circuit_data[circuit_data.PE .== \"E9\",:].VALEUR, seriestype=:scatter, xlabel=\"HEURES_MAT\", ylabel=\"VALEUR\", label=\"IND-COL-1\", legend=:topright)\n",
    "            println(circuit_data)\n",
    "\n",
    "            # Chemin du répertoire où vous souhaitez enregistrer le fichier (relatif au répertoire de travail actuel)\n",
    "            directory = \"/home/AD/faidy/JuliaStatsProject/plots\"\n",
    "\n",
    "            # Combiner le chemin de répertoire et le nom du fichier\n",
    "            filename = joinpath(directory, \"IND-COL-2 $unite $sous_unite $circuit.png\")\n",
    "\n",
    "            # Sauvegarder le graphique dans le fichier spécifié\n",
    "            savefig(p, filename)\n",
    "            append!(sizes2, size(circuit_data.HEURES_MAT)[1])\n",
    "        end\n",
    "    end\n",
    "end\n",
    "\n",
    "display(sizes2)\n"
   ]
  },
  {
   "cell_type": "code",
   "execution_count": null,
   "metadata": {},
   "outputs": [],
   "source": [
    "# Créer l'histogramme\n",
    "histogram(sizes2, bins=14, title=\"Hist du nb de données de IND-COL-2 avec BR=C PE=E9 d'un circuit fixé\", xlabel=\"Taille\", ylabel=\"Fréquence\", label=\"Fréquence\", titlefontsize=10)\n"
   ]
  },
  {
   "cell_type": "code",
   "execution_count": null,
   "metadata": {},
   "outputs": [],
   "source": [
    "length(sizes2)"
   ]
  },
  {
   "cell_type": "code",
   "execution_count": null,
   "metadata": {},
   "outputs": [],
   "source": [
    "df_one_two = vcat(df1, df2, cols = :union )\n"
   ]
  },
  {
   "cell_type": "code",
   "execution_count": null,
   "metadata": {},
   "outputs": [],
   "source": [
    "dropmissing(df_one_two, :SONDE)\n",
    "missing_rows = df_one_two[ismissing.(df_one_two.SONDE), :]\n"
   ]
  },
  {
   "cell_type": "code",
   "execution_count": null,
   "metadata": {},
   "outputs": [],
   "source": [
    "nettoyages = readxlsheet(\"/home/AD/faidy/JuliaStatsProject/data/raw/real_data/Données_EDF_240611/Nettoyages/NETTOYAGES.xls\", \"NETTOYAGES\")\n",
    "df_nettoyages = MatrixToDataFrame(nettoyages)\n",
    "df_nettoyages = df_nettoyages[:, [:UNITE, :SOUS_UNITE, :CIRCUIT, :NUMERO, :HEURES_MAT]]\n",
    "df_nettoyages = rename!(df_nettoyages, :HEURES_MAT => :HEURES_NETT)\n"
   ]
  },
  {
   "cell_type": "code",
   "execution_count": 276,
   "metadata": {},
   "outputs": [
    {
     "data": {
      "text/plain": [
       "198-element Vector{Any}:\n",
       " 13\n",
       "  5\n",
       "  7\n",
       "  5\n",
       " 13\n",
       "  8\n",
       "  6\n",
       "  8\n",
       " 10\n",
       "  8\n",
       "  ⋮\n",
       " 13\n",
       "  5\n",
       "  5\n",
       " 11\n",
       "  5\n",
       "  5\n",
       " 12\n",
       "  5\n",
       "  5"
      ]
     },
     "metadata": {},
     "output_type": "display_data"
    }
   ],
   "source": [
    "unites = unique(df_one_two.UNITE)\n",
    "sizes2 = []\n",
    "for unite in unites\n",
    "    unite_data = df_one_two[df_one_two.UNITE .== unite,:]\n",
    "    sous_unites = unique(unite_data.SOUS_UNITE)\n",
    "    for sous_unite in sous_unites\n",
    "        sous_unite_data = unite_data[unite_data.SOUS_UNITE .== sous_unite,:]\n",
    "        circuits = unique(sous_unite_data.CIRCUIT)\n",
    "        for circuit in circuits\n",
    "            circuit_data = filter(row -> row.PE .== \"E9\" && row.BR .== \"C\", sous_unite_data[sous_unite_data.CIRCUIT .== circuit,:])\n",
    "            if !isempty(circuit_data)\n",
    "                ind_col_1 = circuit_data[ismissing.(circuit_data.SONDE),:]\n",
    "                ind_col_2 = circuit_data[.!ismissing.(circuit_data.SONDE),:]\n",
    "            else\n",
    "                circuit_data = filter(row -> row.PE .== \"E8\" && row.BR .== \"C\", sous_unite_data[sous_unite_data.CIRCUIT .== circuit,:])\n",
    "                ind_col_1 = circuit_data[ismissing.(circuit_data.SONDE),:]\n",
    "                ind_col_2 = circuit_data[.!ismissing.(circuit_data.SONDE),:]\n",
    "            end\n",
    "\n",
    "            p = plot(ind_col_1.HEURES_MAT, ind_col_1.VALEUR, xlabel=\"HEURES_MAT\", ylabel=\"VALEUR\", label=\"IND-COL-1\", legend=:topright, markershape=:circle, markercolor=:blue, linestyle=:dash)\n",
    "            plot!(p, ind_col_2.HEURES_MAT, ind_col_2.VALEUR, xlabel=\"HEURES_MAT\", ylabel=\"VALEUR\", label=\"IND-COL-2\", legend=:topright,  markershape=:diamond, markercolor=:red, linestyle=:dash)\n",
    "            # Chemin du répertoire où vous souhaitez enregistrer le fichier (relatif au répertoire de travail actuel)\n",
    "            heures_nettoyages = filter(raw -> raw.UNITE .== unite && raw.SOUS_UNITE .== sous_unite && raw.CIRCUIT .== circuit, df_nettoyages)\n",
    "            vline!(p, heures_nettoyages.HEURES_NETT, linestyle=:dot, color=:black, linewidth=1.5, label=false)\n",
    "\n",
    "            directory = \"/home/AD/faidy/JuliaStatsProject/plots\"\n",
    "\n",
    "            # Combiner le chemin de répertoire et le nom du fichier\n",
    "            filename = joinpath(directory, \"IND-COL-1&2 $unite $sous_unite $circuit.png\")\n",
    "\n",
    "            # Sauvegarder le graphique dans le fichier spécifié\n",
    "            savefig(p, filename)\n",
    "            append!(sizes2, size(circuit_data.HEURES_MAT)[1])\n",
    "        end\n",
    "    end\n",
    "end\n",
    "\n",
    "display(sizes2)\n"
   ]
  },
  {
   "cell_type": "code",
   "execution_count": null,
   "metadata": {},
   "outputs": [],
   "source": [
    "function IND_COL_3_and_EncMatToDataFrame(mat)\n",
    "    # Extraire les noms des colonnes\n",
    "    column_names = [mat[1,1],\"$(mat[2,3])_ENC\", \"$(mat[2,4])_ENC\", \"$(mat[2,5])_ENC\", \"$(mat[2,6])_ENC\", \"$(mat[2,15])_IND_COL_3\", \"$(mat[2,16])_IND_COL_3\", \"$(mat[2,17])_IND_COL_3\", \"$(mat[2,18])_IND_COL_3\"]\n",
    "\n",
    "    # Créer un DataFrame à partir des données extraites\n",
    "    df = DataFrame()\n",
    "\n",
    "    # Ajouter les données au DataFrame\n",
    "    df[!, column_names[1]] = mat[2:end,1]\n",
    "    df[!, column_names[2]] = mat[2:end,3]\n",
    "    df[!, column_names[3]] = mat[2:end,4]\n",
    "    df[!, column_names[4]] = mat[2:end,5]\n",
    "    df[!, column_names[5]] = mat[2:end,6]\n",
    "\n",
    "    df[!, column_names[6]] = mat[2:end,15]\n",
    "    df[!, column_names[7]] = mat[2:end,16]\n",
    "    df[!, column_names[8]] = mat[2:end,17]\n",
    "    df[!, column_names[9]] = mat[2:end,18]\n",
    "\n",
    "    return df\n",
    "end\n"
   ]
  },
  {
   "cell_type": "code",
   "execution_count": null,
   "metadata": {},
   "outputs": [],
   "source": [
    "using XLSX\n",
    "\n",
    "# Spécifiez le chemin complet de votre répertoire\n",
    "directory = \"/home/AD/faidy/JuliaStatsProject/data/raw/real_data/Données_EDF_240611/Encrassement\"\n",
    "\n",
    "# Utilisez readdir() pour obtenir les noms des fichiers et des sous-répertoires\n",
    "files = readdir(directory)\n",
    "\n",
    "# Filtrer les fichiers pour ne garder que ceux qui ont l'extension .xlsx\n",
    "xlsx_files = filter(file -> endswith(file, \".xlsx\"), files)\n",
    "xlsx_files = [file for file in xlsx_files if file != \"~\\$PERFOS_U2S4_3,48-3,47-3,49.xlsx\" && file != \"~\\$PERFOS_U19S2_2,45-2,43-2,44.xlsx\"]\n",
    "# Initialiser un dictionnaire vide pour stocker les DataFrames\n",
    "dict_df_enc = Dict{String, DataFrame}()\n",
    "\n",
    "# Lire les fichiers .xlsx et afficher les premières lignes\n",
    "for file in xlsx_files\n",
    "    try\n",
    "        # Lire la première feuille du fichier .xlsx\n",
    "        df = IND_COL_3_and_EncMatToDataFrame(XLSX.readdata(\"$directory/$file\", \"Feuil1\", \"A1:V144\"))\n",
    "        dict_df_enc[file] = dropmissing(df, :HEURES_MAT)\n",
    "\n",
    "    catch e\n",
    "        display(\"Erreur lors de la lecture du fichier $file: $e\")\n",
    "    end\n",
    "end\n"
   ]
  },
  {
   "cell_type": "code",
   "execution_count": null,
   "metadata": {},
   "outputs": [],
   "source": [
    "length(dict_df_enc)\n",
    "size(files)"
   ]
  },
  {
   "cell_type": "code",
   "execution_count": null,
   "metadata": {},
   "outputs": [],
   "source": [
    "for file in xlsx_files\n",
    "    p = plot(dict_df_enc[file].HEURES_MAT, dict_df_enc[file].C1_ENC, xlabel=\"HEURES_MAT\", ylabel=\"VALEUR\", label=\"C1\", legend=:topright, markershape=:circle, markercolor=:blue, linestyle=:dash)\n",
    "    plot!(p, dict_df_enc[file].HEURES_MAT, dict_df_enc[file].C2_ENC, xlabel=\"HEURES_MAT\", ylabel=\"VALEUR\", label=\"C2\", legend=:topright,  markershape=:diamond, markercolor=:red, linestyle=:dash)\n",
    "    plot!(p, dict_df_enc[file].HEURES_MAT, dict_df_enc[file].C3_ENC, xlabel=\"HEURES_MAT\", ylabel=\"VALEUR\", label=\"C3\", legend=:topright,  markershape=:diamond, markercolor=:red, linestyle=:dash)\n",
    "\n",
    "    # Nombre de lignes verticales à ajouter\n",
    "    num_lines = 30\n",
    "\n",
    "    # Positions des lignes verticales régulièrement espacées\n",
    "    vertical_lines_positions = range(minimum(dict_df_enc[file].HEURES_MAT), stop=maximum(dict_df_enc[file].HEURES_MAT), length=num_lines)\n",
    "\n",
    "    # Ajouter les lignes verticales au plot\n",
    "    for pos in vertical_lines_positions\n",
    "        vline!(p, [pos], linestyle=:dot, color=:lightgray, linewidth=1.5, label=false)\n",
    "    end\n",
    "    # Chemin du répertoire où vous souhaitez enregistrer le fichier (relatif au répertoire de travail actuel)\n",
    "    directory = \"/home/AD/faidy/JuliaStatsProject/plots\"\n",
    "\n",
    "    # Combiner le chemin de répertoire et le nom du fichier\n",
    "    filename = joinpath(directory, \"ENC $file.png\")\n",
    "\n",
    "    # Sauvegarder le graphique dans le fichier spécifié\n",
    "    savefig(p, filename)\n",
    "end"
   ]
  },
  {
   "cell_type": "code",
   "execution_count": null,
   "metadata": {},
   "outputs": [],
   "source": [
    "for file in xlsx_files\n",
    "    p = plot(dict_df_enc[file].HEURES_MAT, dict_df_enc[file].C1_IND_COL_3, xlabel=\"HEURES_MAT\", ylabel=\"VALEUR\", label=\"C1\", legend=:topright, markershape=:circle, markercolor=:blue, linestyle=:dash)\n",
    "    plot!(p, dict_df_enc[file].HEURES_MAT, dict_df_enc[file].C2_IND_COL_3, xlabel=\"HEURES_MAT\", ylabel=\"VALEUR\", label=\"C2\", legend=:topright,  markershape=:diamond, markercolor=:red, linestyle=:dash)\n",
    "    plot!(p, dict_df_enc[file].HEURES_MAT, dict_df_enc[file].C3_IND_COL_3, xlabel=\"HEURES_MAT\", ylabel=\"VALEUR\", label=\"C3\", legend=:topright,  markershape=:diamond, markercolor=:red, linestyle=:dash)\n",
    "\n",
    "    # Nombre de lignes verticales à ajouter\n",
    "    num_lines = 30\n",
    "\n",
    "    # Positions des lignes verticales régulièrement espacées\n",
    "    vertical_lines_positions = range(minimum(dict_df_enc[file].HEURES_MAT), stop=maximum(dict_df_enc[file].HEURES_MAT), length=num_lines)\n",
    "\n",
    "    # Ajouter les lignes verticales au plot\n",
    "    for pos in vertical_lines_positions\n",
    "        vline!(p, [pos], linestyle=:dot, color=:lightgray, linewidth=1.5, label=false)\n",
    "    end\n",
    "    # Chemin du répertoire où vous souhaitez enregistrer le fichier (relatif au répertoire de travail actuel)\n",
    "    directory = \"/home/AD/faidy/JuliaStatsProject/plots\"\n",
    "\n",
    "    # Combiner le chemin de répertoire et le nom du fichier\n",
    "    filename = joinpath(directory, \"IND_COL_3 $file.png\")\n",
    "\n",
    "    # Sauvegarder le graphique dans le fichier spécifié\n",
    "    savefig(p, filename)\n",
    "end"
   ]
  },
  {
   "cell_type": "code",
   "execution_count": null,
   "metadata": {},
   "outputs": [],
   "source": [
    "nettoyages = readxlsheet(\"/home/AD/faidy/JuliaStatsProject/data/raw/real_data/Données_EDF_240611/Nettoyages/NETTOYAGES.xls\", \"NETTOYAGES\")"
   ]
  },
  {
   "cell_type": "code",
   "execution_count": null,
   "metadata": {},
   "outputs": [],
   "source": [
    "df_nettoyages = MatrixToDataFrame(nettoyages)"
   ]
  },
  {
   "cell_type": "code",
   "execution_count": null,
   "metadata": {},
   "outputs": [],
   "source": [
    "df_nettoyages = df_nettoyages[:, [:UNITE, :SOUS_UNITE, :CIRCUIT, :NUMERO, :HEURES_MAT]]\n",
    "df_nettoyages = rename!(df_nettoyages, :HEURES_MAT => :HEURES_NETT)"
   ]
  },
  {
   "cell_type": "code",
   "execution_count": null,
   "metadata": {},
   "outputs": [],
   "source": [
    "length(df_one_two.HEURES_MAT)"
   ]
  },
  {
   "cell_type": "code",
   "execution_count": null,
   "metadata": {},
   "outputs": [],
   "source": [
    "df_one_two_with_nett = vcat(df_one_two[:, [:UNITE, :SOUS_UNITE, :CIRCUIT, :NUMERO, :HEURES_MAT]], df_nettoyages, cols = :union )\n"
   ]
  },
  {
   "cell_type": "code",
   "execution_count": null,
   "metadata": {},
   "outputs": [],
   "source": [
    "# df_one_two_with_nett = leftjoin(df_one_two[:, [:UNITE, :SOUS_UNITE, :CIRCUIT, :NUMERO, :HEURES_MAT]], df_nettoyages, on = [:UNITE, :SOUS_UNITE, :CIRCUIT, :NUMERO] )\n"
   ]
  }
 ],
 "metadata": {
  "kernelspec": {
   "display_name": "Julia 1.10.4",
   "language": "julia",
   "name": "julia-1.10"
  },
  "language_info": {
   "file_extension": ".jl",
   "mimetype": "application/julia",
   "name": "julia",
   "version": "1.10.4"
  },
  "orig_nbformat": 4
 },
 "nbformat": 4,
 "nbformat_minor": 2
}
