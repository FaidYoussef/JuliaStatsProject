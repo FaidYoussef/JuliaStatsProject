{
 "cells": [
  {
   "cell_type": "markdown",
   "metadata": {},
   "source": [
    "### Chargement des données\n",
    "Dans cette section, nous allons charger les données à partir d'un fichier Excel. Nous utiliserons la bibliothèque `ExcelReaders` pour lire le fichier et la bibliothèque `DataFrames` pour manipuler les données.\n"
   ]
  },
  {
   "cell_type": "code",
   "execution_count": 1,
   "metadata": {},
   "outputs": [],
   "source": [
    "using DataFrames\n",
    "using ExcelReaders\n",
    "using Plots\n",
    "using DataValues\n",
    "using XLSX\n",
    "using Statistics\n",
    "using Tables"
   ]
  },
  {
   "cell_type": "markdown",
   "metadata": {},
   "source": [
    "### Avant de commencer à éxécuter les cellules du code\n",
    "- Copier dans la variable `chemin_données`, le chemin d'accès vers le dossier `Données_EDF_240611`\n",
    "- Copier dans la variable `chemin_projet`, le chemin d'accès vers le dossier `JuliaStatsProject`"
   ]
  },
  {
   "cell_type": "markdown",
   "metadata": {},
   "source": [
    "Dans cette section, nous chargeons les données à partir des fichier Excel `IND-COL-1.xls` et `IND-COL-2.xls` situé dans le répertoire spécifié."
   ]
  },
  {
   "cell_type": "code",
   "execution_count": 2,
   "metadata": {},
   "outputs": [
    {
     "data": {
      "text/plain": [
       "\"/home/AD/faidy/JuliaStatsProject/\""
      ]
     },
     "metadata": {},
     "output_type": "display_data"
    }
   ],
   "source": [
    "chemin_données = \"/home/AD/faidy/JuliaStatsProject/data/real_data/\"\n",
    "chemin_projet = \"/home/AD/faidy/JuliaStatsProject/\""
   ]
  },
  {
   "cell_type": "code",
   "execution_count": 3,
   "metadata": {},
   "outputs": [
    {
     "data": {
      "text/plain": [
       "1083×17 Matrix{Any}:\n",
       " \"UNITE\"  \"SOUS_UNITE\"  \"CIRCUIT\"   \"NUMERO\"  …  \"TUBISTE\"  \"CONSTITUTION\"\n",
       " \"U4\"     \"S1\"          \"C3\"       1.27          \"S\"        \"CONST2\"\n",
       " \"U4\"     \"S1\"          \"C3\"       1.27          \"S\"        \"CONST2\"\n",
       " \"U4\"     \"S1\"          \"C3\"       1.27          \"S\"        \"CONST2\"\n",
       " \"U4\"     \"S1\"          \"C3\"       1.27          \"S\"        \"CONST2\"\n",
       " \"U4\"     \"S1\"          \"C3\"       1.27       …  \"S\"        \"CONST2\"\n",
       " \"U4\"     \"S1\"          \"C3\"       1.27          \"S\"        \"CONST2\"\n",
       " \"U4\"     \"S1\"          \"C3\"       1.27          \"S\"        \"CONST2\"\n",
       " \"U4\"     \"S2\"          \"C1\"       1.43          \"V\"        \"CONST2\"\n",
       " \"U4\"     \"S2\"          \"C1\"       1.43          \"V\"        \"CONST2\"\n",
       " ⋮                                            ⋱  ⋮          \n",
       " \"U19\"    \"S3\"          \"C2\"       2.56          \"V\"        \"CONST3\"\n",
       " \"U19\"    \"S3\"          \"C2\"       2.56       …  \"V\"        \"CONST3\"\n",
       " \"U19\"    \"S3\"          \"C2\"       2.56          \"V\"        \"CONST3\"\n",
       " \"U19\"    \"S4\"          \"C2\"       2.81          \"V\"        \"CONST3\"\n",
       " \"U19\"    \"S4\"          \"C2\"       2.81          \"V\"        \"CONST3\"\n",
       " \"U19\"    \"S4\"          \"C2\"       2.81          \"V\"        \"CONST3\"\n",
       " \"U19\"    \"S4\"          \"C2\"       2.81       …  \"V\"        \"CONST3\"\n",
       " \"U19\"    \"S4\"          \"C2\"       2.81          \"V\"        \"CONST3\"\n",
       " \"U19\"    \"S4\"          \"C2\"       2.81          \"V\"        \"CONST3\""
      ]
     },
     "metadata": {},
     "output_type": "display_data"
    }
   ],
   "source": [
    "# Transformer le contenu de la feuille de IND-COL-1.xls en une matrice\n",
    "data_matrix_ind_col1 = readxlsheet(string(chemin_données, \"Données_EDF_240611/Colmatage/IND-COL-1.xls\"), \"IND-COL-1\")"
   ]
  },
  {
   "cell_type": "code",
   "execution_count": 4,
   "metadata": {},
   "outputs": [
    {
     "data": {
      "text/plain": [
       "18722×17 Matrix{Any}:\n",
       " \"UNITE\"  \"SOUS_UNITE\"  \"CIRCUIT\"   \"NUMERO\"  …  \"TUBISTE\"  \"CONSTITUTION\"\n",
       " \"U1\"     \"S1\"          \"C1\"       1.4           \"W\"        \"CONST2\"\n",
       " \"U1\"     \"S1\"          \"C1\"       1.4           \"W\"        \"CONST2\"\n",
       " \"U1\"     \"S1\"          \"C1\"       1.4           \"W\"        \"CONST2\"\n",
       " \"U1\"     \"S1\"          \"C1\"       1.4           \"W\"        \"CONST2\"\n",
       " \"U1\"     \"S1\"          \"C1\"       1.4        …  \"W\"        \"CONST2\"\n",
       " \"U1\"     \"S1\"          \"C1\"       1.4           \"W\"        \"CONST2\"\n",
       " \"U1\"     \"S1\"          \"C1\"       1.4           \"W\"        \"CONST2\"\n",
       " \"U1\"     \"S1\"          \"C1\"       1.4           \"W\"        \"CONST2\"\n",
       " \"U1\"     \"S1\"          \"C1\"       1.4           \"W\"        \"CONST2\"\n",
       " ⋮                                            ⋱  ⋮          \n",
       " \"U19\"    \"S4\"          \"C3\"       2.8           \"V\"        \"CONST3\"\n",
       " \"U19\"    \"S4\"          \"C3\"       2.8           \"V\"        \"CONST3\"\n",
       " \"U19\"    \"S4\"          \"C3\"       2.8        …  \"V\"        \"CONST3\"\n",
       " \"U19\"    \"S4\"          \"C3\"       2.8           \"V\"        \"CONST3\"\n",
       " \"U19\"    \"S4\"          \"C3\"       2.8           \"V\"        \"CONST3\"\n",
       " \"U19\"    \"S4\"          \"C3\"       2.8           \"V\"        \"CONST3\"\n",
       " \"U19\"    \"S4\"          \"C3\"       2.8           \"V\"        \"CONST3\"\n",
       " \"U19\"    \"S4\"          \"C3\"       2.8        …  \"V\"        \"CONST3\"\n",
       " \"U19\"    \"S4\"          \"C3\"       2.8           \"V\"        \"CONST3\""
      ]
     },
     "metadata": {},
     "output_type": "display_data"
    }
   ],
   "source": [
    "# Transformer le contenu de la feuille de IND-COL-2.xls en une matrice\n",
    "data_matrix_ind_col2 = readxlsheet(string(chemin_données, \"Données_EDF_240611/Colmatage/IND-COL-2.xls\"), \"IND-COL-2\")"
   ]
  },
  {
   "cell_type": "code",
   "execution_count": 5,
   "metadata": {},
   "outputs": [
    {
     "data": {
      "text/plain": [
       "Matrix{Any}\u001b[90m (alias for \u001b[39m\u001b[90mArray{Any, 2}\u001b[39m\u001b[90m)\u001b[39m"
      ]
     },
     "metadata": {},
     "output_type": "display_data"
    }
   ],
   "source": [
    "# Vérifier le type de l'objet\n",
    "typeof(data_matrix_ind_col1)"
   ]
  },
  {
   "cell_type": "code",
   "execution_count": 6,
   "metadata": {},
   "outputs": [
    {
     "data": {
      "text/plain": [
       "18722×17 Matrix{Any}:\n",
       " \"UNITE\"  \"SOUS_UNITE\"  \"CIRCUIT\"   \"NUMERO\"  …  \"TUBISTE\"  \"CONSTITUTION\"\n",
       " \"U1\"     \"S1\"          \"C1\"       1.4           \"W\"        \"CONST2\"\n",
       " \"U1\"     \"S1\"          \"C1\"       1.4           \"W\"        \"CONST2\"\n",
       " \"U1\"     \"S1\"          \"C1\"       1.4           \"W\"        \"CONST2\"\n",
       " \"U1\"     \"S1\"          \"C1\"       1.4           \"W\"        \"CONST2\"\n",
       " \"U1\"     \"S1\"          \"C1\"       1.4        …  \"W\"        \"CONST2\"\n",
       " \"U1\"     \"S1\"          \"C1\"       1.4           \"W\"        \"CONST2\"\n",
       " \"U1\"     \"S1\"          \"C1\"       1.4           \"W\"        \"CONST2\"\n",
       " \"U1\"     \"S1\"          \"C1\"       1.4           \"W\"        \"CONST2\"\n",
       " \"U1\"     \"S1\"          \"C1\"       1.4           \"W\"        \"CONST2\"\n",
       " ⋮                                            ⋱  ⋮          \n",
       " \"U19\"    \"S4\"          \"C3\"       2.8           \"V\"        \"CONST3\"\n",
       " \"U19\"    \"S4\"          \"C3\"       2.8           \"V\"        \"CONST3\"\n",
       " \"U19\"    \"S4\"          \"C3\"       2.8        …  \"V\"        \"CONST3\"\n",
       " \"U19\"    \"S4\"          \"C3\"       2.8           \"V\"        \"CONST3\"\n",
       " \"U19\"    \"S4\"          \"C3\"       2.8           \"V\"        \"CONST3\"\n",
       " \"U19\"    \"S4\"          \"C3\"       2.8           \"V\"        \"CONST3\"\n",
       " \"U19\"    \"S4\"          \"C3\"       2.8           \"V\"        \"CONST3\"\n",
       " \"U19\"    \"S4\"          \"C3\"       2.8        …  \"V\"        \"CONST3\"\n",
       " \"U19\"    \"S4\"          \"C3\"       2.8           \"V\"        \"CONST3\""
      ]
     },
     "metadata": {},
     "output_type": "display_data"
    }
   ],
   "source": [
    "# Les cases vides de la colonne VALEUR des fichiers IND-COL-1.xls et IND-COL-2.xls ont été remplis par un objet DataValue{Union{}} \n",
    "# qu'on le remplace par l'objet missing qui représente une donnée manquante en Julia\n",
    "isNA(x) = typeof(x) == DataValue{Union{}}\n",
    "valeurs = replace( x -> isNA(x) ? missing : x, data_matrix_ind_col1)\n",
    "\n",
    "data_matrix_ind_col1 = replace( x -> isNA(x) ? missing : x, data_matrix_ind_col1)\n",
    "data_matrix_ind_col2 = replace( x -> isNA(x) ? missing : x, data_matrix_ind_col2)"
   ]
  },
  {
   "cell_type": "markdown",
   "metadata": {},
   "source": [
    "### Conversion de Matrice en DataFrame\n",
    "\n",
    "La fonction `MatrixToDataFrame(mat)` prend en entrée une matrice `mat` et retourne un DataFrame `DF_mat` en excluant la première ligne de `mat` comme les noms de colonnes.\n",
    "\n",
    "#### Paramètres :\n",
    "\n",
    "- `mat` : Une matrice représentant les données à convertir en DataFrame.\n",
    "\n",
    "#### Sortie :\n",
    "\n",
    "Un objet DataFrame `DF_mat` où les données de la première ligne de `mat` sont utilisées comme noms de colonnes.\n",
    "\n",
    "Cette fonction est utile pour convertir des données structurées sous forme de matrice en un format plus facile à manipuler et à analyser à l'aide de la bibliothèque `DataFrames` en Julia.\n"
   ]
  },
  {
   "cell_type": "code",
   "execution_count": 7,
   "metadata": {},
   "outputs": [
    {
     "data": {
      "text/plain": [
       "MatrixToDataFrame (generic function with 1 method)"
      ]
     },
     "metadata": {},
     "output_type": "display_data"
    }
   ],
   "source": [
    "function MatrixToDataFrame(mat)\n",
    "    DF_mat = DataFrame(\n",
    "        mat[2:end, 1:end],\n",
    "        string.(mat[1, 1:end])\n",
    "    )\n",
    "    return DF_mat\n",
    "end"
   ]
  },
  {
   "cell_type": "code",
   "execution_count": 8,
   "metadata": {},
   "outputs": [
    {
     "data": {
      "text/html": [
       "<div><div style = \"float: left;\"><span>1082×17 DataFrame</span></div><div style = \"float: right;\"><span style = \"font-style: italic;\">1057 rows omitted</span></div><div style = \"clear: both;\"></div></div><div class = \"data-frame\" style = \"overflow-x: scroll;\"><table class = \"data-frame\" style = \"margin-bottom: 6px;\"><thead><tr class = \"header\"><th class = \"rowNumber\" style = \"font-weight: bold; text-align: right;\">Row</th><th style = \"text-align: left;\">UNITE</th><th style = \"text-align: left;\">SOUS_UNITE</th><th style = \"text-align: left;\">CIRCUIT</th><th style = \"text-align: left;\">NUMERO</th><th style = \"text-align: left;\">BR</th><th style = \"text-align: left;\">HEURES_MAT</th><th style = \"text-align: left;\">PE</th><th style = \"text-align: left;\">AVANT_NET</th><th style = \"text-align: left;\">APRES_NET</th><th style = \"text-align: left;\">INFER</th><th style = \"text-align: left;\">VALEUR</th><th style = \"text-align: left;\">INCERTITUDE</th><th style = \"text-align: left;\">TAUX_H</th><th style = \"text-align: left;\">REFERENCE</th><th style = \"text-align: left;\">ACIERISTE</th><th style = \"text-align: left;\">TUBISTE</th><th style = \"text-align: left;\">CONSTITUTION</th></tr><tr class = \"subheader headerLastRow\"><th class = \"rowNumber\" style = \"font-weight: bold; text-align: right;\"></th><th title = \"Any\" style = \"text-align: left;\">Any</th><th title = \"Any\" style = \"text-align: left;\">Any</th><th title = \"Any\" style = \"text-align: left;\">Any</th><th title = \"Any\" style = \"text-align: left;\">Any</th><th title = \"Any\" style = \"text-align: left;\">Any</th><th title = \"Any\" style = \"text-align: left;\">Any</th><th title = \"Any\" style = \"text-align: left;\">Any</th><th title = \"Any\" style = \"text-align: left;\">Any</th><th title = \"Any\" style = \"text-align: left;\">Any</th><th title = \"Any\" style = \"text-align: left;\">Any</th><th title = \"Any\" style = \"text-align: left;\">Any</th><th title = \"Any\" style = \"text-align: left;\">Any</th><th title = \"Any\" style = \"text-align: left;\">Any</th><th title = \"Any\" style = \"text-align: left;\">Any</th><th title = \"Any\" style = \"text-align: left;\">Any</th><th title = \"Any\" style = \"text-align: left;\">Any</th><th title = \"Any\" style = \"text-align: left;\">Any</th></tr></thead><tbody><tr><td class = \"rowNumber\" style = \"font-weight: bold; text-align: right;\">1</td><td style = \"text-align: left;\">U4</td><td style = \"text-align: left;\">S1</td><td style = \"text-align: left;\">C3</td><td style = \"text-align: left;\">1.27</td><td style = \"text-align: left;\">F</td><td style = \"text-align: left;\">215612.0</td><td style = \"text-align: left;\">E9</td><td style = \"text-align: left;\">false</td><td style = \"text-align: left;\">false</td><td style = \"text-align: left;\">false</td><td style = \"text-align: left;\">28.0</td><td style = \"text-align: left;\">5.0</td><td style = \"text-align: left;\">6.0</td><td style = \"text-align: left;\">R12</td><td style = \"text-align: left;\">S</td><td style = \"text-align: left;\">S</td><td style = \"text-align: left;\">CONST2</td></tr><tr><td class = \"rowNumber\" style = \"font-weight: bold; text-align: right;\">2</td><td style = \"text-align: left;\">U4</td><td style = \"text-align: left;\">S1</td><td style = \"text-align: left;\">C3</td><td style = \"text-align: left;\">1.27</td><td style = \"text-align: left;\">F</td><td style = \"text-align: left;\">224510.0</td><td style = \"text-align: left;\">E9</td><td style = \"text-align: left;\">true</td><td style = \"text-align: left;\">false</td><td style = \"text-align: left;\">false</td><td style = \"text-align: left;\">30.0</td><td style = \"text-align: left;\">5.0</td><td style = \"font-style: italic; text-align: left;\">missing</td><td style = \"text-align: left;\">R12</td><td style = \"text-align: left;\">S</td><td style = \"text-align: left;\">S</td><td style = \"text-align: left;\">CONST2</td></tr><tr><td class = \"rowNumber\" style = \"font-weight: bold; text-align: right;\">3</td><td style = \"text-align: left;\">U4</td><td style = \"text-align: left;\">S1</td><td style = \"text-align: left;\">C3</td><td style = \"text-align: left;\">1.27</td><td style = \"text-align: left;\">F</td><td style = \"text-align: left;\">237085.0</td><td style = \"text-align: left;\">E9</td><td style = \"text-align: left;\">false</td><td style = \"text-align: left;\">false</td><td style = \"text-align: left;\">true</td><td style = \"text-align: left;\">15.0</td><td style = \"font-style: italic; text-align: left;\">missing</td><td style = \"font-style: italic; text-align: left;\">missing</td><td style = \"text-align: left;\">R12</td><td style = \"text-align: left;\">S</td><td style = \"text-align: left;\">S</td><td style = \"text-align: left;\">CONST2</td></tr><tr><td class = \"rowNumber\" style = \"font-weight: bold; text-align: right;\">4</td><td style = \"text-align: left;\">U4</td><td style = \"text-align: left;\">S1</td><td style = \"text-align: left;\">C3</td><td style = \"text-align: left;\">1.27</td><td style = \"text-align: left;\">F</td><td style = \"text-align: left;\">245389.0</td><td style = \"text-align: left;\">E5</td><td style = \"text-align: left;\">false</td><td style = \"text-align: left;\">false</td><td style = \"text-align: left;\">true</td><td style = \"text-align: left;\">10.0</td><td style = \"font-style: italic; text-align: left;\">missing</td><td style = \"font-style: italic; text-align: left;\">missing</td><td style = \"text-align: left;\">R12</td><td style = \"text-align: left;\">S</td><td style = \"text-align: left;\">S</td><td style = \"text-align: left;\">CONST2</td></tr><tr><td class = \"rowNumber\" style = \"font-weight: bold; text-align: right;\">5</td><td style = \"text-align: left;\">U4</td><td style = \"text-align: left;\">S1</td><td style = \"text-align: left;\">C3</td><td style = \"text-align: left;\">1.27</td><td style = \"text-align: left;\">F</td><td style = \"text-align: left;\">245389.0</td><td style = \"text-align: left;\">E6</td><td style = \"text-align: left;\">false</td><td style = \"text-align: left;\">false</td><td style = \"text-align: left;\">false</td><td style = \"font-style: italic; text-align: left;\">missing</td><td style = \"font-style: italic; text-align: left;\">missing</td><td style = \"font-style: italic; text-align: left;\">missing</td><td style = \"text-align: left;\">R12</td><td style = \"text-align: left;\">S</td><td style = \"text-align: left;\">S</td><td style = \"text-align: left;\">CONST2</td></tr><tr><td class = \"rowNumber\" style = \"font-weight: bold; text-align: right;\">6</td><td style = \"text-align: left;\">U4</td><td style = \"text-align: left;\">S1</td><td style = \"text-align: left;\">C3</td><td style = \"text-align: left;\">1.27</td><td style = \"text-align: left;\">F</td><td style = \"text-align: left;\">245389.0</td><td style = \"text-align: left;\">E1</td><td style = \"text-align: left;\">false</td><td style = \"text-align: left;\">false</td><td style = \"text-align: left;\">false</td><td style = \"font-style: italic; text-align: left;\">missing</td><td style = \"font-style: italic; text-align: left;\">missing</td><td style = \"font-style: italic; text-align: left;\">missing</td><td style = \"text-align: left;\">R12</td><td style = \"text-align: left;\">S</td><td style = \"text-align: left;\">S</td><td style = \"text-align: left;\">CONST2</td></tr><tr><td class = \"rowNumber\" style = \"font-weight: bold; text-align: right;\">7</td><td style = \"text-align: left;\">U4</td><td style = \"text-align: left;\">S1</td><td style = \"text-align: left;\">C3</td><td style = \"text-align: left;\">1.27</td><td style = \"text-align: left;\">F</td><td style = \"text-align: left;\">245389.0</td><td style = \"text-align: left;\">E9</td><td style = \"text-align: left;\">false</td><td style = \"text-align: left;\">false</td><td style = \"text-align: left;\">true</td><td style = \"text-align: left;\">15.0</td><td style = \"font-style: italic; text-align: left;\">missing</td><td style = \"font-style: italic; text-align: left;\">missing</td><td style = \"text-align: left;\">R12</td><td style = \"text-align: left;\">S</td><td style = \"text-align: left;\">S</td><td style = \"text-align: left;\">CONST2</td></tr><tr><td class = \"rowNumber\" style = \"font-weight: bold; text-align: right;\">8</td><td style = \"text-align: left;\">U4</td><td style = \"text-align: left;\">S2</td><td style = \"text-align: left;\">C1</td><td style = \"text-align: left;\">1.43</td><td style = \"text-align: left;\">F</td><td style = \"text-align: left;\">148255.0</td><td style = \"text-align: left;\">E9</td><td style = \"text-align: left;\">false</td><td style = \"text-align: left;\">false</td><td style = \"text-align: left;\">true</td><td style = \"text-align: left;\">10.0</td><td style = \"font-style: italic; text-align: left;\">missing</td><td style = \"font-style: italic; text-align: left;\">missing</td><td style = \"text-align: left;\">R12</td><td style = \"text-align: left;\">HI</td><td style = \"text-align: left;\">V</td><td style = \"text-align: left;\">CONST2</td></tr><tr><td class = \"rowNumber\" style = \"font-weight: bold; text-align: right;\">9</td><td style = \"text-align: left;\">U4</td><td style = \"text-align: left;\">S2</td><td style = \"text-align: left;\">C1</td><td style = \"text-align: left;\">1.43</td><td style = \"text-align: left;\">F</td><td style = \"text-align: left;\">148255.0</td><td style = \"text-align: left;\">E5</td><td style = \"text-align: left;\">false</td><td style = \"text-align: left;\">false</td><td style = \"text-align: left;\">false</td><td style = \"font-style: italic; text-align: left;\">missing</td><td style = \"font-style: italic; text-align: left;\">missing</td><td style = \"font-style: italic; text-align: left;\">missing</td><td style = \"text-align: left;\">R12</td><td style = \"text-align: left;\">HI</td><td style = \"text-align: left;\">V</td><td style = \"text-align: left;\">CONST2</td></tr><tr><td class = \"rowNumber\" style = \"font-weight: bold; text-align: right;\">10</td><td style = \"text-align: left;\">U4</td><td style = \"text-align: left;\">S2</td><td style = \"text-align: left;\">C1</td><td style = \"text-align: left;\">1.43</td><td style = \"text-align: left;\">F</td><td style = \"text-align: left;\">148255.0</td><td style = \"text-align: left;\">E4</td><td style = \"text-align: left;\">false</td><td style = \"text-align: left;\">false</td><td style = \"text-align: left;\">false</td><td style = \"font-style: italic; text-align: left;\">missing</td><td style = \"font-style: italic; text-align: left;\">missing</td><td style = \"font-style: italic; text-align: left;\">missing</td><td style = \"text-align: left;\">R12</td><td style = \"text-align: left;\">HI</td><td style = \"text-align: left;\">V</td><td style = \"text-align: left;\">CONST2</td></tr><tr><td class = \"rowNumber\" style = \"font-weight: bold; text-align: right;\">11</td><td style = \"text-align: left;\">U4</td><td style = \"text-align: left;\">S2</td><td style = \"text-align: left;\">C1</td><td style = \"text-align: left;\">1.43</td><td style = \"text-align: left;\">F</td><td style = \"text-align: left;\">148255.0</td><td style = \"text-align: left;\">E3</td><td style = \"text-align: left;\">false</td><td style = \"text-align: left;\">false</td><td style = \"text-align: left;\">false</td><td style = \"font-style: italic; text-align: left;\">missing</td><td style = \"font-style: italic; text-align: left;\">missing</td><td style = \"font-style: italic; text-align: left;\">missing</td><td style = \"text-align: left;\">R12</td><td style = \"text-align: left;\">HI</td><td style = \"text-align: left;\">V</td><td style = \"text-align: left;\">CONST2</td></tr><tr><td class = \"rowNumber\" style = \"font-weight: bold; text-align: right;\">12</td><td style = \"text-align: left;\">U4</td><td style = \"text-align: left;\">S2</td><td style = \"text-align: left;\">C1</td><td style = \"text-align: left;\">1.43</td><td style = \"text-align: left;\">F</td><td style = \"text-align: left;\">148255.0</td><td style = \"text-align: left;\">E1</td><td style = \"text-align: left;\">false</td><td style = \"text-align: left;\">false</td><td style = \"text-align: left;\">false</td><td style = \"font-style: italic; text-align: left;\">missing</td><td style = \"font-style: italic; text-align: left;\">missing</td><td style = \"font-style: italic; text-align: left;\">missing</td><td style = \"text-align: left;\">R12</td><td style = \"text-align: left;\">HI</td><td style = \"text-align: left;\">V</td><td style = \"text-align: left;\">CONST2</td></tr><tr><td class = \"rowNumber\" style = \"font-weight: bold; text-align: right;\">13</td><td style = \"text-align: left;\">U4</td><td style = \"text-align: left;\">S2</td><td style = \"text-align: left;\">C1</td><td style = \"text-align: left;\">1.43</td><td style = \"text-align: left;\">F</td><td style = \"text-align: left;\">148255.0</td><td style = \"text-align: left;\">E6</td><td style = \"text-align: left;\">false</td><td style = \"text-align: left;\">false</td><td style = \"text-align: left;\">false</td><td style = \"font-style: italic; text-align: left;\">missing</td><td style = \"font-style: italic; text-align: left;\">missing</td><td style = \"font-style: italic; text-align: left;\">missing</td><td style = \"text-align: left;\">R12</td><td style = \"text-align: left;\">HI</td><td style = \"text-align: left;\">V</td><td style = \"text-align: left;\">CONST2</td></tr><tr><td style = \"text-align: right;\">&vellip;</td><td style = \"text-align: right;\">&vellip;</td><td style = \"text-align: right;\">&vellip;</td><td style = \"text-align: right;\">&vellip;</td><td style = \"text-align: right;\">&vellip;</td><td style = \"text-align: right;\">&vellip;</td><td style = \"text-align: right;\">&vellip;</td><td style = \"text-align: right;\">&vellip;</td><td style = \"text-align: right;\">&vellip;</td><td style = \"text-align: right;\">&vellip;</td><td style = \"text-align: right;\">&vellip;</td><td style = \"text-align: right;\">&vellip;</td><td style = \"text-align: right;\">&vellip;</td><td style = \"text-align: right;\">&vellip;</td><td style = \"text-align: right;\">&vellip;</td><td style = \"text-align: right;\">&vellip;</td><td style = \"text-align: right;\">&vellip;</td><td style = \"text-align: right;\">&vellip;</td></tr><tr><td class = \"rowNumber\" style = \"font-weight: bold; text-align: right;\">1071</td><td style = \"text-align: left;\">U19</td><td style = \"text-align: left;\">S2</td><td style = \"text-align: left;\">C2</td><td style = \"text-align: left;\">2.43</td><td style = \"text-align: left;\">F</td><td style = \"text-align: left;\">150693.0</td><td style = \"text-align: left;\">E8</td><td style = \"text-align: left;\">false</td><td style = \"text-align: left;\">false</td><td style = \"text-align: left;\">false</td><td style = \"text-align: left;\">20.0</td><td style = \"text-align: left;\">5.0</td><td style = \"font-style: italic; text-align: left;\">missing</td><td style = \"text-align: left;\">R1</td><td style = \"text-align: left;\">T</td><td style = \"text-align: left;\">V</td><td style = \"text-align: left;\">CONST3</td></tr><tr><td class = \"rowNumber\" style = \"font-weight: bold; text-align: right;\">1072</td><td style = \"text-align: left;\">U19</td><td style = \"text-align: left;\">S2</td><td style = \"text-align: left;\">C2</td><td style = \"text-align: left;\">2.43</td><td style = \"text-align: left;\">F</td><td style = \"text-align: left;\">164491.0</td><td style = \"text-align: left;\">E1</td><td style = \"text-align: left;\">false</td><td style = \"text-align: left;\">false</td><td style = \"text-align: left;\">false</td><td style = \"font-style: italic; text-align: left;\">missing</td><td style = \"font-style: italic; text-align: left;\">missing</td><td style = \"font-style: italic; text-align: left;\">missing</td><td style = \"text-align: left;\">R1</td><td style = \"text-align: left;\">T</td><td style = \"text-align: left;\">V</td><td style = \"text-align: left;\">CONST3</td></tr><tr><td class = \"rowNumber\" style = \"font-weight: bold; text-align: right;\">1073</td><td style = \"text-align: left;\">U19</td><td style = \"text-align: left;\">S2</td><td style = \"text-align: left;\">C2</td><td style = \"text-align: left;\">2.43</td><td style = \"text-align: left;\">F</td><td style = \"text-align: left;\">164491.0</td><td style = \"text-align: left;\">E8</td><td style = \"text-align: left;\">false</td><td style = \"text-align: left;\">false</td><td style = \"text-align: left;\">false</td><td style = \"text-align: left;\">21.0</td><td style = \"text-align: left;\">5.0</td><td style = \"text-align: left;\">3.0</td><td style = \"text-align: left;\">R1</td><td style = \"text-align: left;\">T</td><td style = \"text-align: left;\">V</td><td style = \"text-align: left;\">CONST3</td></tr><tr><td class = \"rowNumber\" style = \"font-weight: bold; text-align: right;\">1074</td><td style = \"text-align: left;\">U19</td><td style = \"text-align: left;\">S3</td><td style = \"text-align: left;\">C2</td><td style = \"text-align: left;\">2.56</td><td style = \"text-align: left;\">F</td><td style = \"text-align: left;\">90677.0</td><td style = \"text-align: left;\">E1</td><td style = \"text-align: left;\">false</td><td style = \"text-align: left;\">false</td><td style = \"text-align: left;\">false</td><td style = \"font-style: italic; text-align: left;\">missing</td><td style = \"font-style: italic; text-align: left;\">missing</td><td style = \"font-style: italic; text-align: left;\">missing</td><td style = \"text-align: left;\">R1</td><td style = \"text-align: left;\">TA</td><td style = \"text-align: left;\">V</td><td style = \"text-align: left;\">CONST3</td></tr><tr><td class = \"rowNumber\" style = \"font-weight: bold; text-align: right;\">1075</td><td style = \"text-align: left;\">U19</td><td style = \"text-align: left;\">S3</td><td style = \"text-align: left;\">C2</td><td style = \"text-align: left;\">2.56</td><td style = \"text-align: left;\">F</td><td style = \"text-align: left;\">90677.0</td><td style = \"text-align: left;\">E8</td><td style = \"text-align: left;\">false</td><td style = \"text-align: left;\">false</td><td style = \"text-align: left;\">true</td><td style = \"text-align: left;\">15.0</td><td style = \"font-style: italic; text-align: left;\">missing</td><td style = \"font-style: italic; text-align: left;\">missing</td><td style = \"text-align: left;\">R1</td><td style = \"text-align: left;\">TA</td><td style = \"text-align: left;\">V</td><td style = \"text-align: left;\">CONST3</td></tr><tr><td class = \"rowNumber\" style = \"font-weight: bold; text-align: right;\">1076</td><td style = \"text-align: left;\">U19</td><td style = \"text-align: left;\">S3</td><td style = \"text-align: left;\">C2</td><td style = \"text-align: left;\">2.56</td><td style = \"text-align: left;\">F</td><td style = \"text-align: left;\">128277.0</td><td style = \"text-align: left;\">E8</td><td style = \"text-align: left;\">false</td><td style = \"text-align: left;\">false</td><td style = \"text-align: left;\">true</td><td style = \"text-align: left;\">15.0</td><td style = \"font-style: italic; text-align: left;\">missing</td><td style = \"font-style: italic; text-align: left;\">missing</td><td style = \"text-align: left;\">R1</td><td style = \"text-align: left;\">TA</td><td style = \"text-align: left;\">V</td><td style = \"text-align: left;\">CONST3</td></tr><tr><td class = \"rowNumber\" style = \"font-weight: bold; text-align: right;\">1077</td><td style = \"text-align: left;\">U19</td><td style = \"text-align: left;\">S4</td><td style = \"text-align: left;\">C2</td><td style = \"text-align: left;\">2.81</td><td style = \"text-align: left;\">F</td><td style = \"text-align: left;\">76742.0</td><td style = \"text-align: left;\">E9</td><td style = \"text-align: left;\">false</td><td style = \"text-align: left;\">false</td><td style = \"text-align: left;\">true</td><td style = \"text-align: left;\">10.0</td><td style = \"font-style: italic; text-align: left;\">missing</td><td style = \"font-style: italic; text-align: left;\">missing</td><td style = \"text-align: left;\">R9</td><td style = \"text-align: left;\">T</td><td style = \"text-align: left;\">V</td><td style = \"text-align: left;\">CONST3</td></tr><tr><td class = \"rowNumber\" style = \"font-weight: bold; text-align: right;\">1078</td><td style = \"text-align: left;\">U19</td><td style = \"text-align: left;\">S4</td><td style = \"text-align: left;\">C2</td><td style = \"text-align: left;\">2.81</td><td style = \"text-align: left;\">F</td><td style = \"text-align: left;\">116446.0</td><td style = \"text-align: left;\">E9</td><td style = \"text-align: left;\">false</td><td style = \"text-align: left;\">false</td><td style = \"text-align: left;\">false</td><td style = \"text-align: left;\">14.0</td><td style = \"text-align: left;\">6.0</td><td style = \"text-align: left;\">4.0</td><td style = \"text-align: left;\">R9</td><td style = \"text-align: left;\">T</td><td style = \"text-align: left;\">V</td><td style = \"text-align: left;\">CONST3</td></tr><tr><td class = \"rowNumber\" style = \"font-weight: bold; text-align: right;\">1079</td><td style = \"text-align: left;\">U19</td><td style = \"text-align: left;\">S4</td><td style = \"text-align: left;\">C2</td><td style = \"text-align: left;\">2.81</td><td style = \"text-align: left;\">F</td><td style = \"text-align: left;\">131990.0</td><td style = \"text-align: left;\">E6</td><td style = \"text-align: left;\">false</td><td style = \"text-align: left;\">false</td><td style = \"text-align: left;\">false</td><td style = \"font-style: italic; text-align: left;\">missing</td><td style = \"font-style: italic; text-align: left;\">missing</td><td style = \"font-style: italic; text-align: left;\">missing</td><td style = \"text-align: left;\">R9</td><td style = \"text-align: left;\">T</td><td style = \"text-align: left;\">V</td><td style = \"text-align: left;\">CONST3</td></tr><tr><td class = \"rowNumber\" style = \"font-weight: bold; text-align: right;\">1080</td><td style = \"text-align: left;\">U19</td><td style = \"text-align: left;\">S4</td><td style = \"text-align: left;\">C2</td><td style = \"text-align: left;\">2.81</td><td style = \"text-align: left;\">F</td><td style = \"text-align: left;\">131990.0</td><td style = \"text-align: left;\">E1</td><td style = \"text-align: left;\">false</td><td style = \"text-align: left;\">false</td><td style = \"text-align: left;\">false</td><td style = \"font-style: italic; text-align: left;\">missing</td><td style = \"font-style: italic; text-align: left;\">missing</td><td style = \"font-style: italic; text-align: left;\">missing</td><td style = \"text-align: left;\">R9</td><td style = \"text-align: left;\">T</td><td style = \"text-align: left;\">V</td><td style = \"text-align: left;\">CONST3</td></tr><tr><td class = \"rowNumber\" style = \"font-weight: bold; text-align: right;\">1081</td><td style = \"text-align: left;\">U19</td><td style = \"text-align: left;\">S4</td><td style = \"text-align: left;\">C2</td><td style = \"text-align: left;\">2.81</td><td style = \"text-align: left;\">F</td><td style = \"text-align: left;\">131990.0</td><td style = \"text-align: left;\">E5</td><td style = \"text-align: left;\">false</td><td style = \"text-align: left;\">false</td><td style = \"text-align: left;\">true</td><td style = \"text-align: left;\">15.0</td><td style = \"font-style: italic; text-align: left;\">missing</td><td style = \"font-style: italic; text-align: left;\">missing</td><td style = \"text-align: left;\">R9</td><td style = \"text-align: left;\">T</td><td style = \"text-align: left;\">V</td><td style = \"text-align: left;\">CONST3</td></tr><tr><td class = \"rowNumber\" style = \"font-weight: bold; text-align: right;\">1082</td><td style = \"text-align: left;\">U19</td><td style = \"text-align: left;\">S4</td><td style = \"text-align: left;\">C2</td><td style = \"text-align: left;\">2.81</td><td style = \"text-align: left;\">F</td><td style = \"text-align: left;\">131990.0</td><td style = \"text-align: left;\">E9</td><td style = \"text-align: left;\">false</td><td style = \"text-align: left;\">false</td><td style = \"text-align: left;\">false</td><td style = \"text-align: left;\">25.0</td><td style = \"text-align: left;\">5.0</td><td style = \"text-align: left;\">6.0</td><td style = \"text-align: left;\">R9</td><td style = \"text-align: left;\">T</td><td style = \"text-align: left;\">V</td><td style = \"text-align: left;\">CONST3</td></tr></tbody></table></div>"
      ],
      "text/latex": [
       "\\begin{tabular}{r|cccccccccc}\n",
       "\t& UNITE & SOUS\\_UNITE & CIRCUIT & NUMERO & BR & HEURES\\_MAT & PE & AVANT\\_NET & APRES\\_NET & \\\\\n",
       "\t\\hline\n",
       "\t& Any & Any & Any & Any & Any & Any & Any & Any & Any & \\\\\n",
       "\t\\hline\n",
       "\t1 & U4 & S1 & C3 & 1.27 & F & 215612.0 & E9 & 0 & 0 & $\\dots$ \\\\\n",
       "\t2 & U4 & S1 & C3 & 1.27 & F & 224510.0 & E9 & 1 & 0 & $\\dots$ \\\\\n",
       "\t3 & U4 & S1 & C3 & 1.27 & F & 237085.0 & E9 & 0 & 0 & $\\dots$ \\\\\n",
       "\t4 & U4 & S1 & C3 & 1.27 & F & 245389.0 & E5 & 0 & 0 & $\\dots$ \\\\\n",
       "\t5 & U4 & S1 & C3 & 1.27 & F & 245389.0 & E6 & 0 & 0 & $\\dots$ \\\\\n",
       "\t6 & U4 & S1 & C3 & 1.27 & F & 245389.0 & E1 & 0 & 0 & $\\dots$ \\\\\n",
       "\t7 & U4 & S1 & C3 & 1.27 & F & 245389.0 & E9 & 0 & 0 & $\\dots$ \\\\\n",
       "\t8 & U4 & S2 & C1 & 1.43 & F & 148255.0 & E9 & 0 & 0 & $\\dots$ \\\\\n",
       "\t9 & U4 & S2 & C1 & 1.43 & F & 148255.0 & E5 & 0 & 0 & $\\dots$ \\\\\n",
       "\t10 & U4 & S2 & C1 & 1.43 & F & 148255.0 & E4 & 0 & 0 & $\\dots$ \\\\\n",
       "\t11 & U4 & S2 & C1 & 1.43 & F & 148255.0 & E3 & 0 & 0 & $\\dots$ \\\\\n",
       "\t12 & U4 & S2 & C1 & 1.43 & F & 148255.0 & E1 & 0 & 0 & $\\dots$ \\\\\n",
       "\t13 & U4 & S2 & C1 & 1.43 & F & 148255.0 & E6 & 0 & 0 & $\\dots$ \\\\\n",
       "\t14 & U4 & S2 & C1 & 1.43 & F & 158664.0 & E6 & 0 & 0 & $\\dots$ \\\\\n",
       "\t15 & U4 & S2 & C1 & 1.43 & F & 158664.0 & E1 & 0 & 0 & $\\dots$ \\\\\n",
       "\t16 & U4 & S2 & C1 & 1.43 & F & 158664.0 & E9 & 0 & 0 & $\\dots$ \\\\\n",
       "\t17 & U4 & S2 & C1 & 1.43 & F & 179900.0 & E1 & 0 & 0 & $\\dots$ \\\\\n",
       "\t18 & U4 & S2 & C1 & 1.43 & F & 179900.0 & E5 & 0 & 0 & $\\dots$ \\\\\n",
       "\t19 & U4 & S2 & C1 & 1.43 & F & 179900.0 & E9 & 0 & 0 & $\\dots$ \\\\\n",
       "\t20 & U4 & S2 & C1 & 1.43 & F & 179900.0 & E6 & 0 & 0 & $\\dots$ \\\\\n",
       "\t21 & U4 & S2 & C1 & 1.43 & F & 190151.0 & E9 & 0 & 0 & $\\dots$ \\\\\n",
       "\t22 & U4 & S2 & C1 & 1.43 & F & 190151.0 & E6 & 0 & 0 & $\\dots$ \\\\\n",
       "\t23 & U4 & S2 & C1 & 1.43 & F & 190151.0 & E5 & 0 & 0 & $\\dots$ \\\\\n",
       "\t24 & U4 & S2 & C1 & 1.43 & F & 190151.0 & E1 & 0 & 0 & $\\dots$ \\\\\n",
       "\t$\\dots$ & $\\dots$ & $\\dots$ & $\\dots$ & $\\dots$ & $\\dots$ & $\\dots$ & $\\dots$ & $\\dots$ & $\\dots$ &  \\\\\n",
       "\\end{tabular}\n"
      ],
      "text/plain": [
       "\u001b[1m1082×17 DataFrame\u001b[0m\n",
       "\u001b[1m  Row \u001b[0m│\u001b[1m UNITE \u001b[0m\u001b[1m SOUS_UNITE \u001b[0m\u001b[1m CIRCUIT \u001b[0m\u001b[1m NUMERO \u001b[0m\u001b[1m BR  \u001b[0m\u001b[1m HEURES_MAT \u001b[0m\u001b[1m PE  \u001b[0m\u001b[1m AVANT_NET \u001b[0m\u001b[1m A\u001b[0m ⋯\n",
       "      │\u001b[90m Any   \u001b[0m\u001b[90m Any        \u001b[0m\u001b[90m Any     \u001b[0m\u001b[90m Any    \u001b[0m\u001b[90m Any \u001b[0m\u001b[90m Any        \u001b[0m\u001b[90m Any \u001b[0m\u001b[90m Any       \u001b[0m\u001b[90m A\u001b[0m ⋯\n",
       "──────┼─────────────────────────────────────────────────────────────────────────\n",
       "    1 │ U4     S1          C3       1.27    F    215612.0    E9   false      f ⋯\n",
       "    2 │ U4     S1          C3       1.27    F    224510.0    E9   true       f\n",
       "    3 │ U4     S1          C3       1.27    F    237085.0    E9   false      f\n",
       "    4 │ U4     S1          C3       1.27    F    245389.0    E5   false      f\n",
       "    5 │ U4     S1          C3       1.27    F    245389.0    E6   false      f ⋯\n",
       "    6 │ U4     S1          C3       1.27    F    245389.0    E1   false      f\n",
       "    7 │ U4     S1          C3       1.27    F    245389.0    E9   false      f\n",
       "    8 │ U4     S2          C1       1.43    F    148255.0    E9   false      f\n",
       "  ⋮   │   ⋮        ⋮          ⋮       ⋮      ⋮       ⋮        ⋮       ⋮        ⋱\n",
       " 1076 │ U19    S3          C2       2.56    F    128277.0    E8   false      f ⋯\n",
       " 1077 │ U19    S4          C2       2.81    F    76742.0     E9   false      f\n",
       " 1078 │ U19    S4          C2       2.81    F    116446.0    E9   false      f\n",
       " 1079 │ U19    S4          C2       2.81    F    131990.0    E6   false      f\n",
       " 1080 │ U19    S4          C2       2.81    F    131990.0    E1   false      f ⋯\n",
       " 1081 │ U19    S4          C2       2.81    F    131990.0    E5   false      f\n",
       " 1082 │ U19    S4          C2       2.81    F    131990.0    E9   false      f\n",
       "\u001b[36m                                                 9 columns and 1067 rows omitted\u001b[0m"
      ]
     },
     "metadata": {},
     "output_type": "display_data"
    }
   ],
   "source": [
    "df1 = MatrixToDataFrame(data_matrix_ind_col1)\n"
   ]
  },
  {
   "cell_type": "code",
   "execution_count": 9,
   "metadata": {},
   "outputs": [
    {
     "data": {
      "text/html": [
       "<div><div style = \"float: left;\"><span>18721×17 DataFrame</span></div><div style = \"float: right;\"><span style = \"font-style: italic;\">18696 rows omitted</span></div><div style = \"clear: both;\"></div></div><div class = \"data-frame\" style = \"overflow-x: scroll;\"><table class = \"data-frame\" style = \"margin-bottom: 6px;\"><thead><tr class = \"header\"><th class = \"rowNumber\" style = \"font-weight: bold; text-align: right;\">Row</th><th style = \"text-align: left;\">UNITE</th><th style = \"text-align: left;\">SOUS_UNITE</th><th style = \"text-align: left;\">CIRCUIT</th><th style = \"text-align: left;\">NUMERO</th><th style = \"text-align: left;\">BR</th><th style = \"text-align: left;\">HEURES_MAT</th><th style = \"text-align: left;\">PE</th><th style = \"text-align: left;\">AVANT_NET</th><th style = \"text-align: left;\">APRES_NET</th><th style = \"text-align: left;\">SONDE</th><th style = \"text-align: left;\">INFER</th><th style = \"text-align: left;\">VALEUR</th><th style = \"text-align: left;\">INCERTITUDE</th><th style = \"text-align: left;\">REFERENCE</th><th style = \"text-align: left;\">ACIERISTE</th><th style = \"text-align: left;\">TUBISTE</th><th style = \"text-align: left;\">CONSTITUTION</th></tr><tr class = \"subheader headerLastRow\"><th class = \"rowNumber\" style = \"font-weight: bold; text-align: right;\"></th><th title = \"Any\" style = \"text-align: left;\">Any</th><th title = \"Any\" style = \"text-align: left;\">Any</th><th title = \"Any\" style = \"text-align: left;\">Any</th><th title = \"Any\" style = \"text-align: left;\">Any</th><th title = \"Any\" style = \"text-align: left;\">Any</th><th title = \"Any\" style = \"text-align: left;\">Any</th><th title = \"Any\" style = \"text-align: left;\">Any</th><th title = \"Any\" style = \"text-align: left;\">Any</th><th title = \"Any\" style = \"text-align: left;\">Any</th><th title = \"Any\" style = \"text-align: left;\">Any</th><th title = \"Any\" style = \"text-align: left;\">Any</th><th title = \"Any\" style = \"text-align: left;\">Any</th><th title = \"Any\" style = \"text-align: left;\">Any</th><th title = \"Any\" style = \"text-align: left;\">Any</th><th title = \"Any\" style = \"text-align: left;\">Any</th><th title = \"Any\" style = \"text-align: left;\">Any</th><th title = \"Any\" style = \"text-align: left;\">Any</th></tr></thead><tbody><tr><td class = \"rowNumber\" style = \"font-weight: bold; text-align: right;\">1</td><td style = \"text-align: left;\">U1</td><td style = \"text-align: left;\">S1</td><td style = \"text-align: left;\">C1</td><td style = \"text-align: left;\">1.4</td><td style = \"text-align: left;\">C</td><td style = \"text-align: left;\">128388.0</td><td style = \"text-align: left;\">E2</td><td style = \"text-align: left;\">false</td><td style = \"text-align: left;\">false</td><td style = \"text-align: left;\">IND-COL-2</td><td style = \"text-align: left;\">false</td><td style = \"text-align: left;\">25.9</td><td style = \"font-style: italic; text-align: left;\">missing</td><td style = \"text-align: left;\">R12</td><td style = \"text-align: left;\">H</td><td style = \"text-align: left;\">W</td><td style = \"text-align: left;\">CONST2</td></tr><tr><td class = \"rowNumber\" style = \"font-weight: bold; text-align: right;\">2</td><td style = \"text-align: left;\">U1</td><td style = \"text-align: left;\">S1</td><td style = \"text-align: left;\">C1</td><td style = \"text-align: left;\">1.4</td><td style = \"text-align: left;\">C</td><td style = \"text-align: left;\">128388.0</td><td style = \"text-align: left;\">E5</td><td style = \"text-align: left;\">false</td><td style = \"text-align: left;\">false</td><td style = \"text-align: left;\">IND-COL-2</td><td style = \"text-align: left;\">false</td><td style = \"text-align: left;\">25.7</td><td style = \"font-style: italic; text-align: left;\">missing</td><td style = \"text-align: left;\">R12</td><td style = \"text-align: left;\">H</td><td style = \"text-align: left;\">W</td><td style = \"text-align: left;\">CONST2</td></tr><tr><td class = \"rowNumber\" style = \"font-weight: bold; text-align: right;\">3</td><td style = \"text-align: left;\">U1</td><td style = \"text-align: left;\">S1</td><td style = \"text-align: left;\">C1</td><td style = \"text-align: left;\">1.4</td><td style = \"text-align: left;\">C</td><td style = \"text-align: left;\">128388.0</td><td style = \"text-align: left;\">E7</td><td style = \"text-align: left;\">false</td><td style = \"text-align: left;\">false</td><td style = \"text-align: left;\">IND-COL-2</td><td style = \"text-align: left;\">false</td><td style = \"text-align: left;\">25.8</td><td style = \"font-style: italic; text-align: left;\">missing</td><td style = \"text-align: left;\">R12</td><td style = \"text-align: left;\">H</td><td style = \"text-align: left;\">W</td><td style = \"text-align: left;\">CONST2</td></tr><tr><td class = \"rowNumber\" style = \"font-weight: bold; text-align: right;\">4</td><td style = \"text-align: left;\">U1</td><td style = \"text-align: left;\">S1</td><td style = \"text-align: left;\">C1</td><td style = \"text-align: left;\">1.4</td><td style = \"text-align: left;\">C</td><td style = \"text-align: left;\">128388.0</td><td style = \"text-align: left;\">E1</td><td style = \"text-align: left;\">false</td><td style = \"text-align: left;\">false</td><td style = \"text-align: left;\">IND-COL-2</td><td style = \"text-align: left;\">false</td><td style = \"text-align: left;\">23.7</td><td style = \"font-style: italic; text-align: left;\">missing</td><td style = \"text-align: left;\">R12</td><td style = \"text-align: left;\">H</td><td style = \"text-align: left;\">W</td><td style = \"text-align: left;\">CONST2</td></tr><tr><td class = \"rowNumber\" style = \"font-weight: bold; text-align: right;\">5</td><td style = \"text-align: left;\">U1</td><td style = \"text-align: left;\">S1</td><td style = \"text-align: left;\">C1</td><td style = \"text-align: left;\">1.4</td><td style = \"text-align: left;\">C</td><td style = \"text-align: left;\">128388.0</td><td style = \"text-align: left;\">E9</td><td style = \"text-align: left;\">false</td><td style = \"text-align: left;\">false</td><td style = \"text-align: left;\">IND-COL-2</td><td style = \"text-align: left;\">false</td><td style = \"text-align: left;\">20.7</td><td style = \"font-style: italic; text-align: left;\">missing</td><td style = \"text-align: left;\">R12</td><td style = \"text-align: left;\">H</td><td style = \"text-align: left;\">W</td><td style = \"text-align: left;\">CONST2</td></tr><tr><td class = \"rowNumber\" style = \"font-weight: bold; text-align: right;\">6</td><td style = \"text-align: left;\">U1</td><td style = \"text-align: left;\">S1</td><td style = \"text-align: left;\">C1</td><td style = \"text-align: left;\">1.4</td><td style = \"text-align: left;\">C</td><td style = \"text-align: left;\">128388.0</td><td style = \"text-align: left;\">E3</td><td style = \"text-align: left;\">false</td><td style = \"text-align: left;\">false</td><td style = \"text-align: left;\">IND-COL-2</td><td style = \"text-align: left;\">false</td><td style = \"text-align: left;\">27.8</td><td style = \"font-style: italic; text-align: left;\">missing</td><td style = \"text-align: left;\">R12</td><td style = \"text-align: left;\">H</td><td style = \"text-align: left;\">W</td><td style = \"text-align: left;\">CONST2</td></tr><tr><td class = \"rowNumber\" style = \"font-weight: bold; text-align: right;\">7</td><td style = \"text-align: left;\">U1</td><td style = \"text-align: left;\">S1</td><td style = \"text-align: left;\">C1</td><td style = \"text-align: left;\">1.4</td><td style = \"text-align: left;\">C</td><td style = \"text-align: left;\">128388.0</td><td style = \"text-align: left;\">E4</td><td style = \"text-align: left;\">false</td><td style = \"text-align: left;\">false</td><td style = \"text-align: left;\">IND-COL-2</td><td style = \"text-align: left;\">false</td><td style = \"text-align: left;\">26.6</td><td style = \"font-style: italic; text-align: left;\">missing</td><td style = \"text-align: left;\">R12</td><td style = \"text-align: left;\">H</td><td style = \"text-align: left;\">W</td><td style = \"text-align: left;\">CONST2</td></tr><tr><td class = \"rowNumber\" style = \"font-weight: bold; text-align: right;\">8</td><td style = \"text-align: left;\">U1</td><td style = \"text-align: left;\">S1</td><td style = \"text-align: left;\">C1</td><td style = \"text-align: left;\">1.4</td><td style = \"text-align: left;\">C</td><td style = \"text-align: left;\">128388.0</td><td style = \"text-align: left;\">E6</td><td style = \"text-align: left;\">false</td><td style = \"text-align: left;\">false</td><td style = \"text-align: left;\">IND-COL-2</td><td style = \"text-align: left;\">false</td><td style = \"text-align: left;\">25.9</td><td style = \"font-style: italic; text-align: left;\">missing</td><td style = \"text-align: left;\">R12</td><td style = \"text-align: left;\">H</td><td style = \"text-align: left;\">W</td><td style = \"text-align: left;\">CONST2</td></tr><tr><td class = \"rowNumber\" style = \"font-weight: bold; text-align: right;\">9</td><td style = \"text-align: left;\">U1</td><td style = \"text-align: left;\">S1</td><td style = \"text-align: left;\">C1</td><td style = \"text-align: left;\">1.4</td><td style = \"text-align: left;\">C</td><td style = \"text-align: left;\">128388.0</td><td style = \"text-align: left;\">E8</td><td style = \"text-align: left;\">false</td><td style = \"text-align: left;\">false</td><td style = \"text-align: left;\">IND-COL-2</td><td style = \"text-align: left;\">false</td><td style = \"text-align: left;\">19.5</td><td style = \"font-style: italic; text-align: left;\">missing</td><td style = \"text-align: left;\">R12</td><td style = \"text-align: left;\">H</td><td style = \"text-align: left;\">W</td><td style = \"text-align: left;\">CONST2</td></tr><tr><td class = \"rowNumber\" style = \"font-weight: bold; text-align: right;\">10</td><td style = \"text-align: left;\">U1</td><td style = \"text-align: left;\">S1</td><td style = \"text-align: left;\">C1</td><td style = \"text-align: left;\">1.4</td><td style = \"text-align: left;\">C</td><td style = \"text-align: left;\">189934.0</td><td style = \"text-align: left;\">E9</td><td style = \"text-align: left;\">false</td><td style = \"text-align: left;\">false</td><td style = \"text-align: left;\">IND-COL-2</td><td style = \"text-align: left;\">false</td><td style = \"text-align: left;\">31.2</td><td style = \"font-style: italic; text-align: left;\">missing</td><td style = \"text-align: left;\">R12</td><td style = \"text-align: left;\">H</td><td style = \"text-align: left;\">W</td><td style = \"text-align: left;\">CONST2</td></tr><tr><td class = \"rowNumber\" style = \"font-weight: bold; text-align: right;\">11</td><td style = \"text-align: left;\">U1</td><td style = \"text-align: left;\">S1</td><td style = \"text-align: left;\">C1</td><td style = \"text-align: left;\">1.4</td><td style = \"text-align: left;\">C</td><td style = \"text-align: left;\">189934.0</td><td style = \"text-align: left;\">E2</td><td style = \"text-align: left;\">false</td><td style = \"text-align: left;\">false</td><td style = \"text-align: left;\">IND-COL-2</td><td style = \"text-align: left;\">false</td><td style = \"text-align: left;\">8.2</td><td style = \"font-style: italic; text-align: left;\">missing</td><td style = \"text-align: left;\">R12</td><td style = \"text-align: left;\">H</td><td style = \"text-align: left;\">W</td><td style = \"text-align: left;\">CONST2</td></tr><tr><td class = \"rowNumber\" style = \"font-weight: bold; text-align: right;\">12</td><td style = \"text-align: left;\">U1</td><td style = \"text-align: left;\">S1</td><td style = \"text-align: left;\">C1</td><td style = \"text-align: left;\">1.4</td><td style = \"text-align: left;\">C</td><td style = \"text-align: left;\">189934.0</td><td style = \"text-align: left;\">E1</td><td style = \"text-align: left;\">false</td><td style = \"text-align: left;\">false</td><td style = \"text-align: left;\">IND-COL-2</td><td style = \"text-align: left;\">false</td><td style = \"text-align: left;\">21.3</td><td style = \"font-style: italic; text-align: left;\">missing</td><td style = \"text-align: left;\">R12</td><td style = \"text-align: left;\">H</td><td style = \"text-align: left;\">W</td><td style = \"text-align: left;\">CONST2</td></tr><tr><td class = \"rowNumber\" style = \"font-weight: bold; text-align: right;\">13</td><td style = \"text-align: left;\">U1</td><td style = \"text-align: left;\">S1</td><td style = \"text-align: left;\">C1</td><td style = \"text-align: left;\">1.4</td><td style = \"text-align: left;\">C</td><td style = \"text-align: left;\">189934.0</td><td style = \"text-align: left;\">E3</td><td style = \"text-align: left;\">false</td><td style = \"text-align: left;\">false</td><td style = \"text-align: left;\">IND-COL-2</td><td style = \"text-align: left;\">false</td><td style = \"text-align: left;\">5.5</td><td style = \"font-style: italic; text-align: left;\">missing</td><td style = \"text-align: left;\">R12</td><td style = \"text-align: left;\">H</td><td style = \"text-align: left;\">W</td><td style = \"text-align: left;\">CONST2</td></tr><tr><td style = \"text-align: right;\">&vellip;</td><td style = \"text-align: right;\">&vellip;</td><td style = \"text-align: right;\">&vellip;</td><td style = \"text-align: right;\">&vellip;</td><td style = \"text-align: right;\">&vellip;</td><td style = \"text-align: right;\">&vellip;</td><td style = \"text-align: right;\">&vellip;</td><td style = \"text-align: right;\">&vellip;</td><td style = \"text-align: right;\">&vellip;</td><td style = \"text-align: right;\">&vellip;</td><td style = \"text-align: right;\">&vellip;</td><td style = \"text-align: right;\">&vellip;</td><td style = \"text-align: right;\">&vellip;</td><td style = \"text-align: right;\">&vellip;</td><td style = \"text-align: right;\">&vellip;</td><td style = \"text-align: right;\">&vellip;</td><td style = \"text-align: right;\">&vellip;</td><td style = \"text-align: right;\">&vellip;</td></tr><tr><td class = \"rowNumber\" style = \"font-weight: bold; text-align: right;\">18710</td><td style = \"text-align: left;\">U19</td><td style = \"text-align: left;\">S4</td><td style = \"text-align: left;\">C3</td><td style = \"text-align: left;\">2.8</td><td style = \"text-align: left;\">F</td><td style = \"text-align: left;\">116446.0</td><td style = \"text-align: left;\">E6</td><td style = \"text-align: left;\">false</td><td style = \"text-align: left;\">false</td><td style = \"text-align: left;\">IND-COL-2</td><td style = \"text-align: left;\">false</td><td style = \"text-align: left;\">1.3</td><td style = \"font-style: italic; text-align: left;\">missing</td><td style = \"text-align: left;\">R9</td><td style = \"text-align: left;\">T</td><td style = \"text-align: left;\">V</td><td style = \"text-align: left;\">CONST3</td></tr><tr><td class = \"rowNumber\" style = \"font-weight: bold; text-align: right;\">18711</td><td style = \"text-align: left;\">U19</td><td style = \"text-align: left;\">S4</td><td style = \"text-align: left;\">C3</td><td style = \"text-align: left;\">2.8</td><td style = \"text-align: left;\">F</td><td style = \"text-align: left;\">116446.0</td><td style = \"text-align: left;\">E5</td><td style = \"text-align: left;\">false</td><td style = \"text-align: left;\">false</td><td style = \"text-align: left;\">IND-COL-2</td><td style = \"text-align: left;\">false</td><td style = \"text-align: left;\">1.4</td><td style = \"font-style: italic; text-align: left;\">missing</td><td style = \"text-align: left;\">R9</td><td style = \"text-align: left;\">T</td><td style = \"text-align: left;\">V</td><td style = \"text-align: left;\">CONST3</td></tr><tr><td class = \"rowNumber\" style = \"font-weight: bold; text-align: right;\">18712</td><td style = \"text-align: left;\">U19</td><td style = \"text-align: left;\">S4</td><td style = \"text-align: left;\">C3</td><td style = \"text-align: left;\">2.8</td><td style = \"text-align: left;\">F</td><td style = \"text-align: left;\">116446.0</td><td style = \"text-align: left;\">E1</td><td style = \"text-align: left;\">false</td><td style = \"text-align: left;\">false</td><td style = \"text-align: left;\">IND-COL-2</td><td style = \"text-align: left;\">false</td><td style = \"text-align: left;\">12.2</td><td style = \"font-style: italic; text-align: left;\">missing</td><td style = \"text-align: left;\">R9</td><td style = \"text-align: left;\">T</td><td style = \"text-align: left;\">V</td><td style = \"text-align: left;\">CONST3</td></tr><tr><td class = \"rowNumber\" style = \"font-weight: bold; text-align: right;\">18713</td><td style = \"text-align: left;\">U19</td><td style = \"text-align: left;\">S4</td><td style = \"text-align: left;\">C3</td><td style = \"text-align: left;\">2.8</td><td style = \"text-align: left;\">F</td><td style = \"text-align: left;\">131990.0</td><td style = \"text-align: left;\">E1</td><td style = \"text-align: left;\">false</td><td style = \"text-align: left;\">false</td><td style = \"text-align: left;\">IND-COL-2</td><td style = \"text-align: left;\">false</td><td style = \"text-align: left;\">5.5</td><td style = \"font-style: italic; text-align: left;\">missing</td><td style = \"text-align: left;\">R9</td><td style = \"text-align: left;\">T</td><td style = \"text-align: left;\">V</td><td style = \"text-align: left;\">CONST3</td></tr><tr><td class = \"rowNumber\" style = \"font-weight: bold; text-align: right;\">18714</td><td style = \"text-align: left;\">U19</td><td style = \"text-align: left;\">S4</td><td style = \"text-align: left;\">C3</td><td style = \"text-align: left;\">2.8</td><td style = \"text-align: left;\">F</td><td style = \"text-align: left;\">131990.0</td><td style = \"text-align: left;\">E8</td><td style = \"text-align: left;\">false</td><td style = \"text-align: left;\">false</td><td style = \"text-align: left;\">IND-COL-2</td><td style = \"text-align: left;\">false</td><td style = \"text-align: left;\">3.1</td><td style = \"font-style: italic; text-align: left;\">missing</td><td style = \"text-align: left;\">R9</td><td style = \"text-align: left;\">T</td><td style = \"text-align: left;\">V</td><td style = \"text-align: left;\">CONST3</td></tr><tr><td class = \"rowNumber\" style = \"font-weight: bold; text-align: right;\">18715</td><td style = \"text-align: left;\">U19</td><td style = \"text-align: left;\">S4</td><td style = \"text-align: left;\">C3</td><td style = \"text-align: left;\">2.8</td><td style = \"text-align: left;\">F</td><td style = \"text-align: left;\">131990.0</td><td style = \"text-align: left;\">E2</td><td style = \"text-align: left;\">false</td><td style = \"text-align: left;\">false</td><td style = \"text-align: left;\">IND-COL-2</td><td style = \"text-align: left;\">false</td><td style = \"text-align: left;\">8.5</td><td style = \"font-style: italic; text-align: left;\">missing</td><td style = \"text-align: left;\">R9</td><td style = \"text-align: left;\">T</td><td style = \"text-align: left;\">V</td><td style = \"text-align: left;\">CONST3</td></tr><tr><td class = \"rowNumber\" style = \"font-weight: bold; text-align: right;\">18716</td><td style = \"text-align: left;\">U19</td><td style = \"text-align: left;\">S4</td><td style = \"text-align: left;\">C3</td><td style = \"text-align: left;\">2.8</td><td style = \"text-align: left;\">F</td><td style = \"text-align: left;\">131990.0</td><td style = \"text-align: left;\">E3</td><td style = \"text-align: left;\">false</td><td style = \"text-align: left;\">false</td><td style = \"text-align: left;\">IND-COL-2</td><td style = \"text-align: left;\">false</td><td style = \"text-align: left;\">2.3</td><td style = \"font-style: italic; text-align: left;\">missing</td><td style = \"text-align: left;\">R9</td><td style = \"text-align: left;\">T</td><td style = \"text-align: left;\">V</td><td style = \"text-align: left;\">CONST3</td></tr><tr><td class = \"rowNumber\" style = \"font-weight: bold; text-align: right;\">18717</td><td style = \"text-align: left;\">U19</td><td style = \"text-align: left;\">S4</td><td style = \"text-align: left;\">C3</td><td style = \"text-align: left;\">2.8</td><td style = \"text-align: left;\">F</td><td style = \"text-align: left;\">131990.0</td><td style = \"text-align: left;\">E4</td><td style = \"text-align: left;\">false</td><td style = \"text-align: left;\">false</td><td style = \"text-align: left;\">IND-COL-2</td><td style = \"text-align: left;\">false</td><td style = \"text-align: left;\">3.0</td><td style = \"font-style: italic; text-align: left;\">missing</td><td style = \"text-align: left;\">R9</td><td style = \"text-align: left;\">T</td><td style = \"text-align: left;\">V</td><td style = \"text-align: left;\">CONST3</td></tr><tr><td class = \"rowNumber\" style = \"font-weight: bold; text-align: right;\">18718</td><td style = \"text-align: left;\">U19</td><td style = \"text-align: left;\">S4</td><td style = \"text-align: left;\">C3</td><td style = \"text-align: left;\">2.8</td><td style = \"text-align: left;\">F</td><td style = \"text-align: left;\">131990.0</td><td style = \"text-align: left;\">E5</td><td style = \"text-align: left;\">false</td><td style = \"text-align: left;\">false</td><td style = \"text-align: left;\">IND-COL-2</td><td style = \"text-align: left;\">false</td><td style = \"text-align: left;\">2.0</td><td style = \"font-style: italic; text-align: left;\">missing</td><td style = \"text-align: left;\">R9</td><td style = \"text-align: left;\">T</td><td style = \"text-align: left;\">V</td><td style = \"text-align: left;\">CONST3</td></tr><tr><td class = \"rowNumber\" style = \"font-weight: bold; text-align: right;\">18719</td><td style = \"text-align: left;\">U19</td><td style = \"text-align: left;\">S4</td><td style = \"text-align: left;\">C3</td><td style = \"text-align: left;\">2.8</td><td style = \"text-align: left;\">F</td><td style = \"text-align: left;\">131990.0</td><td style = \"text-align: left;\">E6</td><td style = \"text-align: left;\">false</td><td style = \"text-align: left;\">false</td><td style = \"text-align: left;\">IND-COL-2</td><td style = \"text-align: left;\">false</td><td style = \"text-align: left;\">1.9</td><td style = \"font-style: italic; text-align: left;\">missing</td><td style = \"text-align: left;\">R9</td><td style = \"text-align: left;\">T</td><td style = \"text-align: left;\">V</td><td style = \"text-align: left;\">CONST3</td></tr><tr><td class = \"rowNumber\" style = \"font-weight: bold; text-align: right;\">18720</td><td style = \"text-align: left;\">U19</td><td style = \"text-align: left;\">S4</td><td style = \"text-align: left;\">C3</td><td style = \"text-align: left;\">2.8</td><td style = \"text-align: left;\">F</td><td style = \"text-align: left;\">131990.0</td><td style = \"text-align: left;\">E7</td><td style = \"text-align: left;\">false</td><td style = \"text-align: left;\">false</td><td style = \"text-align: left;\">IND-COL-2</td><td style = \"text-align: left;\">false</td><td style = \"text-align: left;\">2.1</td><td style = \"font-style: italic; text-align: left;\">missing</td><td style = \"text-align: left;\">R9</td><td style = \"text-align: left;\">T</td><td style = \"text-align: left;\">V</td><td style = \"text-align: left;\">CONST3</td></tr><tr><td class = \"rowNumber\" style = \"font-weight: bold; text-align: right;\">18721</td><td style = \"text-align: left;\">U19</td><td style = \"text-align: left;\">S4</td><td style = \"text-align: left;\">C3</td><td style = \"text-align: left;\">2.8</td><td style = \"text-align: left;\">F</td><td style = \"text-align: left;\">131990.0</td><td style = \"text-align: left;\">E9</td><td style = \"text-align: left;\">false</td><td style = \"text-align: left;\">false</td><td style = \"text-align: left;\">IND-COL-2</td><td style = \"text-align: left;\">false</td><td style = \"text-align: left;\">7.1</td><td style = \"font-style: italic; text-align: left;\">missing</td><td style = \"text-align: left;\">R9</td><td style = \"text-align: left;\">T</td><td style = \"text-align: left;\">V</td><td style = \"text-align: left;\">CONST3</td></tr></tbody></table></div>"
      ],
      "text/latex": [
       "\\begin{tabular}{r|cccccccccc}\n",
       "\t& UNITE & SOUS\\_UNITE & CIRCUIT & NUMERO & BR & HEURES\\_MAT & PE & AVANT\\_NET & APRES\\_NET & \\\\\n",
       "\t\\hline\n",
       "\t& Any & Any & Any & Any & Any & Any & Any & Any & Any & \\\\\n",
       "\t\\hline\n",
       "\t1 & U1 & S1 & C1 & 1.4 & C & 128388.0 & E2 & 0 & 0 & $\\dots$ \\\\\n",
       "\t2 & U1 & S1 & C1 & 1.4 & C & 128388.0 & E5 & 0 & 0 & $\\dots$ \\\\\n",
       "\t3 & U1 & S1 & C1 & 1.4 & C & 128388.0 & E7 & 0 & 0 & $\\dots$ \\\\\n",
       "\t4 & U1 & S1 & C1 & 1.4 & C & 128388.0 & E1 & 0 & 0 & $\\dots$ \\\\\n",
       "\t5 & U1 & S1 & C1 & 1.4 & C & 128388.0 & E9 & 0 & 0 & $\\dots$ \\\\\n",
       "\t6 & U1 & S1 & C1 & 1.4 & C & 128388.0 & E3 & 0 & 0 & $\\dots$ \\\\\n",
       "\t7 & U1 & S1 & C1 & 1.4 & C & 128388.0 & E4 & 0 & 0 & $\\dots$ \\\\\n",
       "\t8 & U1 & S1 & C1 & 1.4 & C & 128388.0 & E6 & 0 & 0 & $\\dots$ \\\\\n",
       "\t9 & U1 & S1 & C1 & 1.4 & C & 128388.0 & E8 & 0 & 0 & $\\dots$ \\\\\n",
       "\t10 & U1 & S1 & C1 & 1.4 & C & 189934.0 & E9 & 0 & 0 & $\\dots$ \\\\\n",
       "\t11 & U1 & S1 & C1 & 1.4 & C & 189934.0 & E2 & 0 & 0 & $\\dots$ \\\\\n",
       "\t12 & U1 & S1 & C1 & 1.4 & C & 189934.0 & E1 & 0 & 0 & $\\dots$ \\\\\n",
       "\t13 & U1 & S1 & C1 & 1.4 & C & 189934.0 & E3 & 0 & 0 & $\\dots$ \\\\\n",
       "\t14 & U1 & S1 & C1 & 1.4 & C & 189934.0 & E4 & 0 & 0 & $\\dots$ \\\\\n",
       "\t15 & U1 & S1 & C1 & 1.4 & C & 189934.0 & E5 & 0 & 0 & $\\dots$ \\\\\n",
       "\t16 & U1 & S1 & C1 & 1.4 & C & 189934.0 & E6 & 0 & 0 & $\\dots$ \\\\\n",
       "\t17 & U1 & S1 & C1 & 1.4 & C & 189934.0 & E7 & 0 & 0 & $\\dots$ \\\\\n",
       "\t18 & U1 & S1 & C1 & 1.4 & C & 189934.0 & E8 & 0 & 0 & $\\dots$ \\\\\n",
       "\t19 & U1 & S1 & C1 & 1.4 & C & 210989.0 & E9 & 0 & 0 & $\\dots$ \\\\\n",
       "\t20 & U1 & S1 & C1 & 1.4 & C & 210989.0 & E7 & 0 & 0 & $\\dots$ \\\\\n",
       "\t21 & U1 & S1 & C1 & 1.4 & C & 210989.0 & E6 & 0 & 0 & $\\dots$ \\\\\n",
       "\t22 & U1 & S1 & C1 & 1.4 & C & 210989.0 & E4 & 0 & 0 & $\\dots$ \\\\\n",
       "\t23 & U1 & S1 & C1 & 1.4 & C & 210989.0 & E5 & 0 & 0 & $\\dots$ \\\\\n",
       "\t24 & U1 & S1 & C1 & 1.4 & C & 210989.0 & E2 & 0 & 0 & $\\dots$ \\\\\n",
       "\t$\\dots$ & $\\dots$ & $\\dots$ & $\\dots$ & $\\dots$ & $\\dots$ & $\\dots$ & $\\dots$ & $\\dots$ & $\\dots$ &  \\\\\n",
       "\\end{tabular}\n"
      ],
      "text/plain": [
       "\u001b[1m18721×17 DataFrame\u001b[0m\n",
       "\u001b[1m   Row \u001b[0m│\u001b[1m UNITE \u001b[0m\u001b[1m SOUS_UNITE \u001b[0m\u001b[1m CIRCUIT \u001b[0m\u001b[1m NUMERO \u001b[0m\u001b[1m BR  \u001b[0m\u001b[1m HEURES_MAT \u001b[0m\u001b[1m PE  \u001b[0m\u001b[1m AVANT_NET \u001b[0m\u001b[1m \u001b[0m ⋯\n",
       "       │\u001b[90m Any   \u001b[0m\u001b[90m Any        \u001b[0m\u001b[90m Any     \u001b[0m\u001b[90m Any    \u001b[0m\u001b[90m Any \u001b[0m\u001b[90m Any        \u001b[0m\u001b[90m Any \u001b[0m\u001b[90m Any       \u001b[0m\u001b[90m \u001b[0m ⋯\n",
       "───────┼────────────────────────────────────────────────────────────────────────\n",
       "     1 │ U1     S1          C1       1.4     C    128388.0    E2   false       ⋯\n",
       "     2 │ U1     S1          C1       1.4     C    128388.0    E5   false\n",
       "     3 │ U1     S1          C1       1.4     C    128388.0    E7   false\n",
       "     4 │ U1     S1          C1       1.4     C    128388.0    E1   false\n",
       "     5 │ U1     S1          C1       1.4     C    128388.0    E9   false       ⋯\n",
       "     6 │ U1     S1          C1       1.4     C    128388.0    E3   false\n",
       "     7 │ U1     S1          C1       1.4     C    128388.0    E4   false\n",
       "     8 │ U1     S1          C1       1.4     C    128388.0    E6   false\n",
       "   ⋮   │   ⋮        ⋮          ⋮       ⋮      ⋮       ⋮        ⋮       ⋮       ⋱\n",
       " 18715 │ U19    S4          C3       2.8     F    131990.0    E2   false       ⋯\n",
       " 18716 │ U19    S4          C3       2.8     F    131990.0    E3   false\n",
       " 18717 │ U19    S4          C3       2.8     F    131990.0    E4   false\n",
       " 18718 │ U19    S4          C3       2.8     F    131990.0    E5   false\n",
       " 18719 │ U19    S4          C3       2.8     F    131990.0    E6   false       ⋯\n",
       " 18720 │ U19    S4          C3       2.8     F    131990.0    E7   false\n",
       " 18721 │ U19    S4          C3       2.8     F    131990.0    E9   false\n",
       "\u001b[36m                                                9 columns and 18706 rows omitted\u001b[0m"
      ]
     },
     "metadata": {},
     "output_type": "display_data"
    }
   ],
   "source": [
    "df2 = MatrixToDataFrame(data_matrix_ind_col2)"
   ]
  },
  {
   "cell_type": "code",
   "execution_count": 10,
   "metadata": {},
   "outputs": [
    {
     "data": {
      "text/plain": [
       "DataFrame"
      ]
     },
     "metadata": {},
     "output_type": "display_data"
    }
   ],
   "source": [
    "typeof(df1)"
   ]
  },
  {
   "cell_type": "markdown",
   "metadata": {},
   "source": [
    "### Suppression des valeurs manquantes\n",
    "\n",
    "Les lignes suivantes suppriment les lignes de `df1` et `df2` où la colonne `:VALEUR` contient des valeurs manquantes.\n"
   ]
  },
  {
   "cell_type": "code",
   "execution_count": 11,
   "metadata": {},
   "outputs": [
    {
     "data": {
      "text/html": [
       "<div><div style = \"float: left;\"><span>716×17 DataFrame</span></div><div style = \"float: right;\"><span style = \"font-style: italic;\">691 rows omitted</span></div><div style = \"clear: both;\"></div></div><div class = \"data-frame\" style = \"overflow-x: scroll;\"><table class = \"data-frame\" style = \"margin-bottom: 6px;\"><thead><tr class = \"header\"><th class = \"rowNumber\" style = \"font-weight: bold; text-align: right;\">Row</th><th style = \"text-align: left;\">UNITE</th><th style = \"text-align: left;\">SOUS_UNITE</th><th style = \"text-align: left;\">CIRCUIT</th><th style = \"text-align: left;\">NUMERO</th><th style = \"text-align: left;\">BR</th><th style = \"text-align: left;\">HEURES_MAT</th><th style = \"text-align: left;\">PE</th><th style = \"text-align: left;\">AVANT_NET</th><th style = \"text-align: left;\">APRES_NET</th><th style = \"text-align: left;\">INFER</th><th style = \"text-align: left;\">VALEUR</th><th style = \"text-align: left;\">INCERTITUDE</th><th style = \"text-align: left;\">TAUX_H</th><th style = \"text-align: left;\">REFERENCE</th><th style = \"text-align: left;\">ACIERISTE</th><th style = \"text-align: left;\">TUBISTE</th><th style = \"text-align: left;\">CONSTITUTION</th></tr><tr class = \"subheader headerLastRow\"><th class = \"rowNumber\" style = \"font-weight: bold; text-align: right;\"></th><th title = \"Any\" style = \"text-align: left;\">Any</th><th title = \"Any\" style = \"text-align: left;\">Any</th><th title = \"Any\" style = \"text-align: left;\">Any</th><th title = \"Any\" style = \"text-align: left;\">Any</th><th title = \"Any\" style = \"text-align: left;\">Any</th><th title = \"Any\" style = \"text-align: left;\">Any</th><th title = \"Any\" style = \"text-align: left;\">Any</th><th title = \"Any\" style = \"text-align: left;\">Any</th><th title = \"Any\" style = \"text-align: left;\">Any</th><th title = \"Any\" style = \"text-align: left;\">Any</th><th title = \"Any\" style = \"text-align: left;\">Any</th><th title = \"Any\" style = \"text-align: left;\">Any</th><th title = \"Any\" style = \"text-align: left;\">Any</th><th title = \"Any\" style = \"text-align: left;\">Any</th><th title = \"Any\" style = \"text-align: left;\">Any</th><th title = \"Any\" style = \"text-align: left;\">Any</th><th title = \"Any\" style = \"text-align: left;\">Any</th></tr></thead><tbody><tr><td class = \"rowNumber\" style = \"font-weight: bold; text-align: right;\">1</td><td style = \"text-align: left;\">U4</td><td style = \"text-align: left;\">S1</td><td style = \"text-align: left;\">C3</td><td style = \"text-align: left;\">1.27</td><td style = \"text-align: left;\">F</td><td style = \"text-align: left;\">215612.0</td><td style = \"text-align: left;\">E9</td><td style = \"text-align: left;\">false</td><td style = \"text-align: left;\">false</td><td style = \"text-align: left;\">false</td><td style = \"text-align: left;\">28.0</td><td style = \"text-align: left;\">5.0</td><td style = \"text-align: left;\">6.0</td><td style = \"text-align: left;\">R12</td><td style = \"text-align: left;\">S</td><td style = \"text-align: left;\">S</td><td style = \"text-align: left;\">CONST2</td></tr><tr><td class = \"rowNumber\" style = \"font-weight: bold; text-align: right;\">2</td><td style = \"text-align: left;\">U4</td><td style = \"text-align: left;\">S1</td><td style = \"text-align: left;\">C3</td><td style = \"text-align: left;\">1.27</td><td style = \"text-align: left;\">F</td><td style = \"text-align: left;\">224510.0</td><td style = \"text-align: left;\">E9</td><td style = \"text-align: left;\">true</td><td style = \"text-align: left;\">false</td><td style = \"text-align: left;\">false</td><td style = \"text-align: left;\">30.0</td><td style = \"text-align: left;\">5.0</td><td style = \"font-style: italic; text-align: left;\">missing</td><td style = \"text-align: left;\">R12</td><td style = \"text-align: left;\">S</td><td style = \"text-align: left;\">S</td><td style = \"text-align: left;\">CONST2</td></tr><tr><td class = \"rowNumber\" style = \"font-weight: bold; text-align: right;\">3</td><td style = \"text-align: left;\">U4</td><td style = \"text-align: left;\">S1</td><td style = \"text-align: left;\">C3</td><td style = \"text-align: left;\">1.27</td><td style = \"text-align: left;\">F</td><td style = \"text-align: left;\">237085.0</td><td style = \"text-align: left;\">E9</td><td style = \"text-align: left;\">false</td><td style = \"text-align: left;\">false</td><td style = \"text-align: left;\">true</td><td style = \"text-align: left;\">15.0</td><td style = \"font-style: italic; text-align: left;\">missing</td><td style = \"font-style: italic; text-align: left;\">missing</td><td style = \"text-align: left;\">R12</td><td style = \"text-align: left;\">S</td><td style = \"text-align: left;\">S</td><td style = \"text-align: left;\">CONST2</td></tr><tr><td class = \"rowNumber\" style = \"font-weight: bold; text-align: right;\">4</td><td style = \"text-align: left;\">U4</td><td style = \"text-align: left;\">S1</td><td style = \"text-align: left;\">C3</td><td style = \"text-align: left;\">1.27</td><td style = \"text-align: left;\">F</td><td style = \"text-align: left;\">245389.0</td><td style = \"text-align: left;\">E5</td><td style = \"text-align: left;\">false</td><td style = \"text-align: left;\">false</td><td style = \"text-align: left;\">true</td><td style = \"text-align: left;\">10.0</td><td style = \"font-style: italic; text-align: left;\">missing</td><td style = \"font-style: italic; text-align: left;\">missing</td><td style = \"text-align: left;\">R12</td><td style = \"text-align: left;\">S</td><td style = \"text-align: left;\">S</td><td style = \"text-align: left;\">CONST2</td></tr><tr><td class = \"rowNumber\" style = \"font-weight: bold; text-align: right;\">5</td><td style = \"text-align: left;\">U4</td><td style = \"text-align: left;\">S1</td><td style = \"text-align: left;\">C3</td><td style = \"text-align: left;\">1.27</td><td style = \"text-align: left;\">F</td><td style = \"text-align: left;\">245389.0</td><td style = \"text-align: left;\">E9</td><td style = \"text-align: left;\">false</td><td style = \"text-align: left;\">false</td><td style = \"text-align: left;\">true</td><td style = \"text-align: left;\">15.0</td><td style = \"font-style: italic; text-align: left;\">missing</td><td style = \"font-style: italic; text-align: left;\">missing</td><td style = \"text-align: left;\">R12</td><td style = \"text-align: left;\">S</td><td style = \"text-align: left;\">S</td><td style = \"text-align: left;\">CONST2</td></tr><tr><td class = \"rowNumber\" style = \"font-weight: bold; text-align: right;\">6</td><td style = \"text-align: left;\">U4</td><td style = \"text-align: left;\">S2</td><td style = \"text-align: left;\">C1</td><td style = \"text-align: left;\">1.43</td><td style = \"text-align: left;\">F</td><td style = \"text-align: left;\">148255.0</td><td style = \"text-align: left;\">E9</td><td style = \"text-align: left;\">false</td><td style = \"text-align: left;\">false</td><td style = \"text-align: left;\">true</td><td style = \"text-align: left;\">10.0</td><td style = \"font-style: italic; text-align: left;\">missing</td><td style = \"font-style: italic; text-align: left;\">missing</td><td style = \"text-align: left;\">R12</td><td style = \"text-align: left;\">HI</td><td style = \"text-align: left;\">V</td><td style = \"text-align: left;\">CONST2</td></tr><tr><td class = \"rowNumber\" style = \"font-weight: bold; text-align: right;\">7</td><td style = \"text-align: left;\">U4</td><td style = \"text-align: left;\">S2</td><td style = \"text-align: left;\">C1</td><td style = \"text-align: left;\">1.43</td><td style = \"text-align: left;\">F</td><td style = \"text-align: left;\">158664.0</td><td style = \"text-align: left;\">E1</td><td style = \"text-align: left;\">false</td><td style = \"text-align: left;\">false</td><td style = \"text-align: left;\">true</td><td style = \"text-align: left;\">10.0</td><td style = \"font-style: italic; text-align: left;\">missing</td><td style = \"font-style: italic; text-align: left;\">missing</td><td style = \"text-align: left;\">R12</td><td style = \"text-align: left;\">HI</td><td style = \"text-align: left;\">V</td><td style = \"text-align: left;\">CONST2</td></tr><tr><td class = \"rowNumber\" style = \"font-weight: bold; text-align: right;\">8</td><td style = \"text-align: left;\">U4</td><td style = \"text-align: left;\">S2</td><td style = \"text-align: left;\">C1</td><td style = \"text-align: left;\">1.43</td><td style = \"text-align: left;\">F</td><td style = \"text-align: left;\">158664.0</td><td style = \"text-align: left;\">E9</td><td style = \"text-align: left;\">false</td><td style = \"text-align: left;\">false</td><td style = \"text-align: left;\">true</td><td style = \"text-align: left;\">10.0</td><td style = \"font-style: italic; text-align: left;\">missing</td><td style = \"font-style: italic; text-align: left;\">missing</td><td style = \"text-align: left;\">R12</td><td style = \"text-align: left;\">HI</td><td style = \"text-align: left;\">V</td><td style = \"text-align: left;\">CONST2</td></tr><tr><td class = \"rowNumber\" style = \"font-weight: bold; text-align: right;\">9</td><td style = \"text-align: left;\">U4</td><td style = \"text-align: left;\">S2</td><td style = \"text-align: left;\">C1</td><td style = \"text-align: left;\">1.43</td><td style = \"text-align: left;\">F</td><td style = \"text-align: left;\">179900.0</td><td style = \"text-align: left;\">E1</td><td style = \"text-align: left;\">false</td><td style = \"text-align: left;\">false</td><td style = \"text-align: left;\">true</td><td style = \"text-align: left;\">10.0</td><td style = \"font-style: italic; text-align: left;\">missing</td><td style = \"font-style: italic; text-align: left;\">missing</td><td style = \"text-align: left;\">R12</td><td style = \"text-align: left;\">HI</td><td style = \"text-align: left;\">V</td><td style = \"text-align: left;\">CONST2</td></tr><tr><td class = \"rowNumber\" style = \"font-weight: bold; text-align: right;\">10</td><td style = \"text-align: left;\">U4</td><td style = \"text-align: left;\">S2</td><td style = \"text-align: left;\">C1</td><td style = \"text-align: left;\">1.43</td><td style = \"text-align: left;\">F</td><td style = \"text-align: left;\">179900.0</td><td style = \"text-align: left;\">E5</td><td style = \"text-align: left;\">false</td><td style = \"text-align: left;\">false</td><td style = \"text-align: left;\">true</td><td style = \"text-align: left;\">10.0</td><td style = \"font-style: italic; text-align: left;\">missing</td><td style = \"font-style: italic; text-align: left;\">missing</td><td style = \"text-align: left;\">R12</td><td style = \"text-align: left;\">HI</td><td style = \"text-align: left;\">V</td><td style = \"text-align: left;\">CONST2</td></tr><tr><td class = \"rowNumber\" style = \"font-weight: bold; text-align: right;\">11</td><td style = \"text-align: left;\">U4</td><td style = \"text-align: left;\">S2</td><td style = \"text-align: left;\">C1</td><td style = \"text-align: left;\">1.43</td><td style = \"text-align: left;\">F</td><td style = \"text-align: left;\">179900.0</td><td style = \"text-align: left;\">E9</td><td style = \"text-align: left;\">false</td><td style = \"text-align: left;\">false</td><td style = \"text-align: left;\">true</td><td style = \"text-align: left;\">15.0</td><td style = \"font-style: italic; text-align: left;\">missing</td><td style = \"font-style: italic; text-align: left;\">missing</td><td style = \"text-align: left;\">R12</td><td style = \"text-align: left;\">HI</td><td style = \"text-align: left;\">V</td><td style = \"text-align: left;\">CONST2</td></tr><tr><td class = \"rowNumber\" style = \"font-weight: bold; text-align: right;\">12</td><td style = \"text-align: left;\">U4</td><td style = \"text-align: left;\">S2</td><td style = \"text-align: left;\">C1</td><td style = \"text-align: left;\">1.43</td><td style = \"text-align: left;\">F</td><td style = \"text-align: left;\">179900.0</td><td style = \"text-align: left;\">E6</td><td style = \"text-align: left;\">false</td><td style = \"text-align: left;\">false</td><td style = \"text-align: left;\">true</td><td style = \"text-align: left;\">10.0</td><td style = \"font-style: italic; text-align: left;\">missing</td><td style = \"font-style: italic; text-align: left;\">missing</td><td style = \"text-align: left;\">R12</td><td style = \"text-align: left;\">HI</td><td style = \"text-align: left;\">V</td><td style = \"text-align: left;\">CONST2</td></tr><tr><td class = \"rowNumber\" style = \"font-weight: bold; text-align: right;\">13</td><td style = \"text-align: left;\">U4</td><td style = \"text-align: left;\">S2</td><td style = \"text-align: left;\">C1</td><td style = \"text-align: left;\">1.43</td><td style = \"text-align: left;\">F</td><td style = \"text-align: left;\">190151.0</td><td style = \"text-align: left;\">E9</td><td style = \"text-align: left;\">false</td><td style = \"text-align: left;\">false</td><td style = \"text-align: left;\">true</td><td style = \"text-align: left;\">20.0</td><td style = \"font-style: italic; text-align: left;\">missing</td><td style = \"font-style: italic; text-align: left;\">missing</td><td style = \"text-align: left;\">R12</td><td style = \"text-align: left;\">HI</td><td style = \"text-align: left;\">V</td><td style = \"text-align: left;\">CONST2</td></tr><tr><td style = \"text-align: right;\">&vellip;</td><td style = \"text-align: right;\">&vellip;</td><td style = \"text-align: right;\">&vellip;</td><td style = \"text-align: right;\">&vellip;</td><td style = \"text-align: right;\">&vellip;</td><td style = \"text-align: right;\">&vellip;</td><td style = \"text-align: right;\">&vellip;</td><td style = \"text-align: right;\">&vellip;</td><td style = \"text-align: right;\">&vellip;</td><td style = \"text-align: right;\">&vellip;</td><td style = \"text-align: right;\">&vellip;</td><td style = \"text-align: right;\">&vellip;</td><td style = \"text-align: right;\">&vellip;</td><td style = \"text-align: right;\">&vellip;</td><td style = \"text-align: right;\">&vellip;</td><td style = \"text-align: right;\">&vellip;</td><td style = \"text-align: right;\">&vellip;</td><td style = \"text-align: right;\">&vellip;</td></tr><tr><td class = \"rowNumber\" style = \"font-weight: bold; text-align: right;\">705</td><td style = \"text-align: left;\">U19</td><td style = \"text-align: left;\">S1</td><td style = \"text-align: left;\">C2</td><td style = \"text-align: left;\">2.5</td><td style = \"text-align: left;\">F</td><td style = \"text-align: left;\">144218.0</td><td style = \"text-align: left;\">E8</td><td style = \"text-align: left;\">false</td><td style = \"text-align: left;\">false</td><td style = \"text-align: left;\">true</td><td style = \"text-align: left;\">20.0</td><td style = \"font-style: italic; text-align: left;\">missing</td><td style = \"font-style: italic; text-align: left;\">missing</td><td style = \"text-align: left;\">R1</td><td style = \"text-align: left;\">S</td><td style = \"text-align: left;\">S</td><td style = \"text-align: left;\">CONST3</td></tr><tr><td class = \"rowNumber\" style = \"font-weight: bold; text-align: right;\">706</td><td style = \"text-align: left;\">U19</td><td style = \"text-align: left;\">S2</td><td style = \"text-align: left;\">C2</td><td style = \"text-align: left;\">2.43</td><td style = \"text-align: left;\">F</td><td style = \"text-align: left;\">98063.0</td><td style = \"text-align: left;\">E8</td><td style = \"text-align: left;\">false</td><td style = \"text-align: left;\">false</td><td style = \"text-align: left;\">true</td><td style = \"text-align: left;\">10.0</td><td style = \"font-style: italic; text-align: left;\">missing</td><td style = \"font-style: italic; text-align: left;\">missing</td><td style = \"text-align: left;\">R1</td><td style = \"text-align: left;\">T</td><td style = \"text-align: left;\">V</td><td style = \"text-align: left;\">CONST3</td></tr><tr><td class = \"rowNumber\" style = \"font-weight: bold; text-align: right;\">707</td><td style = \"text-align: left;\">U19</td><td style = \"text-align: left;\">S2</td><td style = \"text-align: left;\">C2</td><td style = \"text-align: left;\">2.43</td><td style = \"text-align: left;\">F</td><td style = \"text-align: left;\">113101.0</td><td style = \"text-align: left;\">E8</td><td style = \"text-align: left;\">false</td><td style = \"text-align: left;\">false</td><td style = \"text-align: left;\">false</td><td style = \"text-align: left;\">16.0</td><td style = \"text-align: left;\">5.0</td><td style = \"font-style: italic; text-align: left;\">missing</td><td style = \"text-align: left;\">R1</td><td style = \"text-align: left;\">T</td><td style = \"text-align: left;\">V</td><td style = \"text-align: left;\">CONST3</td></tr><tr><td class = \"rowNumber\" style = \"font-weight: bold; text-align: right;\">708</td><td style = \"text-align: left;\">U19</td><td style = \"text-align: left;\">S2</td><td style = \"text-align: left;\">C2</td><td style = \"text-align: left;\">2.43</td><td style = \"text-align: left;\">F</td><td style = \"text-align: left;\">127544.0</td><td style = \"text-align: left;\">E8</td><td style = \"text-align: left;\">false</td><td style = \"text-align: left;\">false</td><td style = \"text-align: left;\">false</td><td style = \"text-align: left;\">16.0</td><td style = \"text-align: left;\">6.0</td><td style = \"font-style: italic; text-align: left;\">missing</td><td style = \"text-align: left;\">R1</td><td style = \"text-align: left;\">T</td><td style = \"text-align: left;\">V</td><td style = \"text-align: left;\">CONST3</td></tr><tr><td class = \"rowNumber\" style = \"font-weight: bold; text-align: right;\">709</td><td style = \"text-align: left;\">U19</td><td style = \"text-align: left;\">S2</td><td style = \"text-align: left;\">C2</td><td style = \"text-align: left;\">2.43</td><td style = \"text-align: left;\">F</td><td style = \"text-align: left;\">150693.0</td><td style = \"text-align: left;\">E8</td><td style = \"text-align: left;\">false</td><td style = \"text-align: left;\">false</td><td style = \"text-align: left;\">false</td><td style = \"text-align: left;\">20.0</td><td style = \"text-align: left;\">5.0</td><td style = \"font-style: italic; text-align: left;\">missing</td><td style = \"text-align: left;\">R1</td><td style = \"text-align: left;\">T</td><td style = \"text-align: left;\">V</td><td style = \"text-align: left;\">CONST3</td></tr><tr><td class = \"rowNumber\" style = \"font-weight: bold; text-align: right;\">710</td><td style = \"text-align: left;\">U19</td><td style = \"text-align: left;\">S2</td><td style = \"text-align: left;\">C2</td><td style = \"text-align: left;\">2.43</td><td style = \"text-align: left;\">F</td><td style = \"text-align: left;\">164491.0</td><td style = \"text-align: left;\">E8</td><td style = \"text-align: left;\">false</td><td style = \"text-align: left;\">false</td><td style = \"text-align: left;\">false</td><td style = \"text-align: left;\">21.0</td><td style = \"text-align: left;\">5.0</td><td style = \"text-align: left;\">3.0</td><td style = \"text-align: left;\">R1</td><td style = \"text-align: left;\">T</td><td style = \"text-align: left;\">V</td><td style = \"text-align: left;\">CONST3</td></tr><tr><td class = \"rowNumber\" style = \"font-weight: bold; text-align: right;\">711</td><td style = \"text-align: left;\">U19</td><td style = \"text-align: left;\">S3</td><td style = \"text-align: left;\">C2</td><td style = \"text-align: left;\">2.56</td><td style = \"text-align: left;\">F</td><td style = \"text-align: left;\">90677.0</td><td style = \"text-align: left;\">E8</td><td style = \"text-align: left;\">false</td><td style = \"text-align: left;\">false</td><td style = \"text-align: left;\">true</td><td style = \"text-align: left;\">15.0</td><td style = \"font-style: italic; text-align: left;\">missing</td><td style = \"font-style: italic; text-align: left;\">missing</td><td style = \"text-align: left;\">R1</td><td style = \"text-align: left;\">TA</td><td style = \"text-align: left;\">V</td><td style = \"text-align: left;\">CONST3</td></tr><tr><td class = \"rowNumber\" style = \"font-weight: bold; text-align: right;\">712</td><td style = \"text-align: left;\">U19</td><td style = \"text-align: left;\">S3</td><td style = \"text-align: left;\">C2</td><td style = \"text-align: left;\">2.56</td><td style = \"text-align: left;\">F</td><td style = \"text-align: left;\">128277.0</td><td style = \"text-align: left;\">E8</td><td style = \"text-align: left;\">false</td><td style = \"text-align: left;\">false</td><td style = \"text-align: left;\">true</td><td style = \"text-align: left;\">15.0</td><td style = \"font-style: italic; text-align: left;\">missing</td><td style = \"font-style: italic; text-align: left;\">missing</td><td style = \"text-align: left;\">R1</td><td style = \"text-align: left;\">TA</td><td style = \"text-align: left;\">V</td><td style = \"text-align: left;\">CONST3</td></tr><tr><td class = \"rowNumber\" style = \"font-weight: bold; text-align: right;\">713</td><td style = \"text-align: left;\">U19</td><td style = \"text-align: left;\">S4</td><td style = \"text-align: left;\">C2</td><td style = \"text-align: left;\">2.81</td><td style = \"text-align: left;\">F</td><td style = \"text-align: left;\">76742.0</td><td style = \"text-align: left;\">E9</td><td style = \"text-align: left;\">false</td><td style = \"text-align: left;\">false</td><td style = \"text-align: left;\">true</td><td style = \"text-align: left;\">10.0</td><td style = \"font-style: italic; text-align: left;\">missing</td><td style = \"font-style: italic; text-align: left;\">missing</td><td style = \"text-align: left;\">R9</td><td style = \"text-align: left;\">T</td><td style = \"text-align: left;\">V</td><td style = \"text-align: left;\">CONST3</td></tr><tr><td class = \"rowNumber\" style = \"font-weight: bold; text-align: right;\">714</td><td style = \"text-align: left;\">U19</td><td style = \"text-align: left;\">S4</td><td style = \"text-align: left;\">C2</td><td style = \"text-align: left;\">2.81</td><td style = \"text-align: left;\">F</td><td style = \"text-align: left;\">116446.0</td><td style = \"text-align: left;\">E9</td><td style = \"text-align: left;\">false</td><td style = \"text-align: left;\">false</td><td style = \"text-align: left;\">false</td><td style = \"text-align: left;\">14.0</td><td style = \"text-align: left;\">6.0</td><td style = \"text-align: left;\">4.0</td><td style = \"text-align: left;\">R9</td><td style = \"text-align: left;\">T</td><td style = \"text-align: left;\">V</td><td style = \"text-align: left;\">CONST3</td></tr><tr><td class = \"rowNumber\" style = \"font-weight: bold; text-align: right;\">715</td><td style = \"text-align: left;\">U19</td><td style = \"text-align: left;\">S4</td><td style = \"text-align: left;\">C2</td><td style = \"text-align: left;\">2.81</td><td style = \"text-align: left;\">F</td><td style = \"text-align: left;\">131990.0</td><td style = \"text-align: left;\">E5</td><td style = \"text-align: left;\">false</td><td style = \"text-align: left;\">false</td><td style = \"text-align: left;\">true</td><td style = \"text-align: left;\">15.0</td><td style = \"font-style: italic; text-align: left;\">missing</td><td style = \"font-style: italic; text-align: left;\">missing</td><td style = \"text-align: left;\">R9</td><td style = \"text-align: left;\">T</td><td style = \"text-align: left;\">V</td><td style = \"text-align: left;\">CONST3</td></tr><tr><td class = \"rowNumber\" style = \"font-weight: bold; text-align: right;\">716</td><td style = \"text-align: left;\">U19</td><td style = \"text-align: left;\">S4</td><td style = \"text-align: left;\">C2</td><td style = \"text-align: left;\">2.81</td><td style = \"text-align: left;\">F</td><td style = \"text-align: left;\">131990.0</td><td style = \"text-align: left;\">E9</td><td style = \"text-align: left;\">false</td><td style = \"text-align: left;\">false</td><td style = \"text-align: left;\">false</td><td style = \"text-align: left;\">25.0</td><td style = \"text-align: left;\">5.0</td><td style = \"text-align: left;\">6.0</td><td style = \"text-align: left;\">R9</td><td style = \"text-align: left;\">T</td><td style = \"text-align: left;\">V</td><td style = \"text-align: left;\">CONST3</td></tr></tbody></table></div>"
      ],
      "text/latex": [
       "\\begin{tabular}{r|cccccccccc}\n",
       "\t& UNITE & SOUS\\_UNITE & CIRCUIT & NUMERO & BR & HEURES\\_MAT & PE & AVANT\\_NET & APRES\\_NET & \\\\\n",
       "\t\\hline\n",
       "\t& Any & Any & Any & Any & Any & Any & Any & Any & Any & \\\\\n",
       "\t\\hline\n",
       "\t1 & U4 & S1 & C3 & 1.27 & F & 215612.0 & E9 & 0 & 0 & $\\dots$ \\\\\n",
       "\t2 & U4 & S1 & C3 & 1.27 & F & 224510.0 & E9 & 1 & 0 & $\\dots$ \\\\\n",
       "\t3 & U4 & S1 & C3 & 1.27 & F & 237085.0 & E9 & 0 & 0 & $\\dots$ \\\\\n",
       "\t4 & U4 & S1 & C3 & 1.27 & F & 245389.0 & E5 & 0 & 0 & $\\dots$ \\\\\n",
       "\t5 & U4 & S1 & C3 & 1.27 & F & 245389.0 & E9 & 0 & 0 & $\\dots$ \\\\\n",
       "\t6 & U4 & S2 & C1 & 1.43 & F & 148255.0 & E9 & 0 & 0 & $\\dots$ \\\\\n",
       "\t7 & U4 & S2 & C1 & 1.43 & F & 158664.0 & E1 & 0 & 0 & $\\dots$ \\\\\n",
       "\t8 & U4 & S2 & C1 & 1.43 & F & 158664.0 & E9 & 0 & 0 & $\\dots$ \\\\\n",
       "\t9 & U4 & S2 & C1 & 1.43 & F & 179900.0 & E1 & 0 & 0 & $\\dots$ \\\\\n",
       "\t10 & U4 & S2 & C1 & 1.43 & F & 179900.0 & E5 & 0 & 0 & $\\dots$ \\\\\n",
       "\t11 & U4 & S2 & C1 & 1.43 & F & 179900.0 & E9 & 0 & 0 & $\\dots$ \\\\\n",
       "\t12 & U4 & S2 & C1 & 1.43 & F & 179900.0 & E6 & 0 & 0 & $\\dots$ \\\\\n",
       "\t13 & U4 & S2 & C1 & 1.43 & F & 190151.0 & E9 & 0 & 0 & $\\dots$ \\\\\n",
       "\t14 & U4 & S2 & C1 & 1.43 & F & 190151.0 & E5 & 0 & 0 & $\\dots$ \\\\\n",
       "\t15 & U4 & S2 & C1 & 1.43 & F & 212455.0 & E9 & 1 & 0 & $\\dots$ \\\\\n",
       "\t16 & U4 & S2 & C1 & 1.43 & F & 212455.0 & E5 & 1 & 0 & $\\dots$ \\\\\n",
       "\t17 & U4 & S2 & C1 & 1.43 & F & 220618.0 & E9 & 0 & 0 & $\\dots$ \\\\\n",
       "\t18 & U4 & S2 & C1 & 1.43 & F & 220618.0 & E5 & 0 & 0 & $\\dots$ \\\\\n",
       "\t19 & U4 & S2 & C1 & 1.43 & F & 233179.0 & E9 & 0 & 0 & $\\dots$ \\\\\n",
       "\t20 & U1 & S1 & C1 & 1.4 & C & 147771.0 & E9 & 1 & 0 & $\\dots$ \\\\\n",
       "\t21 & U1 & S1 & C2 & 1.45 & C & 158703.0 & E9 & 0 & 0 & $\\dots$ \\\\\n",
       "\t22 & U1 & S1 & C2 & 1.45 & C & 168593.0 & E9 & 0 & 0 & $\\dots$ \\\\\n",
       "\t23 & U1 & S1 & C2 & 1.45 & C & 189934.0 & E9 & 0 & 0 & $\\dots$ \\\\\n",
       "\t24 & U1 & S1 & C2 & 1.45 & C & 210989.0 & E9 & 0 & 0 & $\\dots$ \\\\\n",
       "\t$\\dots$ & $\\dots$ & $\\dots$ & $\\dots$ & $\\dots$ & $\\dots$ & $\\dots$ & $\\dots$ & $\\dots$ & $\\dots$ &  \\\\\n",
       "\\end{tabular}\n"
      ],
      "text/plain": [
       "\u001b[1m716×17 DataFrame\u001b[0m\n",
       "\u001b[1m Row \u001b[0m│\u001b[1m UNITE \u001b[0m\u001b[1m SOUS_UNITE \u001b[0m\u001b[1m CIRCUIT \u001b[0m\u001b[1m NUMERO \u001b[0m\u001b[1m BR  \u001b[0m\u001b[1m HEURES_MAT \u001b[0m\u001b[1m PE  \u001b[0m\u001b[1m AVANT_NET \u001b[0m\u001b[1m AP\u001b[0m ⋯\n",
       "     │\u001b[90m Any   \u001b[0m\u001b[90m Any        \u001b[0m\u001b[90m Any     \u001b[0m\u001b[90m Any    \u001b[0m\u001b[90m Any \u001b[0m\u001b[90m Any        \u001b[0m\u001b[90m Any \u001b[0m\u001b[90m Any       \u001b[0m\u001b[90m An\u001b[0m ⋯\n",
       "─────┼──────────────────────────────────────────────────────────────────────────\n",
       "   1 │ U4     S1          C3       1.27    F    215612.0    E9   false      fa ⋯\n",
       "   2 │ U4     S1          C3       1.27    F    224510.0    E9   true       fa\n",
       "   3 │ U4     S1          C3       1.27    F    237085.0    E9   false      fa\n",
       "   4 │ U4     S1          C3       1.27    F    245389.0    E5   false      fa\n",
       "   5 │ U4     S1          C3       1.27    F    245389.0    E9   false      fa ⋯\n",
       "   6 │ U4     S2          C1       1.43    F    148255.0    E9   false      fa\n",
       "   7 │ U4     S2          C1       1.43    F    158664.0    E1   false      fa\n",
       "   8 │ U4     S2          C1       1.43    F    158664.0    E9   false      fa\n",
       "  ⋮  │   ⋮        ⋮          ⋮       ⋮      ⋮       ⋮        ⋮       ⋮         ⋱\n",
       " 710 │ U19    S2          C2       2.43    F    164491.0    E8   false      fa ⋯\n",
       " 711 │ U19    S3          C2       2.56    F    90677.0     E8   false      fa\n",
       " 712 │ U19    S3          C2       2.56    F    128277.0    E8   false      fa\n",
       " 713 │ U19    S4          C2       2.81    F    76742.0     E9   false      fa\n",
       " 714 │ U19    S4          C2       2.81    F    116446.0    E9   false      fa ⋯\n",
       " 715 │ U19    S4          C2       2.81    F    131990.0    E5   false      fa\n",
       " 716 │ U19    S4          C2       2.81    F    131990.0    E9   false      fa\n",
       "\u001b[36m                                                  9 columns and 701 rows omitted\u001b[0m"
      ]
     },
     "metadata": {},
     "output_type": "display_data"
    }
   ],
   "source": [
    "df1 = dropmissing(df1, :VALEUR)"
   ]
  },
  {
   "cell_type": "code",
   "execution_count": 12,
   "metadata": {},
   "outputs": [
    {
     "data": {
      "text/html": [
       "<div><div style = \"float: left;\"><span>18636×17 DataFrame</span></div><div style = \"float: right;\"><span style = \"font-style: italic;\">18611 rows omitted</span></div><div style = \"clear: both;\"></div></div><div class = \"data-frame\" style = \"overflow-x: scroll;\"><table class = \"data-frame\" style = \"margin-bottom: 6px;\"><thead><tr class = \"header\"><th class = \"rowNumber\" style = \"font-weight: bold; text-align: right;\">Row</th><th style = \"text-align: left;\">UNITE</th><th style = \"text-align: left;\">SOUS_UNITE</th><th style = \"text-align: left;\">CIRCUIT</th><th style = \"text-align: left;\">NUMERO</th><th style = \"text-align: left;\">BR</th><th style = \"text-align: left;\">HEURES_MAT</th><th style = \"text-align: left;\">PE</th><th style = \"text-align: left;\">AVANT_NET</th><th style = \"text-align: left;\">APRES_NET</th><th style = \"text-align: left;\">SONDE</th><th style = \"text-align: left;\">INFER</th><th style = \"text-align: left;\">VALEUR</th><th style = \"text-align: left;\">INCERTITUDE</th><th style = \"text-align: left;\">REFERENCE</th><th style = \"text-align: left;\">ACIERISTE</th><th style = \"text-align: left;\">TUBISTE</th><th style = \"text-align: left;\">CONSTITUTION</th></tr><tr class = \"subheader headerLastRow\"><th class = \"rowNumber\" style = \"font-weight: bold; text-align: right;\"></th><th title = \"Any\" style = \"text-align: left;\">Any</th><th title = \"Any\" style = \"text-align: left;\">Any</th><th title = \"Any\" style = \"text-align: left;\">Any</th><th title = \"Any\" style = \"text-align: left;\">Any</th><th title = \"Any\" style = \"text-align: left;\">Any</th><th title = \"Any\" style = \"text-align: left;\">Any</th><th title = \"Any\" style = \"text-align: left;\">Any</th><th title = \"Any\" style = \"text-align: left;\">Any</th><th title = \"Any\" style = \"text-align: left;\">Any</th><th title = \"Any\" style = \"text-align: left;\">Any</th><th title = \"Any\" style = \"text-align: left;\">Any</th><th title = \"Any\" style = \"text-align: left;\">Any</th><th title = \"Any\" style = \"text-align: left;\">Any</th><th title = \"Any\" style = \"text-align: left;\">Any</th><th title = \"Any\" style = \"text-align: left;\">Any</th><th title = \"Any\" style = \"text-align: left;\">Any</th><th title = \"Any\" style = \"text-align: left;\">Any</th></tr></thead><tbody><tr><td class = \"rowNumber\" style = \"font-weight: bold; text-align: right;\">1</td><td style = \"text-align: left;\">U1</td><td style = \"text-align: left;\">S1</td><td style = \"text-align: left;\">C1</td><td style = \"text-align: left;\">1.4</td><td style = \"text-align: left;\">C</td><td style = \"text-align: left;\">128388.0</td><td style = \"text-align: left;\">E2</td><td style = \"text-align: left;\">false</td><td style = \"text-align: left;\">false</td><td style = \"text-align: left;\">IND-COL-2</td><td style = \"text-align: left;\">false</td><td style = \"text-align: left;\">25.9</td><td style = \"font-style: italic; text-align: left;\">missing</td><td style = \"text-align: left;\">R12</td><td style = \"text-align: left;\">H</td><td style = \"text-align: left;\">W</td><td style = \"text-align: left;\">CONST2</td></tr><tr><td class = \"rowNumber\" style = \"font-weight: bold; text-align: right;\">2</td><td style = \"text-align: left;\">U1</td><td style = \"text-align: left;\">S1</td><td style = \"text-align: left;\">C1</td><td style = \"text-align: left;\">1.4</td><td style = \"text-align: left;\">C</td><td style = \"text-align: left;\">128388.0</td><td style = \"text-align: left;\">E5</td><td style = \"text-align: left;\">false</td><td style = \"text-align: left;\">false</td><td style = \"text-align: left;\">IND-COL-2</td><td style = \"text-align: left;\">false</td><td style = \"text-align: left;\">25.7</td><td style = \"font-style: italic; text-align: left;\">missing</td><td style = \"text-align: left;\">R12</td><td style = \"text-align: left;\">H</td><td style = \"text-align: left;\">W</td><td style = \"text-align: left;\">CONST2</td></tr><tr><td class = \"rowNumber\" style = \"font-weight: bold; text-align: right;\">3</td><td style = \"text-align: left;\">U1</td><td style = \"text-align: left;\">S1</td><td style = \"text-align: left;\">C1</td><td style = \"text-align: left;\">1.4</td><td style = \"text-align: left;\">C</td><td style = \"text-align: left;\">128388.0</td><td style = \"text-align: left;\">E7</td><td style = \"text-align: left;\">false</td><td style = \"text-align: left;\">false</td><td style = \"text-align: left;\">IND-COL-2</td><td style = \"text-align: left;\">false</td><td style = \"text-align: left;\">25.8</td><td style = \"font-style: italic; text-align: left;\">missing</td><td style = \"text-align: left;\">R12</td><td style = \"text-align: left;\">H</td><td style = \"text-align: left;\">W</td><td style = \"text-align: left;\">CONST2</td></tr><tr><td class = \"rowNumber\" style = \"font-weight: bold; text-align: right;\">4</td><td style = \"text-align: left;\">U1</td><td style = \"text-align: left;\">S1</td><td style = \"text-align: left;\">C1</td><td style = \"text-align: left;\">1.4</td><td style = \"text-align: left;\">C</td><td style = \"text-align: left;\">128388.0</td><td style = \"text-align: left;\">E1</td><td style = \"text-align: left;\">false</td><td style = \"text-align: left;\">false</td><td style = \"text-align: left;\">IND-COL-2</td><td style = \"text-align: left;\">false</td><td style = \"text-align: left;\">23.7</td><td style = \"font-style: italic; text-align: left;\">missing</td><td style = \"text-align: left;\">R12</td><td style = \"text-align: left;\">H</td><td style = \"text-align: left;\">W</td><td style = \"text-align: left;\">CONST2</td></tr><tr><td class = \"rowNumber\" style = \"font-weight: bold; text-align: right;\">5</td><td style = \"text-align: left;\">U1</td><td style = \"text-align: left;\">S1</td><td style = \"text-align: left;\">C1</td><td style = \"text-align: left;\">1.4</td><td style = \"text-align: left;\">C</td><td style = \"text-align: left;\">128388.0</td><td style = \"text-align: left;\">E9</td><td style = \"text-align: left;\">false</td><td style = \"text-align: left;\">false</td><td style = \"text-align: left;\">IND-COL-2</td><td style = \"text-align: left;\">false</td><td style = \"text-align: left;\">20.7</td><td style = \"font-style: italic; text-align: left;\">missing</td><td style = \"text-align: left;\">R12</td><td style = \"text-align: left;\">H</td><td style = \"text-align: left;\">W</td><td style = \"text-align: left;\">CONST2</td></tr><tr><td class = \"rowNumber\" style = \"font-weight: bold; text-align: right;\">6</td><td style = \"text-align: left;\">U1</td><td style = \"text-align: left;\">S1</td><td style = \"text-align: left;\">C1</td><td style = \"text-align: left;\">1.4</td><td style = \"text-align: left;\">C</td><td style = \"text-align: left;\">128388.0</td><td style = \"text-align: left;\">E3</td><td style = \"text-align: left;\">false</td><td style = \"text-align: left;\">false</td><td style = \"text-align: left;\">IND-COL-2</td><td style = \"text-align: left;\">false</td><td style = \"text-align: left;\">27.8</td><td style = \"font-style: italic; text-align: left;\">missing</td><td style = \"text-align: left;\">R12</td><td style = \"text-align: left;\">H</td><td style = \"text-align: left;\">W</td><td style = \"text-align: left;\">CONST2</td></tr><tr><td class = \"rowNumber\" style = \"font-weight: bold; text-align: right;\">7</td><td style = \"text-align: left;\">U1</td><td style = \"text-align: left;\">S1</td><td style = \"text-align: left;\">C1</td><td style = \"text-align: left;\">1.4</td><td style = \"text-align: left;\">C</td><td style = \"text-align: left;\">128388.0</td><td style = \"text-align: left;\">E4</td><td style = \"text-align: left;\">false</td><td style = \"text-align: left;\">false</td><td style = \"text-align: left;\">IND-COL-2</td><td style = \"text-align: left;\">false</td><td style = \"text-align: left;\">26.6</td><td style = \"font-style: italic; text-align: left;\">missing</td><td style = \"text-align: left;\">R12</td><td style = \"text-align: left;\">H</td><td style = \"text-align: left;\">W</td><td style = \"text-align: left;\">CONST2</td></tr><tr><td class = \"rowNumber\" style = \"font-weight: bold; text-align: right;\">8</td><td style = \"text-align: left;\">U1</td><td style = \"text-align: left;\">S1</td><td style = \"text-align: left;\">C1</td><td style = \"text-align: left;\">1.4</td><td style = \"text-align: left;\">C</td><td style = \"text-align: left;\">128388.0</td><td style = \"text-align: left;\">E6</td><td style = \"text-align: left;\">false</td><td style = \"text-align: left;\">false</td><td style = \"text-align: left;\">IND-COL-2</td><td style = \"text-align: left;\">false</td><td style = \"text-align: left;\">25.9</td><td style = \"font-style: italic; text-align: left;\">missing</td><td style = \"text-align: left;\">R12</td><td style = \"text-align: left;\">H</td><td style = \"text-align: left;\">W</td><td style = \"text-align: left;\">CONST2</td></tr><tr><td class = \"rowNumber\" style = \"font-weight: bold; text-align: right;\">9</td><td style = \"text-align: left;\">U1</td><td style = \"text-align: left;\">S1</td><td style = \"text-align: left;\">C1</td><td style = \"text-align: left;\">1.4</td><td style = \"text-align: left;\">C</td><td style = \"text-align: left;\">128388.0</td><td style = \"text-align: left;\">E8</td><td style = \"text-align: left;\">false</td><td style = \"text-align: left;\">false</td><td style = \"text-align: left;\">IND-COL-2</td><td style = \"text-align: left;\">false</td><td style = \"text-align: left;\">19.5</td><td style = \"font-style: italic; text-align: left;\">missing</td><td style = \"text-align: left;\">R12</td><td style = \"text-align: left;\">H</td><td style = \"text-align: left;\">W</td><td style = \"text-align: left;\">CONST2</td></tr><tr><td class = \"rowNumber\" style = \"font-weight: bold; text-align: right;\">10</td><td style = \"text-align: left;\">U1</td><td style = \"text-align: left;\">S1</td><td style = \"text-align: left;\">C1</td><td style = \"text-align: left;\">1.4</td><td style = \"text-align: left;\">C</td><td style = \"text-align: left;\">189934.0</td><td style = \"text-align: left;\">E9</td><td style = \"text-align: left;\">false</td><td style = \"text-align: left;\">false</td><td style = \"text-align: left;\">IND-COL-2</td><td style = \"text-align: left;\">false</td><td style = \"text-align: left;\">31.2</td><td style = \"font-style: italic; text-align: left;\">missing</td><td style = \"text-align: left;\">R12</td><td style = \"text-align: left;\">H</td><td style = \"text-align: left;\">W</td><td style = \"text-align: left;\">CONST2</td></tr><tr><td class = \"rowNumber\" style = \"font-weight: bold; text-align: right;\">11</td><td style = \"text-align: left;\">U1</td><td style = \"text-align: left;\">S1</td><td style = \"text-align: left;\">C1</td><td style = \"text-align: left;\">1.4</td><td style = \"text-align: left;\">C</td><td style = \"text-align: left;\">189934.0</td><td style = \"text-align: left;\">E2</td><td style = \"text-align: left;\">false</td><td style = \"text-align: left;\">false</td><td style = \"text-align: left;\">IND-COL-2</td><td style = \"text-align: left;\">false</td><td style = \"text-align: left;\">8.2</td><td style = \"font-style: italic; text-align: left;\">missing</td><td style = \"text-align: left;\">R12</td><td style = \"text-align: left;\">H</td><td style = \"text-align: left;\">W</td><td style = \"text-align: left;\">CONST2</td></tr><tr><td class = \"rowNumber\" style = \"font-weight: bold; text-align: right;\">12</td><td style = \"text-align: left;\">U1</td><td style = \"text-align: left;\">S1</td><td style = \"text-align: left;\">C1</td><td style = \"text-align: left;\">1.4</td><td style = \"text-align: left;\">C</td><td style = \"text-align: left;\">189934.0</td><td style = \"text-align: left;\">E1</td><td style = \"text-align: left;\">false</td><td style = \"text-align: left;\">false</td><td style = \"text-align: left;\">IND-COL-2</td><td style = \"text-align: left;\">false</td><td style = \"text-align: left;\">21.3</td><td style = \"font-style: italic; text-align: left;\">missing</td><td style = \"text-align: left;\">R12</td><td style = \"text-align: left;\">H</td><td style = \"text-align: left;\">W</td><td style = \"text-align: left;\">CONST2</td></tr><tr><td class = \"rowNumber\" style = \"font-weight: bold; text-align: right;\">13</td><td style = \"text-align: left;\">U1</td><td style = \"text-align: left;\">S1</td><td style = \"text-align: left;\">C1</td><td style = \"text-align: left;\">1.4</td><td style = \"text-align: left;\">C</td><td style = \"text-align: left;\">189934.0</td><td style = \"text-align: left;\">E3</td><td style = \"text-align: left;\">false</td><td style = \"text-align: left;\">false</td><td style = \"text-align: left;\">IND-COL-2</td><td style = \"text-align: left;\">false</td><td style = \"text-align: left;\">5.5</td><td style = \"font-style: italic; text-align: left;\">missing</td><td style = \"text-align: left;\">R12</td><td style = \"text-align: left;\">H</td><td style = \"text-align: left;\">W</td><td style = \"text-align: left;\">CONST2</td></tr><tr><td style = \"text-align: right;\">&vellip;</td><td style = \"text-align: right;\">&vellip;</td><td style = \"text-align: right;\">&vellip;</td><td style = \"text-align: right;\">&vellip;</td><td style = \"text-align: right;\">&vellip;</td><td style = \"text-align: right;\">&vellip;</td><td style = \"text-align: right;\">&vellip;</td><td style = \"text-align: right;\">&vellip;</td><td style = \"text-align: right;\">&vellip;</td><td style = \"text-align: right;\">&vellip;</td><td style = \"text-align: right;\">&vellip;</td><td style = \"text-align: right;\">&vellip;</td><td style = \"text-align: right;\">&vellip;</td><td style = \"text-align: right;\">&vellip;</td><td style = \"text-align: right;\">&vellip;</td><td style = \"text-align: right;\">&vellip;</td><td style = \"text-align: right;\">&vellip;</td><td style = \"text-align: right;\">&vellip;</td></tr><tr><td class = \"rowNumber\" style = \"font-weight: bold; text-align: right;\">18625</td><td style = \"text-align: left;\">U19</td><td style = \"text-align: left;\">S4</td><td style = \"text-align: left;\">C3</td><td style = \"text-align: left;\">2.8</td><td style = \"text-align: left;\">F</td><td style = \"text-align: left;\">116446.0</td><td style = \"text-align: left;\">E6</td><td style = \"text-align: left;\">false</td><td style = \"text-align: left;\">false</td><td style = \"text-align: left;\">IND-COL-2</td><td style = \"text-align: left;\">false</td><td style = \"text-align: left;\">1.3</td><td style = \"font-style: italic; text-align: left;\">missing</td><td style = \"text-align: left;\">R9</td><td style = \"text-align: left;\">T</td><td style = \"text-align: left;\">V</td><td style = \"text-align: left;\">CONST3</td></tr><tr><td class = \"rowNumber\" style = \"font-weight: bold; text-align: right;\">18626</td><td style = \"text-align: left;\">U19</td><td style = \"text-align: left;\">S4</td><td style = \"text-align: left;\">C3</td><td style = \"text-align: left;\">2.8</td><td style = \"text-align: left;\">F</td><td style = \"text-align: left;\">116446.0</td><td style = \"text-align: left;\">E5</td><td style = \"text-align: left;\">false</td><td style = \"text-align: left;\">false</td><td style = \"text-align: left;\">IND-COL-2</td><td style = \"text-align: left;\">false</td><td style = \"text-align: left;\">1.4</td><td style = \"font-style: italic; text-align: left;\">missing</td><td style = \"text-align: left;\">R9</td><td style = \"text-align: left;\">T</td><td style = \"text-align: left;\">V</td><td style = \"text-align: left;\">CONST3</td></tr><tr><td class = \"rowNumber\" style = \"font-weight: bold; text-align: right;\">18627</td><td style = \"text-align: left;\">U19</td><td style = \"text-align: left;\">S4</td><td style = \"text-align: left;\">C3</td><td style = \"text-align: left;\">2.8</td><td style = \"text-align: left;\">F</td><td style = \"text-align: left;\">116446.0</td><td style = \"text-align: left;\">E1</td><td style = \"text-align: left;\">false</td><td style = \"text-align: left;\">false</td><td style = \"text-align: left;\">IND-COL-2</td><td style = \"text-align: left;\">false</td><td style = \"text-align: left;\">12.2</td><td style = \"font-style: italic; text-align: left;\">missing</td><td style = \"text-align: left;\">R9</td><td style = \"text-align: left;\">T</td><td style = \"text-align: left;\">V</td><td style = \"text-align: left;\">CONST3</td></tr><tr><td class = \"rowNumber\" style = \"font-weight: bold; text-align: right;\">18628</td><td style = \"text-align: left;\">U19</td><td style = \"text-align: left;\">S4</td><td style = \"text-align: left;\">C3</td><td style = \"text-align: left;\">2.8</td><td style = \"text-align: left;\">F</td><td style = \"text-align: left;\">131990.0</td><td style = \"text-align: left;\">E1</td><td style = \"text-align: left;\">false</td><td style = \"text-align: left;\">false</td><td style = \"text-align: left;\">IND-COL-2</td><td style = \"text-align: left;\">false</td><td style = \"text-align: left;\">5.5</td><td style = \"font-style: italic; text-align: left;\">missing</td><td style = \"text-align: left;\">R9</td><td style = \"text-align: left;\">T</td><td style = \"text-align: left;\">V</td><td style = \"text-align: left;\">CONST3</td></tr><tr><td class = \"rowNumber\" style = \"font-weight: bold; text-align: right;\">18629</td><td style = \"text-align: left;\">U19</td><td style = \"text-align: left;\">S4</td><td style = \"text-align: left;\">C3</td><td style = \"text-align: left;\">2.8</td><td style = \"text-align: left;\">F</td><td style = \"text-align: left;\">131990.0</td><td style = \"text-align: left;\">E8</td><td style = \"text-align: left;\">false</td><td style = \"text-align: left;\">false</td><td style = \"text-align: left;\">IND-COL-2</td><td style = \"text-align: left;\">false</td><td style = \"text-align: left;\">3.1</td><td style = \"font-style: italic; text-align: left;\">missing</td><td style = \"text-align: left;\">R9</td><td style = \"text-align: left;\">T</td><td style = \"text-align: left;\">V</td><td style = \"text-align: left;\">CONST3</td></tr><tr><td class = \"rowNumber\" style = \"font-weight: bold; text-align: right;\">18630</td><td style = \"text-align: left;\">U19</td><td style = \"text-align: left;\">S4</td><td style = \"text-align: left;\">C3</td><td style = \"text-align: left;\">2.8</td><td style = \"text-align: left;\">F</td><td style = \"text-align: left;\">131990.0</td><td style = \"text-align: left;\">E2</td><td style = \"text-align: left;\">false</td><td style = \"text-align: left;\">false</td><td style = \"text-align: left;\">IND-COL-2</td><td style = \"text-align: left;\">false</td><td style = \"text-align: left;\">8.5</td><td style = \"font-style: italic; text-align: left;\">missing</td><td style = \"text-align: left;\">R9</td><td style = \"text-align: left;\">T</td><td style = \"text-align: left;\">V</td><td style = \"text-align: left;\">CONST3</td></tr><tr><td class = \"rowNumber\" style = \"font-weight: bold; text-align: right;\">18631</td><td style = \"text-align: left;\">U19</td><td style = \"text-align: left;\">S4</td><td style = \"text-align: left;\">C3</td><td style = \"text-align: left;\">2.8</td><td style = \"text-align: left;\">F</td><td style = \"text-align: left;\">131990.0</td><td style = \"text-align: left;\">E3</td><td style = \"text-align: left;\">false</td><td style = \"text-align: left;\">false</td><td style = \"text-align: left;\">IND-COL-2</td><td style = \"text-align: left;\">false</td><td style = \"text-align: left;\">2.3</td><td style = \"font-style: italic; text-align: left;\">missing</td><td style = \"text-align: left;\">R9</td><td style = \"text-align: left;\">T</td><td style = \"text-align: left;\">V</td><td style = \"text-align: left;\">CONST3</td></tr><tr><td class = \"rowNumber\" style = \"font-weight: bold; text-align: right;\">18632</td><td style = \"text-align: left;\">U19</td><td style = \"text-align: left;\">S4</td><td style = \"text-align: left;\">C3</td><td style = \"text-align: left;\">2.8</td><td style = \"text-align: left;\">F</td><td style = \"text-align: left;\">131990.0</td><td style = \"text-align: left;\">E4</td><td style = \"text-align: left;\">false</td><td style = \"text-align: left;\">false</td><td style = \"text-align: left;\">IND-COL-2</td><td style = \"text-align: left;\">false</td><td style = \"text-align: left;\">3.0</td><td style = \"font-style: italic; text-align: left;\">missing</td><td style = \"text-align: left;\">R9</td><td style = \"text-align: left;\">T</td><td style = \"text-align: left;\">V</td><td style = \"text-align: left;\">CONST3</td></tr><tr><td class = \"rowNumber\" style = \"font-weight: bold; text-align: right;\">18633</td><td style = \"text-align: left;\">U19</td><td style = \"text-align: left;\">S4</td><td style = \"text-align: left;\">C3</td><td style = \"text-align: left;\">2.8</td><td style = \"text-align: left;\">F</td><td style = \"text-align: left;\">131990.0</td><td style = \"text-align: left;\">E5</td><td style = \"text-align: left;\">false</td><td style = \"text-align: left;\">false</td><td style = \"text-align: left;\">IND-COL-2</td><td style = \"text-align: left;\">false</td><td style = \"text-align: left;\">2.0</td><td style = \"font-style: italic; text-align: left;\">missing</td><td style = \"text-align: left;\">R9</td><td style = \"text-align: left;\">T</td><td style = \"text-align: left;\">V</td><td style = \"text-align: left;\">CONST3</td></tr><tr><td class = \"rowNumber\" style = \"font-weight: bold; text-align: right;\">18634</td><td style = \"text-align: left;\">U19</td><td style = \"text-align: left;\">S4</td><td style = \"text-align: left;\">C3</td><td style = \"text-align: left;\">2.8</td><td style = \"text-align: left;\">F</td><td style = \"text-align: left;\">131990.0</td><td style = \"text-align: left;\">E6</td><td style = \"text-align: left;\">false</td><td style = \"text-align: left;\">false</td><td style = \"text-align: left;\">IND-COL-2</td><td style = \"text-align: left;\">false</td><td style = \"text-align: left;\">1.9</td><td style = \"font-style: italic; text-align: left;\">missing</td><td style = \"text-align: left;\">R9</td><td style = \"text-align: left;\">T</td><td style = \"text-align: left;\">V</td><td style = \"text-align: left;\">CONST3</td></tr><tr><td class = \"rowNumber\" style = \"font-weight: bold; text-align: right;\">18635</td><td style = \"text-align: left;\">U19</td><td style = \"text-align: left;\">S4</td><td style = \"text-align: left;\">C3</td><td style = \"text-align: left;\">2.8</td><td style = \"text-align: left;\">F</td><td style = \"text-align: left;\">131990.0</td><td style = \"text-align: left;\">E7</td><td style = \"text-align: left;\">false</td><td style = \"text-align: left;\">false</td><td style = \"text-align: left;\">IND-COL-2</td><td style = \"text-align: left;\">false</td><td style = \"text-align: left;\">2.1</td><td style = \"font-style: italic; text-align: left;\">missing</td><td style = \"text-align: left;\">R9</td><td style = \"text-align: left;\">T</td><td style = \"text-align: left;\">V</td><td style = \"text-align: left;\">CONST3</td></tr><tr><td class = \"rowNumber\" style = \"font-weight: bold; text-align: right;\">18636</td><td style = \"text-align: left;\">U19</td><td style = \"text-align: left;\">S4</td><td style = \"text-align: left;\">C3</td><td style = \"text-align: left;\">2.8</td><td style = \"text-align: left;\">F</td><td style = \"text-align: left;\">131990.0</td><td style = \"text-align: left;\">E9</td><td style = \"text-align: left;\">false</td><td style = \"text-align: left;\">false</td><td style = \"text-align: left;\">IND-COL-2</td><td style = \"text-align: left;\">false</td><td style = \"text-align: left;\">7.1</td><td style = \"font-style: italic; text-align: left;\">missing</td><td style = \"text-align: left;\">R9</td><td style = \"text-align: left;\">T</td><td style = \"text-align: left;\">V</td><td style = \"text-align: left;\">CONST3</td></tr></tbody></table></div>"
      ],
      "text/latex": [
       "\\begin{tabular}{r|cccccccccc}\n",
       "\t& UNITE & SOUS\\_UNITE & CIRCUIT & NUMERO & BR & HEURES\\_MAT & PE & AVANT\\_NET & APRES\\_NET & \\\\\n",
       "\t\\hline\n",
       "\t& Any & Any & Any & Any & Any & Any & Any & Any & Any & \\\\\n",
       "\t\\hline\n",
       "\t1 & U1 & S1 & C1 & 1.4 & C & 128388.0 & E2 & 0 & 0 & $\\dots$ \\\\\n",
       "\t2 & U1 & S1 & C1 & 1.4 & C & 128388.0 & E5 & 0 & 0 & $\\dots$ \\\\\n",
       "\t3 & U1 & S1 & C1 & 1.4 & C & 128388.0 & E7 & 0 & 0 & $\\dots$ \\\\\n",
       "\t4 & U1 & S1 & C1 & 1.4 & C & 128388.0 & E1 & 0 & 0 & $\\dots$ \\\\\n",
       "\t5 & U1 & S1 & C1 & 1.4 & C & 128388.0 & E9 & 0 & 0 & $\\dots$ \\\\\n",
       "\t6 & U1 & S1 & C1 & 1.4 & C & 128388.0 & E3 & 0 & 0 & $\\dots$ \\\\\n",
       "\t7 & U1 & S1 & C1 & 1.4 & C & 128388.0 & E4 & 0 & 0 & $\\dots$ \\\\\n",
       "\t8 & U1 & S1 & C1 & 1.4 & C & 128388.0 & E6 & 0 & 0 & $\\dots$ \\\\\n",
       "\t9 & U1 & S1 & C1 & 1.4 & C & 128388.0 & E8 & 0 & 0 & $\\dots$ \\\\\n",
       "\t10 & U1 & S1 & C1 & 1.4 & C & 189934.0 & E9 & 0 & 0 & $\\dots$ \\\\\n",
       "\t11 & U1 & S1 & C1 & 1.4 & C & 189934.0 & E2 & 0 & 0 & $\\dots$ \\\\\n",
       "\t12 & U1 & S1 & C1 & 1.4 & C & 189934.0 & E1 & 0 & 0 & $\\dots$ \\\\\n",
       "\t13 & U1 & S1 & C1 & 1.4 & C & 189934.0 & E3 & 0 & 0 & $\\dots$ \\\\\n",
       "\t14 & U1 & S1 & C1 & 1.4 & C & 189934.0 & E4 & 0 & 0 & $\\dots$ \\\\\n",
       "\t15 & U1 & S1 & C1 & 1.4 & C & 189934.0 & E5 & 0 & 0 & $\\dots$ \\\\\n",
       "\t16 & U1 & S1 & C1 & 1.4 & C & 189934.0 & E6 & 0 & 0 & $\\dots$ \\\\\n",
       "\t17 & U1 & S1 & C1 & 1.4 & C & 189934.0 & E7 & 0 & 0 & $\\dots$ \\\\\n",
       "\t18 & U1 & S1 & C1 & 1.4 & C & 189934.0 & E8 & 0 & 0 & $\\dots$ \\\\\n",
       "\t19 & U1 & S1 & C1 & 1.4 & C & 210989.0 & E9 & 0 & 0 & $\\dots$ \\\\\n",
       "\t20 & U1 & S1 & C1 & 1.4 & C & 210989.0 & E7 & 0 & 0 & $\\dots$ \\\\\n",
       "\t21 & U1 & S1 & C1 & 1.4 & C & 210989.0 & E6 & 0 & 0 & $\\dots$ \\\\\n",
       "\t22 & U1 & S1 & C1 & 1.4 & C & 210989.0 & E4 & 0 & 0 & $\\dots$ \\\\\n",
       "\t23 & U1 & S1 & C1 & 1.4 & C & 210989.0 & E5 & 0 & 0 & $\\dots$ \\\\\n",
       "\t24 & U1 & S1 & C1 & 1.4 & C & 210989.0 & E2 & 0 & 0 & $\\dots$ \\\\\n",
       "\t$\\dots$ & $\\dots$ & $\\dots$ & $\\dots$ & $\\dots$ & $\\dots$ & $\\dots$ & $\\dots$ & $\\dots$ & $\\dots$ &  \\\\\n",
       "\\end{tabular}\n"
      ],
      "text/plain": [
       "\u001b[1m18636×17 DataFrame\u001b[0m\n",
       "\u001b[1m   Row \u001b[0m│\u001b[1m UNITE \u001b[0m\u001b[1m SOUS_UNITE \u001b[0m\u001b[1m CIRCUIT \u001b[0m\u001b[1m NUMERO \u001b[0m\u001b[1m BR  \u001b[0m\u001b[1m HEURES_MAT \u001b[0m\u001b[1m PE  \u001b[0m\u001b[1m AVANT_NET \u001b[0m\u001b[1m \u001b[0m ⋯\n",
       "       │\u001b[90m Any   \u001b[0m\u001b[90m Any        \u001b[0m\u001b[90m Any     \u001b[0m\u001b[90m Any    \u001b[0m\u001b[90m Any \u001b[0m\u001b[90m Any        \u001b[0m\u001b[90m Any \u001b[0m\u001b[90m Any       \u001b[0m\u001b[90m \u001b[0m ⋯\n",
       "───────┼────────────────────────────────────────────────────────────────────────\n",
       "     1 │ U1     S1          C1       1.4     C    128388.0    E2   false       ⋯\n",
       "     2 │ U1     S1          C1       1.4     C    128388.0    E5   false\n",
       "     3 │ U1     S1          C1       1.4     C    128388.0    E7   false\n",
       "     4 │ U1     S1          C1       1.4     C    128388.0    E1   false\n",
       "     5 │ U1     S1          C1       1.4     C    128388.0    E9   false       ⋯\n",
       "     6 │ U1     S1          C1       1.4     C    128388.0    E3   false\n",
       "     7 │ U1     S1          C1       1.4     C    128388.0    E4   false\n",
       "     8 │ U1     S1          C1       1.4     C    128388.0    E6   false\n",
       "   ⋮   │   ⋮        ⋮          ⋮       ⋮      ⋮       ⋮        ⋮       ⋮       ⋱\n",
       " 18630 │ U19    S4          C3       2.8     F    131990.0    E2   false       ⋯\n",
       " 18631 │ U19    S4          C3       2.8     F    131990.0    E3   false\n",
       " 18632 │ U19    S4          C3       2.8     F    131990.0    E4   false\n",
       " 18633 │ U19    S4          C3       2.8     F    131990.0    E5   false\n",
       " 18634 │ U19    S4          C3       2.8     F    131990.0    E6   false       ⋯\n",
       " 18635 │ U19    S4          C3       2.8     F    131990.0    E7   false\n",
       " 18636 │ U19    S4          C3       2.8     F    131990.0    E9   false\n",
       "\u001b[36m                                                9 columns and 18621 rows omitted\u001b[0m"
      ]
     },
     "metadata": {},
     "output_type": "display_data"
    }
   ],
   "source": [
    "df2 = dropmissing(df2, :VALEUR)"
   ]
  },
  {
   "cell_type": "markdown",
   "metadata": {},
   "source": [
    "### Fusion de deux DataFrames\n",
    "\n",
    "La ligne suivante fusionne les DataFrames `df1` et `df2` en un seul DataFrame `df_one_two`, en ajoutant les colonnes de manière à inclure toutes les colonnes présentes dans les deux DataFrames."
   ]
  },
  {
   "cell_type": "code",
   "execution_count": 13,
   "metadata": {},
   "outputs": [
    {
     "data": {
      "text/html": [
       "<div><div style = \"float: left;\"><span>19352×18 DataFrame</span></div><div style = \"float: right;\"><span style = \"font-style: italic;\">19327 rows omitted</span></div><div style = \"clear: both;\"></div></div><div class = \"data-frame\" style = \"overflow-x: scroll;\"><table class = \"data-frame\" style = \"margin-bottom: 6px;\"><thead><tr class = \"header\"><th class = \"rowNumber\" style = \"font-weight: bold; text-align: right;\">Row</th><th style = \"text-align: left;\">UNITE</th><th style = \"text-align: left;\">SOUS_UNITE</th><th style = \"text-align: left;\">CIRCUIT</th><th style = \"text-align: left;\">NUMERO</th><th style = \"text-align: left;\">BR</th><th style = \"text-align: left;\">HEURES_MAT</th><th style = \"text-align: left;\">PE</th><th style = \"text-align: left;\">AVANT_NET</th><th style = \"text-align: left;\">APRES_NET</th><th style = \"text-align: left;\">INFER</th><th style = \"text-align: left;\">VALEUR</th><th style = \"text-align: left;\">INCERTITUDE</th><th style = \"text-align: left;\">TAUX_H</th><th style = \"text-align: left;\">REFERENCE</th><th style = \"text-align: left;\">ACIERISTE</th><th style = \"text-align: left;\">TUBISTE</th><th style = \"text-align: left;\">CONSTITUTION</th><th style = \"text-align: left;\">SONDE</th></tr><tr class = \"subheader headerLastRow\"><th class = \"rowNumber\" style = \"font-weight: bold; text-align: right;\"></th><th title = \"Any\" style = \"text-align: left;\">Any</th><th title = \"Any\" style = \"text-align: left;\">Any</th><th title = \"Any\" style = \"text-align: left;\">Any</th><th title = \"Any\" style = \"text-align: left;\">Any</th><th title = \"Any\" style = \"text-align: left;\">Any</th><th title = \"Any\" style = \"text-align: left;\">Any</th><th title = \"Any\" style = \"text-align: left;\">Any</th><th title = \"Any\" style = \"text-align: left;\">Any</th><th title = \"Any\" style = \"text-align: left;\">Any</th><th title = \"Any\" style = \"text-align: left;\">Any</th><th title = \"Any\" style = \"text-align: left;\">Any</th><th title = \"Any\" style = \"text-align: left;\">Any</th><th title = \"Any\" style = \"text-align: left;\">Any</th><th title = \"Any\" style = \"text-align: left;\">Any</th><th title = \"Any\" style = \"text-align: left;\">Any</th><th title = \"Any\" style = \"text-align: left;\">Any</th><th title = \"Any\" style = \"text-align: left;\">Any</th><th title = \"Any\" style = \"text-align: left;\">Any</th></tr></thead><tbody><tr><td class = \"rowNumber\" style = \"font-weight: bold; text-align: right;\">1</td><td style = \"text-align: left;\">U4</td><td style = \"text-align: left;\">S1</td><td style = \"text-align: left;\">C3</td><td style = \"text-align: left;\">1.27</td><td style = \"text-align: left;\">F</td><td style = \"text-align: left;\">215612.0</td><td style = \"text-align: left;\">E9</td><td style = \"text-align: left;\">false</td><td style = \"text-align: left;\">false</td><td style = \"text-align: left;\">false</td><td style = \"text-align: left;\">28.0</td><td style = \"text-align: left;\">5.0</td><td style = \"text-align: left;\">6.0</td><td style = \"text-align: left;\">R12</td><td style = \"text-align: left;\">S</td><td style = \"text-align: left;\">S</td><td style = \"text-align: left;\">CONST2</td><td style = \"font-style: italic; text-align: left;\">missing</td></tr><tr><td class = \"rowNumber\" style = \"font-weight: bold; text-align: right;\">2</td><td style = \"text-align: left;\">U4</td><td style = \"text-align: left;\">S1</td><td style = \"text-align: left;\">C3</td><td style = \"text-align: left;\">1.27</td><td style = \"text-align: left;\">F</td><td style = \"text-align: left;\">224510.0</td><td style = \"text-align: left;\">E9</td><td style = \"text-align: left;\">true</td><td style = \"text-align: left;\">false</td><td style = \"text-align: left;\">false</td><td style = \"text-align: left;\">30.0</td><td style = \"text-align: left;\">5.0</td><td style = \"font-style: italic; text-align: left;\">missing</td><td style = \"text-align: left;\">R12</td><td style = \"text-align: left;\">S</td><td style = \"text-align: left;\">S</td><td style = \"text-align: left;\">CONST2</td><td style = \"font-style: italic; text-align: left;\">missing</td></tr><tr><td class = \"rowNumber\" style = \"font-weight: bold; text-align: right;\">3</td><td style = \"text-align: left;\">U4</td><td style = \"text-align: left;\">S1</td><td style = \"text-align: left;\">C3</td><td style = \"text-align: left;\">1.27</td><td style = \"text-align: left;\">F</td><td style = \"text-align: left;\">237085.0</td><td style = \"text-align: left;\">E9</td><td style = \"text-align: left;\">false</td><td style = \"text-align: left;\">false</td><td style = \"text-align: left;\">true</td><td style = \"text-align: left;\">15.0</td><td style = \"font-style: italic; text-align: left;\">missing</td><td style = \"font-style: italic; text-align: left;\">missing</td><td style = \"text-align: left;\">R12</td><td style = \"text-align: left;\">S</td><td style = \"text-align: left;\">S</td><td style = \"text-align: left;\">CONST2</td><td style = \"font-style: italic; text-align: left;\">missing</td></tr><tr><td class = \"rowNumber\" style = \"font-weight: bold; text-align: right;\">4</td><td style = \"text-align: left;\">U4</td><td style = \"text-align: left;\">S1</td><td style = \"text-align: left;\">C3</td><td style = \"text-align: left;\">1.27</td><td style = \"text-align: left;\">F</td><td style = \"text-align: left;\">245389.0</td><td style = \"text-align: left;\">E5</td><td style = \"text-align: left;\">false</td><td style = \"text-align: left;\">false</td><td style = \"text-align: left;\">true</td><td style = \"text-align: left;\">10.0</td><td style = \"font-style: italic; text-align: left;\">missing</td><td style = \"font-style: italic; text-align: left;\">missing</td><td style = \"text-align: left;\">R12</td><td style = \"text-align: left;\">S</td><td style = \"text-align: left;\">S</td><td style = \"text-align: left;\">CONST2</td><td style = \"font-style: italic; text-align: left;\">missing</td></tr><tr><td class = \"rowNumber\" style = \"font-weight: bold; text-align: right;\">5</td><td style = \"text-align: left;\">U4</td><td style = \"text-align: left;\">S1</td><td style = \"text-align: left;\">C3</td><td style = \"text-align: left;\">1.27</td><td style = \"text-align: left;\">F</td><td style = \"text-align: left;\">245389.0</td><td style = \"text-align: left;\">E9</td><td style = \"text-align: left;\">false</td><td style = \"text-align: left;\">false</td><td style = \"text-align: left;\">true</td><td style = \"text-align: left;\">15.0</td><td style = \"font-style: italic; text-align: left;\">missing</td><td style = \"font-style: italic; text-align: left;\">missing</td><td style = \"text-align: left;\">R12</td><td style = \"text-align: left;\">S</td><td style = \"text-align: left;\">S</td><td style = \"text-align: left;\">CONST2</td><td style = \"font-style: italic; text-align: left;\">missing</td></tr><tr><td class = \"rowNumber\" style = \"font-weight: bold; text-align: right;\">6</td><td style = \"text-align: left;\">U4</td><td style = \"text-align: left;\">S2</td><td style = \"text-align: left;\">C1</td><td style = \"text-align: left;\">1.43</td><td style = \"text-align: left;\">F</td><td style = \"text-align: left;\">148255.0</td><td style = \"text-align: left;\">E9</td><td style = \"text-align: left;\">false</td><td style = \"text-align: left;\">false</td><td style = \"text-align: left;\">true</td><td style = \"text-align: left;\">10.0</td><td style = \"font-style: italic; text-align: left;\">missing</td><td style = \"font-style: italic; text-align: left;\">missing</td><td style = \"text-align: left;\">R12</td><td style = \"text-align: left;\">HI</td><td style = \"text-align: left;\">V</td><td style = \"text-align: left;\">CONST2</td><td style = \"font-style: italic; text-align: left;\">missing</td></tr><tr><td class = \"rowNumber\" style = \"font-weight: bold; text-align: right;\">7</td><td style = \"text-align: left;\">U4</td><td style = \"text-align: left;\">S2</td><td style = \"text-align: left;\">C1</td><td style = \"text-align: left;\">1.43</td><td style = \"text-align: left;\">F</td><td style = \"text-align: left;\">158664.0</td><td style = \"text-align: left;\">E1</td><td style = \"text-align: left;\">false</td><td style = \"text-align: left;\">false</td><td style = \"text-align: left;\">true</td><td style = \"text-align: left;\">10.0</td><td style = \"font-style: italic; text-align: left;\">missing</td><td style = \"font-style: italic; text-align: left;\">missing</td><td style = \"text-align: left;\">R12</td><td style = \"text-align: left;\">HI</td><td style = \"text-align: left;\">V</td><td style = \"text-align: left;\">CONST2</td><td style = \"font-style: italic; text-align: left;\">missing</td></tr><tr><td class = \"rowNumber\" style = \"font-weight: bold; text-align: right;\">8</td><td style = \"text-align: left;\">U4</td><td style = \"text-align: left;\">S2</td><td style = \"text-align: left;\">C1</td><td style = \"text-align: left;\">1.43</td><td style = \"text-align: left;\">F</td><td style = \"text-align: left;\">158664.0</td><td style = \"text-align: left;\">E9</td><td style = \"text-align: left;\">false</td><td style = \"text-align: left;\">false</td><td style = \"text-align: left;\">true</td><td style = \"text-align: left;\">10.0</td><td style = \"font-style: italic; text-align: left;\">missing</td><td style = \"font-style: italic; text-align: left;\">missing</td><td style = \"text-align: left;\">R12</td><td style = \"text-align: left;\">HI</td><td style = \"text-align: left;\">V</td><td style = \"text-align: left;\">CONST2</td><td style = \"font-style: italic; text-align: left;\">missing</td></tr><tr><td class = \"rowNumber\" style = \"font-weight: bold; text-align: right;\">9</td><td style = \"text-align: left;\">U4</td><td style = \"text-align: left;\">S2</td><td style = \"text-align: left;\">C1</td><td style = \"text-align: left;\">1.43</td><td style = \"text-align: left;\">F</td><td style = \"text-align: left;\">179900.0</td><td style = \"text-align: left;\">E1</td><td style = \"text-align: left;\">false</td><td style = \"text-align: left;\">false</td><td style = \"text-align: left;\">true</td><td style = \"text-align: left;\">10.0</td><td style = \"font-style: italic; text-align: left;\">missing</td><td style = \"font-style: italic; text-align: left;\">missing</td><td style = \"text-align: left;\">R12</td><td style = \"text-align: left;\">HI</td><td style = \"text-align: left;\">V</td><td style = \"text-align: left;\">CONST2</td><td style = \"font-style: italic; text-align: left;\">missing</td></tr><tr><td class = \"rowNumber\" style = \"font-weight: bold; text-align: right;\">10</td><td style = \"text-align: left;\">U4</td><td style = \"text-align: left;\">S2</td><td style = \"text-align: left;\">C1</td><td style = \"text-align: left;\">1.43</td><td style = \"text-align: left;\">F</td><td style = \"text-align: left;\">179900.0</td><td style = \"text-align: left;\">E5</td><td style = \"text-align: left;\">false</td><td style = \"text-align: left;\">false</td><td style = \"text-align: left;\">true</td><td style = \"text-align: left;\">10.0</td><td style = \"font-style: italic; text-align: left;\">missing</td><td style = \"font-style: italic; text-align: left;\">missing</td><td style = \"text-align: left;\">R12</td><td style = \"text-align: left;\">HI</td><td style = \"text-align: left;\">V</td><td style = \"text-align: left;\">CONST2</td><td style = \"font-style: italic; text-align: left;\">missing</td></tr><tr><td class = \"rowNumber\" style = \"font-weight: bold; text-align: right;\">11</td><td style = \"text-align: left;\">U4</td><td style = \"text-align: left;\">S2</td><td style = \"text-align: left;\">C1</td><td style = \"text-align: left;\">1.43</td><td style = \"text-align: left;\">F</td><td style = \"text-align: left;\">179900.0</td><td style = \"text-align: left;\">E9</td><td style = \"text-align: left;\">false</td><td style = \"text-align: left;\">false</td><td style = \"text-align: left;\">true</td><td style = \"text-align: left;\">15.0</td><td style = \"font-style: italic; text-align: left;\">missing</td><td style = \"font-style: italic; text-align: left;\">missing</td><td style = \"text-align: left;\">R12</td><td style = \"text-align: left;\">HI</td><td style = \"text-align: left;\">V</td><td style = \"text-align: left;\">CONST2</td><td style = \"font-style: italic; text-align: left;\">missing</td></tr><tr><td class = \"rowNumber\" style = \"font-weight: bold; text-align: right;\">12</td><td style = \"text-align: left;\">U4</td><td style = \"text-align: left;\">S2</td><td style = \"text-align: left;\">C1</td><td style = \"text-align: left;\">1.43</td><td style = \"text-align: left;\">F</td><td style = \"text-align: left;\">179900.0</td><td style = \"text-align: left;\">E6</td><td style = \"text-align: left;\">false</td><td style = \"text-align: left;\">false</td><td style = \"text-align: left;\">true</td><td style = \"text-align: left;\">10.0</td><td style = \"font-style: italic; text-align: left;\">missing</td><td style = \"font-style: italic; text-align: left;\">missing</td><td style = \"text-align: left;\">R12</td><td style = \"text-align: left;\">HI</td><td style = \"text-align: left;\">V</td><td style = \"text-align: left;\">CONST2</td><td style = \"font-style: italic; text-align: left;\">missing</td></tr><tr><td class = \"rowNumber\" style = \"font-weight: bold; text-align: right;\">13</td><td style = \"text-align: left;\">U4</td><td style = \"text-align: left;\">S2</td><td style = \"text-align: left;\">C1</td><td style = \"text-align: left;\">1.43</td><td style = \"text-align: left;\">F</td><td style = \"text-align: left;\">190151.0</td><td style = \"text-align: left;\">E9</td><td style = \"text-align: left;\">false</td><td style = \"text-align: left;\">false</td><td style = \"text-align: left;\">true</td><td style = \"text-align: left;\">20.0</td><td style = \"font-style: italic; text-align: left;\">missing</td><td style = \"font-style: italic; text-align: left;\">missing</td><td style = \"text-align: left;\">R12</td><td style = \"text-align: left;\">HI</td><td style = \"text-align: left;\">V</td><td style = \"text-align: left;\">CONST2</td><td style = \"font-style: italic; text-align: left;\">missing</td></tr><tr><td style = \"text-align: right;\">&vellip;</td><td style = \"text-align: right;\">&vellip;</td><td style = \"text-align: right;\">&vellip;</td><td style = \"text-align: right;\">&vellip;</td><td style = \"text-align: right;\">&vellip;</td><td style = \"text-align: right;\">&vellip;</td><td style = \"text-align: right;\">&vellip;</td><td style = \"text-align: right;\">&vellip;</td><td style = \"text-align: right;\">&vellip;</td><td style = \"text-align: right;\">&vellip;</td><td style = \"text-align: right;\">&vellip;</td><td style = \"text-align: right;\">&vellip;</td><td style = \"text-align: right;\">&vellip;</td><td style = \"text-align: right;\">&vellip;</td><td style = \"text-align: right;\">&vellip;</td><td style = \"text-align: right;\">&vellip;</td><td style = \"text-align: right;\">&vellip;</td><td style = \"text-align: right;\">&vellip;</td><td style = \"text-align: right;\">&vellip;</td></tr><tr><td class = \"rowNumber\" style = \"font-weight: bold; text-align: right;\">19341</td><td style = \"text-align: left;\">U19</td><td style = \"text-align: left;\">S4</td><td style = \"text-align: left;\">C3</td><td style = \"text-align: left;\">2.8</td><td style = \"text-align: left;\">F</td><td style = \"text-align: left;\">116446.0</td><td style = \"text-align: left;\">E6</td><td style = \"text-align: left;\">false</td><td style = \"text-align: left;\">false</td><td style = \"text-align: left;\">false</td><td style = \"text-align: left;\">1.3</td><td style = \"font-style: italic; text-align: left;\">missing</td><td style = \"font-style: italic; text-align: left;\">missing</td><td style = \"text-align: left;\">R9</td><td style = \"text-align: left;\">T</td><td style = \"text-align: left;\">V</td><td style = \"text-align: left;\">CONST3</td><td style = \"text-align: left;\">IND-COL-2</td></tr><tr><td class = \"rowNumber\" style = \"font-weight: bold; text-align: right;\">19342</td><td style = \"text-align: left;\">U19</td><td style = \"text-align: left;\">S4</td><td style = \"text-align: left;\">C3</td><td style = \"text-align: left;\">2.8</td><td style = \"text-align: left;\">F</td><td style = \"text-align: left;\">116446.0</td><td style = \"text-align: left;\">E5</td><td style = \"text-align: left;\">false</td><td style = \"text-align: left;\">false</td><td style = \"text-align: left;\">false</td><td style = \"text-align: left;\">1.4</td><td style = \"font-style: italic; text-align: left;\">missing</td><td style = \"font-style: italic; text-align: left;\">missing</td><td style = \"text-align: left;\">R9</td><td style = \"text-align: left;\">T</td><td style = \"text-align: left;\">V</td><td style = \"text-align: left;\">CONST3</td><td style = \"text-align: left;\">IND-COL-2</td></tr><tr><td class = \"rowNumber\" style = \"font-weight: bold; text-align: right;\">19343</td><td style = \"text-align: left;\">U19</td><td style = \"text-align: left;\">S4</td><td style = \"text-align: left;\">C3</td><td style = \"text-align: left;\">2.8</td><td style = \"text-align: left;\">F</td><td style = \"text-align: left;\">116446.0</td><td style = \"text-align: left;\">E1</td><td style = \"text-align: left;\">false</td><td style = \"text-align: left;\">false</td><td style = \"text-align: left;\">false</td><td style = \"text-align: left;\">12.2</td><td style = \"font-style: italic; text-align: left;\">missing</td><td style = \"font-style: italic; text-align: left;\">missing</td><td style = \"text-align: left;\">R9</td><td style = \"text-align: left;\">T</td><td style = \"text-align: left;\">V</td><td style = \"text-align: left;\">CONST3</td><td style = \"text-align: left;\">IND-COL-2</td></tr><tr><td class = \"rowNumber\" style = \"font-weight: bold; text-align: right;\">19344</td><td style = \"text-align: left;\">U19</td><td style = \"text-align: left;\">S4</td><td style = \"text-align: left;\">C3</td><td style = \"text-align: left;\">2.8</td><td style = \"text-align: left;\">F</td><td style = \"text-align: left;\">131990.0</td><td style = \"text-align: left;\">E1</td><td style = \"text-align: left;\">false</td><td style = \"text-align: left;\">false</td><td style = \"text-align: left;\">false</td><td style = \"text-align: left;\">5.5</td><td style = \"font-style: italic; text-align: left;\">missing</td><td style = \"font-style: italic; text-align: left;\">missing</td><td style = \"text-align: left;\">R9</td><td style = \"text-align: left;\">T</td><td style = \"text-align: left;\">V</td><td style = \"text-align: left;\">CONST3</td><td style = \"text-align: left;\">IND-COL-2</td></tr><tr><td class = \"rowNumber\" style = \"font-weight: bold; text-align: right;\">19345</td><td style = \"text-align: left;\">U19</td><td style = \"text-align: left;\">S4</td><td style = \"text-align: left;\">C3</td><td style = \"text-align: left;\">2.8</td><td style = \"text-align: left;\">F</td><td style = \"text-align: left;\">131990.0</td><td style = \"text-align: left;\">E8</td><td style = \"text-align: left;\">false</td><td style = \"text-align: left;\">false</td><td style = \"text-align: left;\">false</td><td style = \"text-align: left;\">3.1</td><td style = \"font-style: italic; text-align: left;\">missing</td><td style = \"font-style: italic; text-align: left;\">missing</td><td style = \"text-align: left;\">R9</td><td style = \"text-align: left;\">T</td><td style = \"text-align: left;\">V</td><td style = \"text-align: left;\">CONST3</td><td style = \"text-align: left;\">IND-COL-2</td></tr><tr><td class = \"rowNumber\" style = \"font-weight: bold; text-align: right;\">19346</td><td style = \"text-align: left;\">U19</td><td style = \"text-align: left;\">S4</td><td style = \"text-align: left;\">C3</td><td style = \"text-align: left;\">2.8</td><td style = \"text-align: left;\">F</td><td style = \"text-align: left;\">131990.0</td><td style = \"text-align: left;\">E2</td><td style = \"text-align: left;\">false</td><td style = \"text-align: left;\">false</td><td style = \"text-align: left;\">false</td><td style = \"text-align: left;\">8.5</td><td style = \"font-style: italic; text-align: left;\">missing</td><td style = \"font-style: italic; text-align: left;\">missing</td><td style = \"text-align: left;\">R9</td><td style = \"text-align: left;\">T</td><td style = \"text-align: left;\">V</td><td style = \"text-align: left;\">CONST3</td><td style = \"text-align: left;\">IND-COL-2</td></tr><tr><td class = \"rowNumber\" style = \"font-weight: bold; text-align: right;\">19347</td><td style = \"text-align: left;\">U19</td><td style = \"text-align: left;\">S4</td><td style = \"text-align: left;\">C3</td><td style = \"text-align: left;\">2.8</td><td style = \"text-align: left;\">F</td><td style = \"text-align: left;\">131990.0</td><td style = \"text-align: left;\">E3</td><td style = \"text-align: left;\">false</td><td style = \"text-align: left;\">false</td><td style = \"text-align: left;\">false</td><td style = \"text-align: left;\">2.3</td><td style = \"font-style: italic; text-align: left;\">missing</td><td style = \"font-style: italic; text-align: left;\">missing</td><td style = \"text-align: left;\">R9</td><td style = \"text-align: left;\">T</td><td style = \"text-align: left;\">V</td><td style = \"text-align: left;\">CONST3</td><td style = \"text-align: left;\">IND-COL-2</td></tr><tr><td class = \"rowNumber\" style = \"font-weight: bold; text-align: right;\">19348</td><td style = \"text-align: left;\">U19</td><td style = \"text-align: left;\">S4</td><td style = \"text-align: left;\">C3</td><td style = \"text-align: left;\">2.8</td><td style = \"text-align: left;\">F</td><td style = \"text-align: left;\">131990.0</td><td style = \"text-align: left;\">E4</td><td style = \"text-align: left;\">false</td><td style = \"text-align: left;\">false</td><td style = \"text-align: left;\">false</td><td style = \"text-align: left;\">3.0</td><td style = \"font-style: italic; text-align: left;\">missing</td><td style = \"font-style: italic; text-align: left;\">missing</td><td style = \"text-align: left;\">R9</td><td style = \"text-align: left;\">T</td><td style = \"text-align: left;\">V</td><td style = \"text-align: left;\">CONST3</td><td style = \"text-align: left;\">IND-COL-2</td></tr><tr><td class = \"rowNumber\" style = \"font-weight: bold; text-align: right;\">19349</td><td style = \"text-align: left;\">U19</td><td style = \"text-align: left;\">S4</td><td style = \"text-align: left;\">C3</td><td style = \"text-align: left;\">2.8</td><td style = \"text-align: left;\">F</td><td style = \"text-align: left;\">131990.0</td><td style = \"text-align: left;\">E5</td><td style = \"text-align: left;\">false</td><td style = \"text-align: left;\">false</td><td style = \"text-align: left;\">false</td><td style = \"text-align: left;\">2.0</td><td style = \"font-style: italic; text-align: left;\">missing</td><td style = \"font-style: italic; text-align: left;\">missing</td><td style = \"text-align: left;\">R9</td><td style = \"text-align: left;\">T</td><td style = \"text-align: left;\">V</td><td style = \"text-align: left;\">CONST3</td><td style = \"text-align: left;\">IND-COL-2</td></tr><tr><td class = \"rowNumber\" style = \"font-weight: bold; text-align: right;\">19350</td><td style = \"text-align: left;\">U19</td><td style = \"text-align: left;\">S4</td><td style = \"text-align: left;\">C3</td><td style = \"text-align: left;\">2.8</td><td style = \"text-align: left;\">F</td><td style = \"text-align: left;\">131990.0</td><td style = \"text-align: left;\">E6</td><td style = \"text-align: left;\">false</td><td style = \"text-align: left;\">false</td><td style = \"text-align: left;\">false</td><td style = \"text-align: left;\">1.9</td><td style = \"font-style: italic; text-align: left;\">missing</td><td style = \"font-style: italic; text-align: left;\">missing</td><td style = \"text-align: left;\">R9</td><td style = \"text-align: left;\">T</td><td style = \"text-align: left;\">V</td><td style = \"text-align: left;\">CONST3</td><td style = \"text-align: left;\">IND-COL-2</td></tr><tr><td class = \"rowNumber\" style = \"font-weight: bold; text-align: right;\">19351</td><td style = \"text-align: left;\">U19</td><td style = \"text-align: left;\">S4</td><td style = \"text-align: left;\">C3</td><td style = \"text-align: left;\">2.8</td><td style = \"text-align: left;\">F</td><td style = \"text-align: left;\">131990.0</td><td style = \"text-align: left;\">E7</td><td style = \"text-align: left;\">false</td><td style = \"text-align: left;\">false</td><td style = \"text-align: left;\">false</td><td style = \"text-align: left;\">2.1</td><td style = \"font-style: italic; text-align: left;\">missing</td><td style = \"font-style: italic; text-align: left;\">missing</td><td style = \"text-align: left;\">R9</td><td style = \"text-align: left;\">T</td><td style = \"text-align: left;\">V</td><td style = \"text-align: left;\">CONST3</td><td style = \"text-align: left;\">IND-COL-2</td></tr><tr><td class = \"rowNumber\" style = \"font-weight: bold; text-align: right;\">19352</td><td style = \"text-align: left;\">U19</td><td style = \"text-align: left;\">S4</td><td style = \"text-align: left;\">C3</td><td style = \"text-align: left;\">2.8</td><td style = \"text-align: left;\">F</td><td style = \"text-align: left;\">131990.0</td><td style = \"text-align: left;\">E9</td><td style = \"text-align: left;\">false</td><td style = \"text-align: left;\">false</td><td style = \"text-align: left;\">false</td><td style = \"text-align: left;\">7.1</td><td style = \"font-style: italic; text-align: left;\">missing</td><td style = \"font-style: italic; text-align: left;\">missing</td><td style = \"text-align: left;\">R9</td><td style = \"text-align: left;\">T</td><td style = \"text-align: left;\">V</td><td style = \"text-align: left;\">CONST3</td><td style = \"text-align: left;\">IND-COL-2</td></tr></tbody></table></div>"
      ],
      "text/latex": [
       "\\begin{tabular}{r|cccccccccc}\n",
       "\t& UNITE & SOUS\\_UNITE & CIRCUIT & NUMERO & BR & HEURES\\_MAT & PE & AVANT\\_NET & APRES\\_NET & \\\\\n",
       "\t\\hline\n",
       "\t& Any & Any & Any & Any & Any & Any & Any & Any & Any & \\\\\n",
       "\t\\hline\n",
       "\t1 & U4 & S1 & C3 & 1.27 & F & 215612.0 & E9 & 0 & 0 & $\\dots$ \\\\\n",
       "\t2 & U4 & S1 & C3 & 1.27 & F & 224510.0 & E9 & 1 & 0 & $\\dots$ \\\\\n",
       "\t3 & U4 & S1 & C3 & 1.27 & F & 237085.0 & E9 & 0 & 0 & $\\dots$ \\\\\n",
       "\t4 & U4 & S1 & C3 & 1.27 & F & 245389.0 & E5 & 0 & 0 & $\\dots$ \\\\\n",
       "\t5 & U4 & S1 & C3 & 1.27 & F & 245389.0 & E9 & 0 & 0 & $\\dots$ \\\\\n",
       "\t6 & U4 & S2 & C1 & 1.43 & F & 148255.0 & E9 & 0 & 0 & $\\dots$ \\\\\n",
       "\t7 & U4 & S2 & C1 & 1.43 & F & 158664.0 & E1 & 0 & 0 & $\\dots$ \\\\\n",
       "\t8 & U4 & S2 & C1 & 1.43 & F & 158664.0 & E9 & 0 & 0 & $\\dots$ \\\\\n",
       "\t9 & U4 & S2 & C1 & 1.43 & F & 179900.0 & E1 & 0 & 0 & $\\dots$ \\\\\n",
       "\t10 & U4 & S2 & C1 & 1.43 & F & 179900.0 & E5 & 0 & 0 & $\\dots$ \\\\\n",
       "\t11 & U4 & S2 & C1 & 1.43 & F & 179900.0 & E9 & 0 & 0 & $\\dots$ \\\\\n",
       "\t12 & U4 & S2 & C1 & 1.43 & F & 179900.0 & E6 & 0 & 0 & $\\dots$ \\\\\n",
       "\t13 & U4 & S2 & C1 & 1.43 & F & 190151.0 & E9 & 0 & 0 & $\\dots$ \\\\\n",
       "\t14 & U4 & S2 & C1 & 1.43 & F & 190151.0 & E5 & 0 & 0 & $\\dots$ \\\\\n",
       "\t15 & U4 & S2 & C1 & 1.43 & F & 212455.0 & E9 & 1 & 0 & $\\dots$ \\\\\n",
       "\t16 & U4 & S2 & C1 & 1.43 & F & 212455.0 & E5 & 1 & 0 & $\\dots$ \\\\\n",
       "\t17 & U4 & S2 & C1 & 1.43 & F & 220618.0 & E9 & 0 & 0 & $\\dots$ \\\\\n",
       "\t18 & U4 & S2 & C1 & 1.43 & F & 220618.0 & E5 & 0 & 0 & $\\dots$ \\\\\n",
       "\t19 & U4 & S2 & C1 & 1.43 & F & 233179.0 & E9 & 0 & 0 & $\\dots$ \\\\\n",
       "\t20 & U1 & S1 & C1 & 1.4 & C & 147771.0 & E9 & 1 & 0 & $\\dots$ \\\\\n",
       "\t21 & U1 & S1 & C2 & 1.45 & C & 158703.0 & E9 & 0 & 0 & $\\dots$ \\\\\n",
       "\t22 & U1 & S1 & C2 & 1.45 & C & 168593.0 & E9 & 0 & 0 & $\\dots$ \\\\\n",
       "\t23 & U1 & S1 & C2 & 1.45 & C & 189934.0 & E9 & 0 & 0 & $\\dots$ \\\\\n",
       "\t24 & U1 & S1 & C2 & 1.45 & C & 210989.0 & E9 & 0 & 0 & $\\dots$ \\\\\n",
       "\t$\\dots$ & $\\dots$ & $\\dots$ & $\\dots$ & $\\dots$ & $\\dots$ & $\\dots$ & $\\dots$ & $\\dots$ & $\\dots$ &  \\\\\n",
       "\\end{tabular}\n"
      ],
      "text/plain": [
       "\u001b[1m19352×18 DataFrame\u001b[0m\n",
       "\u001b[1m   Row \u001b[0m│\u001b[1m UNITE \u001b[0m\u001b[1m SOUS_UNITE \u001b[0m\u001b[1m CIRCUIT \u001b[0m\u001b[1m NUMERO \u001b[0m\u001b[1m BR  \u001b[0m\u001b[1m HEURES_MAT \u001b[0m\u001b[1m PE  \u001b[0m\u001b[1m AVANT_NET \u001b[0m\u001b[1m \u001b[0m ⋯\n",
       "       │\u001b[90m Any   \u001b[0m\u001b[90m Any        \u001b[0m\u001b[90m Any     \u001b[0m\u001b[90m Any    \u001b[0m\u001b[90m Any \u001b[0m\u001b[90m Any        \u001b[0m\u001b[90m Any \u001b[0m\u001b[90m Any       \u001b[0m\u001b[90m \u001b[0m ⋯\n",
       "───────┼────────────────────────────────────────────────────────────────────────\n",
       "     1 │ U4     S1          C3       1.27    F    215612.0    E9   false       ⋯\n",
       "     2 │ U4     S1          C3       1.27    F    224510.0    E9   true\n",
       "     3 │ U4     S1          C3       1.27    F    237085.0    E9   false\n",
       "     4 │ U4     S1          C3       1.27    F    245389.0    E5   false\n",
       "     5 │ U4     S1          C3       1.27    F    245389.0    E9   false       ⋯\n",
       "     6 │ U4     S2          C1       1.43    F    148255.0    E9   false\n",
       "     7 │ U4     S2          C1       1.43    F    158664.0    E1   false\n",
       "     8 │ U4     S2          C1       1.43    F    158664.0    E9   false\n",
       "   ⋮   │   ⋮        ⋮          ⋮       ⋮      ⋮       ⋮        ⋮       ⋮       ⋱\n",
       " 19346 │ U19    S4          C3       2.8     F    131990.0    E2   false       ⋯\n",
       " 19347 │ U19    S4          C3       2.8     F    131990.0    E3   false\n",
       " 19348 │ U19    S4          C3       2.8     F    131990.0    E4   false\n",
       " 19349 │ U19    S4          C3       2.8     F    131990.0    E5   false\n",
       " 19350 │ U19    S4          C3       2.8     F    131990.0    E6   false       ⋯\n",
       " 19351 │ U19    S4          C3       2.8     F    131990.0    E7   false\n",
       " 19352 │ U19    S4          C3       2.8     F    131990.0    E9   false\n",
       "\u001b[36m                                               10 columns and 19337 rows omitted\u001b[0m"
      ]
     },
     "metadata": {},
     "output_type": "display_data"
    }
   ],
   "source": [
    "df_one_two = vcat(df1, df2, cols = :union )"
   ]
  },
  {
   "cell_type": "markdown",
   "metadata": {},
   "source": [
    "### Chargement et prétraitement des données de nettoyages\n",
    "\n",
    "Les lignes suivantes chargent les données à partir du fichier Excel \"NETTOYAGES.xls\" et les stockent sous format d'un DataFrame `df_nettoyages` bien structuré."
   ]
  },
  {
   "cell_type": "code",
   "execution_count": 14,
   "metadata": {},
   "outputs": [
    {
     "data": {
      "text/html": [
       "<div><div style = \"float: left;\"><span>187×22 DataFrame</span></div><div style = \"float: right;\"><span style = \"font-style: italic;\">162 rows omitted</span></div><div style = \"clear: both;\"></div></div><div class = \"data-frame\" style = \"overflow-x: scroll;\"><table class = \"data-frame\" style = \"margin-bottom: 6px;\"><thead><tr class = \"header\"><th class = \"rowNumber\" style = \"font-weight: bold; text-align: right;\">Row</th><th style = \"text-align: left;\">UNITE</th><th style = \"text-align: left;\">SOUS_UNITE</th><th style = \"text-align: left;\">CIRCUIT</th><th style = \"text-align: left;\">REFERENCE</th><th style = \"text-align: left;\">NUMERO</th><th style = \"text-align: left;\">HEURES_MAT</th><th style = \"text-align: left;\">Plaque à tube - curatif </th><th style = \"text-align: left;\">Plaque à tube - préventif</th><th style = \"text-align: left;\">PE_CURATIF</th><th style = \"text-align: left;\">PE_PREVENTIF</th><th style = \"text-align: left;\">INTERVENANT</th><th style = \"text-align: left;\">ZONE</th><th style = \"text-align: left;\">PROCEDE</th><th style = \"text-align: left;\">BOUE_KG</th><th style = \"text-align: left;\">CUIVRE_KG</th><th style = \"text-align: left;\">EFFICACITE_DECOLMATAGE_ESTIMEE_MIN</th><th style = \"text-align: left;\">EFFICACITE_DECOLMATAGE_ESTIMEE_MAX</th><th style = \"text-align: left;\">ACIERISTE</th><th style = \"text-align: left;\">TUBISTE</th><th style = \"text-align: left;\">CONSTITUTION</th><th style = \"text-align: left;\">INTERET ANALYSE</th><th style = \"text-align: left;\">FAMILLE PROCEDE</th></tr><tr class = \"subheader headerLastRow\"><th class = \"rowNumber\" style = \"font-weight: bold; text-align: right;\"></th><th title = \"Any\" style = \"text-align: left;\">Any</th><th title = \"Any\" style = \"text-align: left;\">Any</th><th title = \"Any\" style = \"text-align: left;\">Any</th><th title = \"Any\" style = \"text-align: left;\">Any</th><th title = \"Any\" style = \"text-align: left;\">Any</th><th title = \"Any\" style = \"text-align: left;\">Any</th><th title = \"Any\" style = \"text-align: left;\">Any</th><th title = \"Any\" style = \"text-align: left;\">Any</th><th title = \"Any\" style = \"text-align: left;\">Any</th><th title = \"Any\" style = \"text-align: left;\">Any</th><th title = \"Any\" style = \"text-align: left;\">Any</th><th title = \"Any\" style = \"text-align: left;\">Any</th><th title = \"Any\" style = \"text-align: left;\">Any</th><th title = \"Any\" style = \"text-align: left;\">Any</th><th title = \"Any\" style = \"text-align: left;\">Any</th><th title = \"Any\" style = \"text-align: left;\">Any</th><th title = \"Any\" style = \"text-align: left;\">Any</th><th title = \"Any\" style = \"text-align: left;\">Any</th><th title = \"Any\" style = \"text-align: left;\">Any</th><th title = \"Any\" style = \"text-align: left;\">Any</th><th title = \"Any\" style = \"text-align: left;\">Any</th><th title = \"Any\" style = \"text-align: left;\">Any</th></tr></thead><tbody><tr><td class = \"rowNumber\" style = \"font-weight: bold; text-align: right;\">1</td><td style = \"text-align: left;\">U14</td><td style = \"text-align: left;\">S1</td><td style = \"text-align: left;\">C1</td><td style = \"text-align: left;\">R12</td><td style = \"text-align: left;\">1.5</td><td style = \"text-align: left;\">12110.0</td><td style = \"text-align: left;\">true</td><td style = \"text-align: left;\">false</td><td style = \"text-align: left;\">true</td><td style = \"text-align: left;\">false</td><td style = \"text-align: left;\">I3</td><td style = \"text-align: left;\">GV Entier</td><td style = \"text-align: left;\">PROC5</td><td style = \"text-align: left;\">1827.0</td><td style = \"text-align: left;\">3.0</td><td style = \"text-align: left;\">#NA</td><td style = \"text-align: left;\">#NA</td><td style = \"text-align: left;\">I</td><td style = \"text-align: left;\">V</td><td style = \"text-align: left;\">CONST2</td><td style = \"text-align: left;\">HORS SCOPE</td><td style = \"text-align: left;\">#NA</td></tr><tr><td class = \"rowNumber\" style = \"font-weight: bold; text-align: right;\">2</td><td style = \"text-align: left;\">U14</td><td style = \"text-align: left;\">S1</td><td style = \"text-align: left;\">C2</td><td style = \"text-align: left;\">R12</td><td style = \"text-align: left;\">1.48</td><td style = \"text-align: left;\">12110.0</td><td style = \"text-align: left;\">true</td><td style = \"text-align: left;\">false</td><td style = \"text-align: left;\">true</td><td style = \"text-align: left;\">false</td><td style = \"text-align: left;\">I3</td><td style = \"text-align: left;\">GV Entier</td><td style = \"text-align: left;\">PROC5</td><td style = \"text-align: left;\">1565.0</td><td style = \"text-align: left;\">6.0</td><td style = \"text-align: left;\">#NA</td><td style = \"text-align: left;\">#NA</td><td style = \"text-align: left;\">H</td><td style = \"text-align: left;\">W</td><td style = \"text-align: left;\">CONST2</td><td style = \"text-align: left;\">HORS SCOPE</td><td style = \"text-align: left;\">#NA</td></tr><tr><td class = \"rowNumber\" style = \"font-weight: bold; text-align: right;\">3</td><td style = \"text-align: left;\">U14</td><td style = \"text-align: left;\">S1</td><td style = \"text-align: left;\">C3</td><td style = \"text-align: left;\">R12</td><td style = \"text-align: left;\">1.47</td><td style = \"text-align: left;\">12110.0</td><td style = \"text-align: left;\">true</td><td style = \"text-align: left;\">false</td><td style = \"text-align: left;\">true</td><td style = \"text-align: left;\">false</td><td style = \"text-align: left;\">I3</td><td style = \"text-align: left;\">GV Entier</td><td style = \"text-align: left;\">PROC5</td><td style = \"text-align: left;\">1882.0</td><td style = \"text-align: left;\">6.0</td><td style = \"text-align: left;\">#NA</td><td style = \"text-align: left;\">#NA</td><td style = \"text-align: left;\">I</td><td style = \"text-align: left;\">V</td><td style = \"text-align: left;\">CONST2</td><td style = \"text-align: left;\">HORS SCOPE</td><td style = \"text-align: left;\">#NA</td></tr><tr><td class = \"rowNumber\" style = \"font-weight: bold; text-align: right;\">4</td><td style = \"text-align: left;\">U14</td><td style = \"text-align: left;\">S1</td><td style = \"text-align: left;\">C4</td><td style = \"text-align: left;\">R12</td><td style = \"text-align: left;\">1.52</td><td style = \"text-align: left;\">12110.0</td><td style = \"text-align: left;\">true</td><td style = \"text-align: left;\">false</td><td style = \"text-align: left;\">true</td><td style = \"text-align: left;\">false</td><td style = \"text-align: left;\">I3</td><td style = \"text-align: left;\">GV Entier</td><td style = \"text-align: left;\">PROC5</td><td style = \"text-align: left;\">1788.0</td><td style = \"text-align: left;\">1.0</td><td style = \"text-align: left;\">#NA</td><td style = \"text-align: left;\">#NA</td><td style = \"text-align: left;\">I</td><td style = \"text-align: left;\">V</td><td style = \"text-align: left;\">CONST2</td><td style = \"text-align: left;\">HORS SCOPE</td><td style = \"text-align: left;\">#NA</td></tr><tr><td class = \"rowNumber\" style = \"font-weight: bold; text-align: right;\">5</td><td style = \"text-align: left;\">U17</td><td style = \"text-align: left;\">S2</td><td style = \"text-align: left;\">C1</td><td style = \"text-align: left;\">R12</td><td style = \"text-align: left;\">1.35</td><td style = \"text-align: left;\">23613.0</td><td style = \"text-align: left;\">true</td><td style = \"text-align: left;\">false</td><td style = \"text-align: left;\">false</td><td style = \"text-align: left;\">false</td><td style = \"text-align: left;\">I3</td><td style = \"text-align: left;\">GV Partiel</td><td style = \"text-align: left;\">PROC5</td><td style = \"text-align: left;\">348.0</td><td style = \"text-align: left;\">1.0</td><td style = \"text-align: left;\">#NA</td><td style = \"text-align: left;\">#NA</td><td style = \"text-align: left;\">I</td><td style = \"text-align: left;\">V</td><td style = \"text-align: left;\">CONST2</td><td style = \"text-align: left;\">HORS SCOPE</td><td style = \"text-align: left;\">#NA</td></tr><tr><td class = \"rowNumber\" style = \"font-weight: bold; text-align: right;\">6</td><td style = \"text-align: left;\">U17</td><td style = \"text-align: left;\">S2</td><td style = \"text-align: left;\">C2</td><td style = \"text-align: left;\">R12</td><td style = \"text-align: left;\">1.34</td><td style = \"text-align: left;\">23613.0</td><td style = \"text-align: left;\">true</td><td style = \"text-align: left;\">false</td><td style = \"text-align: left;\">false</td><td style = \"text-align: left;\">false</td><td style = \"text-align: left;\">I3</td><td style = \"text-align: left;\">GV Partiel</td><td style = \"text-align: left;\">PROC5</td><td style = \"text-align: left;\">334.0</td><td style = \"text-align: left;\">2.0</td><td style = \"text-align: left;\">#NA</td><td style = \"text-align: left;\">#NA</td><td style = \"text-align: left;\">I</td><td style = \"text-align: left;\">V</td><td style = \"text-align: left;\">CONST2</td><td style = \"text-align: left;\">HORS SCOPE</td><td style = \"text-align: left;\">#NA</td></tr><tr><td class = \"rowNumber\" style = \"font-weight: bold; text-align: right;\">7</td><td style = \"text-align: left;\">U17</td><td style = \"text-align: left;\">S2</td><td style = \"text-align: left;\">C3</td><td style = \"text-align: left;\">R12</td><td style = \"text-align: left;\">1.32</td><td style = \"text-align: left;\">23613.0</td><td style = \"text-align: left;\">true</td><td style = \"text-align: left;\">false</td><td style = \"text-align: left;\">false</td><td style = \"text-align: left;\">false</td><td style = \"text-align: left;\">I3</td><td style = \"text-align: left;\">GV Partiel</td><td style = \"text-align: left;\">PROC5</td><td style = \"text-align: left;\">285.0</td><td style = \"text-align: left;\">3.0</td><td style = \"text-align: left;\">#NA</td><td style = \"text-align: left;\">#NA</td><td style = \"text-align: left;\">H</td><td style = \"text-align: left;\">W</td><td style = \"text-align: left;\">CONST2</td><td style = \"text-align: left;\">HORS SCOPE</td><td style = \"text-align: left;\">#NA</td></tr><tr><td class = \"rowNumber\" style = \"font-weight: bold; text-align: right;\">8</td><td style = \"text-align: left;\">U17</td><td style = \"text-align: left;\">S2</td><td style = \"text-align: left;\">C4</td><td style = \"text-align: left;\">R12</td><td style = \"text-align: left;\">1.33</td><td style = \"text-align: left;\">23613.0</td><td style = \"text-align: left;\">true</td><td style = \"text-align: left;\">false</td><td style = \"text-align: left;\">false</td><td style = \"text-align: left;\">false</td><td style = \"text-align: left;\">I3</td><td style = \"text-align: left;\">GV Partiel</td><td style = \"text-align: left;\">PROC5</td><td style = \"text-align: left;\">259.0</td><td style = \"text-align: left;\">2.0</td><td style = \"text-align: left;\">#NA</td><td style = \"text-align: left;\">#NA</td><td style = \"text-align: left;\">S</td><td style = \"text-align: left;\">S</td><td style = \"text-align: left;\">CONST2</td><td style = \"text-align: left;\">HORS SCOPE</td><td style = \"text-align: left;\">#NA</td></tr><tr><td class = \"rowNumber\" style = \"font-weight: bold; text-align: right;\">9</td><td style = \"text-align: left;\">U10</td><td style = \"text-align: left;\">S2</td><td style = \"text-align: left;\">C1</td><td style = \"text-align: left;\">R3</td><td style = \"text-align: left;\">0.04</td><td style = \"text-align: left;\">101049.0</td><td style = \"text-align: left;\">true</td><td style = \"text-align: left;\">false</td><td style = \"text-align: left;\">true</td><td style = \"text-align: left;\">false</td><td style = \"text-align: left;\">I3</td><td style = \"text-align: left;\">GV Entier</td><td style = \"text-align: left;\">PROC5</td><td style = \"text-align: left;\">3028.0</td><td style = \"text-align: left;\">155.0</td><td style = \"text-align: left;\">#NA</td><td style = \"text-align: left;\">#NA</td><td style = \"text-align: left;\">S</td><td style = \"text-align: left;\">S</td><td style = \"text-align: left;\">CONST1</td><td style = \"text-align: left;\">HORS SCOPE</td><td style = \"text-align: left;\">#NA</td></tr><tr><td class = \"rowNumber\" style = \"font-weight: bold; text-align: right;\">10</td><td style = \"text-align: left;\">U10</td><td style = \"text-align: left;\">S2</td><td style = \"text-align: left;\">C2</td><td style = \"text-align: left;\">R3</td><td style = \"text-align: left;\">0.05</td><td style = \"text-align: left;\">101049.0</td><td style = \"text-align: left;\">true</td><td style = \"text-align: left;\">false</td><td style = \"text-align: left;\">true</td><td style = \"text-align: left;\">false</td><td style = \"text-align: left;\">I3</td><td style = \"text-align: left;\">GV Entier</td><td style = \"text-align: left;\">PROC5</td><td style = \"text-align: left;\">3183.0</td><td style = \"text-align: left;\">190.0</td><td style = \"text-align: left;\">#NA</td><td style = \"text-align: left;\">#NA</td><td style = \"text-align: left;\">S</td><td style = \"text-align: left;\">S</td><td style = \"text-align: left;\">CONST1</td><td style = \"text-align: left;\">HORS SCOPE</td><td style = \"text-align: left;\">#NA</td></tr><tr><td class = \"rowNumber\" style = \"font-weight: bold; text-align: right;\">11</td><td style = \"text-align: left;\">U10</td><td style = \"text-align: left;\">S2</td><td style = \"text-align: left;\">C3</td><td style = \"text-align: left;\">R3</td><td style = \"text-align: left;\">0.06</td><td style = \"text-align: left;\">101049.0</td><td style = \"text-align: left;\">true</td><td style = \"text-align: left;\">false</td><td style = \"text-align: left;\">true</td><td style = \"text-align: left;\">false</td><td style = \"text-align: left;\">I3</td><td style = \"text-align: left;\">GV Entier</td><td style = \"text-align: left;\">PROC5</td><td style = \"text-align: left;\">3617.0</td><td style = \"text-align: left;\">135.0</td><td style = \"text-align: left;\">#NA</td><td style = \"text-align: left;\">#NA</td><td style = \"text-align: left;\">S</td><td style = \"text-align: left;\">S</td><td style = \"text-align: left;\">CONST1</td><td style = \"text-align: left;\">HORS SCOPE</td><td style = \"text-align: left;\">#NA</td></tr><tr><td class = \"rowNumber\" style = \"font-weight: bold; text-align: right;\">12</td><td style = \"text-align: left;\">U5</td><td style = \"text-align: left;\">S1</td><td style = \"text-align: left;\">C1</td><td style = \"text-align: left;\">R5</td><td style = \"text-align: left;\">0.67</td><td style = \"text-align: left;\">146920.0</td><td style = \"text-align: left;\">true</td><td style = \"text-align: left;\">false</td><td style = \"text-align: left;\">true</td><td style = \"text-align: left;\">false</td><td style = \"text-align: left;\">I5</td><td style = \"text-align: left;\">GV Entier</td><td style = \"text-align: left;\">PROC7</td><td style = \"text-align: left;\">2294.0</td><td style = \"text-align: left;\">180.0</td><td style = \"text-align: left;\">#NA</td><td style = \"text-align: left;\">#NA</td><td style = \"text-align: left;\">I</td><td style = \"text-align: left;\">V</td><td style = \"text-align: left;\">CONST1</td><td style = \"text-align: left;\">HORS SCOPE</td><td style = \"text-align: left;\">#NA</td></tr><tr><td class = \"rowNumber\" style = \"font-weight: bold; text-align: right;\">13</td><td style = \"text-align: left;\">U5</td><td style = \"text-align: left;\">S1</td><td style = \"text-align: left;\">C2</td><td style = \"text-align: left;\">R5</td><td style = \"text-align: left;\">0.63</td><td style = \"text-align: left;\">146920.0</td><td style = \"text-align: left;\">true</td><td style = \"text-align: left;\">false</td><td style = \"text-align: left;\">true</td><td style = \"text-align: left;\">false</td><td style = \"text-align: left;\">I5</td><td style = \"text-align: left;\">GV Entier</td><td style = \"text-align: left;\">PROC7</td><td style = \"text-align: left;\">2446.0</td><td style = \"text-align: left;\">185.0</td><td style = \"text-align: left;\">#NA</td><td style = \"text-align: left;\">#NA</td><td style = \"text-align: left;\">S</td><td style = \"text-align: left;\">S</td><td style = \"text-align: left;\">CONST1</td><td style = \"text-align: left;\">HORS SCOPE</td><td style = \"text-align: left;\">#NA</td></tr><tr><td style = \"text-align: right;\">&vellip;</td><td style = \"text-align: right;\">&vellip;</td><td style = \"text-align: right;\">&vellip;</td><td style = \"text-align: right;\">&vellip;</td><td style = \"text-align: right;\">&vellip;</td><td style = \"text-align: right;\">&vellip;</td><td style = \"text-align: right;\">&vellip;</td><td style = \"text-align: right;\">&vellip;</td><td style = \"text-align: right;\">&vellip;</td><td style = \"text-align: right;\">&vellip;</td><td style = \"text-align: right;\">&vellip;</td><td style = \"text-align: right;\">&vellip;</td><td style = \"text-align: right;\">&vellip;</td><td style = \"text-align: right;\">&vellip;</td><td style = \"text-align: right;\">&vellip;</td><td style = \"text-align: right;\">&vellip;</td><td style = \"text-align: right;\">&vellip;</td><td style = \"text-align: right;\">&vellip;</td><td style = \"text-align: right;\">&vellip;</td><td style = \"text-align: right;\">&vellip;</td><td style = \"text-align: right;\">&vellip;</td><td style = \"text-align: right;\">&vellip;</td><td style = \"text-align: right;\">&vellip;</td></tr><tr><td class = \"rowNumber\" style = \"font-weight: bold; text-align: right;\">176</td><td style = \"text-align: left;\">U9</td><td style = \"text-align: left;\">S2</td><td style = \"text-align: left;\">C3</td><td style = \"text-align: left;\">R9</td><td style = \"text-align: left;\">2.84</td><td style = \"text-align: left;\">119225.0</td><td style = \"text-align: left;\">false</td><td style = \"text-align: left;\">true</td><td style = \"text-align: left;\">false</td><td style = \"text-align: left;\">true</td><td style = \"text-align: left;\">I6</td><td style = \"text-align: left;\">GV Entier</td><td style = \"text-align: left;\">PROC8</td><td style = \"text-align: left;\">737.0</td><td style = \"text-align: left;\">12.0</td><td style = \"text-align: left;\">#NA</td><td style = \"text-align: left;\">#NA</td><td style = \"text-align: left;\">T</td><td style = \"text-align: left;\">V</td><td style = \"text-align: left;\">CONST3</td><td style = \"text-align: left;\">OK NPGV</td><td style = \"text-align: left;\">FAM1</td></tr><tr><td class = \"rowNumber\" style = \"font-weight: bold; text-align: right;\">177</td><td style = \"text-align: left;\">U4</td><td style = \"text-align: left;\">S4</td><td style = \"text-align: left;\">C1</td><td style = \"text-align: left;\">R12</td><td style = \"text-align: left;\">1.85</td><td style = \"text-align: left;\">229089.0</td><td style = \"text-align: left;\">false</td><td style = \"text-align: left;\">true</td><td style = \"text-align: left;\">false</td><td style = \"text-align: left;\">true</td><td style = \"text-align: left;\">I4</td><td style = \"text-align: left;\">GV Entier</td><td style = \"text-align: left;\">PROC3</td><td style = \"text-align: left;\">315.0</td><td style = \"text-align: left;\">3.0</td><td style = \"text-align: left;\">#NA</td><td style = \"text-align: left;\">#NA</td><td style = \"text-align: left;\">I</td><td style = \"text-align: left;\">V</td><td style = \"text-align: left;\">CONST2</td><td style = \"text-align: left;\">OK NPGV</td><td style = \"text-align: left;\">FAM2</td></tr><tr><td class = \"rowNumber\" style = \"font-weight: bold; text-align: right;\">178</td><td style = \"text-align: left;\">U4</td><td style = \"text-align: left;\">S4</td><td style = \"text-align: left;\">C2</td><td style = \"text-align: left;\">R12</td><td style = \"text-align: left;\">1.84</td><td style = \"text-align: left;\">229089.0</td><td style = \"text-align: left;\">false</td><td style = \"text-align: left;\">true</td><td style = \"text-align: left;\">false</td><td style = \"text-align: left;\">true</td><td style = \"text-align: left;\">I4</td><td style = \"text-align: left;\">GV Entier</td><td style = \"text-align: left;\">PROC3</td><td style = \"text-align: left;\">421.0</td><td style = \"text-align: left;\">5.0</td><td style = \"text-align: left;\">#NA</td><td style = \"text-align: left;\">#NA</td><td style = \"text-align: left;\">I</td><td style = \"text-align: left;\">V</td><td style = \"text-align: left;\">CONST2</td><td style = \"text-align: left;\">OK NPGV</td><td style = \"text-align: left;\">FAM2</td></tr><tr><td class = \"rowNumber\" style = \"font-weight: bold; text-align: right;\">179</td><td style = \"text-align: left;\">U4</td><td style = \"text-align: left;\">S4</td><td style = \"text-align: left;\">C3</td><td style = \"text-align: left;\">R12</td><td style = \"text-align: left;\">1.86</td><td style = \"text-align: left;\">229089.0</td><td style = \"text-align: left;\">false</td><td style = \"text-align: left;\">true</td><td style = \"text-align: left;\">false</td><td style = \"text-align: left;\">true</td><td style = \"text-align: left;\">I4</td><td style = \"text-align: left;\">GV Entier</td><td style = \"text-align: left;\">PROC3</td><td style = \"text-align: left;\">330.0</td><td style = \"text-align: left;\">4.0</td><td style = \"text-align: left;\">#NA</td><td style = \"text-align: left;\">#NA</td><td style = \"text-align: left;\">I</td><td style = \"text-align: left;\">V</td><td style = \"text-align: left;\">CONST2</td><td style = \"text-align: left;\">OK NPGV</td><td style = \"text-align: left;\">FAM2</td></tr><tr><td class = \"rowNumber\" style = \"font-weight: bold; text-align: right;\">180</td><td style = \"text-align: left;\">U4</td><td style = \"text-align: left;\">S4</td><td style = \"text-align: left;\">C4</td><td style = \"text-align: left;\">R12</td><td style = \"text-align: left;\">1.83</td><td style = \"text-align: left;\">229089.0</td><td style = \"text-align: left;\">false</td><td style = \"text-align: left;\">true</td><td style = \"text-align: left;\">false</td><td style = \"text-align: left;\">true</td><td style = \"text-align: left;\">I4</td><td style = \"text-align: left;\">GV Entier</td><td style = \"text-align: left;\">PROC3</td><td style = \"text-align: left;\">321.0</td><td style = \"text-align: left;\">3.0</td><td style = \"text-align: left;\">#NA</td><td style = \"text-align: left;\">#NA</td><td style = \"text-align: left;\">I</td><td style = \"text-align: left;\">V</td><td style = \"text-align: left;\">CONST2</td><td style = \"text-align: left;\">OK NPGV</td><td style = \"text-align: left;\">FAM2</td></tr><tr><td class = \"rowNumber\" style = \"font-weight: bold; text-align: right;\">181</td><td style = \"text-align: left;\">U14</td><td style = \"text-align: left;\">S1</td><td style = \"text-align: left;\">C1</td><td style = \"text-align: left;\">R12</td><td style = \"text-align: left;\">1.5</td><td style = \"text-align: left;\">248176.0</td><td style = \"text-align: left;\">false</td><td style = \"text-align: left;\">true</td><td style = \"text-align: left;\">false</td><td style = \"text-align: left;\">true</td><td style = \"text-align: left;\">I4</td><td style = \"text-align: left;\">GV Entier</td><td style = \"text-align: left;\">PROC3</td><td style = \"text-align: left;\">873.0</td><td style = \"text-align: left;\">6.0</td><td style = \"text-align: left;\">#NA</td><td style = \"text-align: left;\">#NA</td><td style = \"text-align: left;\">I</td><td style = \"text-align: left;\">V</td><td style = \"text-align: left;\">CONST2</td><td style = \"text-align: left;\">OK NPGV</td><td style = \"text-align: left;\">FAM2</td></tr><tr><td class = \"rowNumber\" style = \"font-weight: bold; text-align: right;\">182</td><td style = \"text-align: left;\">U14</td><td style = \"text-align: left;\">S1</td><td style = \"text-align: left;\">C2</td><td style = \"text-align: left;\">R12</td><td style = \"text-align: left;\">1.48</td><td style = \"text-align: left;\">248176.0</td><td style = \"text-align: left;\">false</td><td style = \"text-align: left;\">true</td><td style = \"text-align: left;\">false</td><td style = \"text-align: left;\">true</td><td style = \"text-align: left;\">I4</td><td style = \"text-align: left;\">GV Entier</td><td style = \"text-align: left;\">PROC3</td><td style = \"text-align: left;\">883.0</td><td style = \"text-align: left;\">5.0</td><td style = \"text-align: left;\">#NA</td><td style = \"text-align: left;\">#NA</td><td style = \"text-align: left;\">H</td><td style = \"text-align: left;\">W</td><td style = \"text-align: left;\">CONST2</td><td style = \"text-align: left;\">OK NPGV</td><td style = \"text-align: left;\">FAM2</td></tr><tr><td class = \"rowNumber\" style = \"font-weight: bold; text-align: right;\">183</td><td style = \"text-align: left;\">U14</td><td style = \"text-align: left;\">S1</td><td style = \"text-align: left;\">C3</td><td style = \"text-align: left;\">R12</td><td style = \"text-align: left;\">1.47</td><td style = \"text-align: left;\">248176.0</td><td style = \"text-align: left;\">false</td><td style = \"text-align: left;\">true</td><td style = \"text-align: left;\">false</td><td style = \"text-align: left;\">true</td><td style = \"text-align: left;\">I4</td><td style = \"text-align: left;\">GV Entier</td><td style = \"text-align: left;\">PROC3</td><td style = \"text-align: left;\">880.0</td><td style = \"text-align: left;\">4.0</td><td style = \"text-align: left;\">#NA</td><td style = \"text-align: left;\">#NA</td><td style = \"text-align: left;\">I</td><td style = \"text-align: left;\">V</td><td style = \"text-align: left;\">CONST2</td><td style = \"text-align: left;\">OK NPGV</td><td style = \"text-align: left;\">FAM2</td></tr><tr><td class = \"rowNumber\" style = \"font-weight: bold; text-align: right;\">184</td><td style = \"text-align: left;\">U14</td><td style = \"text-align: left;\">S1</td><td style = \"text-align: left;\">C4</td><td style = \"text-align: left;\">R12</td><td style = \"text-align: left;\">1.52</td><td style = \"text-align: left;\">248176.0</td><td style = \"text-align: left;\">false</td><td style = \"text-align: left;\">true</td><td style = \"text-align: left;\">false</td><td style = \"text-align: left;\">true</td><td style = \"text-align: left;\">I4</td><td style = \"text-align: left;\">GV Entier</td><td style = \"text-align: left;\">PROC3</td><td style = \"text-align: left;\">786.0</td><td style = \"text-align: left;\">4.0</td><td style = \"text-align: left;\">#NA</td><td style = \"text-align: left;\">#NA</td><td style = \"text-align: left;\">I</td><td style = \"text-align: left;\">V</td><td style = \"text-align: left;\">CONST2</td><td style = \"text-align: left;\">OK NPGV</td><td style = \"text-align: left;\">FAM2</td></tr><tr><td class = \"rowNumber\" style = \"font-weight: bold; text-align: right;\">185</td><td style = \"text-align: left;\">U3</td><td style = \"text-align: left;\">S3</td><td style = \"text-align: left;\">C1</td><td style = \"text-align: left;\">R2</td><td style = \"text-align: left;\">3.31</td><td style = \"text-align: left;\">79362.0</td><td style = \"text-align: left;\">false</td><td style = \"text-align: left;\">true</td><td style = \"text-align: left;\">false</td><td style = \"text-align: left;\">true</td><td style = \"text-align: left;\">I6</td><td style = \"text-align: left;\">GV Entier</td><td style = \"text-align: left;\">PROC8</td><td style = \"text-align: left;\">580.0</td><td style = \"text-align: left;\">4.0</td><td style = \"text-align: left;\">#NA</td><td style = \"text-align: left;\">#NA</td><td style = \"text-align: left;\">T</td><td style = \"text-align: left;\">V</td><td style = \"text-align: left;\">CONST3</td><td style = \"text-align: left;\">OK NPGV</td><td style = \"text-align: left;\">FAM1</td></tr><tr><td class = \"rowNumber\" style = \"font-weight: bold; text-align: right;\">186</td><td style = \"text-align: left;\">U3</td><td style = \"text-align: left;\">S3</td><td style = \"text-align: left;\">C2</td><td style = \"text-align: left;\">R2</td><td style = \"text-align: left;\">3.3</td><td style = \"text-align: left;\">79362.0</td><td style = \"text-align: left;\">false</td><td style = \"text-align: left;\">true</td><td style = \"text-align: left;\">false</td><td style = \"text-align: left;\">true</td><td style = \"text-align: left;\">I6</td><td style = \"text-align: left;\">GV Entier</td><td style = \"text-align: left;\">PROC8</td><td style = \"text-align: left;\">544.0</td><td style = \"text-align: left;\">4.0</td><td style = \"text-align: left;\">#NA</td><td style = \"text-align: left;\">#NA</td><td style = \"text-align: left;\">T</td><td style = \"text-align: left;\">V</td><td style = \"text-align: left;\">CONST3</td><td style = \"text-align: left;\">OK NPGV</td><td style = \"text-align: left;\">FAM1</td></tr><tr><td class = \"rowNumber\" style = \"font-weight: bold; text-align: right;\">187</td><td style = \"text-align: left;\">U3</td><td style = \"text-align: left;\">S3</td><td style = \"text-align: left;\">C3</td><td style = \"text-align: left;\">R2</td><td style = \"text-align: left;\">3.32</td><td style = \"text-align: left;\">79362.0</td><td style = \"text-align: left;\">false</td><td style = \"text-align: left;\">true</td><td style = \"text-align: left;\">false</td><td style = \"text-align: left;\">true</td><td style = \"text-align: left;\">I6</td><td style = \"text-align: left;\">GV Entier</td><td style = \"text-align: left;\">PROC8</td><td style = \"text-align: left;\">509.0</td><td style = \"text-align: left;\">4.0</td><td style = \"text-align: left;\">#NA</td><td style = \"text-align: left;\">#NA</td><td style = \"text-align: left;\">T</td><td style = \"text-align: left;\">V</td><td style = \"text-align: left;\">CONST3</td><td style = \"text-align: left;\">OK NPGV</td><td style = \"text-align: left;\">FAM1</td></tr></tbody></table></div>"
      ],
      "text/latex": [
       "\\begin{tabular}{r|cccccccc}\n",
       "\t& UNITE & SOUS\\_UNITE & CIRCUIT & REFERENCE & NUMERO & HEURES\\_MAT & Plaque à tube - curatif  & \\\\\n",
       "\t\\hline\n",
       "\t& Any & Any & Any & Any & Any & Any & Any & \\\\\n",
       "\t\\hline\n",
       "\t1 & U14 & S1 & C1 & R12 & 1.5 & 12110.0 & 1 & $\\dots$ \\\\\n",
       "\t2 & U14 & S1 & C2 & R12 & 1.48 & 12110.0 & 1 & $\\dots$ \\\\\n",
       "\t3 & U14 & S1 & C3 & R12 & 1.47 & 12110.0 & 1 & $\\dots$ \\\\\n",
       "\t4 & U14 & S1 & C4 & R12 & 1.52 & 12110.0 & 1 & $\\dots$ \\\\\n",
       "\t5 & U17 & S2 & C1 & R12 & 1.35 & 23613.0 & 1 & $\\dots$ \\\\\n",
       "\t6 & U17 & S2 & C2 & R12 & 1.34 & 23613.0 & 1 & $\\dots$ \\\\\n",
       "\t7 & U17 & S2 & C3 & R12 & 1.32 & 23613.0 & 1 & $\\dots$ \\\\\n",
       "\t8 & U17 & S2 & C4 & R12 & 1.33 & 23613.0 & 1 & $\\dots$ \\\\\n",
       "\t9 & U10 & S2 & C1 & R3 & 0.04 & 101049.0 & 1 & $\\dots$ \\\\\n",
       "\t10 & U10 & S2 & C2 & R3 & 0.05 & 101049.0 & 1 & $\\dots$ \\\\\n",
       "\t11 & U10 & S2 & C3 & R3 & 0.06 & 101049.0 & 1 & $\\dots$ \\\\\n",
       "\t12 & U5 & S1 & C1 & R5 & 0.67 & 146920.0 & 1 & $\\dots$ \\\\\n",
       "\t13 & U5 & S1 & C2 & R5 & 0.63 & 146920.0 & 1 & $\\dots$ \\\\\n",
       "\t14 & U5 & S1 & C3 & R5 & 0.72 & 146920.0 & 1 & $\\dots$ \\\\\n",
       "\t15 & U17 & S1 & C1 & R12 & 1.23 & 148791.0 & 1 & $\\dots$ \\\\\n",
       "\t16 & U17 & S1 & C2 & R12 & 1.19 & 148791.0 & 1 & $\\dots$ \\\\\n",
       "\t17 & U17 & S1 & C3 & R12 & 0.94 & 148791.0 & 1 & $\\dots$ \\\\\n",
       "\t18 & U17 & S1 & C4 & R12 & 0.93 & 148791.0 & 1 & $\\dots$ \\\\\n",
       "\t19 & U5 & S2 & C1 & R4 & 0.74 & 172662.0 & 1 & $\\dots$ \\\\\n",
       "\t20 & U5 & S2 & C2 & R4 & 0.73 & 172662.0 & 1 & $\\dots$ \\\\\n",
       "\t21 & U5 & S2 & C3 & R4 & 0.76 & 172662.0 & 1 & $\\dots$ \\\\\n",
       "\t22 & U8 & S1 & C1 & R4 & 1.02 & 173736.0 & 1 & $\\dots$ \\\\\n",
       "\t23 & U8 & S1 & C2 & R4 & 1.01 & 173736.0 & 1 & $\\dots$ \\\\\n",
       "\t24 & U8 & S1 & C3 & R4 & 1.03 & 173736.0 & 1 & $\\dots$ \\\\\n",
       "\t$\\dots$ & $\\dots$ & $\\dots$ & $\\dots$ & $\\dots$ & $\\dots$ & $\\dots$ & $\\dots$ &  \\\\\n",
       "\\end{tabular}\n"
      ],
      "text/plain": [
       "\u001b[1m187×22 DataFrame\u001b[0m\n",
       "\u001b[1m Row \u001b[0m│\u001b[1m UNITE \u001b[0m\u001b[1m SOUS_UNITE \u001b[0m\u001b[1m CIRCUIT \u001b[0m\u001b[1m REFERENCE \u001b[0m\u001b[1m NUMERO \u001b[0m\u001b[1m HEURES_MAT \u001b[0m\u001b[1m Plaque à tub\u001b[0m ⋯\n",
       "     │\u001b[90m Any   \u001b[0m\u001b[90m Any        \u001b[0m\u001b[90m Any     \u001b[0m\u001b[90m Any       \u001b[0m\u001b[90m Any    \u001b[0m\u001b[90m Any        \u001b[0m\u001b[90m Any         \u001b[0m ⋯\n",
       "─────┼──────────────────────────────────────────────────────────────────────────\n",
       "   1 │ U14    S1          C1       R12        1.5     12110.0     true         ⋯\n",
       "   2 │ U14    S1          C2       R12        1.48    12110.0     true\n",
       "   3 │ U14    S1          C3       R12        1.47    12110.0     true\n",
       "   4 │ U14    S1          C4       R12        1.52    12110.0     true\n",
       "   5 │ U17    S2          C1       R12        1.35    23613.0     true         ⋯\n",
       "   6 │ U17    S2          C2       R12        1.34    23613.0     true\n",
       "   7 │ U17    S2          C3       R12        1.32    23613.0     true\n",
       "   8 │ U17    S2          C4       R12        1.33    23613.0     true\n",
       "  ⋮  │   ⋮        ⋮          ⋮         ⋮        ⋮         ⋮                  ⋮ ⋱\n",
       " 181 │ U14    S1          C1       R12        1.5     248176.0    false        ⋯\n",
       " 182 │ U14    S1          C2       R12        1.48    248176.0    false\n",
       " 183 │ U14    S1          C3       R12        1.47    248176.0    false\n",
       " 184 │ U14    S1          C4       R12        1.52    248176.0    false\n",
       " 185 │ U3     S3          C1       R2         3.31    79362.0     false        ⋯\n",
       " 186 │ U3     S3          C2       R2         3.3     79362.0     false\n",
       " 187 │ U3     S3          C3       R2         3.32    79362.0     false\n",
       "\u001b[36m                                                 16 columns and 172 rows omitted\u001b[0m"
      ]
     },
     "metadata": {},
     "output_type": "display_data"
    }
   ],
   "source": [
    "nettoyages = readxlsheet(string(chemin_données, \"Données_EDF_240611/Nettoyages/NETTOYAGES.xls\"), \"NETTOYAGES\")\n",
    "df_nettoyages = MatrixToDataFrame(nettoyages)"
   ]
  },
  {
   "cell_type": "code",
   "execution_count": null,
   "metadata": {},
   "outputs": [],
   "source": [
    "df_RGV = readxlsheet(string(chemin_données, \"Données_EDF_240611/RGV/RGV.xls\"), \"RGV\")\n",
    "df_RGV = MatrixToDataFrame(df_RGV)"
   ]
  },
  {
   "cell_type": "markdown",
   "metadata": {},
   "source": [
    "### Prétraitement des DataFrames pour gérer la permutation\n",
    "\n",
    "La fonction suivante, `preprocess_data!`, prend en entrée un DataFrame `df` et effectue un traitement spécifique pour gérer les permutations de lignes selon certaines conditions.\n"
   ]
  },
  {
   "cell_type": "code",
   "execution_count": 15,
   "metadata": {},
   "outputs": [
    {
     "data": {
      "text/plain": [
       "preprocess_data! (generic function with 1 method)"
      ]
     },
     "metadata": {},
     "output_type": "display_data"
    }
   ],
   "source": [
    "# Permuter les observations juste avant et juste après pour respecter l'ordre chronologique des observations parce que le tri selon la colonne HEURES_MAT n'est pas suffisant\n",
    "function preprocess_data!(df)\n",
    "    i = 1\n",
    "    while i < nrow(df)\n",
    "        if df.APRES_NET[i] == 1 && df.AVANT_NET[i + 1] == 1\n",
    "            # Permute the rows\n",
    "            df[i, :], df[i + 1, :] = df[i + 1, :], df[i, :]\n",
    "            i += 1  # Skip the next row as it was just swapped\n",
    "        end\n",
    "        i += 1\n",
    "    end\n",
    "end"
   ]
  },
  {
   "cell_type": "code",
   "execution_count": null,
   "metadata": {},
   "outputs": [],
   "source": [
    "function combine_rows_with_same_heures_mat(df::DataFrame)\n",
    "    # Grouper par HEURES_MAT\n",
    "    grouped = groupby(df, [:UNITE, :SOUS_UNITE, :CIRCUIT, :HEURES_MAT, :PE])\n",
    "    \n",
    "    # Nouveau DataFrame pour stocker les résultats\n",
    "    result_df = DataFrame(UNITE=String[], SOUS_UNITE=String[], CIRCUIT=String[], NUMERO=Float64[], HEURES_MAT=Int64[], PE=String[], BR=String[], VALEUR=Float64[])\n",
    "    \n",
    "    for subdf in grouped\n",
    "        unique_heures_mat = unique(subdf.HEURES_MAT)[1]\n",
    "        unite = unique(subdf.UNITE)[1]\n",
    "        sous_unite = unique(subdf.SOUS_UNITE)[1]\n",
    "        circuit = unique(subdf.CIRCUIT)[1]\n",
    "        pe = unique(subdf.PE)[1]\n",
    "        numero = unique(subdf.NUMERO)[1]\n",
    "        if nrow(subdf) == 2 && length(unique(subdf.BR)) == 2\n",
    "            # Calculer la moyenne de VALEUR\n",
    "            mean_valeur = mean(subdf.VALEUR)\n",
    "            # Ajouter une ligne avec BR = \" \" et la moyenne de VALEUR\n",
    "            push!(result_df, (UNITE=unite, SOUS_UNITE=sous_unite, CIRCUIT=circuit, NUMERO=numero, BR=\" \", PE=pe, HEURES_MAT=unique_heures_mat, VALEUR=mean_valeur))\n",
    "        else\n",
    "            # Ajouter les lignes telles quelles si elles ne correspondent pas aux critères\n",
    "            append!(result_df, subdf[:, [:UNITE, :SOUS_UNITE, :CIRCUIT, :NUMERO, :BR, :PE, :HEURES_MAT, :VALEUR]])\n",
    "        end\n",
    "    end\n",
    "    \n",
    "    return result_df\n",
    "end\n",
    "\n",
    "\n",
    "# Appliquer la fonction\n",
    "result_df = combine_rows_with_same_heures_mat(df1)\n",
    "println(result_df)\n"
   ]
  },
  {
   "cell_type": "markdown",
   "metadata": {},
   "source": [
    "### Visualisation conditionnelle des données IND-COL-1 et IND-COL-2\n",
    "\n",
    "Le bloc de code suivant effectue une analyse et une visualisation exhaustive des données IND-COL-1 et IND-COL-2 pour différentes unités et sous-unités, en tenant compte des temps de nettoyage."
   ]
  },
  {
   "cell_type": "code",
   "execution_count": 16,
   "metadata": {},
   "outputs": [
    {
     "data": {
      "text/plain": [
       ":rect"
      ]
     },
     "metadata": {},
     "output_type": "display_data"
    }
   ],
   "source": [
    "circuit_shapes = Dict{String, Symbol}()\n",
    "# coder le numéro de circuit en forme géométrique\n",
    "circuit_shapes[\"C1\"]= :circle\n",
    "circuit_shapes[\"C2\"]= :diamond\n",
    "circuit_shapes[\"C3\"]= :star5\n",
    "circuit_shapes[\"C4\"]= :rect"
   ]
  },
  {
   "cell_type": "code",
   "execution_count": 30,
   "metadata": {},
   "outputs": [],
   "source": [
    "# filtrer le Dataframe pour conserver les colonnes aux on s'intéresse\n",
    "df_one_two = df_one_two[:, [:UNITE, :SOUS_UNITE, :CIRCUIT, :NUMERO, :BR, :PE, :HEURES_MAT, :VALEUR, :AVANT_NET, :APRES_NET, :SONDE]]\n",
    "# extraire toutes les unités\n",
    "unites = unique(df_one_two.UNITE)\n",
    "\n",
    "# Création du dictionnaire pour stocker les DataFrames\n",
    "data_dict = Dict{Tuple{Float64, String, String}, DataFrame}()\n",
    "\n",
    "nbE9 = 0\n",
    "nbE8 = 0\n",
    "\n",
    "# on parcourt toutes les unités\n",
    "for unite in unites\n",
    "    # on extrait les données de l'unité\n",
    "    unite_data = df_one_two[df_one_two.UNITE .== unite, :]\n",
    "    # on en extrait les sous-unités\n",
    "    sous_unites = unique(unite_data.SOUS_UNITE)\n",
    "    \n",
    "    # on parcourt les sous-unités\n",
    "    for sous_unite in sous_unites\n",
    "        # on extrait les données de la sous-unité\n",
    "        sous_unite_data = unite_data[unite_data.SOUS_UNITE .== sous_unite, :]\n",
    "        # extraire les circuits\n",
    "        circuits = unique(sous_unite_data.CIRCUIT)\n",
    "        # nombre de numéros de GV qui apparaissent dans cette sous-unité\n",
    "        num_numeros_sous_unite = length(unique(sous_unite_data.NUMERO))\n",
    "        # nombre de circuit de GV qui apparaissent dans cette sous-unité\n",
    "        num_circuits = length(circuits)\n",
    "        # les heures de maintenance pour cette sous-unité\n",
    "        nettoyages = filter(row -> row.UNITE .== unite && row.SOUS_UNITE .== sous_unite, df_nettoyages)\n",
    "        nettoyage_times = unique(nettoyages[:, [6, 7, 8]])\n",
    "        \n",
    "        # les plages de valeurs pour limiter les graphes\n",
    "        y_min = minimum(sous_unite_data.VALEUR)\n",
    "        y_max = maximum(sous_unite_data.VALEUR)\n",
    "        x_min, x_max = 0, maximum(sous_unite_data.HEURES_MAT)\n",
    "        # Dans le cas où il n'y a pas eu de RGV entre temps\n",
    "        if num_numeros_sous_unite == num_circuits\n",
    "            # on crée un graphe vide\n",
    "            p = plot(\n",
    "                xlabel=\"HEURES_MAT\", \n",
    "                ylabel=\"VALEUR\",  \n",
    "                titlefont=10\n",
    "                )\n",
    "            title = \"IND-COL-1 et IND-COL-2 de $unite-$sous_unite \"\n",
    "            # on définit une limite\n",
    "            xlims!(p, x_min, x_max)\n",
    "            # on parcourt les ciruits de la sous-unité\n",
    "            for circuit in circuits\n",
    "                # on extrait les données du circuit\n",
    "                circuit_data = sous_unite_data[sous_unite_data.CIRCUIT .== circuit, :]\n",
    "                \n",
    "                nbE9 += 1\n",
    "                circuit_data_C = filter(row -> row.PE .== \"E9\" && row.BR .== \"C\", circuit_data)\n",
    "                circuit_data_F = filter(row -> row.PE .== \"E9\" && row.BR .== \"F\", circuit_data)\n",
    "                PE=\"E9\"\n",
    "                if isempty(circuit_data_C) && isempty(circuit_data_F)\n",
    "                    circuit_data_C = filter(row -> row.PE .== \"E8\" && row.BR .== \"C\", circuit_data)\n",
    "                    circuit_data_F = filter(row -> row.PE .== \"E8\" && row.BR .== \"F\", circuit_data)\n",
    "                    nbE9 -= 1\n",
    "                    nbE8 += 1\n",
    "                    PE = \"E8\"\n",
    "                end\n",
    "                \n",
    "                # séparer les données de la branche froide et la branche chaude pour IND-COL-1\n",
    "                ind_col_1_C = circuit_data_C[ismissing.(circuit_data_C.SONDE), :]\n",
    "                ind_col_1_F = circuit_data_F[ismissing.(circuit_data_F.SONDE), :]\n",
    "                # trier selon l'ordre chronologique\n",
    "                sort!(ind_col_1_C, :HEURES_MAT)\n",
    "                sort!(ind_col_1_F, :HEURES_MAT)\n",
    "\n",
    "                # séparer les données de la branche froide et la branche chaude pour IND-COL-2\n",
    "                ind_col_2_C = circuit_data_C[.!ismissing.(circuit_data_C.SONDE), :]\n",
    "                ind_col_2_F = circuit_data_F[.!ismissing.(circuit_data_F.SONDE), :]\n",
    "                # trier selon l'ordre chronologique\n",
    "                sort!(ind_col_2_C, :HEURES_MAT)\n",
    "                sort!(ind_col_2_F, :HEURES_MAT)\n",
    "\n",
    "                # extraire le numéro de GV \n",
    "                num = (unique(filter(row -> row.UNITE .== unite && row.SOUS_UNITE .== sous_unite && row.CIRCUIT .== circuit,\n",
    "                df_one_two[:,[:UNITE, :SOUS_UNITE, :CIRCUIT, :NUMERO]])).NUMERO)[1]\n",
    "\n",
    "                title = string(title, \"$circuit-$num-$PE \")\n",
    "\n",
    "                # vecteur contenant les quatres trajectoires du GV\n",
    "                vec = [ind_col_2_C, ind_col_2_F, ind_col_1_C, ind_col_1_F]\n",
    "                # code couleur des graphe IND-COL-1&2\n",
    "                colors = [:red , :blue, :yellow, :green]\n",
    "\n",
    "                for df in vec\n",
    "                    preprocess_data!(df)\n",
    "                end\n",
    "\n",
    "                for (color, df) in zip(colors, vec)\n",
    "                    # Trace IND-COL-1 segments conditionnellement\n",
    "                    for i in 1:length(df.HEURES_MAT) - 1\n",
    "                        if !(df.AVANT_NET[i] || df.APRES_NET[i + 1] \n",
    "                            || any((nettoyage_times.HEURES_MAT .> df.HEURES_MAT[i]) .& (nettoyage_times.HEURES_MAT .< df.HEURES_MAT[i + 1])))\n",
    "                            plot!(p, df.HEURES_MAT[i:i + 1], df.VALEUR[i:i + 1], label=false, color=color, linestyle=:dash)\n",
    "                        end\n",
    "                    end\n",
    "                end\n",
    "\n",
    "                \n",
    "                for (color, df) in zip(colors, vec)\n",
    "                    # Trace les points\n",
    "                    scatter!(p, df.HEURES_MAT, df.VALEUR, alpha=.75, label = false, markershape=circuit_shapes[circuit], markercolor=color)\n",
    "                end\n",
    "\n",
    "                # Ajout des DataFrames au dictionnaire\n",
    "                data_dict[(num, \"IND-COL-1\", \"C\")] = ind_col_1_C\n",
    "                data_dict[(num, \"IND-COL-1\", \"F\")] = ind_col_1_F\n",
    "                data_dict[(num, \"IND-COL-2\", \"C\")] = ind_col_2_C\n",
    "                data_dict[(num, \"IND-COL-2\", \"F\")] = ind_col_2_F\n",
    "            end\n",
    "\n",
    "            title!(p, title, titlefont = 9)\n",
    "\n",
    "            # Trace des lignes verticales pour les temps de nettoyage\n",
    "            nettoyage_times_0 = nettoyage_times[nettoyage_times[:, 2] .== 0, :]\n",
    "            nettoyage_times_1 = nettoyage_times[nettoyage_times[:, 2] .== 1, :]\n",
    "\n",
    "            # Ajouter les lignes verticales pour les éléments filtrés\n",
    "            vline!(p, nettoyage_times_0.HEURES_MAT, linestyle=:dot, color=:black, linewidth=1.5, label=false)\n",
    "            vline!(p, nettoyage_times_1.HEURES_MAT, linestyle=:dash, color=:grey, linewidth=1.5, label=false)\n",
    "\n",
    "            # Chemin du répertoire où vous souhaitez enregistrer le fichier (relatif au répertoire de travail actuel)\n",
    "            directory = string(chemin_projet, \"plots/IND-COL-1-2 complet\")\n",
    "            \n",
    "            # Combiner le chemin de répertoire et le nom du fichier\n",
    "            filename = joinpath(directory, \"IND-COL-1&2 $unite $sous_unite.png\")\n",
    "            \n",
    "            # Sauvegarder le graphique dans le fichier spécifié\n",
    "            savefig(p, filename)\n",
    "        \n",
    "        # Si le nombre de numéros de GV dans la sous-unité est plus grand que le nombre des circuits (ce n'est pas forcément le double)\n",
    "        else \n",
    "            p_avant = plot(\n",
    "                xlabel=\"HEURES_MAT\", \n",
    "                ylabel=\"VALEUR\", \n",
    "                titlefont=10\n",
    "                )\n",
    "            xlims!(p_avant, x_min, x_max)\n",
    "            ylims!(p_avant, y_min, y_max)\n",
    "            p_apres = plot(\n",
    "                xlabel=\"HEURES_MAT\", \n",
    "                ylabel=\"VALEUR\", \n",
    "                titlefont=10\n",
    "                )\n",
    "            xlims!(p_apres, x_min, x_max)\n",
    "            ylims!(p_apres, y_min, y_max)\n",
    "            title_avant = \"IND-COL-1 et IND-COL-2 de $unite-$sous_unite \"\n",
    "            title_apres = \"IND-COL-1 et IND-COL-2 de $unite-$sous_unite \"\n",
    "\n",
    "            for circuit in circuits\n",
    "                circuit_data = sous_unite_data[sous_unite_data.CIRCUIT .== circuit, :]\n",
    "\n",
    "                sep_circuit_data_C = Vector{Tuple{DataFrame, Float64}}()\n",
    "                sep_circuit_data_F = Vector{Tuple{DataFrame, Float64}}()\n",
    "\n",
    "                numeros = unique(circuit_data.NUMERO)\n",
    "\n",
    "                for num in numeros\n",
    "                    num_data = circuit_data[circuit_data.NUMERO .== num, :]\n",
    "                    nbE9 += 1\n",
    "                    num_data_C = filter(row -> row.PE .== \"E9\" && row.BR .== \"C\", num_data)\n",
    "                    num_data_F = filter(row -> row.PE .== \"E9\" && row.BR .== \"F\", num_data)\n",
    "                    if isempty(num_data_C)\n",
    "                        nbE9 -= 1\n",
    "                        nbE8 += 1\n",
    "                        num_data_C = filter(row -> row.PE .== \"E8\" && row.BR .== \"C\", num_data)\n",
    "                        num_data_F = filter(row -> row.PE .== \"E8\" && row.BR .== \"F\", num_data)\n",
    "                    end\n",
    "                    push!(sep_circuit_data_C, (num_data_C, num))\n",
    "                    push!(sep_circuit_data_F, (num_data_F, num))\n",
    "                end\n",
    "                \n",
    "                # Trier les DataFrames dans sep_circuit_data_C et sep_circuit_data_F par minimum HEURES_MAT\n",
    "                sorted_sep_circuit_data_C = sort(sep_circuit_data_C, by = x -> mean(x[1][:, :HEURES_MAT]))\n",
    "                sorted_sep_circuit_data_F = sort(sep_circuit_data_F, by = x -> mean(x[1][:, :HEURES_MAT]))\n",
    "                \n",
    "                sorted_sep_circuit_data = [(\"C\", sorted_sep_circuit_data_C), (\"F\", sorted_sep_circuit_data_F)]\n",
    "                for (BR, sorted_sep_circuit) in sorted_sep_circuit_data\n",
    "                    etat = \"AVANT\"\n",
    "                    for (sorted_df, num) in sorted_sep_circuit\n",
    "                        ind_col_1_rgv = sorted_df[ismissing.(sorted_df.SONDE), :]\n",
    "                        ind_col_2_rgv = sorted_df[.!ismissing.(sorted_df.SONDE), :]\n",
    "                        sort!(ind_col_1_rgv, :HEURES_MAT)\n",
    "                        sort!(ind_col_2_rgv, :HEURES_MAT)\n",
    "\n",
    "                        if etat == \"AVANT\" && BR == \"C\"\n",
    "                            title_avant = string(title_avant, \"$circuit-$num \")\n",
    "                        elseif BR == \"C\"\n",
    "                            title_apres = string(title_apres, \"$circuit- $num \")\n",
    "                        end\n",
    "                        vec = [ind_col_1_rgv, ind_col_2_rgv]\n",
    "                        colors_C = [:yellow, :red]\n",
    "                        colors_F = [:green, :blue]\n",
    "\n",
    "                        for df in vec\n",
    "                            preprocess_data!(df)\n",
    "                        end\n",
    "\n",
    "                        for (color, df) in zip(BR == \"C\" ? colors_C : colors_F, vec)\n",
    "                            # Trace IND-COL-1 segments conditionnellement\n",
    "                            for i in 1:length(df.HEURES_MAT) - 1\n",
    "                                if !(df.AVANT_NET[i] || df.APRES_NET[i + 1] \n",
    "                                    || any((nettoyage_times.HEURES_MAT .> df.HEURES_MAT[i]) .& (nettoyage_times.HEURES_MAT .< df.HEURES_MAT[i + 1])))\n",
    "                                    plot!(etat == \"AVANT\" ? p_avant : p_apres, df.HEURES_MAT[i:i + 1], df.VALEUR[i:i + 1], label=false, color=color, linestyle=:dash)\n",
    "                                end\n",
    "                            end\n",
    "                        end\n",
    "\n",
    "                        \n",
    "                        for (color, df) in zip(BR == \"C\" ? colors_C : colors_F, vec)\n",
    "                            # Trace les points\n",
    "                            scatter!(etat == \"AVANT\" ? p_avant : p_apres, df.HEURES_MAT, df.VALEUR, alpha=.75, label = false, markershape=circuit_shapes[circuit], markercolor=color)\n",
    "                        end\n",
    "                        # Ajout des DataFrames triés au dictionnaire\n",
    "                        data_dict[(num, \"IND-COL-1\", BR)] = ind_col_1_rgv\n",
    "                        data_dict[(num, \"IND-COL-2\", BR)] = ind_col_2_rgv\n",
    "                        etat = \"APRES\"\n",
    "                    end\n",
    "                end \n",
    "            end\n",
    "            # Trace des lignes verticales pour les temps de nettoyage\n",
    "            nettoyage_times_0 = nettoyage_times[nettoyage_times[:, 2] .== 0, :]\n",
    "            nettoyage_times_1 = nettoyage_times[nettoyage_times[:, 2] .== 1, :]\n",
    "\n",
    "\n",
    "            plots = [(true, title_apres, p_apres), (false, title_avant, p_avant)]\n",
    "            for (apres, title, p) in plots\n",
    "                if apres\n",
    "\n",
    "                    # Ajouter les lignes verticales pour les éléments filtrés\n",
    "                    vline!(p, nettoyage_times_0.HEURES_MAT, linestyle=:dot, color=:black, linewidth=1.5, label=false)\n",
    "                    vline!(p, nettoyage_times_1.HEURES_MAT, linestyle=:dash, color=:grey, linewidth=1.5, label=false)\n",
    "                end\n",
    "\n",
    "                title!(p, apres ? title_apres : title_avant)\n",
    "\n",
    "                # Chemin du répertoire où vous souhaitez enregistrer le fichier (relatif au répertoire de travail actuel)\n",
    "                directory = string(chemin_projet, \"plots/IND-COL-1-2 complet\") \n",
    "                \n",
    "                # Combiner le chemin de répertoire et le nom du fichier\n",
    "                filename = joinpath(directory, string(\"IND-COL-1&2 $unite $sous_unite\", apres ? \" avant \" : \" apres \",  \"RGV.png\"))\n",
    "                \n",
    "                # Sauvegarder le graphique dans le fichier spécifié\n",
    "                savefig(p, filename)\n",
    "            end\n",
    "        end\n",
    "    end\n",
    "end\n"
   ]
  },
  {
   "cell_type": "code",
   "execution_count": 217,
   "metadata": {},
   "outputs": [
    {
     "data": {
      "text/html": [
       "<div><div style = \"float: left;\"><span>6×11 DataFrame</span></div><div style = \"clear: both;\"></div></div><div class = \"data-frame\" style = \"overflow-x: scroll;\"><table class = \"data-frame\" style = \"margin-bottom: 6px;\"><thead><tr class = \"header\"><th class = \"rowNumber\" style = \"font-weight: bold; text-align: right;\">Row</th><th style = \"text-align: left;\">UNITE</th><th style = \"text-align: left;\">SOUS_UNITE</th><th style = \"text-align: left;\">CIRCUIT</th><th style = \"text-align: left;\">NUMERO</th><th style = \"text-align: left;\">BR</th><th style = \"text-align: left;\">PE</th><th style = \"text-align: left;\">HEURES_MAT</th><th style = \"text-align: left;\">VALEUR</th><th style = \"text-align: left;\">AVANT_NET</th><th style = \"text-align: left;\">APRES_NET</th><th style = \"text-align: left;\">SONDE</th></tr><tr class = \"subheader headerLastRow\"><th class = \"rowNumber\" style = \"font-weight: bold; text-align: right;\"></th><th title = \"Any\" style = \"text-align: left;\">Any</th><th title = \"Any\" style = \"text-align: left;\">Any</th><th title = \"Any\" style = \"text-align: left;\">Any</th><th title = \"Any\" style = \"text-align: left;\">Any</th><th title = \"Any\" style = \"text-align: left;\">Any</th><th title = \"Any\" style = \"text-align: left;\">Any</th><th title = \"Any\" style = \"text-align: left;\">Any</th><th title = \"Any\" style = \"text-align: left;\">Any</th><th title = \"Any\" style = \"text-align: left;\">Any</th><th title = \"Any\" style = \"text-align: left;\">Any</th><th title = \"Any\" style = \"text-align: left;\">Any</th></tr></thead><tbody><tr><td class = \"rowNumber\" style = \"font-weight: bold; text-align: right;\">1</td><td style = \"text-align: left;\">U17</td><td style = \"text-align: left;\">S1</td><td style = \"text-align: left;\">C2</td><td style = \"text-align: left;\">1.19</td><td style = \"text-align: left;\">C</td><td style = \"text-align: left;\">E9</td><td style = \"text-align: left;\">139056.0</td><td style = \"text-align: left;\">33.3</td><td style = \"text-align: left;\">false</td><td style = \"text-align: left;\">false</td><td style = \"text-align: left;\">IND-COL-2</td></tr><tr><td class = \"rowNumber\" style = \"font-weight: bold; text-align: right;\">2</td><td style = \"text-align: left;\">U17</td><td style = \"text-align: left;\">S1</td><td style = \"text-align: left;\">C2</td><td style = \"text-align: left;\">1.19</td><td style = \"text-align: left;\">C</td><td style = \"text-align: left;\">E9</td><td style = \"text-align: left;\">148791.0</td><td style = \"text-align: left;\">28.7</td><td style = \"text-align: left;\">false</td><td style = \"text-align: left;\">true</td><td style = \"text-align: left;\">IND-COL-2</td></tr><tr><td class = \"rowNumber\" style = \"font-weight: bold; text-align: right;\">3</td><td style = \"text-align: left;\">U17</td><td style = \"text-align: left;\">S1</td><td style = \"text-align: left;\">C2</td><td style = \"text-align: left;\">1.19</td><td style = \"text-align: left;\">C</td><td style = \"text-align: left;\">E9</td><td style = \"text-align: left;\">171103.0</td><td style = \"text-align: left;\">1.9</td><td style = \"text-align: left;\">false</td><td style = \"text-align: left;\">true</td><td style = \"text-align: left;\">IND-COL-2</td></tr><tr><td class = \"rowNumber\" style = \"font-weight: bold; text-align: right;\">4</td><td style = \"text-align: left;\">U17</td><td style = \"text-align: left;\">S1</td><td style = \"text-align: left;\">C2</td><td style = \"text-align: left;\">1.19</td><td style = \"text-align: left;\">C</td><td style = \"text-align: left;\">E9</td><td style = \"text-align: left;\">193884.0</td><td style = \"text-align: left;\">31.2</td><td style = \"text-align: left;\">false</td><td style = \"text-align: left;\">false</td><td style = \"text-align: left;\">IND-COL-2</td></tr><tr><td class = \"rowNumber\" style = \"font-weight: bold; text-align: right;\">5</td><td style = \"text-align: left;\">U17</td><td style = \"text-align: left;\">S1</td><td style = \"text-align: left;\">C2</td><td style = \"text-align: left;\">1.19</td><td style = \"text-align: left;\">C</td><td style = \"text-align: left;\">E9</td><td style = \"text-align: left;\">215216.0</td><td style = \"text-align: left;\">33.8</td><td style = \"text-align: left;\">false</td><td style = \"text-align: left;\">false</td><td style = \"text-align: left;\">IND-COL-2</td></tr><tr><td class = \"rowNumber\" style = \"font-weight: bold; text-align: right;\">6</td><td style = \"text-align: left;\">U17</td><td style = \"text-align: left;\">S1</td><td style = \"text-align: left;\">C2</td><td style = \"text-align: left;\">1.19</td><td style = \"text-align: left;\">C</td><td style = \"text-align: left;\">E9</td><td style = \"text-align: left;\">237457.0</td><td style = \"text-align: left;\">33.9</td><td style = \"text-align: left;\">false</td><td style = \"text-align: left;\">false</td><td style = \"text-align: left;\">IND-COL-2</td></tr></tbody></table></div>"
      ],
      "text/latex": [
       "\\begin{tabular}{r|ccccccccccc}\n",
       "\t& UNITE & SOUS\\_UNITE & CIRCUIT & NUMERO & BR & PE & HEURES\\_MAT & VALEUR & AVANT\\_NET & APRES\\_NET & \\\\\n",
       "\t\\hline\n",
       "\t& Any & Any & Any & Any & Any & Any & Any & Any & Any & Any & \\\\\n",
       "\t\\hline\n",
       "\t1 & U17 & S1 & C2 & 1.19 & C & E9 & 139056.0 & 33.3 & 0 & 0 & $\\dots$ \\\\\n",
       "\t2 & U17 & S1 & C2 & 1.19 & C & E9 & 148791.0 & 28.7 & 0 & 1 & $\\dots$ \\\\\n",
       "\t3 & U17 & S1 & C2 & 1.19 & C & E9 & 171103.0 & 1.9 & 0 & 1 & $\\dots$ \\\\\n",
       "\t4 & U17 & S1 & C2 & 1.19 & C & E9 & 193884.0 & 31.2 & 0 & 0 & $\\dots$ \\\\\n",
       "\t5 & U17 & S1 & C2 & 1.19 & C & E9 & 215216.0 & 33.8 & 0 & 0 & $\\dots$ \\\\\n",
       "\t6 & U17 & S1 & C2 & 1.19 & C & E9 & 237457.0 & 33.9 & 0 & 0 & $\\dots$ \\\\\n",
       "\\end{tabular}\n"
      ],
      "text/plain": [
       "\u001b[1m6×11 DataFrame\u001b[0m\n",
       "\u001b[1m Row \u001b[0m│\u001b[1m UNITE \u001b[0m\u001b[1m SOUS_UNITE \u001b[0m\u001b[1m CIRCUIT \u001b[0m\u001b[1m NUMERO \u001b[0m\u001b[1m BR  \u001b[0m\u001b[1m PE  \u001b[0m\u001b[1m HEURES_MAT \u001b[0m\u001b[1m VALEUR \u001b[0m\u001b[1m AVANT\u001b[0m ⋯\n",
       "     │\u001b[90m Any   \u001b[0m\u001b[90m Any        \u001b[0m\u001b[90m Any     \u001b[0m\u001b[90m Any    \u001b[0m\u001b[90m Any \u001b[0m\u001b[90m Any \u001b[0m\u001b[90m Any        \u001b[0m\u001b[90m Any    \u001b[0m\u001b[90m Any  \u001b[0m ⋯\n",
       "─────┼──────────────────────────────────────────────────────────────────────────\n",
       "   1 │ U17    S1          C2       1.19    C    E9   139056.0    33.3    false ⋯\n",
       "   2 │ U17    S1          C2       1.19    C    E9   148791.0    28.7    false\n",
       "   3 │ U17    S1          C2       1.19    C    E9   171103.0    1.9     false\n",
       "   4 │ U17    S1          C2       1.19    C    E9   193884.0    31.2    false\n",
       "   5 │ U17    S1          C2       1.19    C    E9   215216.0    33.8    false ⋯\n",
       "   6 │ U17    S1          C2       1.19    C    E9   237457.0    33.9    false\n",
       "\u001b[36m                                                               3 columns omitted\u001b[0m"
      ]
     },
     "metadata": {},
     "output_type": "display_data"
    }
   ],
   "source": [
    "data_dict[(1.19, \"IND-COL-2\", \"C\")]"
   ]
  },
  {
   "cell_type": "code",
   "execution_count": 218,
   "metadata": {},
   "outputs": [
    {
     "name": "stdout",
     "output_type": "stream",
     "text": [
      " % E8 : 0.3926940639269406\n",
      " % E9 : 0.6073059360730594\n"
     ]
    }
   ],
   "source": [
    "println(\" % E8 : \", nbE8 / (nbE8 + nbE9))\n",
    "println(\" % E9 : \", nbE9 / (nbE8 + nbE9))"
   ]
  },
  {
   "cell_type": "code",
   "execution_count": 219,
   "metadata": {},
   "outputs": [
    {
     "data": {
      "text/html": [
       "<div><div style = \"float: left;\"><span>0×22 DataFrame</span></div><div style = \"clear: both;\"></div></div><div class = \"data-frame\" style = \"overflow-x: scroll;\"><table class = \"data-frame\" style = \"margin-bottom: 6px;\"><thead><tr class = \"header\"><th class = \"rowNumber\" style = \"font-weight: bold; text-align: right;\">Row</th><th style = \"text-align: left;\">UNITE</th><th style = \"text-align: left;\">SOUS_UNITE</th><th style = \"text-align: left;\">CIRCUIT</th><th style = \"text-align: left;\">REFERENCE</th><th style = \"text-align: left;\">NUMERO</th><th style = \"text-align: left;\">HEURES_MAT</th><th style = \"text-align: left;\">Plaque à tube - curatif </th><th style = \"text-align: left;\">Plaque à tube - préventif</th><th style = \"text-align: left;\">PE_CURATIF</th><th style = \"text-align: left;\">PE_PREVENTIF</th><th style = \"text-align: left;\">INTERVENANT</th><th style = \"text-align: left;\">ZONE</th><th style = \"text-align: left;\">PROCEDE</th><th style = \"text-align: left;\">BOUE_KG</th><th style = \"text-align: left;\">CUIVRE_KG</th><th style = \"text-align: left;\">EFFICACITE_DECOLMATAGE_ESTIMEE_MIN</th><th style = \"text-align: left;\">EFFICACITE_DECOLMATAGE_ESTIMEE_MAX</th><th style = \"text-align: left;\">ACIERISTE</th><th style = \"text-align: left;\">TUBISTE</th><th style = \"text-align: left;\">CONSTITUTION</th><th style = \"text-align: left;\">INTERET ANALYSE</th><th style = \"text-align: left;\">FAMILLE PROCEDE</th></tr><tr class = \"subheader headerLastRow\"><th class = \"rowNumber\" style = \"font-weight: bold; text-align: right;\"></th><th title = \"Any\" style = \"text-align: left;\">Any</th><th title = \"Any\" style = \"text-align: left;\">Any</th><th title = \"Any\" style = \"text-align: left;\">Any</th><th title = \"Any\" style = \"text-align: left;\">Any</th><th title = \"Any\" style = \"text-align: left;\">Any</th><th title = \"Any\" style = \"text-align: left;\">Any</th><th title = \"Any\" style = \"text-align: left;\">Any</th><th title = \"Any\" style = \"text-align: left;\">Any</th><th title = \"Any\" style = \"text-align: left;\">Any</th><th title = \"Any\" style = \"text-align: left;\">Any</th><th title = \"Any\" style = \"text-align: left;\">Any</th><th title = \"Any\" style = \"text-align: left;\">Any</th><th title = \"Any\" style = \"text-align: left;\">Any</th><th title = \"Any\" style = \"text-align: left;\">Any</th><th title = \"Any\" style = \"text-align: left;\">Any</th><th title = \"Any\" style = \"text-align: left;\">Any</th><th title = \"Any\" style = \"text-align: left;\">Any</th><th title = \"Any\" style = \"text-align: left;\">Any</th><th title = \"Any\" style = \"text-align: left;\">Any</th><th title = \"Any\" style = \"text-align: left;\">Any</th><th title = \"Any\" style = \"text-align: left;\">Any</th><th title = \"Any\" style = \"text-align: left;\">Any</th></tr></thead><tbody></tbody></table></div>"
      ],
      "text/latex": [
       "\\begin{tabular}{r|cccccccc}\n",
       "\t& UNITE & SOUS\\_UNITE & CIRCUIT & REFERENCE & NUMERO & HEURES\\_MAT & Plaque à tube - curatif  & \\\\\n",
       "\t\\hline\n",
       "\t& Any & Any & Any & Any & Any & Any & Any & \\\\\n",
       "\t\\hline\n",
       "\\end{tabular}\n"
      ],
      "text/plain": [
       "\u001b[1m0×22 DataFrame\u001b[0m\n",
       "\u001b[1m Row \u001b[0m│\u001b[1m UNITE \u001b[0m\u001b[1m SOUS_UNITE \u001b[0m\u001b[1m CIRCUIT \u001b[0m\u001b[1m REFERENCE \u001b[0m\u001b[1m NUMERO \u001b[0m\u001b[1m HEURES_MAT \u001b[0m\u001b[1m Plaque à tub\u001b[0m ⋯\n",
       "     │\u001b[90m Any   \u001b[0m\u001b[90m Any        \u001b[0m\u001b[90m Any     \u001b[0m\u001b[90m Any       \u001b[0m\u001b[90m Any    \u001b[0m\u001b[90m Any        \u001b[0m\u001b[90m Any         \u001b[0m ⋯\n",
       "─────┴──────────────────────────────────────────────────────────────────────────\n",
       "\u001b[36m                                                              16 columns omitted\u001b[0m"
      ]
     },
     "metadata": {},
     "output_type": "display_data"
    }
   ],
   "source": [
    "equal_rows = df_nettoyages[df_nettoyages[:, 7] .== df_nettoyages[:, 8], :]"
   ]
  },
  {
   "cell_type": "code",
   "execution_count": null,
   "metadata": {},
   "outputs": [],
   "source": [
    "# Ajouter colonnes pour min et max HEURES_MAT\n",
    "agg_df_one_two = combine(groupby(df_one_two, [:UNITE, :SOUS_UNITE, :CIRCUIT, :NUMERO]), \n",
    "                         :HEURES_MAT => minimum => :min_HEURES_MAT,\n",
    "                         :HEURES_MAT => maximum => :max_HEURES_MAT)\n",
    "\n",
    "# Fusionner les DataFrames pour filtrer\n",
    "joined_df = innerjoin(df_RGV, agg_df_one_two, on=[:UNITE, :SOUS_UNITE])\n",
    "\n",
    "# Filtrer selon le critère HEURES_S entre min et max de HEURES_MAT\n",
    "filtered_df = filter(row -> row.min_HEURES_MAT <= row.HEURES_S <= row.max_HEURES_MAT, joined_df)\n",
    "\n",
    "# Garder seulement les triplets requis\n",
    "result_df = unique(filtered_df[:, [:UNITE, :SOUS_UNITE, :CIRCUIT]])\n",
    "println(result_df)"
   ]
  },
  {
   "cell_type": "code",
   "execution_count": null,
   "metadata": {},
   "outputs": [],
   "source": [
    "# Sauvegarder le DataFrame résultant dans un fichier Excel\n",
    "XLSX.openxlsx(\"points à corriger RGV.xlsx\", mode=\"w\") do xf\n",
    "    sheet = xf[\"Sheet1\"]\n",
    "    \n",
    "    # Écrire les noms de colonnes\n",
    "    for (col_idx, col_name) in enumerate(names(result_df))\n",
    "        sheet[XLSX.CellRef(1, col_idx)] = col_name\n",
    "    end\n",
    "    \n",
    "    # Écrire les données\n",
    "    row_idx = 2  # Commencer à la ligne 2 pour les données (après les noms de colonnes)\n",
    "    for row in eachrow(result_df)\n",
    "        for (col_idx, col_name) in enumerate(names(result_df))\n",
    "            sheet[XLSX.CellRef(row_idx, col_idx)] = row[col_name]\n",
    "        end\n",
    "        row_idx += 1\n",
    "    end\n",
    "end\n",
    "println(\"Le fichier Excel a été sauvegardé\")"
   ]
  },
  {
   "cell_type": "code",
   "execution_count": null,
   "metadata": {},
   "outputs": [],
   "source": [
    "# Identifier les changements de NUMERO\n",
    "function find_changes(df)\n",
    "    change_rows = DataFrame(UNITE = String[], SOUS_UNITE = String[], CIRCUIT = String[])\n",
    "    grouped_df = groupby(df, [:UNITE, :SOUS_UNITE, :CIRCUIT])\n",
    "    for subdf in grouped_df\n",
    "        if length(unique(subdf.NUMERO)) > 1\n",
    "            push!(change_rows, subdf[:, [:UNITE, :SOUS_UNITE, :CIRCUIT]][1, :])\n",
    "        end\n",
    "    end\n",
    "    return change_rows\n",
    "end\n",
    "\n",
    "changes_df = find_changes(df_one_two)\n",
    "\n",
    "# Exclure les couples UNITE, SOUS_UNITE présents dans df_RGV\n",
    "rgv_pairs = unique(df_RGV[:, [:UNITE, :SOUS_UNITE]])\n",
    "filtered_changes_df = antijoin(changes_df, rgv_pairs, on=[:UNITE, :SOUS_UNITE])\n",
    "\n",
    "println(filtered_changes_df)"
   ]
  },
  {
   "cell_type": "markdown",
   "metadata": {},
   "source": [
    "## Nombre de sous unités pour chaque unité"
   ]
  },
  {
   "cell_type": "code",
   "execution_count": null,
   "metadata": {},
   "outputs": [],
   "source": [
    "using DataFrames\n",
    "\n",
    "# Supposons que df_one_two est déjà chargé\n",
    "\n",
    "# Obtenir toutes les unités uniques\n",
    "unites = unique(df_one_two.UNITE)\n",
    "\n",
    "# Initialiser un dictionnaire pour stocker le nombre de sous-unités par unité\n",
    "nombre_sous_unites = Dict{String, Int}()\n",
    "\n",
    "# Boucle sur chaque unité unique\n",
    "for unite in unites\n",
    "    # Filtrer les données pour l'unité spécifique\n",
    "    unite_data = df_one_two[df_one_two.UNITE .== unite, :]\n",
    "    \n",
    "    # Obtenir toutes les sous-unités uniques pour cette unité\n",
    "    sous_unites = unique(unite_data.SOUS_UNITE)\n",
    "    \n",
    "    # Calculer le nombre de sous-unités\n",
    "    num_sous_unites = length(sous_unites)\n",
    "    \n",
    "    # Stocker le résultat dans le dictionnaire\n",
    "    nombre_sous_unites[unite] = num_sous_unites\n",
    "end\n",
    "\n",
    "\n",
    "# Convertir nombre_sous_unites en DataFrame pour faciliter la visualisation\n",
    "df_nb_sous_unites = DataFrame(UNITE = collect(keys(nombre_sous_unites)), Nombre_de_sous_unites = collect(values(nombre_sous_unites)))\n",
    "\n",
    "# Trier par ordre décroissant du nombre de sous-unités\n",
    "sort!(df_nb_sous_unites, :Nombre_de_sous_unites, rev=true)\n",
    "\n",
    "# Afficher un bar plot\n",
    "bar(df_nb_sous_unites.UNITE, df_nb_sous_unites.Nombre_de_sous_unites, \n",
    "    xlabel = \"Unité\", \n",
    "    ylabel = \"Nombre de sous-unités\",\n",
    "    title = \"Nombre de sous-unités par unité\",\n",
    "    legend = false,\n",
    "    fmt=:png)  # Format de l'image"
   ]
  },
  {
   "cell_type": "markdown",
   "metadata": {},
   "source": [
    "### Génération du fichier points aberrants.xlsx"
   ]
  },
  {
   "cell_type": "code",
   "execution_count": null,
   "metadata": {},
   "outputs": [],
   "source": [
    "using DataFrames\n",
    "using Plots\n",
    "\n",
    "\n",
    "# Créer un DataFrame pour stocker les résultats\n",
    "df_nombre_circuits = DataFrame(UNITE = String[], SOUS_UNITE = String[], Nombre_de_circuits = Int[])\n",
    "\n",
    "# Group by sur (UNITE, SOUS_UNITE) et calcul du nombre de circuits uniques\n",
    "for group in groupby(df_one_two, [:UNITE, :SOUS_UNITE])\n",
    "    unite = group[!, :UNITE][1]\n",
    "    sous_unite = group[!, :SOUS_UNITE][1]\n",
    "    nombre_circuits = length(unique(group[!, :CIRCUIT]))\n",
    "    push!(df_nombre_circuits, (unite, sous_unite, nombre_circuits))\n",
    "end\n",
    "\n",
    "# Trier par ordre décroissant du nombre de circuits\n",
    "sort!(df_nombre_circuits, :Nombre_de_circuits, rev=true)\n",
    "\n",
    "# Affichage des résultats\n",
    "println(df_nombre_circuits)\n",
    "\n",
    "# Optionnel : Création d'un graphique à barres avec Plots.jl\n",
    "p = bar(df_nombre_circuits.UNITE .* \" - \" .* df_nombre_circuits.SOUS_UNITE, df_nombre_circuits.Nombre_de_circuits,\n",
    "        xlabel = \"Unité - Sous-unité\",\n",
    "        ylabel = \"Nombre de circuits\",\n",
    "        title = \"Nombre de circuits par couple (unité, sous-unité)\",\n",
    "        legend = false,\n",
    "        xrotation = 45,  # Rotation des étiquettes sur l'axe des x\n",
    "        fmt=:png)  # Format de l'image\n",
    "        \n"
   ]
  },
  {
   "cell_type": "code",
   "execution_count": null,
   "metadata": {},
   "outputs": [],
   "source": [
    "println(\" nombre de sous-unite avec 4 circuits : \", sum(df_nombre_circuits[!, 3] .== 4))\n",
    "println(\" nombre de sous-unite avec 3 circuits : \", sum(df_nombre_circuits[!, 3] .== 3))"
   ]
  },
  {
   "cell_type": "code",
   "execution_count": null,
   "metadata": {},
   "outputs": [],
   "source": [
    "#Initialize an empty list to store the counts\n",
    "nb_HEURES_MAT = []\n",
    "\n",
    "# Store labels for plotting\n",
    "labels = []\n",
    "\n",
    "unites = unique(df_nettoyages.UNITE)\n",
    "\n",
    "for unite in unites\n",
    "    unite_data = df_nettoyages[df_nettoyages.UNITE .== unite, :]\n",
    "    sous_unites = unique(unite_data.SOUS_UNITE)\n",
    "    \n",
    "    for sous_unite in sous_unites\n",
    "        sous_unite_data = unite_data[unite_data.SOUS_UNITE .== sous_unite, :]\n",
    "        unique_hours = unique(sous_unite_data.HEURES_MAT)\n",
    "        push!(nb_HEURES_MAT, length(unique_hours))\n",
    "        push!(labels, \"$unite-$sous_unite\")\n",
    "    end\n",
    "end\n",
    "# Convert the counts and labels to arrays for plotting\n",
    "nb_HEURES_MAT_array = collect(nb_HEURES_MAT)\n",
    "labels_array = collect(labels)\n",
    "# Define the positions for the x-ticks\n",
    "positions = 1:length(labels_array)\n",
    "# Create the bar plot\n",
    "bar(labels_array, nb_HEURES_MAT_array, \n",
    "    xlabel=\"Unite-Sous_Unite\", \n",
    "    ylabel=\"Number of Unique HEURES_MAT\", \n",
    "    title=\"Unique HEURES_MAT per Unite-Sous_Unite\", \n",
    "    legend=false, \n",
    "    rotation=90, \n",
    "    size=(900, 400), \n",
    "    xguidefont=font(8),\n",
    "    xticks=(positions, labels_array))  # Specify positions and labels\n",
    "hline!([mean(nb_HEURES_MAT_array)], color=:red, linestyle=:dash, linewidth=2, label=\"Mean Value\")"
   ]
  },
  {
   "cell_type": "code",
   "execution_count": null,
   "metadata": {},
   "outputs": [],
   "source": [
    "using DataFrames\n",
    "\n",
    "\n",
    "# Filtrer df_one_two pour APRES_NET = 0 et AVANT_NET = 0\n",
    "filtered_df_one_two = filter(row -> row.APRES_NET == 0 && row.AVANT_NET == 0  && ismissing(row.SONDE), df_one_two)\n",
    "\n",
    "df_n = df_nettoyages\n",
    "rename!(df_n, :HEURES_MAT => :HEURES_MAT)\n",
    "\n",
    "# Effectuer la jointure\n",
    "joined_df = innerjoin(filtered_df_one_two, df_n, on = [:UNITE, :SOUS_UNITE, :CIRCUIT, :NUMERO, :HEURES_MAT])\n",
    "\n",
    "# Compter le nombre de lignes dans le résultat de la jointure\n",
    "nombre_de_points = nrow(joined_df)\n",
    "\n",
    "println(\"Le nombre de points est: \", nombre_de_points)\n",
    "joined_df"
   ]
  },
  {
   "cell_type": "code",
   "execution_count": null,
   "metadata": {},
   "outputs": [],
   "source": [
    "using DataFrames\n",
    "\n",
    "\n",
    "# Filtrer df_one_two pour APRES_NET = 0, AVANT_NET = 0 et SONDE = \"IND-COL-2\"\n",
    "filtered_df_one_two = filter(row -> row.APRES_NET == 0 && row.AVANT_NET == 0 && ismissing(row.SONDE), df_one_two)\n",
    "\n",
    "# Grouper les données filtrées par les colonnes spécifiques\n",
    "grouped_df = groupby(filtered_df_one_two, [:HEURES_MAT, :UNITE, :SOUS_UNITE, :CIRCUIT, :NUMERO, :BR])\n",
    "\n",
    "# Sélectionner les points selon la condition PE = \"E9\" ou sinon PE = \"E8\"\n",
    "selected_rows = DataFrame()\n",
    "\n",
    "for g in grouped_df\n",
    "    if any(row -> row.PE == \"E9\",eachrow(g))\n",
    "        selected_rows = vcat(selected_rows, filter(row -> row.PE == \"E9\", g))\n",
    "    else\n",
    "        selected_rows = vcat(selected_rows, filter(row -> row.PE == \"E8\", g))\n",
    "    end\n",
    "end\n",
    "\n",
    "# Effectuer la jointure\n",
    "joined_df = innerjoin(selected_rows, df_n, on = [:UNITE, :SOUS_UNITE, :CIRCUIT, :NUMERO, :HEURES_MAT])\n",
    "\n",
    "# # # Compter le nombre de lignes dans le résultat de la jointure\n",
    "# nombre_de_points = nrow(joined_df)\n",
    "\n",
    "# # println(\"Le nombre de points est: \", nombre_de_points)\n",
    "\n"
   ]
  },
  {
   "cell_type": "code",
   "execution_count": null,
   "metadata": {},
   "outputs": [],
   "source": [
    "\n",
    "# Sauvegarder le DataFrame résultant dans un fichier Excel\n",
    "XLSX.openxlsx(\"points à corriger IND-COL-1.xlsx\", mode=\"w\") do xf\n",
    "    sheet = xf[\"Sheet1\"]\n",
    "    \n",
    "    # Écrire les noms de colonnes\n",
    "    for (col_idx, col_name) in enumerate(names(joined_df))\n",
    "        sheet[XLSX.CellRef(1, col_idx)] = col_name\n",
    "    end\n",
    "    \n",
    "    # Écrire les données\n",
    "    row_idx = 2  # Commencer à la ligne 2 pour les données (après les noms de colonnes)\n",
    "    for row in eachrow(joined_df)\n",
    "        for (col_idx, col_name) in enumerate(names(joined_df))\n",
    "            sheet[XLSX.CellRef(row_idx, col_idx)] = row[col_name]\n",
    "        end\n",
    "        row_idx += 1\n",
    "    end\n",
    "end\n",
    "println(\"Le fichier Excel a été sauvegardé\")"
   ]
  },
  {
   "cell_type": "markdown",
   "metadata": {},
   "source": [
    "## Traitement des fichiers du dossier Encrassement"
   ]
  },
  {
   "cell_type": "markdown",
   "metadata": {},
   "source": [
    "#### Cette fonction sert à transformer la matrice des données en un objet DataFrame"
   ]
  },
  {
   "cell_type": "code",
   "execution_count": 19,
   "metadata": {},
   "outputs": [
    {
     "data": {
      "text/plain": [
       "IND_COL_3_and_EncMatToDataFrame (generic function with 1 method)"
      ]
     },
     "metadata": {},
     "output_type": "display_data"
    }
   ],
   "source": [
    "function IND_COL_3_and_EncMatToDataFrame(mat)\n",
    "    # Extraire les noms des colonnes\n",
    "    column_names = [mat[1,1],\"$(mat[2,3])_ENC\", \"$(mat[2,4])_ENC\", \"$(mat[2,5])_ENC\", \"$(mat[2,6])_ENC\", \"$(mat[2,15])_IND_COL_3\", \"$(mat[2,16])_IND_COL_3\", \"$(mat[2,17])_IND_COL_3\", \"$(mat[2,18])_IND_COL_3\"]\n",
    "\n",
    "    # Créer un DataFrame à partir des données extraites\n",
    "    df1 = DataFrame()\n",
    "    df2 = DataFrame()\n",
    "\n",
    "    # Ajouter les données au DataFrame\n",
    "    df1[!, column_names[1]] = mat[2:end,1]\n",
    "    df1[!, column_names[2]] = mat[2:end,3]\n",
    "    df1[!, column_names[3]] = mat[2:end,4]\n",
    "    df1[!, column_names[4]] = mat[2:end,5]\n",
    "    df1[!, column_names[5]] = mat[2:end,6]\n",
    "\n",
    "    df2[!, column_names[1]] = mat[2:end,1]\n",
    "    df2[!, column_names[6]] = mat[2:end,15]\n",
    "    df2[!, column_names[7]] = mat[2:end,16]\n",
    "    df2[!, column_names[8]] = mat[2:end,17]\n",
    "    df2[!, column_names[9]] = mat[2:end,18]\n",
    "\n",
    "    return df1, df2\n",
    "end\n"
   ]
  },
  {
   "cell_type": "code",
   "execution_count": 20,
   "metadata": {},
   "outputs": [],
   "source": [
    "using XLSX\n",
    "\n",
    "# Spécifiez le chemin complet de votre répertoire\n",
    "directory = string(chemin_données, \"Données_EDF_240611/Encrassement\")\n",
    "\n",
    "# Utilisez readdir() pour obtenir les noms des fichiers et des sous-répertoires\n",
    "files = readdir(directory)\n",
    "\n",
    "# Filtrer les fichiers pour ne garder que ceux qui ont l'extension .xlsx\n",
    "xlsx_files = filter(file -> endswith(file, \".xlsx\"), files)\n",
    "xlsx_files = [file for file in xlsx_files if file != \"~\\$PERFOS_U2S4_3,48-3,47-3,49.xlsx\" && file != \"~\\$PERFOS_U19S2_2,45-2,43-2,44.xlsx\"]\n",
    "# Initialiser un dictionnaire vide pour stocker les DataFrames\n",
    "dict_df_enc = Dict{String, DataFrame}()\n",
    "dict_df_ind_col_3 = Dict{String, DataFrame}()\n",
    "\n",
    "# Lire les fichiers .xlsx et afficher les premières lignes\n",
    "for file in xlsx_files\n",
    "    try\n",
    "        # Lire la première feuille du fichier .xlsx\n",
    "        df_enc, df_ind_col_3 = IND_COL_3_and_EncMatToDataFrame(XLSX.readdata(\"$directory/$file\", \"Feuil1\", \"A1:V1000\"))\n",
    "        file = replace(file, \".xlsx\" => \"\")\n",
    "        dict_df_enc[file] = dropmissing(df_enc, :HEURES_MAT)\n",
    "        dict_df_enc[file] = dropmissing(dict_df_enc[file], :C1_ENC)\n",
    "        dict_df_ind_col_3[file] = dropmissing(df_ind_col_3, :HEURES_MAT)\n",
    "        dict_df_ind_col_3[file] = dropmissing(dict_df_ind_col_3[file], :C1_IND_COL_3)\n",
    "\n",
    "    catch e\n",
    "        display(\"Erreur lors de la lecture du fichier $file: $e\")\n",
    "    end\n",
    "end\n"
   ]
  },
  {
   "cell_type": "code",
   "execution_count": null,
   "metadata": {},
   "outputs": [],
   "source": [
    "println(length(dict_df_enc))\n",
    "println(size(files))"
   ]
  },
  {
   "cell_type": "code",
   "execution_count": 21,
   "metadata": {},
   "outputs": [
    {
     "data": {
      "text/plain": [
       "extract_UxSy (generic function with 1 method)"
      ]
     },
     "metadata": {},
     "output_type": "display_data"
    }
   ],
   "source": [
    "# Fonction pour extraire les motifs \"Ux\" et \"Sy\"\n",
    "function extract_UxSy(text::String)\n",
    "    # Initialiser les variables de sortie\n",
    "    Ux = \"\"\n",
    "    Sy = \"\"\n",
    "    \n",
    "    # Trouver le premier motif \"Ux\"\n",
    "    start_idx = findfirst(isequal('U'), text)\n",
    "    if start_idx !== nothing\n",
    "        end_idx = start_idx + 1\n",
    "        while end_idx <= length(text) && isdigit(text[end_idx])\n",
    "            end_idx += 1\n",
    "        end\n",
    "        Ux = text[start_idx:end_idx-1]\n",
    "    end\n",
    "    \n",
    "    # Trouver le motif \"Sy\" après \"Ux\"\n",
    "    if !isempty(Ux)\n",
    "        start_idx = findnext(isequal('S'), text, end_idx)\n",
    "        if start_idx !== nothing\n",
    "            end_idx = start_idx + 1\n",
    "            while end_idx <= length(text) && isdigit(text[end_idx])\n",
    "                end_idx += 1\n",
    "            end\n",
    "            Sy = text[start_idx:end_idx-1]\n",
    "        end\n",
    "    end\n",
    "    \n",
    "    return Ux, Sy\n",
    "end"
   ]
  },
  {
   "cell_type": "code",
   "execution_count": 22,
   "metadata": {},
   "outputs": [
    {
     "name": "stdout",
     "output_type": "stream",
     "text": [
      "1.24\n"
     ]
    }
   ],
   "source": [
    "# Fonction pour extraire le premier numéro et gérer les virgules et le texte supplémentaire\n",
    "function extract_first_num(key::String)\n",
    "    parts = split(key, '_')\n",
    "    num_parts = split(parts[end], '-')\n",
    "    for part in num_parts\n",
    "        num_str = split(part, r\"\\s\")[1]  # Prendre seulement la première partie avant \"puis\" ou tout autre texte\n",
    "        try\n",
    "            return parse(Float64, replace(num_str, ',' => '.'))\n",
    "        catch e\n",
    "            println(\"Erreur lors de la conversion du numéro : $num_str\")\n",
    "        end\n",
    "    end\n",
    "    error(\"Aucun numéro valide trouvé dans la clé : $key\")\n",
    "end\n",
    "\n",
    "# Test de la fonction\n",
    "println(extract_first_num(\"IND_ENC_U11S1_1,24 puis 4-1,22 puis 3,98-0,84 puis 3,95-1,21 puis 3,94\"))\n"
   ]
  },
  {
   "cell_type": "code",
   "execution_count": null,
   "metadata": {},
   "outputs": [],
   "source": [
    "extract_first_num(\"IND-ENC_U4S2_1,43-1,42-1,36_1,41\")"
   ]
  },
  {
   "cell_type": "code",
   "execution_count": 31,
   "metadata": {},
   "outputs": [],
   "source": [
    "for key in keys(dict_df_enc)\n",
    "\n",
    "    p = plot(dict_df_enc[key].HEURES_MAT, dict_df_enc[key].C1_ENC, \n",
    "    xlabel=\"HEURES_MAT\", ylabel=\"VALEUR\", label=\"C1\", markershape=:circle, \n",
    "    markercolor=:pink, linestyle=:dash)\n",
    "    \n",
    "    plot!(p, dict_df_enc[key].HEURES_MAT, dict_df_enc[key].C2_ENC, \n",
    "    xlabel=\"HEURES_MAT\", ylabel=\"VALEUR\", label=\"C2\", markershape=:diamond, \n",
    "    markercolor=:orange, linestyle=:dash)\n",
    "\n",
    "    plot!(p, dict_df_enc[key].HEURES_MAT, dict_df_enc[key].C3_ENC, \n",
    "    xlabel=\"HEURES_MAT\", ylabel=\"VALEUR\", label=\"C3\", markershape=:star5, \n",
    "    markercolor=:purple, linestyle=:dash)\n",
    "    if !ismissing(unique(dict_df_enc[key].C4_ENC)[1] )\n",
    "        plot!(p, dict_df_enc[key].HEURES_MAT, dict_df_enc[key].C4_ENC, \n",
    "        xlabel=\"HEURES_MAT\", ylabel=\"VALEUR\", label=\"C4\",markershape=:rect, \n",
    "        markercolor=:gray, linestyle=:dash)\n",
    "    end\n",
    "\n",
    "    unite, sous_unite = extract_UxSy(key)\n",
    "    \n",
    "    HEURES_MAToyages = filter(raw -> raw.UNITE .== unite && raw.SOUS_UNITE .== sous_unite, df_nettoyages)\n",
    "    nettoyage_times = unique(HEURES_MAToyages[:, [6, 7, 8]])\n",
    "    nettoyage_times_0 = nettoyage_times[nettoyage_times[:, 2] .== 0, :]\n",
    "    nettoyage_times_1 = nettoyage_times[nettoyage_times[:, 2] .== 1, :]\n",
    "\n",
    "    df = df_one_two[df_one_two[:, 1] .== unite, :]\n",
    "    x_min, x_max = 0, max(maximum(dict_df_enc[key].HEURES_MAT), maximum(df_one_two[df_one_two[:, 2] .== sous_unite, :].HEURES_MAT))\n",
    "\n",
    "    xlims!(p, x_min, x_max)\n",
    "\n",
    "    # Ajouter les lignes verticales pour les éléments filtrés\n",
    "    vline!(p, nettoyage_times_0.HEURES_MAT, linestyle=:dot, color=:black, linewidth=1.5, label=false)\n",
    "    vline!(p, nettoyage_times_1.HEURES_MAT, linestyle=:dash, color=:grey, linewidth=1.5, label=false)\n",
    "\n",
    "    title!(p, \"$key\", titlefont=10)\n",
    "\n",
    "    # Chemin du répertoire où vous souhaitez enregistrer le fichier (relatif au répertoire de travail actuel)\n",
    "    directory = string(chemin_projet, \"plots/ENC\")\n",
    "\n",
    "    # Combiner le chemin de répertoire et le nom du fichier\n",
    "    filename = joinpath(directory, \"$key.png\")\n",
    "\n",
    "    # Sauvegarder le graphique dans le fichier spécifié\n",
    "    savefig(p, filename)\n",
    "\n",
    "end"
   ]
  },
  {
   "cell_type": "code",
   "execution_count": 32,
   "metadata": {},
   "outputs": [],
   "source": [
    "for key in keys(dict_df_enc)\n",
    "    p = plot(dict_df_ind_col_3[key].HEURES_MAT, dict_df_ind_col_3[key].C1_IND_COL_3, \n",
    "    xlabel=\"HEURES_MAT\", ylabel=\"VALEUR\", label=\"C1\",  \n",
    "    markershape=:circle, markercolor=:pink, linestyle=:dash)\n",
    "    plot!(p, dict_df_ind_col_3[key].HEURES_MAT, dict_df_ind_col_3[key].C2_IND_COL_3, \n",
    "    xlabel=\"HEURES_MAT\", ylabel=\"VALEUR\", label=\"C2\",   \n",
    "    markershape=:diamond, markercolor=:orange, linestyle=:dash)\n",
    "    plot!(p, dict_df_ind_col_3[key].HEURES_MAT, dict_df_ind_col_3[key].C3_IND_COL_3, \n",
    "    xlabel=\"HEURES_MAT\", ylabel=\"VALEUR\", label=\"C3\", \n",
    "    markershape=:star5, markercolor=:purple, linestyle=:dash)\n",
    "    if !ismissing(unique(dict_df_ind_col_3[key].C4_IND_COL_3)[1] )\n",
    "        plot!(p, dict_df_ind_col_3[key].HEURES_MAT, dict_df_ind_col_3[key].C3_IND_COL_3, \n",
    "        xlabel=\"HEURES_MAT\", ylabel=\"VALEUR\", label=\"C4\", \n",
    "        markershape=:rect, markercolor=:gray, linestyle=:dash)\n",
    "    end\n",
    "    \n",
    "    unite, sous_unite = extract_UxSy(key)\n",
    "    nettoyages = filter(row -> row.UNITE .== unite && row.SOUS_UNITE .== sous_unite, df_nettoyages)\n",
    "    nettoyage_times = unique(nettoyages[:, [6, 7, 8]])\n",
    "    nettoyage_times_0 = nettoyage_times[nettoyage_times[:, 2] .== 0, :]\n",
    "    nettoyage_times_1 = nettoyage_times[nettoyage_times[:, 2] .== 1, :]\n",
    "\n",
    "    unite, sous_unite = extract_UxSy(key)\n",
    "    \n",
    "    nettoyages = filter(raw -> raw.UNITE .== unite && raw.SOUS_UNITE .== sous_unite, df_nettoyages)\n",
    "    nettoyage_times = unique(nettoyages[:, [6, 7, 8]])\n",
    "    nettoyage_times_0 = nettoyage_times[nettoyage_times[:, 2] .== 0, :]\n",
    "    nettoyage_times_1 = nettoyage_times[nettoyage_times[:, 2] .== 1, :]\n",
    "\n",
    "    df = df_one_two[df_one_two[:, 1] .== unite, :]\n",
    "    x_min, x_max = 0, max(maximum(dict_df_enc[key].HEURES_MAT), maximum(df_one_two[df_one_two[:, 2] .== sous_unite, :].HEURES_MAT))\n",
    "\n",
    "    xlims!(p, x_min, x_max)\n",
    "\n",
    "    # Ajouter les lignes verticales pour les éléments filtrés\n",
    "    vline!(p, nettoyage_times_0.HEURES_MAT, linestyle=:dot, color=:black, linewidth=1.5, label=false)\n",
    "    vline!(p, nettoyage_times_1.HEURES_MAT, linestyle=:dash, color=:grey, linewidth=1.5, label=false)\n",
    "\n",
    "    title!(p, \"$key\", titlefont=10)\n",
    "\n",
    "    # Chemin du répertoire où vous souhaitez enregistrer le fichier (relatif au répertoire de travail actuel)\n",
    "    directory = string(chemin_projet, \"plots/IND_COL_3\")\n",
    "\n",
    "    # Combiner le chemin de répertoire et le nom du fichier\n",
    "    filename = joinpath(directory, \"$key.png\")\n",
    "\n",
    "    # Sauvegarder le graphique dans le fichier spécifié\n",
    "    savefig(p, filename)\n",
    "end"
   ]
  },
  {
   "cell_type": "code",
   "execution_count": null,
   "metadata": {},
   "outputs": [],
   "source": [
    "unites = unique(df_one_two.UNITE)\n",
    "sizes_between_nett_col1 = []\n",
    "sizes_between_nett_col2 = []\n",
    "sizes_on_nett_col1 = []\n",
    "sizes_on_nett_col2 = []\n",
    "for unite in unites\n",
    "    unite_data = df_one_two[df_one_two.UNITE .== unite,:]\n",
    "    sous_unites = unique(unite_data.SOUS_UNITE)\n",
    "    for sous_unite in sous_unites\n",
    "        sous_unite_data = unite_data[unite_data.SOUS_UNITE .== sous_unite,:]\n",
    "        circuits = unique(sous_unite_data.CIRCUIT)\n",
    "        for circuit in circuits\n",
    "            \n",
    "            nettoyages = filter(raw -> raw.UNITE .== unite && raw.SOUS_UNITE .== sous_unite && raw.CIRCUIT .== circuit, df_nettoyages)\n",
    "            \n",
    "            if !isempty(nettoyages)\n",
    "                circuit_data = filter(row -> row.PE .== \"E9\" && row.BR .== \"C\", sous_unite_data[sous_unite_data.CIRCUIT .== circuit,:])\n",
    "                sort!(HEURES_MAToyages, :HEURES_MAT)\n",
    "\n",
    "                if !isempty(circuit_data)\n",
    "                    ind_col_1 = circuit_data[ismissing.(circuit_data.SONDE),:]\n",
    "                    ind_col_2 = circuit_data[.!ismissing.(circuit_data.SONDE),:]\n",
    "                    if !isempty(ind_col_1)    \n",
    "                        # Compter les points de `circuit_data` dont `HEURES_MAT` est dans l'intervalle [start_time, end_time)\n",
    "                        for i in 1:(nrow(HEURES_MAToyages) - 1)\n",
    "                            start_time = HEURES_MAToyages.HEURES_MAT[i]\n",
    "                            end_time = HEURES_MAToyages.HEURES_MAT[i + 1]\n",
    "                            \n",
    "                            count_points1 = count(row -> start_time < row < end_time, ind_col_1.HEURES_MAT)\n",
    "                            count_points3 = count(row -> start_time == row , ind_col_1.HEURES_MAT)\n",
    "                            # Ajouter le nombre de points à `points_counts`\n",
    "                            push!(sizes_between_nett_col1, count_points1)\n",
    "                            push!(sizes_on_nett_col1, count_points3)\n",
    "                        end\n",
    "                    end\n",
    "                    if !isempty(ind_col_2)\n",
    "                        for i in 1:(nrow(HEURES_MAToyages) - 1)\n",
    "                            start_time = HEURES_MAToyages.HEURES_MAT[i]\n",
    "                            end_time = HEURES_MAToyages.HEURES_MAT[i + 1]\n",
    "                            \n",
    "                            count_points2 = count(row -> start_time < row < end_time, ind_col_2.HEURES_MAT)\n",
    "                            count_points3 = count(row -> start_time == row , ind_col_2.HEURES_MAT)\n",
    "                            # Ajouter le nombre de points à `points_counts`\n",
    "                            push!(sizes_between_nett_col2, count_points2)\n",
    "                            push!(sizes_on_nett_col2, count_points3)\n",
    "                        end\n",
    "                    end\n",
    "                else\n",
    "                    circuit_data = filter(row -> row.PE .== \"E8\" && row.BR .== \"C\", sous_unite_data[sous_unite_data.CIRCUIT .== circuit,:])\n",
    "                    ind_col_1 = circuit_data[ismissing.(circuit_data.SONDE),:]\n",
    "                    ind_col_2 = circuit_data[.!ismissing.(circuit_data.SONDE),:]\n",
    "                    \n",
    "                    if !isempty(ind_col_1)    \n",
    "                        # Compter les points de `circuit_data` dont `HEURES_MAT` est dans l'intervalle [start_time, end_time)\n",
    "                        for i in 1:(nrow(HEURES_MAToyages) - 1)\n",
    "                            start_time = HEURES_MAToyages.HEURES_MAT[i]\n",
    "                            end_time = HEURES_MAToyages.HEURES_MAT[i + 1]\n",
    "                            \n",
    "                            count_points1 = count(row -> start_time < row < end_time, ind_col_1.HEURES_MAT)\n",
    "                            count_points3 = count(row -> start_time == row , ind_col_1.HEURES_MAT)\n",
    "                            # Ajouter le nombre de points à `points_counts`\n",
    "                            push!(sizes_between_nett_col1, count_points1)\n",
    "                            push!(sizes_on_nett_col1, count_points3)\n",
    "                        end\n",
    "                    end\n",
    "                    if !isempty(ind_col_2)\n",
    "                        for i in 1:(nrow(HEURES_MAToyages) - 1)\n",
    "                            start_time = HEURES_MAToyages.HEURES_MAT[i]\n",
    "                            end_time = HEURES_MAToyages.HEURES_MAT[i + 1]\n",
    "                            \n",
    "                            count_points2 = count(row -> start_time < row < end_time, ind_col_2.HEURES_MAT)\n",
    "                            count_points3 = count(row -> start_time == row , ind_col_2.HEURES_MAT)\n",
    "                            # Ajouter le nombre de points à `points_counts`\n",
    "                            push!(sizes_between_nett_col2, count_points2)\n",
    "                            push!(sizes_on_nett_col2, count_points3)\n",
    "                        end\n",
    "                    end\n",
    "                end\n",
    "            end\n",
    "        end\n",
    "    end\n",
    "end\n",
    "\n"
   ]
  },
  {
   "cell_type": "code",
   "execution_count": null,
   "metadata": {},
   "outputs": [],
   "source": [
    "nettoyages = filter(raw -> raw.UNITE .== \"U4\" && raw.SOUS_UNITE .== \"S2\" && raw.CIRCUIT .== \"C3\", df_nettoyages)\n"
   ]
  },
  {
   "cell_type": "code",
   "execution_count": null,
   "metadata": {},
   "outputs": [],
   "source": [
    "histogram(sizes_between_nett_col1, bins=10)"
   ]
  },
  {
   "cell_type": "code",
   "execution_count": null,
   "metadata": {},
   "outputs": [],
   "source": [
    "histogram(sizes_between_nett_col2)"
   ]
  },
  {
   "cell_type": "code",
   "execution_count": null,
   "metadata": {},
   "outputs": [],
   "source": [
    "histogram(sizes_on_nett_col1, bins=1)"
   ]
  },
  {
   "cell_type": "code",
   "execution_count": null,
   "metadata": {},
   "outputs": [],
   "source": [
    "histogram(sizes_between_nett_col1, bins=7, title=\"\", xlabel=\"Taille\", ylabel=\"Fréquence\", label=\"Fréquence\", titlefontsize=10)\n"
   ]
  },
  {
   "cell_type": "code",
   "execution_count": null,
   "metadata": {},
   "outputs": [],
   "source": [
    "histogram(sizes_between_nett_col2, bins=6, title=\"\", xlabel=\"Taille\", ylabel=\"Fréquence\", label=\"Fréquence\", titlefontsize=10)\n",
    "\n"
   ]
  },
  {
   "cell_type": "code",
   "execution_count": null,
   "metadata": {},
   "outputs": [],
   "source": [
    "average_frequency = mean(sizes_on_nett_col1)\n",
    "display(average_frequency)\n",
    "histogram(sizes_on_nett_col1, bins=6, title=\"\", xlabel=\"Taille\", ylabel=\"Fréquence\", label=\"Fréquence\", titlefontsize=10)"
   ]
  },
  {
   "cell_type": "code",
   "execution_count": null,
   "metadata": {},
   "outputs": [],
   "source": [
    "average_frequency = mean(sizes_on_nett_col2)\n",
    "display(average_frequency)\n",
    "histogram(sizes_on_nett_col2, bins=6, title=\"\", xlabel=\"Taille\", ylabel=\"Fréquence\", label=\"Fréquence\", titlefontsize=10)\n"
   ]
  },
  {
   "cell_type": "code",
   "execution_count": null,
   "metadata": {},
   "outputs": [],
   "source": [
    "\n",
    "\n",
    "# Fonction pour extraire les motifs \"Ux\" et \"Sy\"\n",
    "function extract_UxSy(text::String)\n",
    "    Ux, Sy = \"\", \"\"\n",
    "    start_idx = findfirst(isequal('U'), text)\n",
    "    if start_idx !== nothing\n",
    "        end_idx = start_idx + 1\n",
    "        while end_idx <= length(text) && isdigit(text[end_idx])\n",
    "            end_idx += 1\n",
    "        end\n",
    "        Ux = text[start_idx:end_idx-1]\n",
    "    end\n",
    "    if !isempty(Ux)\n",
    "        start_idx = findnext(isequal('S'), text, end_idx)\n",
    "        if start_idx !== nothing\n",
    "            end_idx = start_idx + 1\n",
    "            while end_idx <= length(text) && isdigit(text[end_idx])\n",
    "                end_idx += 1\n",
    "            end\n",
    "            Sy = text[start_idx:end_idx-1]\n",
    "        end\n",
    "    end\n",
    "    return Ux, Sy\n",
    "end\n"
   ]
  },
  {
   "cell_type": "code",
   "execution_count": 25,
   "metadata": {},
   "outputs": [
    {
     "data": {
      "text/plain": [
       "\"/home/AD/faidy/JuliaStatsProject/plots/Merged_plots\""
      ]
     },
     "metadata": {},
     "output_type": "display_data"
    }
   ],
   "source": [
    "using Glob\n",
    "\n",
    "# Chemins vers les dossiers contenant les images\n",
    "folder_paths = [\n",
    "    \"/home/AD/faidy/JuliaStatsProject/plots/ENC\",\n",
    "    \"/home/AD/faidy/JuliaStatsProject/plots/IND_COL_3\",\n",
    "    \"/home/AD/faidy/JuliaStatsProject/plots/IND-COL-1-2 complet\"\n",
    "]\n",
    "\n",
    "# Dictionnaire pour stocker les fichiers regroupés par motifs \"Ux\" et \"Sy\"\n",
    "grouped_files = Dict{Tuple{String, String}, Vector{String}}()\n",
    "\n",
    "# Parcourir les dossiers et regrouper les fichiers par motifs\n",
    "for folder_path in folder_paths\n",
    "    files = glob(\"*.png\", folder_path)\n",
    "    for file in files\n",
    "        Ux, Sy = extract_UxSy(file)\n",
    "        if Ux != \"\" && Sy != \"\"\n",
    "            push!(get!(grouped_files, (Ux, Sy), Vector{String}()), joinpath(folder_path, file))\n",
    "        end\n",
    "    end\n",
    "end\n",
    "\n",
    "# Fusionner les images regroupées et les sauvegarder\n",
    "output_dir = \"/home/AD/faidy/JuliaStatsProject/plots/Merged_plots\"\n",
    "# mkdir(output_dir)\n"
   ]
  },
  {
   "cell_type": "code",
   "execution_count": 33,
   "metadata": {},
   "outputs": [],
   "source": [
    "using Images\n",
    "# Dimensions de l'image blanche\n",
    "width = 1200\n",
    "height = 800\n",
    "\n",
    "for ((Ux, Sy), files) in grouped_files\n",
    "    blank_image = fill(RGB(1.0, 1.0, 1.0), height, width)  # RGB(1.0, 1.0, 1.0) représente le blanc\n",
    "    # Charger et fusionner les images\n",
    "    images = [load(file) for file in files]\n",
    "    if length(images) < 3\n",
    "        continue  \n",
    "    end\n",
    "    # Calculer les positions pour superposer les images\n",
    "    offset3 = (0, 0)\n",
    "    offset2 = (width ÷ 2, height ÷ 2)\n",
    "    offset1 = (0, height ÷ 2)\n",
    "    offset4 = (width ÷ 2, 0)\n",
    "\n",
    "    size1 = 400\n",
    "    size2 = 600\n",
    "\n",
    "    # Superposer les images sur l'image blanche\n",
    "    if length(images) == 4\n",
    "        blank_image[offset1[2]+1:offset1[2]+size1, 1:size2] .= images[1]\n",
    "        blank_image[offset2[2]+1:offset2[2]+size1, offset2[1]+1:offset2[1]+size2] .= images[2]\n",
    "        blank_image[offset3[2]+1:offset3[2]+size1, offset3[1]+1:offset3[1]+size2] .= images[4]\n",
    "        blank_image[offset4[2]+1:offset4[2]+size1, offset4[1]+1:offset4[1]+size2] .= images[3]\n",
    "    else\n",
    "        blank_image[offset1[2]+1:offset1[2]+size1, 1:size2] .= images[1]\n",
    "        blank_image[offset2[2]+1:offset2[2]+size1, offset2[1]+1:offset2[1]+size2] .= images[2]\n",
    "        blank_image[offset3[2]+1:offset3[2]+size1, offset3[1]+1:offset3[1]+size2] .= images[3]\n",
    "    end\n",
    "\n",
    "\n",
    "    # Sauvegarder l'image fusionnée\n",
    "    output_filename = joinpath(output_dir, \"Merged_$(Ux)_$(Sy).png\")\n",
    "    save(output_filename, blank_image)\n",
    "end\n"
   ]
  }
 ],
 "metadata": {
  "kernelspec": {
   "display_name": "Julia 1.10.4",
   "language": "julia",
   "name": "julia-1.10"
  },
  "language_info": {
   "file_extension": ".jl",
   "mimetype": "application/julia",
   "name": "julia",
   "version": "1.10.4"
  },
  "orig_nbformat": 4
 },
 "nbformat": 4,
 "nbformat_minor": 2
}
